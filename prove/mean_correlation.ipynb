{
 "cells": [
  {
   "cell_type": "code",
   "execution_count": 121,
   "metadata": {
    "_cell_guid": "b1076dfc-b9ad-4769-8c92-a6c4dae69d19",
    "_uuid": "8f2839f25d086af736a60e9eeb907d3b93b6e0e5",
    "execution": {
     "iopub.execute_input": "2021-06-28T06:33:21.887869Z",
     "iopub.status.busy": "2021-06-28T06:33:21.887480Z",
     "iopub.status.idle": "2021-06-28T06:33:21.901206Z",
     "shell.execute_reply": "2021-06-28T06:33:21.899845Z",
     "shell.execute_reply.started": "2021-06-28T06:33:21.887790Z"
    }
   },
   "outputs": [],
   "source": [
    "\n",
    "import numpy as np # linear algebra\n",
    "import pandas as pd # data processing, CSV file I/O (e.g. pd.read_csv)\n",
    "import matplotlib.pyplot as plt\n",
    "import os\n",
    "from tqdm import tqdm\n",
    "tqdm.pandas()\n",
    "from sklearn.linear_model import LinearRegression\n",
    "from sklearn.model_selection import train_test_split\n",
    "from sklearn.metrics import mean_squared_error\n",
    "from sklearn.svm import SVR\n",
    "from sklearn.model_selection import RandomizedSearchCV,GridSearchCV"
   ]
  },
  {
   "cell_type": "code",
   "execution_count": 122,
   "metadata": {
    "execution": {
     "iopub.execute_input": "2021-06-28T06:34:43.500484Z",
     "iopub.status.busy": "2021-06-28T06:34:43.500105Z",
     "iopub.status.idle": "2021-06-28T06:34:48.838859Z",
     "shell.execute_reply": "2021-06-28T06:34:48.837849Z",
     "shell.execute_reply.started": "2021-06-28T06:34:43.500450Z"
    }
   },
   "outputs": [],
   "source": [
    "train_df=pd.read_csv('./Data/train.csv')"
   ]
  },
  {
   "cell_type": "code",
   "execution_count": 123,
   "metadata": {
    "execution": {
     "iopub.execute_input": "2021-06-28T06:21:10.120687Z",
     "iopub.status.busy": "2021-06-28T06:21:10.120353Z",
     "iopub.status.idle": "2021-06-28T06:21:10.154972Z",
     "shell.execute_reply": "2021-06-28T06:21:10.154058Z",
     "shell.execute_reply.started": "2021-06-28T06:21:10.120657Z"
    }
   },
   "outputs": [
    {
     "output_type": "execute_result",
     "data": {
      "text/plain": [
       "   id      y  var1 var2 var3   t1_2001   t2_2001   t3_2001   t4_2001  \\\n",
       "0   1  113.0    19    A    A -0.140642 -0.388162 -0.574181 -0.583770   \n",
       "1   2  119.0    14    C    A  0.023754 -0.105455 -0.245025 -0.310670   \n",
       "2   3  109.0    13    A    A  0.180818  0.135004  0.001879 -0.134548   \n",
       "3   4  110.0    18    A    A -0.234780 -0.094543  0.193084  0.508519   \n",
       "4   5  123.0    32    A    A -0.130934 -0.360313 -0.547045 -0.603495   \n",
       "\n",
       "    t5_2001  ...  t106_9170  t107_9170  t108_9170  t109_9170  t110_9170  \\\n",
       "0 -0.376220  ...   0.584130  -0.100278  -0.846640  -1.461938  -1.801008   \n",
       "1 -0.249384  ...  -3.024336  -2.480266  -1.118005   0.181451   0.726820   \n",
       "2 -0.185928  ...  -0.156851  -0.262902  -0.668436  -1.172372  -1.387328   \n",
       "3  0.668783  ...  -1.358540  -0.028478   0.535346  -0.116384  -1.542395   \n",
       "4 -0.508025  ...  -0.825535  -0.392556   0.156361   0.567142   0.756362   \n",
       "\n",
       "   t111_9170  t112_9170  t113_9170  t114_9170  t115_9170  \n",
       "0  -1.804553  -1.500023  -0.980571  -0.377526   0.168243  \n",
       "1   0.401501  -0.356744  -0.913405  -0.854943  -0.193468  \n",
       "2  -1.016077  -0.103130   0.935900   1.550512   1.405350  \n",
       "3  -2.486781  -1.631185   1.481241   6.015514  10.233163  \n",
       "4   0.809336   0.844580   0.876423   0.801686   0.524566  \n",
       "\n",
       "[5 rows x 13345 columns]"
      ],
      "text/html": "<div>\n<style scoped>\n    .dataframe tbody tr th:only-of-type {\n        vertical-align: middle;\n    }\n\n    .dataframe tbody tr th {\n        vertical-align: top;\n    }\n\n    .dataframe thead th {\n        text-align: right;\n    }\n</style>\n<table border=\"1\" class=\"dataframe\">\n  <thead>\n    <tr style=\"text-align: right;\">\n      <th></th>\n      <th>id</th>\n      <th>y</th>\n      <th>var1</th>\n      <th>var2</th>\n      <th>var3</th>\n      <th>t1_2001</th>\n      <th>t2_2001</th>\n      <th>t3_2001</th>\n      <th>t4_2001</th>\n      <th>t5_2001</th>\n      <th>...</th>\n      <th>t106_9170</th>\n      <th>t107_9170</th>\n      <th>t108_9170</th>\n      <th>t109_9170</th>\n      <th>t110_9170</th>\n      <th>t111_9170</th>\n      <th>t112_9170</th>\n      <th>t113_9170</th>\n      <th>t114_9170</th>\n      <th>t115_9170</th>\n    </tr>\n  </thead>\n  <tbody>\n    <tr>\n      <th>0</th>\n      <td>1</td>\n      <td>113.0</td>\n      <td>19</td>\n      <td>A</td>\n      <td>A</td>\n      <td>-0.140642</td>\n      <td>-0.388162</td>\n      <td>-0.574181</td>\n      <td>-0.583770</td>\n      <td>-0.376220</td>\n      <td>...</td>\n      <td>0.584130</td>\n      <td>-0.100278</td>\n      <td>-0.846640</td>\n      <td>-1.461938</td>\n      <td>-1.801008</td>\n      <td>-1.804553</td>\n      <td>-1.500023</td>\n      <td>-0.980571</td>\n      <td>-0.377526</td>\n      <td>0.168243</td>\n    </tr>\n    <tr>\n      <th>1</th>\n      <td>2</td>\n      <td>119.0</td>\n      <td>14</td>\n      <td>C</td>\n      <td>A</td>\n      <td>0.023754</td>\n      <td>-0.105455</td>\n      <td>-0.245025</td>\n      <td>-0.310670</td>\n      <td>-0.249384</td>\n      <td>...</td>\n      <td>-3.024336</td>\n      <td>-2.480266</td>\n      <td>-1.118005</td>\n      <td>0.181451</td>\n      <td>0.726820</td>\n      <td>0.401501</td>\n      <td>-0.356744</td>\n      <td>-0.913405</td>\n      <td>-0.854943</td>\n      <td>-0.193468</td>\n    </tr>\n    <tr>\n      <th>2</th>\n      <td>3</td>\n      <td>109.0</td>\n      <td>13</td>\n      <td>A</td>\n      <td>A</td>\n      <td>0.180818</td>\n      <td>0.135004</td>\n      <td>0.001879</td>\n      <td>-0.134548</td>\n      <td>-0.185928</td>\n      <td>...</td>\n      <td>-0.156851</td>\n      <td>-0.262902</td>\n      <td>-0.668436</td>\n      <td>-1.172372</td>\n      <td>-1.387328</td>\n      <td>-1.016077</td>\n      <td>-0.103130</td>\n      <td>0.935900</td>\n      <td>1.550512</td>\n      <td>1.405350</td>\n    </tr>\n    <tr>\n      <th>3</th>\n      <td>4</td>\n      <td>110.0</td>\n      <td>18</td>\n      <td>A</td>\n      <td>A</td>\n      <td>-0.234780</td>\n      <td>-0.094543</td>\n      <td>0.193084</td>\n      <td>0.508519</td>\n      <td>0.668783</td>\n      <td>...</td>\n      <td>-1.358540</td>\n      <td>-0.028478</td>\n      <td>0.535346</td>\n      <td>-0.116384</td>\n      <td>-1.542395</td>\n      <td>-2.486781</td>\n      <td>-1.631185</td>\n      <td>1.481241</td>\n      <td>6.015514</td>\n      <td>10.233163</td>\n    </tr>\n    <tr>\n      <th>4</th>\n      <td>5</td>\n      <td>123.0</td>\n      <td>32</td>\n      <td>A</td>\n      <td>A</td>\n      <td>-0.130934</td>\n      <td>-0.360313</td>\n      <td>-0.547045</td>\n      <td>-0.603495</td>\n      <td>-0.508025</td>\n      <td>...</td>\n      <td>-0.825535</td>\n      <td>-0.392556</td>\n      <td>0.156361</td>\n      <td>0.567142</td>\n      <td>0.756362</td>\n      <td>0.809336</td>\n      <td>0.844580</td>\n      <td>0.876423</td>\n      <td>0.801686</td>\n      <td>0.524566</td>\n    </tr>\n  </tbody>\n</table>\n<p>5 rows × 13345 columns</p>\n</div>"
     },
     "metadata": {},
     "execution_count": 123
    }
   ],
   "source": [
    "train_df.head()"
   ]
  },
  {
   "cell_type": "code",
   "execution_count": 124,
   "metadata": {},
   "outputs": [],
   "source": [
    "columns=[f'ROI{i}-ROI{j}'  for i in range(1,116) for j in range (i+1,117) ]"
   ]
  },
  {
   "cell_type": "code",
   "execution_count": 125,
   "metadata": {},
   "outputs": [],
   "source": [
    "def get_corr(row,test=False):\n",
    "    if test:\n",
    "        brain = np.array(row[4:])\n",
    "    else:\n",
    "        brain = np.array(row[5:])\n",
    "    brain = brain.reshape((116, 115)).astype(float)\n",
    "    corr = np.corrcoef(brain)\n",
    "    flat = corr[np.triu_indices(corr.shape[0], 1)]\n",
    "    return flat.tolist()\n"
   ]
  },
  {
   "cell_type": "code",
   "execution_count": 133,
   "metadata": {},
   "outputs": [
    {
     "output_type": "stream",
     "name": "stderr",
     "text": [
      "  0%|          | 1/600 [00:01<10:01,  1.00s/it]C:\\Users\\Nicola\\AppData\\Local\\Programs\\Python\\Python39\\lib\\site-packages\\numpy\\lib\\function_base.py:2642: RuntimeWarning: invalid value encountered in true_divide\n",
      "  c /= stddev[:, None]\n",
      "C:\\Users\\Nicola\\AppData\\Local\\Programs\\Python\\Python39\\lib\\site-packages\\numpy\\lib\\function_base.py:2643: RuntimeWarning: invalid value encountered in true_divide\n",
      "  c /= stddev[None, :]\n",
      "100%|██████████| 600/600 [00:15<00:00, 39.19it/s]\n"
     ]
    }
   ],
   "source": [
    "corr=train_df.progress_apply(lambda x :get_corr(x),axis=1)"
   ]
  },
  {
   "cell_type": "code",
   "execution_count": 214,
   "metadata": {},
   "outputs": [],
   "source": [
    "corr_df=pd.DataFrame(np.array(corr.values.tolist()),columns=columns).fillna(0)\n",
    "\n"
   ]
  },
  {
   "cell_type": "code",
   "execution_count": 135,
   "metadata": {},
   "outputs": [
    {
     "output_type": "execute_result",
     "data": {
      "text/plain": [
       "     ROI1-ROI2  ROI1-ROI3  ROI1-ROI4  ROI1-ROI5  ROI1-ROI6  ROI1-ROI7  \\\n",
       "0     0.320408  -0.156421  -0.115766  -0.306091   0.034975  -0.147885   \n",
       "1     0.386406   0.084164  -0.226632  -0.136301  -0.428097  -0.126119   \n",
       "2     0.809958   0.096828  -0.012295  -0.658145  -0.565232   0.436640   \n",
       "3     0.371073   0.340416   0.165785   0.319523   0.071653  -0.006067   \n",
       "4     0.238808  -0.075542  -0.312048   0.343195  -0.017375   0.279959   \n",
       "..         ...        ...        ...        ...        ...        ...   \n",
       "595   0.239704   0.334075  -0.133219   0.396904   0.218766   0.401353   \n",
       "596   0.082087   0.106322  -0.234501  -0.227719  -0.221337   0.428577   \n",
       "597   0.550363  -0.173623  -0.087052  -0.076264  -0.334513   0.005763   \n",
       "598   0.302419   0.042842  -0.557081  -0.029869  -0.165823   0.216248   \n",
       "599   0.297124   0.075646  -0.318396  -0.048918   0.141353   0.234284   \n",
       "\n",
       "     ROI1-ROI8  ROI1-ROI9  ROI1-ROI10  ROI1-ROI11  ...  ROI112-ROI113  \\\n",
       "0    -0.228411  -0.237148    0.020136    0.445899  ...       0.006686   \n",
       "1    -0.057845  -0.122750   -0.262477    0.594780  ...       0.736991   \n",
       "2     0.163701  -0.528475   -0.458596    0.313225  ...       0.200037   \n",
       "3     0.102873   0.247239    0.153692    0.145438  ...       0.711573   \n",
       "4    -0.206112   0.266237   -0.035437    0.385538  ...       0.464747   \n",
       "..         ...        ...         ...         ...  ...            ...   \n",
       "595  -0.211222   0.330301    0.118898    0.499315  ...       0.868837   \n",
       "596  -0.541010   0.058470   -0.258668    0.710444  ...       0.192933   \n",
       "597  -0.164106  -0.227619   -0.378778    0.688334  ...       0.673816   \n",
       "598  -0.262268   0.092553   -0.006392    0.256167  ...       0.168198   \n",
       "599   0.133024  -0.011143   -0.133445    0.587146  ...       0.606218   \n",
       "\n",
       "     ROI112-ROI114  ROI112-ROI115  ROI112-ROI116  ROI113-ROI114  \\\n",
       "0        -0.285579      -0.072048       0.411215       0.322524   \n",
       "1         0.147084      -0.159465       0.264405       0.006974   \n",
       "2         0.393775      -0.085829       0.266476       0.340162   \n",
       "3         0.449607      -0.101063       0.494471       0.630120   \n",
       "4         0.110613       0.242850       0.180382       0.264813   \n",
       "..             ...            ...            ...            ...   \n",
       "595       0.570910       0.411275       0.662582       0.576929   \n",
       "596      -0.112865       0.101323       0.343547       0.358325   \n",
       "597       0.309224       0.328117       0.451602       0.389896   \n",
       "598       0.348409      -0.134313       0.081805       0.124225   \n",
       "599       0.454123       0.211787       0.208022       0.403398   \n",
       "\n",
       "     ROI113-ROI115  ROI113-ROI116  ROI114-ROI115  ROI114-ROI116  ROI115-ROI116  \n",
       "0         0.208173      -0.071341       0.282784      -0.055727       0.144371  \n",
       "1         0.009238       0.266661       0.047870       0.112745       0.142081  \n",
       "2        -0.142864       0.342046       0.374683       0.281569      -0.166943  \n",
       "3         0.089310       0.583527       0.391849       0.529610       0.202928  \n",
       "4         0.369938       0.449401      -0.011589       0.637432       0.323892  \n",
       "..             ...            ...            ...            ...            ...  \n",
       "595       0.390116       0.636213       0.414633       0.584703       0.823124  \n",
       "596       0.412704       0.412598       0.035520      -0.126774       0.412996  \n",
       "597       0.261399       0.427783       0.504431       0.574561       0.499287  \n",
       "598      -0.034212      -0.042134       0.136920       0.025787      -0.288578  \n",
       "599       0.277017       0.310910       0.246480       0.317431       0.150887  \n",
       "\n",
       "[600 rows x 6670 columns]"
      ],
      "text/html": "<div>\n<style scoped>\n    .dataframe tbody tr th:only-of-type {\n        vertical-align: middle;\n    }\n\n    .dataframe tbody tr th {\n        vertical-align: top;\n    }\n\n    .dataframe thead th {\n        text-align: right;\n    }\n</style>\n<table border=\"1\" class=\"dataframe\">\n  <thead>\n    <tr style=\"text-align: right;\">\n      <th></th>\n      <th>ROI1-ROI2</th>\n      <th>ROI1-ROI3</th>\n      <th>ROI1-ROI4</th>\n      <th>ROI1-ROI5</th>\n      <th>ROI1-ROI6</th>\n      <th>ROI1-ROI7</th>\n      <th>ROI1-ROI8</th>\n      <th>ROI1-ROI9</th>\n      <th>ROI1-ROI10</th>\n      <th>ROI1-ROI11</th>\n      <th>...</th>\n      <th>ROI112-ROI113</th>\n      <th>ROI112-ROI114</th>\n      <th>ROI112-ROI115</th>\n      <th>ROI112-ROI116</th>\n      <th>ROI113-ROI114</th>\n      <th>ROI113-ROI115</th>\n      <th>ROI113-ROI116</th>\n      <th>ROI114-ROI115</th>\n      <th>ROI114-ROI116</th>\n      <th>ROI115-ROI116</th>\n    </tr>\n  </thead>\n  <tbody>\n    <tr>\n      <th>0</th>\n      <td>0.320408</td>\n      <td>-0.156421</td>\n      <td>-0.115766</td>\n      <td>-0.306091</td>\n      <td>0.034975</td>\n      <td>-0.147885</td>\n      <td>-0.228411</td>\n      <td>-0.237148</td>\n      <td>0.020136</td>\n      <td>0.445899</td>\n      <td>...</td>\n      <td>0.006686</td>\n      <td>-0.285579</td>\n      <td>-0.072048</td>\n      <td>0.411215</td>\n      <td>0.322524</td>\n      <td>0.208173</td>\n      <td>-0.071341</td>\n      <td>0.282784</td>\n      <td>-0.055727</td>\n      <td>0.144371</td>\n    </tr>\n    <tr>\n      <th>1</th>\n      <td>0.386406</td>\n      <td>0.084164</td>\n      <td>-0.226632</td>\n      <td>-0.136301</td>\n      <td>-0.428097</td>\n      <td>-0.126119</td>\n      <td>-0.057845</td>\n      <td>-0.122750</td>\n      <td>-0.262477</td>\n      <td>0.594780</td>\n      <td>...</td>\n      <td>0.736991</td>\n      <td>0.147084</td>\n      <td>-0.159465</td>\n      <td>0.264405</td>\n      <td>0.006974</td>\n      <td>0.009238</td>\n      <td>0.266661</td>\n      <td>0.047870</td>\n      <td>0.112745</td>\n      <td>0.142081</td>\n    </tr>\n    <tr>\n      <th>2</th>\n      <td>0.809958</td>\n      <td>0.096828</td>\n      <td>-0.012295</td>\n      <td>-0.658145</td>\n      <td>-0.565232</td>\n      <td>0.436640</td>\n      <td>0.163701</td>\n      <td>-0.528475</td>\n      <td>-0.458596</td>\n      <td>0.313225</td>\n      <td>...</td>\n      <td>0.200037</td>\n      <td>0.393775</td>\n      <td>-0.085829</td>\n      <td>0.266476</td>\n      <td>0.340162</td>\n      <td>-0.142864</td>\n      <td>0.342046</td>\n      <td>0.374683</td>\n      <td>0.281569</td>\n      <td>-0.166943</td>\n    </tr>\n    <tr>\n      <th>3</th>\n      <td>0.371073</td>\n      <td>0.340416</td>\n      <td>0.165785</td>\n      <td>0.319523</td>\n      <td>0.071653</td>\n      <td>-0.006067</td>\n      <td>0.102873</td>\n      <td>0.247239</td>\n      <td>0.153692</td>\n      <td>0.145438</td>\n      <td>...</td>\n      <td>0.711573</td>\n      <td>0.449607</td>\n      <td>-0.101063</td>\n      <td>0.494471</td>\n      <td>0.630120</td>\n      <td>0.089310</td>\n      <td>0.583527</td>\n      <td>0.391849</td>\n      <td>0.529610</td>\n      <td>0.202928</td>\n    </tr>\n    <tr>\n      <th>4</th>\n      <td>0.238808</td>\n      <td>-0.075542</td>\n      <td>-0.312048</td>\n      <td>0.343195</td>\n      <td>-0.017375</td>\n      <td>0.279959</td>\n      <td>-0.206112</td>\n      <td>0.266237</td>\n      <td>-0.035437</td>\n      <td>0.385538</td>\n      <td>...</td>\n      <td>0.464747</td>\n      <td>0.110613</td>\n      <td>0.242850</td>\n      <td>0.180382</td>\n      <td>0.264813</td>\n      <td>0.369938</td>\n      <td>0.449401</td>\n      <td>-0.011589</td>\n      <td>0.637432</td>\n      <td>0.323892</td>\n    </tr>\n    <tr>\n      <th>...</th>\n      <td>...</td>\n      <td>...</td>\n      <td>...</td>\n      <td>...</td>\n      <td>...</td>\n      <td>...</td>\n      <td>...</td>\n      <td>...</td>\n      <td>...</td>\n      <td>...</td>\n      <td>...</td>\n      <td>...</td>\n      <td>...</td>\n      <td>...</td>\n      <td>...</td>\n      <td>...</td>\n      <td>...</td>\n      <td>...</td>\n      <td>...</td>\n      <td>...</td>\n      <td>...</td>\n    </tr>\n    <tr>\n      <th>595</th>\n      <td>0.239704</td>\n      <td>0.334075</td>\n      <td>-0.133219</td>\n      <td>0.396904</td>\n      <td>0.218766</td>\n      <td>0.401353</td>\n      <td>-0.211222</td>\n      <td>0.330301</td>\n      <td>0.118898</td>\n      <td>0.499315</td>\n      <td>...</td>\n      <td>0.868837</td>\n      <td>0.570910</td>\n      <td>0.411275</td>\n      <td>0.662582</td>\n      <td>0.576929</td>\n      <td>0.390116</td>\n      <td>0.636213</td>\n      <td>0.414633</td>\n      <td>0.584703</td>\n      <td>0.823124</td>\n    </tr>\n    <tr>\n      <th>596</th>\n      <td>0.082087</td>\n      <td>0.106322</td>\n      <td>-0.234501</td>\n      <td>-0.227719</td>\n      <td>-0.221337</td>\n      <td>0.428577</td>\n      <td>-0.541010</td>\n      <td>0.058470</td>\n      <td>-0.258668</td>\n      <td>0.710444</td>\n      <td>...</td>\n      <td>0.192933</td>\n      <td>-0.112865</td>\n      <td>0.101323</td>\n      <td>0.343547</td>\n      <td>0.358325</td>\n      <td>0.412704</td>\n      <td>0.412598</td>\n      <td>0.035520</td>\n      <td>-0.126774</td>\n      <td>0.412996</td>\n    </tr>\n    <tr>\n      <th>597</th>\n      <td>0.550363</td>\n      <td>-0.173623</td>\n      <td>-0.087052</td>\n      <td>-0.076264</td>\n      <td>-0.334513</td>\n      <td>0.005763</td>\n      <td>-0.164106</td>\n      <td>-0.227619</td>\n      <td>-0.378778</td>\n      <td>0.688334</td>\n      <td>...</td>\n      <td>0.673816</td>\n      <td>0.309224</td>\n      <td>0.328117</td>\n      <td>0.451602</td>\n      <td>0.389896</td>\n      <td>0.261399</td>\n      <td>0.427783</td>\n      <td>0.504431</td>\n      <td>0.574561</td>\n      <td>0.499287</td>\n    </tr>\n    <tr>\n      <th>598</th>\n      <td>0.302419</td>\n      <td>0.042842</td>\n      <td>-0.557081</td>\n      <td>-0.029869</td>\n      <td>-0.165823</td>\n      <td>0.216248</td>\n      <td>-0.262268</td>\n      <td>0.092553</td>\n      <td>-0.006392</td>\n      <td>0.256167</td>\n      <td>...</td>\n      <td>0.168198</td>\n      <td>0.348409</td>\n      <td>-0.134313</td>\n      <td>0.081805</td>\n      <td>0.124225</td>\n      <td>-0.034212</td>\n      <td>-0.042134</td>\n      <td>0.136920</td>\n      <td>0.025787</td>\n      <td>-0.288578</td>\n    </tr>\n    <tr>\n      <th>599</th>\n      <td>0.297124</td>\n      <td>0.075646</td>\n      <td>-0.318396</td>\n      <td>-0.048918</td>\n      <td>0.141353</td>\n      <td>0.234284</td>\n      <td>0.133024</td>\n      <td>-0.011143</td>\n      <td>-0.133445</td>\n      <td>0.587146</td>\n      <td>...</td>\n      <td>0.606218</td>\n      <td>0.454123</td>\n      <td>0.211787</td>\n      <td>0.208022</td>\n      <td>0.403398</td>\n      <td>0.277017</td>\n      <td>0.310910</td>\n      <td>0.246480</td>\n      <td>0.317431</td>\n      <td>0.150887</td>\n    </tr>\n  </tbody>\n</table>\n<p>600 rows × 6670 columns</p>\n</div>"
     },
     "metadata": {},
     "execution_count": 135
    }
   ],
   "source": [
    "corr_df"
   ]
  },
  {
   "cell_type": "code",
   "execution_count": 68,
   "metadata": {},
   "outputs": [],
   "source": [
    "#normalized_corr_df=(corr_df-corr_df.mean())/corr_df.std()"
   ]
  },
  {
   "cell_type": "code",
   "execution_count": 34,
   "metadata": {},
   "outputs": [],
   "source": [
    "# normalized_corr_df=(corr_df-corr_df.min())/(corr_df.max()-corr_df.min())"
   ]
  },
  {
   "cell_type": "code",
   "execution_count": 128,
   "metadata": {},
   "outputs": [],
   "source": [
    "new_train=corr_df\n",
    "#new_train['var1']=train_df['var1']\n",
    "#new_train['y']=train_df['y']"
   ]
  },
  {
   "cell_type": "code",
   "execution_count": 215,
   "metadata": {},
   "outputs": [],
   "source": [
    "first_cols = train_df.iloc[:, [1,2,3,4]]"
   ]
  },
  {
   "cell_type": "code",
   "execution_count": 216,
   "metadata": {},
   "outputs": [],
   "source": [
    "new_train = first_cols.join(corr_df)"
   ]
  },
  {
   "cell_type": "code",
   "execution_count": 217,
   "metadata": {},
   "outputs": [],
   "source": [
    "new_train['var2'].replace({'A':0, 'C':1}, inplace = True)\n",
    "new_train['var3'].replace({'A':0, 'C':1}, inplace = True)"
   ]
  },
  {
   "cell_type": "code",
   "execution_count": 218,
   "metadata": {},
   "outputs": [
    {
     "output_type": "execute_result",
     "data": {
      "text/plain": [
       "         y  var1  var2  var3  ROI1-ROI2  ROI1-ROI3  ROI1-ROI4  ROI1-ROI5  \\\n",
       "0    113.0    19     0     0   0.320408  -0.156421  -0.115766  -0.306091   \n",
       "1    119.0    14     1     0   0.386406   0.084164  -0.226632  -0.136301   \n",
       "2    109.0    13     0     0   0.809958   0.096828  -0.012295  -0.658145   \n",
       "3    110.0    18     0     0   0.371073   0.340416   0.165785   0.319523   \n",
       "4    123.0    32     0     0   0.238808  -0.075542  -0.312048   0.343195   \n",
       "..     ...   ...   ...   ...        ...        ...        ...        ...   \n",
       "595  110.0    41     0     0   0.239704   0.334075  -0.133219   0.396904   \n",
       "596  120.0    64     0     0   0.082087   0.106322  -0.234501  -0.227719   \n",
       "597   96.0    27     0     0   0.550363  -0.173623  -0.087052  -0.076264   \n",
       "598  118.0    29     1     0   0.302419   0.042842  -0.557081  -0.029869   \n",
       "599  110.0    26     0     0   0.297124   0.075646  -0.318396  -0.048918   \n",
       "\n",
       "     ROI1-ROI6  ROI1-ROI7  ...  ROI112-ROI113  ROI112-ROI114  ROI112-ROI115  \\\n",
       "0     0.034975  -0.147885  ...       0.006686      -0.285579      -0.072048   \n",
       "1    -0.428097  -0.126119  ...       0.736991       0.147084      -0.159465   \n",
       "2    -0.565232   0.436640  ...       0.200037       0.393775      -0.085829   \n",
       "3     0.071653  -0.006067  ...       0.711573       0.449607      -0.101063   \n",
       "4    -0.017375   0.279959  ...       0.464747       0.110613       0.242850   \n",
       "..         ...        ...  ...            ...            ...            ...   \n",
       "595   0.218766   0.401353  ...       0.868837       0.570910       0.411275   \n",
       "596  -0.221337   0.428577  ...       0.192933      -0.112865       0.101323   \n",
       "597  -0.334513   0.005763  ...       0.673816       0.309224       0.328117   \n",
       "598  -0.165823   0.216248  ...       0.168198       0.348409      -0.134313   \n",
       "599   0.141353   0.234284  ...       0.606218       0.454123       0.211787   \n",
       "\n",
       "     ROI112-ROI116  ROI113-ROI114  ROI113-ROI115  ROI113-ROI116  \\\n",
       "0         0.411215       0.322524       0.208173      -0.071341   \n",
       "1         0.264405       0.006974       0.009238       0.266661   \n",
       "2         0.266476       0.340162      -0.142864       0.342046   \n",
       "3         0.494471       0.630120       0.089310       0.583527   \n",
       "4         0.180382       0.264813       0.369938       0.449401   \n",
       "..             ...            ...            ...            ...   \n",
       "595       0.662582       0.576929       0.390116       0.636213   \n",
       "596       0.343547       0.358325       0.412704       0.412598   \n",
       "597       0.451602       0.389896       0.261399       0.427783   \n",
       "598       0.081805       0.124225      -0.034212      -0.042134   \n",
       "599       0.208022       0.403398       0.277017       0.310910   \n",
       "\n",
       "     ROI114-ROI115  ROI114-ROI116  ROI115-ROI116  \n",
       "0         0.282784      -0.055727       0.144371  \n",
       "1         0.047870       0.112745       0.142081  \n",
       "2         0.374683       0.281569      -0.166943  \n",
       "3         0.391849       0.529610       0.202928  \n",
       "4        -0.011589       0.637432       0.323892  \n",
       "..             ...            ...            ...  \n",
       "595       0.414633       0.584703       0.823124  \n",
       "596       0.035520      -0.126774       0.412996  \n",
       "597       0.504431       0.574561       0.499287  \n",
       "598       0.136920       0.025787      -0.288578  \n",
       "599       0.246480       0.317431       0.150887  \n",
       "\n",
       "[600 rows x 6674 columns]"
      ],
      "text/html": "<div>\n<style scoped>\n    .dataframe tbody tr th:only-of-type {\n        vertical-align: middle;\n    }\n\n    .dataframe tbody tr th {\n        vertical-align: top;\n    }\n\n    .dataframe thead th {\n        text-align: right;\n    }\n</style>\n<table border=\"1\" class=\"dataframe\">\n  <thead>\n    <tr style=\"text-align: right;\">\n      <th></th>\n      <th>y</th>\n      <th>var1</th>\n      <th>var2</th>\n      <th>var3</th>\n      <th>ROI1-ROI2</th>\n      <th>ROI1-ROI3</th>\n      <th>ROI1-ROI4</th>\n      <th>ROI1-ROI5</th>\n      <th>ROI1-ROI6</th>\n      <th>ROI1-ROI7</th>\n      <th>...</th>\n      <th>ROI112-ROI113</th>\n      <th>ROI112-ROI114</th>\n      <th>ROI112-ROI115</th>\n      <th>ROI112-ROI116</th>\n      <th>ROI113-ROI114</th>\n      <th>ROI113-ROI115</th>\n      <th>ROI113-ROI116</th>\n      <th>ROI114-ROI115</th>\n      <th>ROI114-ROI116</th>\n      <th>ROI115-ROI116</th>\n    </tr>\n  </thead>\n  <tbody>\n    <tr>\n      <th>0</th>\n      <td>113.0</td>\n      <td>19</td>\n      <td>0</td>\n      <td>0</td>\n      <td>0.320408</td>\n      <td>-0.156421</td>\n      <td>-0.115766</td>\n      <td>-0.306091</td>\n      <td>0.034975</td>\n      <td>-0.147885</td>\n      <td>...</td>\n      <td>0.006686</td>\n      <td>-0.285579</td>\n      <td>-0.072048</td>\n      <td>0.411215</td>\n      <td>0.322524</td>\n      <td>0.208173</td>\n      <td>-0.071341</td>\n      <td>0.282784</td>\n      <td>-0.055727</td>\n      <td>0.144371</td>\n    </tr>\n    <tr>\n      <th>1</th>\n      <td>119.0</td>\n      <td>14</td>\n      <td>1</td>\n      <td>0</td>\n      <td>0.386406</td>\n      <td>0.084164</td>\n      <td>-0.226632</td>\n      <td>-0.136301</td>\n      <td>-0.428097</td>\n      <td>-0.126119</td>\n      <td>...</td>\n      <td>0.736991</td>\n      <td>0.147084</td>\n      <td>-0.159465</td>\n      <td>0.264405</td>\n      <td>0.006974</td>\n      <td>0.009238</td>\n      <td>0.266661</td>\n      <td>0.047870</td>\n      <td>0.112745</td>\n      <td>0.142081</td>\n    </tr>\n    <tr>\n      <th>2</th>\n      <td>109.0</td>\n      <td>13</td>\n      <td>0</td>\n      <td>0</td>\n      <td>0.809958</td>\n      <td>0.096828</td>\n      <td>-0.012295</td>\n      <td>-0.658145</td>\n      <td>-0.565232</td>\n      <td>0.436640</td>\n      <td>...</td>\n      <td>0.200037</td>\n      <td>0.393775</td>\n      <td>-0.085829</td>\n      <td>0.266476</td>\n      <td>0.340162</td>\n      <td>-0.142864</td>\n      <td>0.342046</td>\n      <td>0.374683</td>\n      <td>0.281569</td>\n      <td>-0.166943</td>\n    </tr>\n    <tr>\n      <th>3</th>\n      <td>110.0</td>\n      <td>18</td>\n      <td>0</td>\n      <td>0</td>\n      <td>0.371073</td>\n      <td>0.340416</td>\n      <td>0.165785</td>\n      <td>0.319523</td>\n      <td>0.071653</td>\n      <td>-0.006067</td>\n      <td>...</td>\n      <td>0.711573</td>\n      <td>0.449607</td>\n      <td>-0.101063</td>\n      <td>0.494471</td>\n      <td>0.630120</td>\n      <td>0.089310</td>\n      <td>0.583527</td>\n      <td>0.391849</td>\n      <td>0.529610</td>\n      <td>0.202928</td>\n    </tr>\n    <tr>\n      <th>4</th>\n      <td>123.0</td>\n      <td>32</td>\n      <td>0</td>\n      <td>0</td>\n      <td>0.238808</td>\n      <td>-0.075542</td>\n      <td>-0.312048</td>\n      <td>0.343195</td>\n      <td>-0.017375</td>\n      <td>0.279959</td>\n      <td>...</td>\n      <td>0.464747</td>\n      <td>0.110613</td>\n      <td>0.242850</td>\n      <td>0.180382</td>\n      <td>0.264813</td>\n      <td>0.369938</td>\n      <td>0.449401</td>\n      <td>-0.011589</td>\n      <td>0.637432</td>\n      <td>0.323892</td>\n    </tr>\n    <tr>\n      <th>...</th>\n      <td>...</td>\n      <td>...</td>\n      <td>...</td>\n      <td>...</td>\n      <td>...</td>\n      <td>...</td>\n      <td>...</td>\n      <td>...</td>\n      <td>...</td>\n      <td>...</td>\n      <td>...</td>\n      <td>...</td>\n      <td>...</td>\n      <td>...</td>\n      <td>...</td>\n      <td>...</td>\n      <td>...</td>\n      <td>...</td>\n      <td>...</td>\n      <td>...</td>\n      <td>...</td>\n    </tr>\n    <tr>\n      <th>595</th>\n      <td>110.0</td>\n      <td>41</td>\n      <td>0</td>\n      <td>0</td>\n      <td>0.239704</td>\n      <td>0.334075</td>\n      <td>-0.133219</td>\n      <td>0.396904</td>\n      <td>0.218766</td>\n      <td>0.401353</td>\n      <td>...</td>\n      <td>0.868837</td>\n      <td>0.570910</td>\n      <td>0.411275</td>\n      <td>0.662582</td>\n      <td>0.576929</td>\n      <td>0.390116</td>\n      <td>0.636213</td>\n      <td>0.414633</td>\n      <td>0.584703</td>\n      <td>0.823124</td>\n    </tr>\n    <tr>\n      <th>596</th>\n      <td>120.0</td>\n      <td>64</td>\n      <td>0</td>\n      <td>0</td>\n      <td>0.082087</td>\n      <td>0.106322</td>\n      <td>-0.234501</td>\n      <td>-0.227719</td>\n      <td>-0.221337</td>\n      <td>0.428577</td>\n      <td>...</td>\n      <td>0.192933</td>\n      <td>-0.112865</td>\n      <td>0.101323</td>\n      <td>0.343547</td>\n      <td>0.358325</td>\n      <td>0.412704</td>\n      <td>0.412598</td>\n      <td>0.035520</td>\n      <td>-0.126774</td>\n      <td>0.412996</td>\n    </tr>\n    <tr>\n      <th>597</th>\n      <td>96.0</td>\n      <td>27</td>\n      <td>0</td>\n      <td>0</td>\n      <td>0.550363</td>\n      <td>-0.173623</td>\n      <td>-0.087052</td>\n      <td>-0.076264</td>\n      <td>-0.334513</td>\n      <td>0.005763</td>\n      <td>...</td>\n      <td>0.673816</td>\n      <td>0.309224</td>\n      <td>0.328117</td>\n      <td>0.451602</td>\n      <td>0.389896</td>\n      <td>0.261399</td>\n      <td>0.427783</td>\n      <td>0.504431</td>\n      <td>0.574561</td>\n      <td>0.499287</td>\n    </tr>\n    <tr>\n      <th>598</th>\n      <td>118.0</td>\n      <td>29</td>\n      <td>1</td>\n      <td>0</td>\n      <td>0.302419</td>\n      <td>0.042842</td>\n      <td>-0.557081</td>\n      <td>-0.029869</td>\n      <td>-0.165823</td>\n      <td>0.216248</td>\n      <td>...</td>\n      <td>0.168198</td>\n      <td>0.348409</td>\n      <td>-0.134313</td>\n      <td>0.081805</td>\n      <td>0.124225</td>\n      <td>-0.034212</td>\n      <td>-0.042134</td>\n      <td>0.136920</td>\n      <td>0.025787</td>\n      <td>-0.288578</td>\n    </tr>\n    <tr>\n      <th>599</th>\n      <td>110.0</td>\n      <td>26</td>\n      <td>0</td>\n      <td>0</td>\n      <td>0.297124</td>\n      <td>0.075646</td>\n      <td>-0.318396</td>\n      <td>-0.048918</td>\n      <td>0.141353</td>\n      <td>0.234284</td>\n      <td>...</td>\n      <td>0.606218</td>\n      <td>0.454123</td>\n      <td>0.211787</td>\n      <td>0.208022</td>\n      <td>0.403398</td>\n      <td>0.277017</td>\n      <td>0.310910</td>\n      <td>0.246480</td>\n      <td>0.317431</td>\n      <td>0.150887</td>\n    </tr>\n  </tbody>\n</table>\n<p>600 rows × 6674 columns</p>\n</div>"
     },
     "metadata": {},
     "execution_count": 218
    }
   ],
   "source": [
    "new_train"
   ]
  },
  {
   "cell_type": "code",
   "execution_count": 74,
   "metadata": {},
   "outputs": [],
   "source": [
    "new_train['mean']=np.mean(new_train.iloc[:,4:],axis=1)"
   ]
  },
  {
   "cell_type": "code",
   "execution_count": 75,
   "metadata": {},
   "outputs": [],
   "source": [
    "new_train['max']=np.max(new_train.iloc[:,4:],axis=1)"
   ]
  },
  {
   "cell_type": "code",
   "execution_count": 76,
   "metadata": {},
   "outputs": [],
   "source": [
    "new_train['min']=np.min(new_train.iloc[:,4:],axis=1)"
   ]
  },
  {
   "cell_type": "code",
   "execution_count": 140,
   "metadata": {},
   "outputs": [
    {
     "output_type": "execute_result",
     "data": {
      "text/plain": [
       "         y  var1  var2  var3  ROI1-ROI2  ROI1-ROI3  ROI1-ROI4  ROI1-ROI5  \\\n",
       "0    113.0    19     0     0   0.320408  -0.156421  -0.115766  -0.306091   \n",
       "1    119.0    14     1     0   0.386406   0.084164  -0.226632  -0.136301   \n",
       "2    109.0    13     0     0   0.809958   0.096828  -0.012295  -0.658145   \n",
       "3    110.0    18     0     0   0.371073   0.340416   0.165785   0.319523   \n",
       "4    123.0    32     0     0   0.238808  -0.075542  -0.312048   0.343195   \n",
       "..     ...   ...   ...   ...        ...        ...        ...        ...   \n",
       "595  110.0    41     0     0   0.239704   0.334075  -0.133219   0.396904   \n",
       "596  120.0    64     0     0   0.082087   0.106322  -0.234501  -0.227719   \n",
       "597   96.0    27     0     0   0.550363  -0.173623  -0.087052  -0.076264   \n",
       "598  118.0    29     1     0   0.302419   0.042842  -0.557081  -0.029869   \n",
       "599  110.0    26     0     0   0.297124   0.075646  -0.318396  -0.048918   \n",
       "\n",
       "     ROI1-ROI6  ROI1-ROI7  ...  ROI112-ROI113  ROI112-ROI114  ROI112-ROI115  \\\n",
       "0     0.034975  -0.147885  ...       0.006686      -0.285579      -0.072048   \n",
       "1    -0.428097  -0.126119  ...       0.736991       0.147084      -0.159465   \n",
       "2    -0.565232   0.436640  ...       0.200037       0.393775      -0.085829   \n",
       "3     0.071653  -0.006067  ...       0.711573       0.449607      -0.101063   \n",
       "4    -0.017375   0.279959  ...       0.464747       0.110613       0.242850   \n",
       "..         ...        ...  ...            ...            ...            ...   \n",
       "595   0.218766   0.401353  ...       0.868837       0.570910       0.411275   \n",
       "596  -0.221337   0.428577  ...       0.192933      -0.112865       0.101323   \n",
       "597  -0.334513   0.005763  ...       0.673816       0.309224       0.328117   \n",
       "598  -0.165823   0.216248  ...       0.168198       0.348409      -0.134313   \n",
       "599   0.141353   0.234284  ...       0.606218       0.454123       0.211787   \n",
       "\n",
       "     ROI112-ROI116  ROI113-ROI114  ROI113-ROI115  ROI113-ROI116  \\\n",
       "0         0.411215       0.322524       0.208173      -0.071341   \n",
       "1         0.264405       0.006974       0.009238       0.266661   \n",
       "2         0.266476       0.340162      -0.142864       0.342046   \n",
       "3         0.494471       0.630120       0.089310       0.583527   \n",
       "4         0.180382       0.264813       0.369938       0.449401   \n",
       "..             ...            ...            ...            ...   \n",
       "595       0.662582       0.576929       0.390116       0.636213   \n",
       "596       0.343547       0.358325       0.412704       0.412598   \n",
       "597       0.451602       0.389896       0.261399       0.427783   \n",
       "598       0.081805       0.124225      -0.034212      -0.042134   \n",
       "599       0.208022       0.403398       0.277017       0.310910   \n",
       "\n",
       "     ROI114-ROI115  ROI114-ROI116  ROI115-ROI116  \n",
       "0         0.282784      -0.055727       0.144371  \n",
       "1         0.047870       0.112745       0.142081  \n",
       "2         0.374683       0.281569      -0.166943  \n",
       "3         0.391849       0.529610       0.202928  \n",
       "4        -0.011589       0.637432       0.323892  \n",
       "..             ...            ...            ...  \n",
       "595       0.414633       0.584703       0.823124  \n",
       "596       0.035520      -0.126774       0.412996  \n",
       "597       0.504431       0.574561       0.499287  \n",
       "598       0.136920       0.025787      -0.288578  \n",
       "599       0.246480       0.317431       0.150887  \n",
       "\n",
       "[600 rows x 6674 columns]"
      ],
      "text/html": "<div>\n<style scoped>\n    .dataframe tbody tr th:only-of-type {\n        vertical-align: middle;\n    }\n\n    .dataframe tbody tr th {\n        vertical-align: top;\n    }\n\n    .dataframe thead th {\n        text-align: right;\n    }\n</style>\n<table border=\"1\" class=\"dataframe\">\n  <thead>\n    <tr style=\"text-align: right;\">\n      <th></th>\n      <th>y</th>\n      <th>var1</th>\n      <th>var2</th>\n      <th>var3</th>\n      <th>ROI1-ROI2</th>\n      <th>ROI1-ROI3</th>\n      <th>ROI1-ROI4</th>\n      <th>ROI1-ROI5</th>\n      <th>ROI1-ROI6</th>\n      <th>ROI1-ROI7</th>\n      <th>...</th>\n      <th>ROI112-ROI113</th>\n      <th>ROI112-ROI114</th>\n      <th>ROI112-ROI115</th>\n      <th>ROI112-ROI116</th>\n      <th>ROI113-ROI114</th>\n      <th>ROI113-ROI115</th>\n      <th>ROI113-ROI116</th>\n      <th>ROI114-ROI115</th>\n      <th>ROI114-ROI116</th>\n      <th>ROI115-ROI116</th>\n    </tr>\n  </thead>\n  <tbody>\n    <tr>\n      <th>0</th>\n      <td>113.0</td>\n      <td>19</td>\n      <td>0</td>\n      <td>0</td>\n      <td>0.320408</td>\n      <td>-0.156421</td>\n      <td>-0.115766</td>\n      <td>-0.306091</td>\n      <td>0.034975</td>\n      <td>-0.147885</td>\n      <td>...</td>\n      <td>0.006686</td>\n      <td>-0.285579</td>\n      <td>-0.072048</td>\n      <td>0.411215</td>\n      <td>0.322524</td>\n      <td>0.208173</td>\n      <td>-0.071341</td>\n      <td>0.282784</td>\n      <td>-0.055727</td>\n      <td>0.144371</td>\n    </tr>\n    <tr>\n      <th>1</th>\n      <td>119.0</td>\n      <td>14</td>\n      <td>1</td>\n      <td>0</td>\n      <td>0.386406</td>\n      <td>0.084164</td>\n      <td>-0.226632</td>\n      <td>-0.136301</td>\n      <td>-0.428097</td>\n      <td>-0.126119</td>\n      <td>...</td>\n      <td>0.736991</td>\n      <td>0.147084</td>\n      <td>-0.159465</td>\n      <td>0.264405</td>\n      <td>0.006974</td>\n      <td>0.009238</td>\n      <td>0.266661</td>\n      <td>0.047870</td>\n      <td>0.112745</td>\n      <td>0.142081</td>\n    </tr>\n    <tr>\n      <th>2</th>\n      <td>109.0</td>\n      <td>13</td>\n      <td>0</td>\n      <td>0</td>\n      <td>0.809958</td>\n      <td>0.096828</td>\n      <td>-0.012295</td>\n      <td>-0.658145</td>\n      <td>-0.565232</td>\n      <td>0.436640</td>\n      <td>...</td>\n      <td>0.200037</td>\n      <td>0.393775</td>\n      <td>-0.085829</td>\n      <td>0.266476</td>\n      <td>0.340162</td>\n      <td>-0.142864</td>\n      <td>0.342046</td>\n      <td>0.374683</td>\n      <td>0.281569</td>\n      <td>-0.166943</td>\n    </tr>\n    <tr>\n      <th>3</th>\n      <td>110.0</td>\n      <td>18</td>\n      <td>0</td>\n      <td>0</td>\n      <td>0.371073</td>\n      <td>0.340416</td>\n      <td>0.165785</td>\n      <td>0.319523</td>\n      <td>0.071653</td>\n      <td>-0.006067</td>\n      <td>...</td>\n      <td>0.711573</td>\n      <td>0.449607</td>\n      <td>-0.101063</td>\n      <td>0.494471</td>\n      <td>0.630120</td>\n      <td>0.089310</td>\n      <td>0.583527</td>\n      <td>0.391849</td>\n      <td>0.529610</td>\n      <td>0.202928</td>\n    </tr>\n    <tr>\n      <th>4</th>\n      <td>123.0</td>\n      <td>32</td>\n      <td>0</td>\n      <td>0</td>\n      <td>0.238808</td>\n      <td>-0.075542</td>\n      <td>-0.312048</td>\n      <td>0.343195</td>\n      <td>-0.017375</td>\n      <td>0.279959</td>\n      <td>...</td>\n      <td>0.464747</td>\n      <td>0.110613</td>\n      <td>0.242850</td>\n      <td>0.180382</td>\n      <td>0.264813</td>\n      <td>0.369938</td>\n      <td>0.449401</td>\n      <td>-0.011589</td>\n      <td>0.637432</td>\n      <td>0.323892</td>\n    </tr>\n    <tr>\n      <th>...</th>\n      <td>...</td>\n      <td>...</td>\n      <td>...</td>\n      <td>...</td>\n      <td>...</td>\n      <td>...</td>\n      <td>...</td>\n      <td>...</td>\n      <td>...</td>\n      <td>...</td>\n      <td>...</td>\n      <td>...</td>\n      <td>...</td>\n      <td>...</td>\n      <td>...</td>\n      <td>...</td>\n      <td>...</td>\n      <td>...</td>\n      <td>...</td>\n      <td>...</td>\n      <td>...</td>\n    </tr>\n    <tr>\n      <th>595</th>\n      <td>110.0</td>\n      <td>41</td>\n      <td>0</td>\n      <td>0</td>\n      <td>0.239704</td>\n      <td>0.334075</td>\n      <td>-0.133219</td>\n      <td>0.396904</td>\n      <td>0.218766</td>\n      <td>0.401353</td>\n      <td>...</td>\n      <td>0.868837</td>\n      <td>0.570910</td>\n      <td>0.411275</td>\n      <td>0.662582</td>\n      <td>0.576929</td>\n      <td>0.390116</td>\n      <td>0.636213</td>\n      <td>0.414633</td>\n      <td>0.584703</td>\n      <td>0.823124</td>\n    </tr>\n    <tr>\n      <th>596</th>\n      <td>120.0</td>\n      <td>64</td>\n      <td>0</td>\n      <td>0</td>\n      <td>0.082087</td>\n      <td>0.106322</td>\n      <td>-0.234501</td>\n      <td>-0.227719</td>\n      <td>-0.221337</td>\n      <td>0.428577</td>\n      <td>...</td>\n      <td>0.192933</td>\n      <td>-0.112865</td>\n      <td>0.101323</td>\n      <td>0.343547</td>\n      <td>0.358325</td>\n      <td>0.412704</td>\n      <td>0.412598</td>\n      <td>0.035520</td>\n      <td>-0.126774</td>\n      <td>0.412996</td>\n    </tr>\n    <tr>\n      <th>597</th>\n      <td>96.0</td>\n      <td>27</td>\n      <td>0</td>\n      <td>0</td>\n      <td>0.550363</td>\n      <td>-0.173623</td>\n      <td>-0.087052</td>\n      <td>-0.076264</td>\n      <td>-0.334513</td>\n      <td>0.005763</td>\n      <td>...</td>\n      <td>0.673816</td>\n      <td>0.309224</td>\n      <td>0.328117</td>\n      <td>0.451602</td>\n      <td>0.389896</td>\n      <td>0.261399</td>\n      <td>0.427783</td>\n      <td>0.504431</td>\n      <td>0.574561</td>\n      <td>0.499287</td>\n    </tr>\n    <tr>\n      <th>598</th>\n      <td>118.0</td>\n      <td>29</td>\n      <td>1</td>\n      <td>0</td>\n      <td>0.302419</td>\n      <td>0.042842</td>\n      <td>-0.557081</td>\n      <td>-0.029869</td>\n      <td>-0.165823</td>\n      <td>0.216248</td>\n      <td>...</td>\n      <td>0.168198</td>\n      <td>0.348409</td>\n      <td>-0.134313</td>\n      <td>0.081805</td>\n      <td>0.124225</td>\n      <td>-0.034212</td>\n      <td>-0.042134</td>\n      <td>0.136920</td>\n      <td>0.025787</td>\n      <td>-0.288578</td>\n    </tr>\n    <tr>\n      <th>599</th>\n      <td>110.0</td>\n      <td>26</td>\n      <td>0</td>\n      <td>0</td>\n      <td>0.297124</td>\n      <td>0.075646</td>\n      <td>-0.318396</td>\n      <td>-0.048918</td>\n      <td>0.141353</td>\n      <td>0.234284</td>\n      <td>...</td>\n      <td>0.606218</td>\n      <td>0.454123</td>\n      <td>0.211787</td>\n      <td>0.208022</td>\n      <td>0.403398</td>\n      <td>0.277017</td>\n      <td>0.310910</td>\n      <td>0.246480</td>\n      <td>0.317431</td>\n      <td>0.150887</td>\n    </tr>\n  </tbody>\n</table>\n<p>600 rows × 6674 columns</p>\n</div>"
     },
     "metadata": {},
     "execution_count": 140
    }
   ],
   "source": [
    "new_train"
   ]
  },
  {
   "cell_type": "code",
   "execution_count": 141,
   "metadata": {},
   "outputs": [
    {
     "output_type": "execute_result",
     "data": {
      "text/plain": [
       "y\n",
       "100.0    24\n",
       "113.0    20\n",
       "109.0    19\n",
       "119.0    18\n",
       "108.0    17\n",
       "         ..\n",
       "112.5     1\n",
       "114.5     1\n",
       "115.5     1\n",
       "121.5     1\n",
       "148.0     1\n",
       "Length: 99, dtype: int64"
      ]
     },
     "metadata": {},
     "execution_count": 141
    }
   ],
   "source": [
    "new_train.groupby('y').size().sort_values(ascending=False)"
   ]
  },
  {
   "cell_type": "code",
   "execution_count": 142,
   "metadata": {},
   "outputs": [],
   "source": [
    "new_train=new_train.groupby('y').mean().reset_index()"
   ]
  },
  {
   "cell_type": "code",
   "execution_count": 143,
   "metadata": {},
   "outputs": [
    {
     "output_type": "execute_result",
     "data": {
      "text/plain": [
       "        y  var1  var2  var3  ROI1-ROI2  ROI1-ROI3  ROI1-ROI4  ROI1-ROI5  \\\n",
       "0    41.0  16.0   0.0   0.0   0.351776   0.090320  -0.305664  -0.005851   \n",
       "1    65.0  38.0   0.0   0.0   0.111951  -0.126279  -0.334451  -0.097180   \n",
       "2    72.0  22.0   0.0   0.0   0.455979  -0.302877  -0.178960  -0.126947   \n",
       "3    73.0  15.0   0.0   1.0   0.464130  -0.177949  -0.228984   0.056070   \n",
       "4    75.0  15.0   0.0   0.0   0.648708   0.041617   0.422122   0.218517   \n",
       "..    ...   ...   ...   ...        ...        ...        ...        ...   \n",
       "94  141.0  15.0   0.0   0.0   0.450514  -0.176912  -0.289311   0.363313   \n",
       "95  142.0   9.0   0.0   0.5   0.045429  -0.047345  -0.230363   0.001688   \n",
       "96  144.0  10.0   0.0   1.0   0.614106   0.012456   0.162522   0.084736   \n",
       "97  147.5   9.0   0.0   0.0   0.584411  -0.183500  -0.094689  -0.250299   \n",
       "98  148.0   9.0   0.0   0.0  -0.115663   0.351149  -0.038836   0.223067   \n",
       "\n",
       "    ROI1-ROI6  ROI1-ROI7  ...  ROI112-ROI113  ROI112-ROI114  ROI112-ROI115  \\\n",
       "0   -0.375326   0.234046  ...       0.666318       0.125899       0.356821   \n",
       "1   -0.312959   0.108186  ...       0.126255       0.089658      -0.024179   \n",
       "2   -0.153894   0.184298  ...       0.753916       0.577743       0.159927   \n",
       "3    0.113570  -0.180182  ...       0.247080       0.418399       0.034812   \n",
       "4   -0.010028   0.198131  ...       0.251380       0.480733      -0.041561   \n",
       "..        ...        ...  ...            ...            ...            ...   \n",
       "94   0.028418  -0.204318  ...       0.585746       0.130304      -0.150247   \n",
       "95  -0.100862  -0.056084  ...       0.200299       0.135471       0.063377   \n",
       "96   0.017662   0.028986  ...       0.634226       0.076337      -0.089087   \n",
       "97  -0.145261  -0.207451  ...       0.367257       0.432392      -0.038554   \n",
       "98   0.004195   0.319957  ...       0.121728       0.318938       0.059053   \n",
       "\n",
       "    ROI112-ROI116  ROI113-ROI114  ROI113-ROI115  ROI113-ROI116  ROI114-ROI115  \\\n",
       "0        0.463306       0.429428       0.578428       0.541542       0.269060   \n",
       "1       -0.242846       0.271416       0.073239      -0.414840       0.315913   \n",
       "2        0.204075       0.736824       0.270574       0.343185       0.609286   \n",
       "3        0.043066       0.082793      -0.193372      -0.090236       0.336810   \n",
       "4       -0.119244       0.243030       0.092524       0.197212       0.302225   \n",
       "..            ...            ...            ...            ...            ...   \n",
       "94      -0.102222       0.030636      -0.053812      -0.117922       0.477598   \n",
       "95       0.174490       0.281196       0.383178       0.076434       0.463511   \n",
       "96       0.257749       0.160127      -0.181966       0.275674       0.311404   \n",
       "97       0.075890       0.380084      -0.211538      -0.136067       0.389767   \n",
       "98       0.149123       0.502167      -0.034922       0.009250       0.179169   \n",
       "\n",
       "    ROI114-ROI116  ROI115-ROI116  \n",
       "0        0.408063       0.503399  \n",
       "1        0.060164       0.253529  \n",
       "2        0.404955       0.418586  \n",
       "3        0.216084       0.011768  \n",
       "4        0.111809      -0.008902  \n",
       "..            ...            ...  \n",
       "94       0.278899       0.499614  \n",
       "95       0.146633       0.341687  \n",
       "96       0.187823       0.307101  \n",
       "97       0.278863       0.577098  \n",
       "98       0.015129       0.072416  \n",
       "\n",
       "[99 rows x 6674 columns]"
      ],
      "text/html": "<div>\n<style scoped>\n    .dataframe tbody tr th:only-of-type {\n        vertical-align: middle;\n    }\n\n    .dataframe tbody tr th {\n        vertical-align: top;\n    }\n\n    .dataframe thead th {\n        text-align: right;\n    }\n</style>\n<table border=\"1\" class=\"dataframe\">\n  <thead>\n    <tr style=\"text-align: right;\">\n      <th></th>\n      <th>y</th>\n      <th>var1</th>\n      <th>var2</th>\n      <th>var3</th>\n      <th>ROI1-ROI2</th>\n      <th>ROI1-ROI3</th>\n      <th>ROI1-ROI4</th>\n      <th>ROI1-ROI5</th>\n      <th>ROI1-ROI6</th>\n      <th>ROI1-ROI7</th>\n      <th>...</th>\n      <th>ROI112-ROI113</th>\n      <th>ROI112-ROI114</th>\n      <th>ROI112-ROI115</th>\n      <th>ROI112-ROI116</th>\n      <th>ROI113-ROI114</th>\n      <th>ROI113-ROI115</th>\n      <th>ROI113-ROI116</th>\n      <th>ROI114-ROI115</th>\n      <th>ROI114-ROI116</th>\n      <th>ROI115-ROI116</th>\n    </tr>\n  </thead>\n  <tbody>\n    <tr>\n      <th>0</th>\n      <td>41.0</td>\n      <td>16.0</td>\n      <td>0.0</td>\n      <td>0.0</td>\n      <td>0.351776</td>\n      <td>0.090320</td>\n      <td>-0.305664</td>\n      <td>-0.005851</td>\n      <td>-0.375326</td>\n      <td>0.234046</td>\n      <td>...</td>\n      <td>0.666318</td>\n      <td>0.125899</td>\n      <td>0.356821</td>\n      <td>0.463306</td>\n      <td>0.429428</td>\n      <td>0.578428</td>\n      <td>0.541542</td>\n      <td>0.269060</td>\n      <td>0.408063</td>\n      <td>0.503399</td>\n    </tr>\n    <tr>\n      <th>1</th>\n      <td>65.0</td>\n      <td>38.0</td>\n      <td>0.0</td>\n      <td>0.0</td>\n      <td>0.111951</td>\n      <td>-0.126279</td>\n      <td>-0.334451</td>\n      <td>-0.097180</td>\n      <td>-0.312959</td>\n      <td>0.108186</td>\n      <td>...</td>\n      <td>0.126255</td>\n      <td>0.089658</td>\n      <td>-0.024179</td>\n      <td>-0.242846</td>\n      <td>0.271416</td>\n      <td>0.073239</td>\n      <td>-0.414840</td>\n      <td>0.315913</td>\n      <td>0.060164</td>\n      <td>0.253529</td>\n    </tr>\n    <tr>\n      <th>2</th>\n      <td>72.0</td>\n      <td>22.0</td>\n      <td>0.0</td>\n      <td>0.0</td>\n      <td>0.455979</td>\n      <td>-0.302877</td>\n      <td>-0.178960</td>\n      <td>-0.126947</td>\n      <td>-0.153894</td>\n      <td>0.184298</td>\n      <td>...</td>\n      <td>0.753916</td>\n      <td>0.577743</td>\n      <td>0.159927</td>\n      <td>0.204075</td>\n      <td>0.736824</td>\n      <td>0.270574</td>\n      <td>0.343185</td>\n      <td>0.609286</td>\n      <td>0.404955</td>\n      <td>0.418586</td>\n    </tr>\n    <tr>\n      <th>3</th>\n      <td>73.0</td>\n      <td>15.0</td>\n      <td>0.0</td>\n      <td>1.0</td>\n      <td>0.464130</td>\n      <td>-0.177949</td>\n      <td>-0.228984</td>\n      <td>0.056070</td>\n      <td>0.113570</td>\n      <td>-0.180182</td>\n      <td>...</td>\n      <td>0.247080</td>\n      <td>0.418399</td>\n      <td>0.034812</td>\n      <td>0.043066</td>\n      <td>0.082793</td>\n      <td>-0.193372</td>\n      <td>-0.090236</td>\n      <td>0.336810</td>\n      <td>0.216084</td>\n      <td>0.011768</td>\n    </tr>\n    <tr>\n      <th>4</th>\n      <td>75.0</td>\n      <td>15.0</td>\n      <td>0.0</td>\n      <td>0.0</td>\n      <td>0.648708</td>\n      <td>0.041617</td>\n      <td>0.422122</td>\n      <td>0.218517</td>\n      <td>-0.010028</td>\n      <td>0.198131</td>\n      <td>...</td>\n      <td>0.251380</td>\n      <td>0.480733</td>\n      <td>-0.041561</td>\n      <td>-0.119244</td>\n      <td>0.243030</td>\n      <td>0.092524</td>\n      <td>0.197212</td>\n      <td>0.302225</td>\n      <td>0.111809</td>\n      <td>-0.008902</td>\n    </tr>\n    <tr>\n      <th>...</th>\n      <td>...</td>\n      <td>...</td>\n      <td>...</td>\n      <td>...</td>\n      <td>...</td>\n      <td>...</td>\n      <td>...</td>\n      <td>...</td>\n      <td>...</td>\n      <td>...</td>\n      <td>...</td>\n      <td>...</td>\n      <td>...</td>\n      <td>...</td>\n      <td>...</td>\n      <td>...</td>\n      <td>...</td>\n      <td>...</td>\n      <td>...</td>\n      <td>...</td>\n      <td>...</td>\n    </tr>\n    <tr>\n      <th>94</th>\n      <td>141.0</td>\n      <td>15.0</td>\n      <td>0.0</td>\n      <td>0.0</td>\n      <td>0.450514</td>\n      <td>-0.176912</td>\n      <td>-0.289311</td>\n      <td>0.363313</td>\n      <td>0.028418</td>\n      <td>-0.204318</td>\n      <td>...</td>\n      <td>0.585746</td>\n      <td>0.130304</td>\n      <td>-0.150247</td>\n      <td>-0.102222</td>\n      <td>0.030636</td>\n      <td>-0.053812</td>\n      <td>-0.117922</td>\n      <td>0.477598</td>\n      <td>0.278899</td>\n      <td>0.499614</td>\n    </tr>\n    <tr>\n      <th>95</th>\n      <td>142.0</td>\n      <td>9.0</td>\n      <td>0.0</td>\n      <td>0.5</td>\n      <td>0.045429</td>\n      <td>-0.047345</td>\n      <td>-0.230363</td>\n      <td>0.001688</td>\n      <td>-0.100862</td>\n      <td>-0.056084</td>\n      <td>...</td>\n      <td>0.200299</td>\n      <td>0.135471</td>\n      <td>0.063377</td>\n      <td>0.174490</td>\n      <td>0.281196</td>\n      <td>0.383178</td>\n      <td>0.076434</td>\n      <td>0.463511</td>\n      <td>0.146633</td>\n      <td>0.341687</td>\n    </tr>\n    <tr>\n      <th>96</th>\n      <td>144.0</td>\n      <td>10.0</td>\n      <td>0.0</td>\n      <td>1.0</td>\n      <td>0.614106</td>\n      <td>0.012456</td>\n      <td>0.162522</td>\n      <td>0.084736</td>\n      <td>0.017662</td>\n      <td>0.028986</td>\n      <td>...</td>\n      <td>0.634226</td>\n      <td>0.076337</td>\n      <td>-0.089087</td>\n      <td>0.257749</td>\n      <td>0.160127</td>\n      <td>-0.181966</td>\n      <td>0.275674</td>\n      <td>0.311404</td>\n      <td>0.187823</td>\n      <td>0.307101</td>\n    </tr>\n    <tr>\n      <th>97</th>\n      <td>147.5</td>\n      <td>9.0</td>\n      <td>0.0</td>\n      <td>0.0</td>\n      <td>0.584411</td>\n      <td>-0.183500</td>\n      <td>-0.094689</td>\n      <td>-0.250299</td>\n      <td>-0.145261</td>\n      <td>-0.207451</td>\n      <td>...</td>\n      <td>0.367257</td>\n      <td>0.432392</td>\n      <td>-0.038554</td>\n      <td>0.075890</td>\n      <td>0.380084</td>\n      <td>-0.211538</td>\n      <td>-0.136067</td>\n      <td>0.389767</td>\n      <td>0.278863</td>\n      <td>0.577098</td>\n    </tr>\n    <tr>\n      <th>98</th>\n      <td>148.0</td>\n      <td>9.0</td>\n      <td>0.0</td>\n      <td>0.0</td>\n      <td>-0.115663</td>\n      <td>0.351149</td>\n      <td>-0.038836</td>\n      <td>0.223067</td>\n      <td>0.004195</td>\n      <td>0.319957</td>\n      <td>...</td>\n      <td>0.121728</td>\n      <td>0.318938</td>\n      <td>0.059053</td>\n      <td>0.149123</td>\n      <td>0.502167</td>\n      <td>-0.034922</td>\n      <td>0.009250</td>\n      <td>0.179169</td>\n      <td>0.015129</td>\n      <td>0.072416</td>\n    </tr>\n  </tbody>\n</table>\n<p>99 rows × 6674 columns</p>\n</div>"
     },
     "metadata": {},
     "execution_count": 143
    }
   ],
   "source": [
    "new_train"
   ]
  },
  {
   "source": [
    "# Train"
   ],
   "cell_type": "markdown",
   "metadata": {}
  },
  {
   "source": [
    "## Linear Regession"
   ],
   "cell_type": "markdown",
   "metadata": {}
  },
  {
   "cell_type": "code",
   "execution_count": 156,
   "metadata": {},
   "outputs": [],
   "source": [
    "reg = LinearRegression()"
   ]
  },
  {
   "cell_type": "code",
   "execution_count": 219,
   "metadata": {},
   "outputs": [],
   "source": [
    "X_train, X_test, y_train, y_test = train_test_split(new_train.drop(columns='y'), new_train['y'], test_size=0.25, random_state=42)"
   ]
  },
  {
   "cell_type": "code",
   "execution_count": 158,
   "metadata": {},
   "outputs": [
    {
     "output_type": "execute_result",
     "data": {
      "text/plain": [
       "LinearRegression()"
      ]
     },
     "metadata": {},
     "execution_count": 158
    }
   ],
   "source": [
    "reg.fit(X_train,y_train)"
   ]
  },
  {
   "cell_type": "code",
   "execution_count": 159,
   "metadata": {},
   "outputs": [],
   "source": [
    "y_pred=reg.predict(X_test)"
   ]
  },
  {
   "cell_type": "code",
   "execution_count": 160,
   "metadata": {},
   "outputs": [
    {
     "output_type": "execute_result",
     "data": {
      "text/plain": [
       "22.49950442187678"
      ]
     },
     "metadata": {},
     "execution_count": 160
    }
   ],
   "source": [
    "mean_squared_error(y_test, y_pred,squared=False)"
   ]
  },
  {
   "source": [
    "## SVR"
   ],
   "cell_type": "markdown",
   "metadata": {}
  },
  {
   "cell_type": "code",
   "execution_count": 178,
   "metadata": {},
   "outputs": [],
   "source": [
    "params = [{'kernel' : ['poly'],\n",
    "        'C' : [1,5,10],\n",
    "        'degree' : [1,2,3,4]}]\n",
    "        #'coef0' : [0.01,10,0.5],\n",
    "        #'gamma' : ('auto','scale')}]\n"
   ]
  },
  {
   "cell_type": "code",
   "execution_count": 179,
   "metadata": {},
   "outputs": [
    {
     "output_type": "stream",
     "name": "stdout",
     "text": [
      "Fitting 3 folds for each of 12 candidates, totalling 36 fits\n"
     ]
    },
    {
     "output_type": "execute_result",
     "data": {
      "text/plain": [
       "GridSearchCV(cv=3, estimator=SVR(), n_jobs=-1,\n",
       "             param_grid=[{'C': [1, 5, 10], 'degree': [1, 2, 3, 4],\n",
       "                          'kernel': ['poly']}],\n",
       "             verbose=5)"
      ]
     },
     "metadata": {},
     "execution_count": 179
    }
   ],
   "source": [
    "svr_reg=SVR()\n",
    "grids = GridSearchCV(svr_reg,params,cv=3,verbose=5,n_jobs=-1)\n",
    "grids.fit(X_train,y_train)\n"
   ]
  },
  {
   "cell_type": "code",
   "execution_count": 180,
   "metadata": {},
   "outputs": [
    {
     "output_type": "execute_result",
     "data": {
      "text/plain": [
       "{'C': 1, 'degree': 1, 'kernel': 'poly'}"
      ]
     },
     "metadata": {},
     "execution_count": 180
    }
   ],
   "source": [
    "grids.best_params_"
   ]
  },
  {
   "cell_type": "code",
   "execution_count": 181,
   "metadata": {},
   "outputs": [],
   "source": [
    "y_pred=grids.predict(X_test)"
   ]
  },
  {
   "cell_type": "code",
   "execution_count": 182,
   "metadata": {},
   "outputs": [
    {
     "output_type": "execute_result",
     "data": {
      "text/plain": [
       "23.623789334589283"
      ]
     },
     "metadata": {},
     "execution_count": 182
    }
   ],
   "source": [
    "mean_squared_error(y_test, y_pred,squared=False)"
   ]
  },
  {
   "cell_type": "code",
   "execution_count": 203,
   "metadata": {},
   "outputs": [
    {
     "output_type": "execute_result",
     "data": {
      "text/plain": [
       "SVR(C=1, degree=1, kernel='poly')"
      ]
     },
     "metadata": {},
     "execution_count": 203
    }
   ],
   "source": [
    "#retrain on all dataset\n",
    "svr_reg=SVR(C=1, degree= 1, kernel= 'poly')\n",
    "svr_reg.fit(new_train.drop(columns='y'),new_train['y'])"
   ]
  },
  {
   "cell_type": "code",
   "execution_count": null,
   "metadata": {},
   "outputs": [],
   "source": []
  },
  {
   "cell_type": "code",
   "execution_count": 184,
   "metadata": {},
   "outputs": [
    {
     "output_type": "execute_result",
     "data": {
      "text/plain": [
       "<matplotlib.collections.PathCollection at 0x189bd6647f0>"
      ]
     },
     "metadata": {},
     "execution_count": 184
    },
    {
     "output_type": "display_data",
     "data": {
      "text/plain": "<Figure size 432x288 with 1 Axes>",
      "image/svg+xml": "<?xml version=\"1.0\" encoding=\"utf-8\" standalone=\"no\"?>\r\n<!DOCTYPE svg PUBLIC \"-//W3C//DTD SVG 1.1//EN\"\r\n  \"http://www.w3.org/Graphics/SVG/1.1/DTD/svg11.dtd\">\r\n<svg height=\"248.518125pt\" version=\"1.1\" viewBox=\"0 0 377.304687 248.518125\" width=\"377.304687pt\" xmlns=\"http://www.w3.org/2000/svg\" xmlns:xlink=\"http://www.w3.org/1999/xlink\">\r\n <metadata>\r\n  <rdf:RDF xmlns:cc=\"http://creativecommons.org/ns#\" xmlns:dc=\"http://purl.org/dc/elements/1.1/\" xmlns:rdf=\"http://www.w3.org/1999/02/22-rdf-syntax-ns#\">\r\n   <cc:Work>\r\n    <dc:type rdf:resource=\"http://purl.org/dc/dcmitype/StillImage\"/>\r\n    <dc:date>2021-06-28T17:05:09.298415</dc:date>\r\n    <dc:format>image/svg+xml</dc:format>\r\n    <dc:creator>\r\n     <cc:Agent>\r\n      <dc:title>Matplotlib v3.4.1, https://matplotlib.org/</dc:title>\r\n     </cc:Agent>\r\n    </dc:creator>\r\n   </cc:Work>\r\n  </rdf:RDF>\r\n </metadata>\r\n <defs>\r\n  <style type=\"text/css\">*{stroke-linecap:butt;stroke-linejoin:round;}</style>\r\n </defs>\r\n <g id=\"figure_1\">\r\n  <g id=\"patch_1\">\r\n   <path d=\"M 0 248.518125 \r\nL 377.304687 248.518125 \r\nL 377.304687 0 \r\nL 0 0 \r\nz\r\n\" style=\"fill:none;\"/>\r\n  </g>\r\n  <g id=\"axes_1\">\r\n   <g id=\"patch_2\">\r\n    <path d=\"M 35.304688 224.64 \r\nL 370.104688 224.64 \r\nL 370.104688 7.2 \r\nL 35.304688 7.2 \r\nz\r\n\" style=\"fill:#ffffff;\"/>\r\n   </g>\r\n   <g id=\"PathCollection_1\">\r\n    <defs>\r\n     <path d=\"M 0 3 \r\nC 0.795609 3 1.55874 2.683901 2.12132 2.12132 \r\nC 2.683901 1.55874 3 0.795609 3 0 \r\nC 3 -0.795609 2.683901 -1.55874 2.12132 -2.12132 \r\nC 1.55874 -2.683901 0.795609 -3 0 -3 \r\nC -0.795609 -3 -1.55874 -2.683901 -2.12132 -2.12132 \r\nC -2.683901 -1.55874 -3 -0.795609 -3 0 \r\nC -3 0.795609 -2.683901 1.55874 -2.12132 2.12132 \r\nC -1.55874 2.683901 -0.795609 3 0 3 \r\nz\r\n\" id=\"m02ef1a5ca3\" style=\"stroke:#1f77b4;\"/>\r\n    </defs>\r\n    <g clip-path=\"url(#pdf218f9a11)\">\r\n     <use style=\"fill:#1f77b4;stroke:#1f77b4;\" x=\"263.434521\" xlink:href=\"#m02ef1a5ca3\" y=\"77.132018\"/>\r\n     <use style=\"fill:#1f77b4;stroke:#1f77b4;\" x=\"229.140027\" xlink:href=\"#m02ef1a5ca3\" y=\"99.206321\"/>\r\n     <use style=\"fill:#1f77b4;stroke:#1f77b4;\" x=\"339.168196\" xlink:href=\"#m02ef1a5ca3\" y=\"27.497515\"/>\r\n     <use style=\"fill:#1f77b4;stroke:#1f77b4;\" x=\"184.842972\" xlink:href=\"#m02ef1a5ca3\" y=\"127.330605\"/>\r\n     <use style=\"fill:#1f77b4;stroke:#1f77b4;\" x=\"354.886506\" xlink:href=\"#m02ef1a5ca3\" y=\"17.083636\"/>\r\n     <use style=\"fill:#1f77b4;stroke:#1f77b4;\" x=\"307.731576\" xlink:href=\"#m02ef1a5ca3\" y=\"48.118705\"/>\r\n     <use style=\"fill:#1f77b4;stroke:#1f77b4;\" x=\"267.721333\" xlink:href=\"#m02ef1a5ca3\" y=\"74.474429\"/>\r\n     <use style=\"fill:#1f77b4;stroke:#1f77b4;\" x=\"231.997901\" xlink:href=\"#m02ef1a5ca3\" y=\"97.247962\"/>\r\n     <use style=\"fill:#1f77b4;stroke:#1f77b4;\" x=\"161.979976\" xlink:href=\"#m02ef1a5ca3\" y=\"142.960116\"/>\r\n     <use style=\"fill:#1f77b4;stroke:#1f77b4;\" x=\"50.522869\" xlink:href=\"#m02ef1a5ca3\" y=\"214.756364\"/>\r\n     <use style=\"fill:#1f77b4;stroke:#1f77b4;\" x=\"209.134905\" xlink:href=\"#m02ef1a5ca3\" y=\"111.955667\"/>\r\n     <use style=\"fill:#1f77b4;stroke:#1f77b4;\" x=\"290.584329\" xlink:href=\"#m02ef1a5ca3\" y=\"59.472191\"/>\r\n     <use style=\"fill:#1f77b4;stroke:#1f77b4;\" x=\"240.571525\" xlink:href=\"#m02ef1a5ca3\" y=\"91.336391\"/>\r\n     <use style=\"fill:#1f77b4;stroke:#1f77b4;\" x=\"199.132344\" xlink:href=\"#m02ef1a5ca3\" y=\"118.639786\"/>\r\n     <use style=\"fill:#1f77b4;stroke:#1f77b4;\" x=\"236.284713\" xlink:href=\"#m02ef1a5ca3\" y=\"94.743302\"/>\r\n     <use style=\"fill:#1f77b4;stroke:#1f77b4;\" x=\"147.690603\" xlink:href=\"#m02ef1a5ca3\" y=\"152.359967\"/>\r\n     <use style=\"fill:#1f77b4;stroke:#1f77b4;\" x=\"191.987658\" xlink:href=\"#m02ef1a5ca3\" y=\"123.123446\"/>\r\n     <use style=\"fill:#1f77b4;stroke:#1f77b4;\" x=\"166.266787\" xlink:href=\"#m02ef1a5ca3\" y=\"139.401583\"/>\r\n     <use style=\"fill:#1f77b4;stroke:#1f77b4;\" x=\"316.3052\" xlink:href=\"#m02ef1a5ca3\" y=\"43.027364\"/>\r\n     <use style=\"fill:#1f77b4;stroke:#1f77b4;\" x=\"286.297517\" xlink:href=\"#m02ef1a5ca3\" y=\"61.659002\"/>\r\n     <use style=\"fill:#1f77b4;stroke:#1f77b4;\" x=\"243.429399\" xlink:href=\"#m02ef1a5ca3\" y=\"90.027351\"/>\r\n     <use style=\"fill:#1f77b4;stroke:#1f77b4;\" x=\"280.581768\" xlink:href=\"#m02ef1a5ca3\" y=\"65.907126\"/>\r\n     <use style=\"fill:#1f77b4;stroke:#1f77b4;\" x=\"276.294956\" xlink:href=\"#m02ef1a5ca3\" y=\"69.74645\"/>\r\n     <use style=\"fill:#1f77b4;stroke:#1f77b4;\" x=\"176.269348\" xlink:href=\"#m02ef1a5ca3\" y=\"133.266465\"/>\r\n     <use style=\"fill:#1f77b4;stroke:#1f77b4;\" x=\"227.71109\" xlink:href=\"#m02ef1a5ca3\" y=\"100.223519\"/>\r\n    </g>\r\n   </g>\r\n   <g id=\"matplotlib.axis_1\">\r\n    <g id=\"xtick_1\">\r\n     <g id=\"line2d_1\">\r\n      <defs>\r\n       <path d=\"M 0 0 \r\nL 0 3.5 \r\n\" id=\"m77abb6261f\" style=\"stroke:#000000;stroke-width:0.8;\"/>\r\n      </defs>\r\n      <g>\r\n       <use style=\"stroke:#000000;stroke-width:0.8;\" x=\"47.664995\" xlink:href=\"#m77abb6261f\" y=\"224.64\"/>\r\n      </g>\r\n     </g>\r\n     <g id=\"text_1\">\r\n      <!-- 40 -->\r\n      <g transform=\"translate(41.302495 239.238437)scale(0.1 -0.1)\">\r\n       <defs>\r\n        <path d=\"M 2419 4116 \r\nL 825 1625 \r\nL 2419 1625 \r\nL 2419 4116 \r\nz\r\nM 2253 4666 \r\nL 3047 4666 \r\nL 3047 1625 \r\nL 3713 1625 \r\nL 3713 1100 \r\nL 3047 1100 \r\nL 3047 0 \r\nL 2419 0 \r\nL 2419 1100 \r\nL 313 1100 \r\nL 313 1709 \r\nL 2253 4666 \r\nz\r\n\" id=\"DejaVuSans-34\" transform=\"scale(0.015625)\"/>\r\n        <path d=\"M 2034 4250 \r\nQ 1547 4250 1301 3770 \r\nQ 1056 3291 1056 2328 \r\nQ 1056 1369 1301 889 \r\nQ 1547 409 2034 409 \r\nQ 2525 409 2770 889 \r\nQ 3016 1369 3016 2328 \r\nQ 3016 3291 2770 3770 \r\nQ 2525 4250 2034 4250 \r\nz\r\nM 2034 4750 \r\nQ 2819 4750 3233 4129 \r\nQ 3647 3509 3647 2328 \r\nQ 3647 1150 3233 529 \r\nQ 2819 -91 2034 -91 \r\nQ 1250 -91 836 529 \r\nQ 422 1150 422 2328 \r\nQ 422 3509 836 4129 \r\nQ 1250 4750 2034 4750 \r\nz\r\n\" id=\"DejaVuSans-30\" transform=\"scale(0.015625)\"/>\r\n       </defs>\r\n       <use xlink:href=\"#DejaVuSans-34\"/>\r\n       <use x=\"63.623047\" xlink:href=\"#DejaVuSans-30\"/>\r\n      </g>\r\n     </g>\r\n    </g>\r\n    <g id=\"xtick_2\">\r\n     <g id=\"line2d_2\">\r\n      <g>\r\n       <use style=\"stroke:#000000;stroke-width:0.8;\" x=\"104.822485\" xlink:href=\"#m77abb6261f\" y=\"224.64\"/>\r\n      </g>\r\n     </g>\r\n     <g id=\"text_2\">\r\n      <!-- 60 -->\r\n      <g transform=\"translate(98.459985 239.238437)scale(0.1 -0.1)\">\r\n       <defs>\r\n        <path d=\"M 2113 2584 \r\nQ 1688 2584 1439 2293 \r\nQ 1191 2003 1191 1497 \r\nQ 1191 994 1439 701 \r\nQ 1688 409 2113 409 \r\nQ 2538 409 2786 701 \r\nQ 3034 994 3034 1497 \r\nQ 3034 2003 2786 2293 \r\nQ 2538 2584 2113 2584 \r\nz\r\nM 3366 4563 \r\nL 3366 3988 \r\nQ 3128 4100 2886 4159 \r\nQ 2644 4219 2406 4219 \r\nQ 1781 4219 1451 3797 \r\nQ 1122 3375 1075 2522 \r\nQ 1259 2794 1537 2939 \r\nQ 1816 3084 2150 3084 \r\nQ 2853 3084 3261 2657 \r\nQ 3669 2231 3669 1497 \r\nQ 3669 778 3244 343 \r\nQ 2819 -91 2113 -91 \r\nQ 1303 -91 875 529 \r\nQ 447 1150 447 2328 \r\nQ 447 3434 972 4092 \r\nQ 1497 4750 2381 4750 \r\nQ 2619 4750 2861 4703 \r\nQ 3103 4656 3366 4563 \r\nz\r\n\" id=\"DejaVuSans-36\" transform=\"scale(0.015625)\"/>\r\n       </defs>\r\n       <use xlink:href=\"#DejaVuSans-36\"/>\r\n       <use x=\"63.623047\" xlink:href=\"#DejaVuSans-30\"/>\r\n      </g>\r\n     </g>\r\n    </g>\r\n    <g id=\"xtick_3\">\r\n     <g id=\"line2d_3\">\r\n      <g>\r\n       <use style=\"stroke:#000000;stroke-width:0.8;\" x=\"161.979976\" xlink:href=\"#m77abb6261f\" y=\"224.64\"/>\r\n      </g>\r\n     </g>\r\n     <g id=\"text_3\">\r\n      <!-- 80 -->\r\n      <g transform=\"translate(155.617476 239.238437)scale(0.1 -0.1)\">\r\n       <defs>\r\n        <path d=\"M 2034 2216 \r\nQ 1584 2216 1326 1975 \r\nQ 1069 1734 1069 1313 \r\nQ 1069 891 1326 650 \r\nQ 1584 409 2034 409 \r\nQ 2484 409 2743 651 \r\nQ 3003 894 3003 1313 \r\nQ 3003 1734 2745 1975 \r\nQ 2488 2216 2034 2216 \r\nz\r\nM 1403 2484 \r\nQ 997 2584 770 2862 \r\nQ 544 3141 544 3541 \r\nQ 544 4100 942 4425 \r\nQ 1341 4750 2034 4750 \r\nQ 2731 4750 3128 4425 \r\nQ 3525 4100 3525 3541 \r\nQ 3525 3141 3298 2862 \r\nQ 3072 2584 2669 2484 \r\nQ 3125 2378 3379 2068 \r\nQ 3634 1759 3634 1313 \r\nQ 3634 634 3220 271 \r\nQ 2806 -91 2034 -91 \r\nQ 1263 -91 848 271 \r\nQ 434 634 434 1313 \r\nQ 434 1759 690 2068 \r\nQ 947 2378 1403 2484 \r\nz\r\nM 1172 3481 \r\nQ 1172 3119 1398 2916 \r\nQ 1625 2713 2034 2713 \r\nQ 2441 2713 2670 2916 \r\nQ 2900 3119 2900 3481 \r\nQ 2900 3844 2670 4047 \r\nQ 2441 4250 2034 4250 \r\nQ 1625 4250 1398 4047 \r\nQ 1172 3844 1172 3481 \r\nz\r\n\" id=\"DejaVuSans-38\" transform=\"scale(0.015625)\"/>\r\n       </defs>\r\n       <use xlink:href=\"#DejaVuSans-38\"/>\r\n       <use x=\"63.623047\" xlink:href=\"#DejaVuSans-30\"/>\r\n      </g>\r\n     </g>\r\n    </g>\r\n    <g id=\"xtick_4\">\r\n     <g id=\"line2d_4\">\r\n      <g>\r\n       <use style=\"stroke:#000000;stroke-width:0.8;\" x=\"219.137466\" xlink:href=\"#m77abb6261f\" y=\"224.64\"/>\r\n      </g>\r\n     </g>\r\n     <g id=\"text_4\">\r\n      <!-- 100 -->\r\n      <g transform=\"translate(209.593716 239.238437)scale(0.1 -0.1)\">\r\n       <defs>\r\n        <path d=\"M 794 531 \r\nL 1825 531 \r\nL 1825 4091 \r\nL 703 3866 \r\nL 703 4441 \r\nL 1819 4666 \r\nL 2450 4666 \r\nL 2450 531 \r\nL 3481 531 \r\nL 3481 0 \r\nL 794 0 \r\nL 794 531 \r\nz\r\n\" id=\"DejaVuSans-31\" transform=\"scale(0.015625)\"/>\r\n       </defs>\r\n       <use xlink:href=\"#DejaVuSans-31\"/>\r\n       <use x=\"63.623047\" xlink:href=\"#DejaVuSans-30\"/>\r\n       <use x=\"127.246094\" xlink:href=\"#DejaVuSans-30\"/>\r\n      </g>\r\n     </g>\r\n    </g>\r\n    <g id=\"xtick_5\">\r\n     <g id=\"line2d_5\">\r\n      <g>\r\n       <use style=\"stroke:#000000;stroke-width:0.8;\" x=\"276.294956\" xlink:href=\"#m77abb6261f\" y=\"224.64\"/>\r\n      </g>\r\n     </g>\r\n     <g id=\"text_5\">\r\n      <!-- 120 -->\r\n      <g transform=\"translate(266.751206 239.238437)scale(0.1 -0.1)\">\r\n       <defs>\r\n        <path d=\"M 1228 531 \r\nL 3431 531 \r\nL 3431 0 \r\nL 469 0 \r\nL 469 531 \r\nQ 828 903 1448 1529 \r\nQ 2069 2156 2228 2338 \r\nQ 2531 2678 2651 2914 \r\nQ 2772 3150 2772 3378 \r\nQ 2772 3750 2511 3984 \r\nQ 2250 4219 1831 4219 \r\nQ 1534 4219 1204 4116 \r\nQ 875 4013 500 3803 \r\nL 500 4441 \r\nQ 881 4594 1212 4672 \r\nQ 1544 4750 1819 4750 \r\nQ 2544 4750 2975 4387 \r\nQ 3406 4025 3406 3419 \r\nQ 3406 3131 3298 2873 \r\nQ 3191 2616 2906 2266 \r\nQ 2828 2175 2409 1742 \r\nQ 1991 1309 1228 531 \r\nz\r\n\" id=\"DejaVuSans-32\" transform=\"scale(0.015625)\"/>\r\n       </defs>\r\n       <use xlink:href=\"#DejaVuSans-31\"/>\r\n       <use x=\"63.623047\" xlink:href=\"#DejaVuSans-32\"/>\r\n       <use x=\"127.246094\" xlink:href=\"#DejaVuSans-30\"/>\r\n      </g>\r\n     </g>\r\n    </g>\r\n    <g id=\"xtick_6\">\r\n     <g id=\"line2d_6\">\r\n      <g>\r\n       <use style=\"stroke:#000000;stroke-width:0.8;\" x=\"333.452447\" xlink:href=\"#m77abb6261f\" y=\"224.64\"/>\r\n      </g>\r\n     </g>\r\n     <g id=\"text_6\">\r\n      <!-- 140 -->\r\n      <g transform=\"translate(323.908697 239.238437)scale(0.1 -0.1)\">\r\n       <use xlink:href=\"#DejaVuSans-31\"/>\r\n       <use x=\"63.623047\" xlink:href=\"#DejaVuSans-34\"/>\r\n       <use x=\"127.246094\" xlink:href=\"#DejaVuSans-30\"/>\r\n      </g>\r\n     </g>\r\n    </g>\r\n   </g>\r\n   <g id=\"matplotlib.axis_2\">\r\n    <g id=\"ytick_1\">\r\n     <g id=\"line2d_7\">\r\n      <defs>\r\n       <path d=\"M 0 0 \r\nL -3.5 0 \r\n\" id=\"mf05849f60c\" style=\"stroke:#000000;stroke-width:0.8;\"/>\r\n      </defs>\r\n      <g>\r\n       <use style=\"stroke:#000000;stroke-width:0.8;\" x=\"35.304688\" xlink:href=\"#mf05849f60c\" y=\"198.415476\"/>\r\n      </g>\r\n     </g>\r\n     <g id=\"text_7\">\r\n      <!-- −60 -->\r\n      <g transform=\"translate(7.2 202.214695)scale(0.1 -0.1)\">\r\n       <defs>\r\n        <path d=\"M 678 2272 \r\nL 4684 2272 \r\nL 4684 1741 \r\nL 678 1741 \r\nL 678 2272 \r\nz\r\n\" id=\"DejaVuSans-2212\" transform=\"scale(0.015625)\"/>\r\n       </defs>\r\n       <use xlink:href=\"#DejaVuSans-2212\"/>\r\n       <use x=\"83.789062\" xlink:href=\"#DejaVuSans-36\"/>\r\n       <use x=\"147.412109\" xlink:href=\"#DejaVuSans-30\"/>\r\n      </g>\r\n     </g>\r\n    </g>\r\n    <g id=\"ytick_2\">\r\n     <g id=\"line2d_8\">\r\n      <g>\r\n       <use style=\"stroke:#000000;stroke-width:0.8;\" x=\"35.304688\" xlink:href=\"#mf05849f60c\" y=\"161.389011\"/>\r\n      </g>\r\n     </g>\r\n     <g id=\"text_8\">\r\n      <!-- −40 -->\r\n      <g transform=\"translate(7.2 165.18823)scale(0.1 -0.1)\">\r\n       <use xlink:href=\"#DejaVuSans-2212\"/>\r\n       <use x=\"83.789062\" xlink:href=\"#DejaVuSans-34\"/>\r\n       <use x=\"147.412109\" xlink:href=\"#DejaVuSans-30\"/>\r\n      </g>\r\n     </g>\r\n    </g>\r\n    <g id=\"ytick_3\">\r\n     <g id=\"line2d_9\">\r\n      <g>\r\n       <use style=\"stroke:#000000;stroke-width:0.8;\" x=\"35.304688\" xlink:href=\"#mf05849f60c\" y=\"124.362546\"/>\r\n      </g>\r\n     </g>\r\n     <g id=\"text_9\">\r\n      <!-- −20 -->\r\n      <g transform=\"translate(7.2 128.161764)scale(0.1 -0.1)\">\r\n       <use xlink:href=\"#DejaVuSans-2212\"/>\r\n       <use x=\"83.789062\" xlink:href=\"#DejaVuSans-32\"/>\r\n       <use x=\"147.412109\" xlink:href=\"#DejaVuSans-30\"/>\r\n      </g>\r\n     </g>\r\n    </g>\r\n    <g id=\"ytick_4\">\r\n     <g id=\"line2d_10\">\r\n      <g>\r\n       <use style=\"stroke:#000000;stroke-width:0.8;\" x=\"35.304688\" xlink:href=\"#mf05849f60c\" y=\"87.33608\"/>\r\n      </g>\r\n     </g>\r\n     <g id=\"text_10\">\r\n      <!-- 0 -->\r\n      <g transform=\"translate(21.942188 91.135299)scale(0.1 -0.1)\">\r\n       <use xlink:href=\"#DejaVuSans-30\"/>\r\n      </g>\r\n     </g>\r\n    </g>\r\n    <g id=\"ytick_5\">\r\n     <g id=\"line2d_11\">\r\n      <g>\r\n       <use style=\"stroke:#000000;stroke-width:0.8;\" x=\"35.304688\" xlink:href=\"#mf05849f60c\" y=\"50.309615\"/>\r\n      </g>\r\n     </g>\r\n     <g id=\"text_11\">\r\n      <!-- 20 -->\r\n      <g transform=\"translate(15.579688 54.108834)scale(0.1 -0.1)\">\r\n       <use xlink:href=\"#DejaVuSans-32\"/>\r\n       <use x=\"63.623047\" xlink:href=\"#DejaVuSans-30\"/>\r\n      </g>\r\n     </g>\r\n    </g>\r\n    <g id=\"ytick_6\">\r\n     <g id=\"line2d_12\">\r\n      <g>\r\n       <use style=\"stroke:#000000;stroke-width:0.8;\" x=\"35.304688\" xlink:href=\"#mf05849f60c\" y=\"13.28315\"/>\r\n      </g>\r\n     </g>\r\n     <g id=\"text_12\">\r\n      <!-- 40 -->\r\n      <g transform=\"translate(15.579688 17.082368)scale(0.1 -0.1)\">\r\n       <use xlink:href=\"#DejaVuSans-34\"/>\r\n       <use x=\"63.623047\" xlink:href=\"#DejaVuSans-30\"/>\r\n      </g>\r\n     </g>\r\n    </g>\r\n   </g>\r\n   <g id=\"patch_3\">\r\n    <path d=\"M 35.304688 224.64 \r\nL 35.304688 7.2 \r\n\" style=\"fill:none;stroke:#000000;stroke-linecap:square;stroke-linejoin:miter;stroke-width:0.8;\"/>\r\n   </g>\r\n   <g id=\"patch_4\">\r\n    <path d=\"M 370.104688 224.64 \r\nL 370.104688 7.2 \r\n\" style=\"fill:none;stroke:#000000;stroke-linecap:square;stroke-linejoin:miter;stroke-width:0.8;\"/>\r\n   </g>\r\n   <g id=\"patch_5\">\r\n    <path d=\"M 35.304688 224.64 \r\nL 370.104688 224.64 \r\n\" style=\"fill:none;stroke:#000000;stroke-linecap:square;stroke-linejoin:miter;stroke-width:0.8;\"/>\r\n   </g>\r\n   <g id=\"patch_6\">\r\n    <path d=\"M 35.304688 7.2 \r\nL 370.104688 7.2 \r\n\" style=\"fill:none;stroke:#000000;stroke-linecap:square;stroke-linejoin:miter;stroke-width:0.8;\"/>\r\n   </g>\r\n  </g>\r\n </g>\r\n <defs>\r\n  <clipPath id=\"pdf218f9a11\">\r\n   <rect height=\"217.44\" width=\"334.8\" x=\"35.304688\" y=\"7.2\"/>\r\n  </clipPath>\r\n </defs>\r\n</svg>\r\n",
      "image/png": "[encoded data removed]"
     },
     "metadata": {
      "needs_background": "light"
     }
    }
   ],
   "source": [
    "plt.scatter(y_test,y_test-y_pred,)"
   ]
  },
  {
   "cell_type": "code",
   "execution_count": 98,
   "metadata": {},
   "outputs": [],
   "source": [
    "y_pred=svr_reg.predict(X_test)"
   ]
  },
  {
   "cell_type": "code",
   "execution_count": 99,
   "metadata": {},
   "outputs": [
    {
     "output_type": "execute_result",
     "data": {
      "text/plain": [
       "23.125987548671535"
      ]
     },
     "metadata": {},
     "execution_count": 99
    }
   ],
   "source": [
    "mean_squared_error(y_test, y_pred,squared=False)"
   ]
  },
  {
   "cell_type": "code",
   "execution_count": 185,
   "metadata": {},
   "outputs": [
    {
     "output_type": "stream",
     "name": "stdout",
     "text": [
      "23.53706018033769\n"
     ]
    }
   ],
   "source": [
    "svr_reg_poly=SVR(kernel='poly',degree=2)\n",
    "svr_reg_poly.fit(X_train,y_train)\n",
    "y_pred=svr_reg_poly.predict(X_test)\n",
    "print(mean_squared_error(y_test, y_pred,squared=False))"
   ]
  },
  {
   "cell_type": "code",
   "execution_count": 59,
   "metadata": {},
   "outputs": [
    {
     "output_type": "execute_result",
     "data": {
      "text/plain": [
       "SVR(degree=2, kernel='poly')"
      ]
     },
     "metadata": {},
     "execution_count": 59
    }
   ],
   "source": [
    "svr_reg_poly.fit(new_train.drop(columns='y'),new_train['y'])"
   ]
  },
  {
   "source": [
    "## K-neigbors regression"
   ],
   "cell_type": "markdown",
   "metadata": {}
  },
  {
   "cell_type": "code",
   "execution_count": null,
   "metadata": {},
   "outputs": [],
   "source": []
  },
  {
   "cell_type": "code",
   "execution_count": 186,
   "metadata": {},
   "outputs": [],
   "source": [
    "from sklearn.neighbors import KNeighborsRegressor"
   ]
  },
  {
   "cell_type": "code",
   "execution_count": 187,
   "metadata": {},
   "outputs": [
    {
     "output_type": "stream",
     "name": "stdout",
     "text": [
      "30 23.921971401422184\n",
      "31 23.901508063828814\n",
      "32 23.740910220910465\n",
      "33 23.403373106943356\n",
      "34 23.39343733342889\n",
      "35 23.42010847517405\n",
      "36 23.419242585896022\n",
      "37 23.191144793280046\n",
      "38 23.1607567006584\n",
      "39 23.306664949225418\n",
      "40 23.39421270181323\n",
      "41 23.47987947504297\n",
      "42 23.490200531689602\n",
      "43 23.439731632038836\n",
      "44 23.264180615004022\n"
     ]
    }
   ],
   "source": [
    "for k in range(30,45):\n",
    "    neigh = KNeighborsRegressor(n_neighbors=k,weights='distance').fit(X_train, y_train)\n",
    "    y_pred=neigh.predict(X_test)\n",
    "    print(k,mean_squared_error(y_test, y_pred,squared=False))"
   ]
  },
  {
   "cell_type": "code",
   "execution_count": 91,
   "metadata": {},
   "outputs": [],
   "source": [
    "neigh = KNeighborsRegressor(n_neighbors=33,weights='distance',p=2).fit(X_train, y_train)"
   ]
  },
  {
   "cell_type": "code",
   "execution_count": 92,
   "metadata": {},
   "outputs": [],
   "source": [
    "y_pred=neigh.predict(X_test)"
   ]
  },
  {
   "cell_type": "code",
   "execution_count": 93,
   "metadata": {},
   "outputs": [
    {
     "output_type": "execute_result",
     "data": {
      "text/plain": [
       "23.426081939166934"
      ]
     },
     "metadata": {},
     "execution_count": 93
    }
   ],
   "source": [
    "mean_squared_error(y_test, y_pred,squared=False)"
   ]
  },
  {
   "cell_type": "code",
   "execution_count": 94,
   "metadata": {},
   "outputs": [],
   "source": [
    "neigh = KNeighborsRegressor(n_neighbors=33,weights='distance',p=2).fit(new_train.drop(columns='y'),new_train['y'])"
   ]
  },
  {
   "cell_type": "code",
   "execution_count": 95,
   "metadata": {},
   "outputs": [],
   "source": [
    "y_pred=neigh.predict(X_test)"
   ]
  },
  {
   "cell_type": "code",
   "execution_count": 96,
   "metadata": {},
   "outputs": [
    {
     "output_type": "execute_result",
     "data": {
      "text/plain": [
       "2.2936900216481114e-05"
      ]
     },
     "metadata": {},
     "execution_count": 96
    }
   ],
   "source": [
    "mean_squared_error(y_test, y_pred,squared=False)"
   ]
  },
  {
   "source": [
    "## Elastic net"
   ],
   "cell_type": "markdown",
   "metadata": {}
  },
  {
   "cell_type": "code",
   "execution_count": 220,
   "metadata": {},
   "outputs": [
    {
     "output_type": "execute_result",
     "data": {
      "text/plain": [
       "ElasticNetCV(cv=3, random_state=0)"
      ]
     },
     "metadata": {},
     "execution_count": 220
    }
   ],
   "source": [
    "from sklearn.linear_model import ElasticNetCV\n",
    "\n",
    "regr = ElasticNetCV(cv=3, random_state=0)\n",
    "\n",
    "regr.fit(X_train,y_train)\n"
   ]
  },
  {
   "cell_type": "code",
   "execution_count": 221,
   "metadata": {},
   "outputs": [],
   "source": [
    "y_pred=regr.predict(X_test)"
   ]
  },
  {
   "cell_type": "code",
   "execution_count": 222,
   "metadata": {},
   "outputs": [
    {
     "output_type": "execute_result",
     "data": {
      "text/plain": [
       "15.200695629313545"
      ]
     },
     "metadata": {},
     "execution_count": 222
    }
   ],
   "source": [
    "mean_squared_error(y_test, y_pred,squared=False)"
   ]
  },
  {
   "source": [
    "# Test "
   ],
   "cell_type": "markdown",
   "metadata": {}
  },
  {
   "cell_type": "code",
   "execution_count": 188,
   "metadata": {},
   "outputs": [],
   "source": [
    "test_df=pd.read_csv('./Data/test.csv')"
   ]
  },
  {
   "cell_type": "code",
   "execution_count": 189,
   "metadata": {},
   "outputs": [
    {
     "output_type": "execute_result",
     "data": {
      "text/plain": [
       "      id  var1 var2 var3   t1_2001   t2_2001   t3_2001   t4_2001   t5_2001  \\\n",
       "0     17    32    A    A -0.350440 -0.222368  0.023356  0.243820  0.307884   \n",
       "1     19    11    C    A -0.637826 -0.626851 -0.360784  0.030366  0.336757   \n",
       "2     25    17    A    C -0.012941 -0.104797 -0.236863 -0.323248 -0.289526   \n",
       "3     32    17    A    C  0.090513  0.210141  0.258353  0.176808 -0.021250   \n",
       "4     33    16    A    C  0.020757  0.004422  0.048168  0.217449  0.499191   \n",
       "..   ...   ...  ...  ...       ...       ...       ...       ...       ...   \n",
       "194  777    20    A    C  0.196767  0.279578  0.269504  0.142366 -0.050581   \n",
       "195  783    24    A    C  0.166928  0.062544 -0.064816 -0.223924 -0.397589   \n",
       "196  784    24    A    C  0.467909  0.601598  0.466428  0.064870 -0.453154   \n",
       "197  792    29    C    C  0.158687  0.187958  0.187666  0.168700  0.137513   \n",
       "198  796    35    A    A -0.236773 -0.267845 -0.108305  0.141632  0.310586   \n",
       "\n",
       "      t6_2001  ...  t106_9170  t107_9170  t108_9170  t109_9170  t110_9170  \\\n",
       "0    0.181462  ...  -0.249206  -0.299956  -0.230605  -0.002176   0.307232   \n",
       "1    0.405507  ...   0.747080   1.451542   1.888522   1.843617   1.353949   \n",
       "2   -0.127867  ...  -2.263840  -2.082246  -1.299818  -0.087112   1.200546   \n",
       "3   -0.246477  ...  -2.662342  -1.246634   0.756969   2.115026   2.007031   \n",
       "4    0.774152  ...   0.000000   0.000000   0.000000   0.000000   0.000000   \n",
       "..        ...  ...        ...        ...        ...        ...        ...   \n",
       "194 -0.192273  ...   1.501500   0.315651  -0.438466  -0.390447   0.203565   \n",
       "195 -0.477872  ...   0.998999   2.150780   1.765160   0.167519  -1.398137   \n",
       "196 -0.874220  ...   4.963199   1.800244  -2.997877  -5.256964  -2.305884   \n",
       "197  0.109296  ...  -2.660509  -1.084989   0.932748   2.014907   1.678764   \n",
       "198  0.313349  ...   0.010158   0.408345  -0.480362  -1.950726  -2.116528   \n",
       "\n",
       "     t111_9170  t112_9170  t113_9170  t114_9170  t115_9170  \n",
       "0     0.574038   0.719488   0.739103   0.657216   0.466077  \n",
       "1     0.721757   0.341038   0.461075   1.052172   1.853388  \n",
       "2     2.217524   2.777598   2.863644   2.528300   1.804936  \n",
       "3     0.606600  -1.034530  -1.731524  -1.012911   0.541681  \n",
       "4     0.000000   0.000000   0.000000   0.000000   0.000000  \n",
       "..         ...        ...        ...        ...        ...  \n",
       "194   1.092143   1.984272   2.303799   1.587597   0.184648  \n",
       "195  -2.035133  -1.780128  -1.156148  -0.511489   0.100604  \n",
       "196   3.395893   5.967640   2.081252  -5.207866  -9.263192  \n",
       "197   0.401733  -0.877058  -1.297012  -0.560106   0.733061  \n",
       "198  -0.442166   1.441936   1.849335   1.124896   0.849227  \n",
       "\n",
       "[199 rows x 13344 columns]"
      ],
      "text/html": "<div>\n<style scoped>\n    .dataframe tbody tr th:only-of-type {\n        vertical-align: middle;\n    }\n\n    .dataframe tbody tr th {\n        vertical-align: top;\n    }\n\n    .dataframe thead th {\n        text-align: right;\n    }\n</style>\n<table border=\"1\" class=\"dataframe\">\n  <thead>\n    <tr style=\"text-align: right;\">\n      <th></th>\n      <th>id</th>\n      <th>var1</th>\n      <th>var2</th>\n      <th>var3</th>\n      <th>t1_2001</th>\n      <th>t2_2001</th>\n      <th>t3_2001</th>\n      <th>t4_2001</th>\n      <th>t5_2001</th>\n      <th>t6_2001</th>\n      <th>...</th>\n      <th>t106_9170</th>\n      <th>t107_9170</th>\n      <th>t108_9170</th>\n      <th>t109_9170</th>\n      <th>t110_9170</th>\n      <th>t111_9170</th>\n      <th>t112_9170</th>\n      <th>t113_9170</th>\n      <th>t114_9170</th>\n      <th>t115_9170</th>\n    </tr>\n  </thead>\n  <tbody>\n    <tr>\n      <th>0</th>\n      <td>17</td>\n      <td>32</td>\n      <td>A</td>\n      <td>A</td>\n      <td>-0.350440</td>\n      <td>-0.222368</td>\n      <td>0.023356</td>\n      <td>0.243820</td>\n      <td>0.307884</td>\n      <td>0.181462</td>\n      <td>...</td>\n      <td>-0.249206</td>\n      <td>-0.299956</td>\n      <td>-0.230605</td>\n      <td>-0.002176</td>\n      <td>0.307232</td>\n      <td>0.574038</td>\n      <td>0.719488</td>\n      <td>0.739103</td>\n      <td>0.657216</td>\n      <td>0.466077</td>\n    </tr>\n    <tr>\n      <th>1</th>\n      <td>19</td>\n      <td>11</td>\n      <td>C</td>\n      <td>A</td>\n      <td>-0.637826</td>\n      <td>-0.626851</td>\n      <td>-0.360784</td>\n      <td>0.030366</td>\n      <td>0.336757</td>\n      <td>0.405507</td>\n      <td>...</td>\n      <td>0.747080</td>\n      <td>1.451542</td>\n      <td>1.888522</td>\n      <td>1.843617</td>\n      <td>1.353949</td>\n      <td>0.721757</td>\n      <td>0.341038</td>\n      <td>0.461075</td>\n      <td>1.052172</td>\n      <td>1.853388</td>\n    </tr>\n    <tr>\n      <th>2</th>\n      <td>25</td>\n      <td>17</td>\n      <td>A</td>\n      <td>C</td>\n      <td>-0.012941</td>\n      <td>-0.104797</td>\n      <td>-0.236863</td>\n      <td>-0.323248</td>\n      <td>-0.289526</td>\n      <td>-0.127867</td>\n      <td>...</td>\n      <td>-2.263840</td>\n      <td>-2.082246</td>\n      <td>-1.299818</td>\n      <td>-0.087112</td>\n      <td>1.200546</td>\n      <td>2.217524</td>\n      <td>2.777598</td>\n      <td>2.863644</td>\n      <td>2.528300</td>\n      <td>1.804936</td>\n    </tr>\n    <tr>\n      <th>3</th>\n      <td>32</td>\n      <td>17</td>\n      <td>A</td>\n      <td>C</td>\n      <td>0.090513</td>\n      <td>0.210141</td>\n      <td>0.258353</td>\n      <td>0.176808</td>\n      <td>-0.021250</td>\n      <td>-0.246477</td>\n      <td>...</td>\n      <td>-2.662342</td>\n      <td>-1.246634</td>\n      <td>0.756969</td>\n      <td>2.115026</td>\n      <td>2.007031</td>\n      <td>0.606600</td>\n      <td>-1.034530</td>\n      <td>-1.731524</td>\n      <td>-1.012911</td>\n      <td>0.541681</td>\n    </tr>\n    <tr>\n      <th>4</th>\n      <td>33</td>\n      <td>16</td>\n      <td>A</td>\n      <td>C</td>\n      <td>0.020757</td>\n      <td>0.004422</td>\n      <td>0.048168</td>\n      <td>0.217449</td>\n      <td>0.499191</td>\n      <td>0.774152</td>\n      <td>...</td>\n      <td>0.000000</td>\n      <td>0.000000</td>\n      <td>0.000000</td>\n      <td>0.000000</td>\n      <td>0.000000</td>\n      <td>0.000000</td>\n      <td>0.000000</td>\n      <td>0.000000</td>\n      <td>0.000000</td>\n      <td>0.000000</td>\n    </tr>\n    <tr>\n      <th>...</th>\n      <td>...</td>\n      <td>...</td>\n      <td>...</td>\n      <td>...</td>\n      <td>...</td>\n      <td>...</td>\n      <td>...</td>\n      <td>...</td>\n      <td>...</td>\n      <td>...</td>\n      <td>...</td>\n      <td>...</td>\n      <td>...</td>\n      <td>...</td>\n      <td>...</td>\n      <td>...</td>\n      <td>...</td>\n      <td>...</td>\n      <td>...</td>\n      <td>...</td>\n      <td>...</td>\n    </tr>\n    <tr>\n      <th>194</th>\n      <td>777</td>\n      <td>20</td>\n      <td>A</td>\n      <td>C</td>\n      <td>0.196767</td>\n      <td>0.279578</td>\n      <td>0.269504</td>\n      <td>0.142366</td>\n      <td>-0.050581</td>\n      <td>-0.192273</td>\n      <td>...</td>\n      <td>1.501500</td>\n      <td>0.315651</td>\n      <td>-0.438466</td>\n      <td>-0.390447</td>\n      <td>0.203565</td>\n      <td>1.092143</td>\n      <td>1.984272</td>\n      <td>2.303799</td>\n      <td>1.587597</td>\n      <td>0.184648</td>\n    </tr>\n    <tr>\n      <th>195</th>\n      <td>783</td>\n      <td>24</td>\n      <td>A</td>\n      <td>C</td>\n      <td>0.166928</td>\n      <td>0.062544</td>\n      <td>-0.064816</td>\n      <td>-0.223924</td>\n      <td>-0.397589</td>\n      <td>-0.477872</td>\n      <td>...</td>\n      <td>0.998999</td>\n      <td>2.150780</td>\n      <td>1.765160</td>\n      <td>0.167519</td>\n      <td>-1.398137</td>\n      <td>-2.035133</td>\n      <td>-1.780128</td>\n      <td>-1.156148</td>\n      <td>-0.511489</td>\n      <td>0.100604</td>\n    </tr>\n    <tr>\n      <th>196</th>\n      <td>784</td>\n      <td>24</td>\n      <td>A</td>\n      <td>C</td>\n      <td>0.467909</td>\n      <td>0.601598</td>\n      <td>0.466428</td>\n      <td>0.064870</td>\n      <td>-0.453154</td>\n      <td>-0.874220</td>\n      <td>...</td>\n      <td>4.963199</td>\n      <td>1.800244</td>\n      <td>-2.997877</td>\n      <td>-5.256964</td>\n      <td>-2.305884</td>\n      <td>3.395893</td>\n      <td>5.967640</td>\n      <td>2.081252</td>\n      <td>-5.207866</td>\n      <td>-9.263192</td>\n    </tr>\n    <tr>\n      <th>197</th>\n      <td>792</td>\n      <td>29</td>\n      <td>C</td>\n      <td>C</td>\n      <td>0.158687</td>\n      <td>0.187958</td>\n      <td>0.187666</td>\n      <td>0.168700</td>\n      <td>0.137513</td>\n      <td>0.109296</td>\n      <td>...</td>\n      <td>-2.660509</td>\n      <td>-1.084989</td>\n      <td>0.932748</td>\n      <td>2.014907</td>\n      <td>1.678764</td>\n      <td>0.401733</td>\n      <td>-0.877058</td>\n      <td>-1.297012</td>\n      <td>-0.560106</td>\n      <td>0.733061</td>\n    </tr>\n    <tr>\n      <th>198</th>\n      <td>796</td>\n      <td>35</td>\n      <td>A</td>\n      <td>A</td>\n      <td>-0.236773</td>\n      <td>-0.267845</td>\n      <td>-0.108305</td>\n      <td>0.141632</td>\n      <td>0.310586</td>\n      <td>0.313349</td>\n      <td>...</td>\n      <td>0.010158</td>\n      <td>0.408345</td>\n      <td>-0.480362</td>\n      <td>-1.950726</td>\n      <td>-2.116528</td>\n      <td>-0.442166</td>\n      <td>1.441936</td>\n      <td>1.849335</td>\n      <td>1.124896</td>\n      <td>0.849227</td>\n    </tr>\n  </tbody>\n</table>\n<p>199 rows × 13344 columns</p>\n</div>"
     },
     "metadata": {},
     "execution_count": 189
    }
   ],
   "source": [
    "test_df"
   ]
  },
  {
   "cell_type": "code",
   "execution_count": 190,
   "metadata": {},
   "outputs": [
    {
     "output_type": "stream",
     "name": "stderr",
     "text": [
      "  1%|          | 1/199 [00:00<00:56,  3.52it/s]C:\\Users\\Nicola\\AppData\\Local\\Programs\\Python\\Python39\\lib\\site-packages\\numpy\\lib\\function_base.py:2642: RuntimeWarning: invalid value encountered in true_divide\n",
      "  c /= stddev[:, None]\n",
      "C:\\Users\\Nicola\\AppData\\Local\\Programs\\Python\\Python39\\lib\\site-packages\\numpy\\lib\\function_base.py:2643: RuntimeWarning: invalid value encountered in true_divide\n",
      "  c /= stddev[None, :]\n",
      "100%|██████████| 199/199 [00:04<00:00, 49.66it/s]\n"
     ]
    }
   ],
   "source": [
    "corr_test=test_df.progress_apply(lambda row:get_corr(row,test=True),axis=1)"
   ]
  },
  {
   "cell_type": "code",
   "execution_count": 191,
   "metadata": {},
   "outputs": [],
   "source": [
    "test_final_df=pd.DataFrame(np.array(corr_test.values.tolist()),columns=columns).fillna(0)"
   ]
  },
  {
   "cell_type": "code",
   "execution_count": 107,
   "metadata": {},
   "outputs": [],
   "source": [
    "#normalized_corr_df_test=(test_final_df-test_final_df.mean())/test_final_df.std()"
   ]
  },
  {
   "cell_type": "code",
   "execution_count": 108,
   "metadata": {},
   "outputs": [
    {
     "output_type": "execute_result",
     "data": {
      "text/plain": [
       "     ROI1-ROI2  ROI1-ROI3  ROI1-ROI4  ROI1-ROI5  ROI1-ROI6  ROI1-ROI7  \\\n",
       "0     0.574820  -0.184674   0.335784  -0.433897  -0.314960   0.121238   \n",
       "1     0.459187   0.091974  -0.012738   0.018270  -0.144327   0.286588   \n",
       "2     0.318010   0.118248  -0.275287   0.067088   0.031507  -0.158764   \n",
       "3     0.405577  -0.424435  -0.260486  -0.053301   0.118364  -0.187334   \n",
       "4     0.531680   0.145877  -0.131794   0.361544   0.015393   0.055204   \n",
       "..         ...        ...        ...        ...        ...        ...   \n",
       "194   0.217994   0.204179  -0.118850   0.250223   0.456717  -0.195145   \n",
       "195   0.465376   0.038288  -0.065834  -0.123540  -0.223827   0.372467   \n",
       "196   0.320433  -0.058686  -0.264435  -0.292921  -0.012648  -0.363793   \n",
       "197   0.550265  -0.386250  -0.283560   0.059427   0.095853  -0.092002   \n",
       "198   0.447044  -0.015609   0.000369  -0.003614  -0.022943   0.049551   \n",
       "\n",
       "     ROI1-ROI8  ROI1-ROI9  ROI1-ROI10  ROI1-ROI11  ...  ROI112-ROI113  \\\n",
       "0    -0.304749  -0.360175   -0.213842    0.592588  ...       0.188771   \n",
       "1    -0.024430   0.003806   -0.102631   -0.192910  ...       0.395746   \n",
       "2    -0.122662   0.233291    0.070906    0.441458  ...       0.656703   \n",
       "3    -0.161422  -0.307382   -0.090365    0.439814  ...       0.560449   \n",
       "4    -0.210112   0.204085    0.027663    0.721721  ...       0.003357   \n",
       "..         ...        ...         ...         ...  ...            ...   \n",
       "194  -0.325952  -0.053743   -0.012564    0.794479  ...       0.218118   \n",
       "195  -0.039882  -0.101934   -0.115844    0.628183  ...       0.453787   \n",
       "196  -0.426708   0.040388   -0.286963    0.561433  ...       0.072454   \n",
       "197   0.283123   0.147292   -0.060154    0.400976  ...       0.114647   \n",
       "198  -0.308286   0.024050   -0.128347    0.187289  ...       0.718296   \n",
       "\n",
       "     ROI112-ROI114  ROI112-ROI115  ROI112-ROI116  ROI113-ROI114  \\\n",
       "0         0.237508       0.273457       0.225723      -0.060189   \n",
       "1        -0.245494       0.173441       0.203784      -0.069734   \n",
       "2         0.428289       0.123900       0.090384       0.504827   \n",
       "3         0.255396      -0.304971      -0.070677       0.186580   \n",
       "4         0.000000       0.000000       0.000000       0.000000   \n",
       "..             ...            ...            ...            ...   \n",
       "194       0.021160       0.018531       0.039184      -0.006917   \n",
       "195       0.121769       0.407962       0.322393       0.502507   \n",
       "196      -0.090642       0.058275       0.047026       0.451872   \n",
       "197       0.535039       0.289765       0.529971       0.317849   \n",
       "198       0.152719      -0.237177       0.161192       0.332678   \n",
       "\n",
       "     ROI113-ROI115  ROI113-ROI116  ROI114-ROI115  ROI114-ROI116  ROI115-ROI116  \n",
       "0         0.135940      -0.068397       0.239504       0.221618      -0.186755  \n",
       "1         0.214056       0.230202       0.037493       0.031108       0.125471  \n",
       "2         0.382075       0.136943       0.402817       0.237602       0.293227  \n",
       "3        -0.116094       0.077223       0.041814      -0.004182       0.266954  \n",
       "4         0.000000       0.000000       0.000000       0.000000       0.000000  \n",
       "..             ...            ...            ...            ...            ...  \n",
       "194      -0.157338      -0.094451       0.751545       0.652086       0.765714  \n",
       "195       0.234785       0.260871       0.272752       0.113825       0.565614  \n",
       "196       0.040126       0.278858       0.593402       0.321660       0.652692  \n",
       "197       0.188834      -0.064073       0.547437       0.426339       0.495522  \n",
       "198      -0.231984       0.114105       0.023730       0.069423       0.278818  \n",
       "\n",
       "[199 rows x 6670 columns]"
      ],
      "text/html": "<div>\n<style scoped>\n    .dataframe tbody tr th:only-of-type {\n        vertical-align: middle;\n    }\n\n    .dataframe tbody tr th {\n        vertical-align: top;\n    }\n\n    .dataframe thead th {\n        text-align: right;\n    }\n</style>\n<table border=\"1\" class=\"dataframe\">\n  <thead>\n    <tr style=\"text-align: right;\">\n      <th></th>\n      <th>ROI1-ROI2</th>\n      <th>ROI1-ROI3</th>\n      <th>ROI1-ROI4</th>\n      <th>ROI1-ROI5</th>\n      <th>ROI1-ROI6</th>\n      <th>ROI1-ROI7</th>\n      <th>ROI1-ROI8</th>\n      <th>ROI1-ROI9</th>\n      <th>ROI1-ROI10</th>\n      <th>ROI1-ROI11</th>\n      <th>...</th>\n      <th>ROI112-ROI113</th>\n      <th>ROI112-ROI114</th>\n      <th>ROI112-ROI115</th>\n      <th>ROI112-ROI116</th>\n      <th>ROI113-ROI114</th>\n      <th>ROI113-ROI115</th>\n      <th>ROI113-ROI116</th>\n      <th>ROI114-ROI115</th>\n      <th>ROI114-ROI116</th>\n      <th>ROI115-ROI116</th>\n    </tr>\n  </thead>\n  <tbody>\n    <tr>\n      <th>0</th>\n      <td>0.574820</td>\n      <td>-0.184674</td>\n      <td>0.335784</td>\n      <td>-0.433897</td>\n      <td>-0.314960</td>\n      <td>0.121238</td>\n      <td>-0.304749</td>\n      <td>-0.360175</td>\n      <td>-0.213842</td>\n      <td>0.592588</td>\n      <td>...</td>\n      <td>0.188771</td>\n      <td>0.237508</td>\n      <td>0.273457</td>\n      <td>0.225723</td>\n      <td>-0.060189</td>\n      <td>0.135940</td>\n      <td>-0.068397</td>\n      <td>0.239504</td>\n      <td>0.221618</td>\n      <td>-0.186755</td>\n    </tr>\n    <tr>\n      <th>1</th>\n      <td>0.459187</td>\n      <td>0.091974</td>\n      <td>-0.012738</td>\n      <td>0.018270</td>\n      <td>-0.144327</td>\n      <td>0.286588</td>\n      <td>-0.024430</td>\n      <td>0.003806</td>\n      <td>-0.102631</td>\n      <td>-0.192910</td>\n      <td>...</td>\n      <td>0.395746</td>\n      <td>-0.245494</td>\n      <td>0.173441</td>\n      <td>0.203784</td>\n      <td>-0.069734</td>\n      <td>0.214056</td>\n      <td>0.230202</td>\n      <td>0.037493</td>\n      <td>0.031108</td>\n      <td>0.125471</td>\n    </tr>\n    <tr>\n      <th>2</th>\n      <td>0.318010</td>\n      <td>0.118248</td>\n      <td>-0.275287</td>\n      <td>0.067088</td>\n      <td>0.031507</td>\n      <td>-0.158764</td>\n      <td>-0.122662</td>\n      <td>0.233291</td>\n      <td>0.070906</td>\n      <td>0.441458</td>\n      <td>...</td>\n      <td>0.656703</td>\n      <td>0.428289</td>\n      <td>0.123900</td>\n      <td>0.090384</td>\n      <td>0.504827</td>\n      <td>0.382075</td>\n      <td>0.136943</td>\n      <td>0.402817</td>\n      <td>0.237602</td>\n      <td>0.293227</td>\n    </tr>\n    <tr>\n      <th>3</th>\n      <td>0.405577</td>\n      <td>-0.424435</td>\n      <td>-0.260486</td>\n      <td>-0.053301</td>\n      <td>0.118364</td>\n      <td>-0.187334</td>\n      <td>-0.161422</td>\n      <td>-0.307382</td>\n      <td>-0.090365</td>\n      <td>0.439814</td>\n      <td>...</td>\n      <td>0.560449</td>\n      <td>0.255396</td>\n      <td>-0.304971</td>\n      <td>-0.070677</td>\n      <td>0.186580</td>\n      <td>-0.116094</td>\n      <td>0.077223</td>\n      <td>0.041814</td>\n      <td>-0.004182</td>\n      <td>0.266954</td>\n    </tr>\n    <tr>\n      <th>4</th>\n      <td>0.531680</td>\n      <td>0.145877</td>\n      <td>-0.131794</td>\n      <td>0.361544</td>\n      <td>0.015393</td>\n      <td>0.055204</td>\n      <td>-0.210112</td>\n      <td>0.204085</td>\n      <td>0.027663</td>\n      <td>0.721721</td>\n      <td>...</td>\n      <td>0.003357</td>\n      <td>0.000000</td>\n      <td>0.000000</td>\n      <td>0.000000</td>\n      <td>0.000000</td>\n      <td>0.000000</td>\n      <td>0.000000</td>\n      <td>0.000000</td>\n      <td>0.000000</td>\n      <td>0.000000</td>\n    </tr>\n    <tr>\n      <th>...</th>\n      <td>...</td>\n      <td>...</td>\n      <td>...</td>\n      <td>...</td>\n      <td>...</td>\n      <td>...</td>\n      <td>...</td>\n      <td>...</td>\n      <td>...</td>\n      <td>...</td>\n      <td>...</td>\n      <td>...</td>\n      <td>...</td>\n      <td>...</td>\n      <td>...</td>\n      <td>...</td>\n      <td>...</td>\n      <td>...</td>\n      <td>...</td>\n      <td>...</td>\n      <td>...</td>\n    </tr>\n    <tr>\n      <th>194</th>\n      <td>0.217994</td>\n      <td>0.204179</td>\n      <td>-0.118850</td>\n      <td>0.250223</td>\n      <td>0.456717</td>\n      <td>-0.195145</td>\n      <td>-0.325952</td>\n      <td>-0.053743</td>\n      <td>-0.012564</td>\n      <td>0.794479</td>\n      <td>...</td>\n      <td>0.218118</td>\n      <td>0.021160</td>\n      <td>0.018531</td>\n      <td>0.039184</td>\n      <td>-0.006917</td>\n      <td>-0.157338</td>\n      <td>-0.094451</td>\n      <td>0.751545</td>\n      <td>0.652086</td>\n      <td>0.765714</td>\n    </tr>\n    <tr>\n      <th>195</th>\n      <td>0.465376</td>\n      <td>0.038288</td>\n      <td>-0.065834</td>\n      <td>-0.123540</td>\n      <td>-0.223827</td>\n      <td>0.372467</td>\n      <td>-0.039882</td>\n      <td>-0.101934</td>\n      <td>-0.115844</td>\n      <td>0.628183</td>\n      <td>...</td>\n      <td>0.453787</td>\n      <td>0.121769</td>\n      <td>0.407962</td>\n      <td>0.322393</td>\n      <td>0.502507</td>\n      <td>0.234785</td>\n      <td>0.260871</td>\n      <td>0.272752</td>\n      <td>0.113825</td>\n      <td>0.565614</td>\n    </tr>\n    <tr>\n      <th>196</th>\n      <td>0.320433</td>\n      <td>-0.058686</td>\n      <td>-0.264435</td>\n      <td>-0.292921</td>\n      <td>-0.012648</td>\n      <td>-0.363793</td>\n      <td>-0.426708</td>\n      <td>0.040388</td>\n      <td>-0.286963</td>\n      <td>0.561433</td>\n      <td>...</td>\n      <td>0.072454</td>\n      <td>-0.090642</td>\n      <td>0.058275</td>\n      <td>0.047026</td>\n      <td>0.451872</td>\n      <td>0.040126</td>\n      <td>0.278858</td>\n      <td>0.593402</td>\n      <td>0.321660</td>\n      <td>0.652692</td>\n    </tr>\n    <tr>\n      <th>197</th>\n      <td>0.550265</td>\n      <td>-0.386250</td>\n      <td>-0.283560</td>\n      <td>0.059427</td>\n      <td>0.095853</td>\n      <td>-0.092002</td>\n      <td>0.283123</td>\n      <td>0.147292</td>\n      <td>-0.060154</td>\n      <td>0.400976</td>\n      <td>...</td>\n      <td>0.114647</td>\n      <td>0.535039</td>\n      <td>0.289765</td>\n      <td>0.529971</td>\n      <td>0.317849</td>\n      <td>0.188834</td>\n      <td>-0.064073</td>\n      <td>0.547437</td>\n      <td>0.426339</td>\n      <td>0.495522</td>\n    </tr>\n    <tr>\n      <th>198</th>\n      <td>0.447044</td>\n      <td>-0.015609</td>\n      <td>0.000369</td>\n      <td>-0.003614</td>\n      <td>-0.022943</td>\n      <td>0.049551</td>\n      <td>-0.308286</td>\n      <td>0.024050</td>\n      <td>-0.128347</td>\n      <td>0.187289</td>\n      <td>...</td>\n      <td>0.718296</td>\n      <td>0.152719</td>\n      <td>-0.237177</td>\n      <td>0.161192</td>\n      <td>0.332678</td>\n      <td>-0.231984</td>\n      <td>0.114105</td>\n      <td>0.023730</td>\n      <td>0.069423</td>\n      <td>0.278818</td>\n    </tr>\n  </tbody>\n</table>\n<p>199 rows × 6670 columns</p>\n</div>"
     },
     "metadata": {},
     "execution_count": 108
    }
   ],
   "source": [
    "test_final_df"
   ]
  },
  {
   "cell_type": "code",
   "execution_count": 109,
   "metadata": {},
   "outputs": [
    {
     "output_type": "execute_result",
     "data": {
      "text/plain": [
       "      id  var1 var2 var3   t1_2001   t2_2001   t3_2001   t4_2001   t5_2001  \\\n",
       "0     17    32    A    A -0.350440 -0.222368  0.023356  0.243820  0.307884   \n",
       "1     19    11    C    A -0.637826 -0.626851 -0.360784  0.030366  0.336757   \n",
       "2     25    17    A    C -0.012941 -0.104797 -0.236863 -0.323248 -0.289526   \n",
       "3     32    17    A    C  0.090513  0.210141  0.258353  0.176808 -0.021250   \n",
       "4     33    16    A    C  0.020757  0.004422  0.048168  0.217449  0.499191   \n",
       "..   ...   ...  ...  ...       ...       ...       ...       ...       ...   \n",
       "194  777    20    A    C  0.196767  0.279578  0.269504  0.142366 -0.050581   \n",
       "195  783    24    A    C  0.166928  0.062544 -0.064816 -0.223924 -0.397589   \n",
       "196  784    24    A    C  0.467909  0.601598  0.466428  0.064870 -0.453154   \n",
       "197  792    29    C    C  0.158687  0.187958  0.187666  0.168700  0.137513   \n",
       "198  796    35    A    A -0.236773 -0.267845 -0.108305  0.141632  0.310586   \n",
       "\n",
       "      t6_2001  ...  t106_9170  t107_9170  t108_9170  t109_9170  t110_9170  \\\n",
       "0    0.181462  ...  -0.249206  -0.299956  -0.230605  -0.002176   0.307232   \n",
       "1    0.405507  ...   0.747080   1.451542   1.888522   1.843617   1.353949   \n",
       "2   -0.127867  ...  -2.263840  -2.082246  -1.299818  -0.087112   1.200546   \n",
       "3   -0.246477  ...  -2.662342  -1.246634   0.756969   2.115026   2.007031   \n",
       "4    0.774152  ...   0.000000   0.000000   0.000000   0.000000   0.000000   \n",
       "..        ...  ...        ...        ...        ...        ...        ...   \n",
       "194 -0.192273  ...   1.501500   0.315651  -0.438466  -0.390447   0.203565   \n",
       "195 -0.477872  ...   0.998999   2.150780   1.765160   0.167519  -1.398137   \n",
       "196 -0.874220  ...   4.963199   1.800244  -2.997877  -5.256964  -2.305884   \n",
       "197  0.109296  ...  -2.660509  -1.084989   0.932748   2.014907   1.678764   \n",
       "198  0.313349  ...   0.010158   0.408345  -0.480362  -1.950726  -2.116528   \n",
       "\n",
       "     t111_9170  t112_9170  t113_9170  t114_9170  t115_9170  \n",
       "0     0.574038   0.719488   0.739103   0.657216   0.466077  \n",
       "1     0.721757   0.341038   0.461075   1.052172   1.853388  \n",
       "2     2.217524   2.777598   2.863644   2.528300   1.804936  \n",
       "3     0.606600  -1.034530  -1.731524  -1.012911   0.541681  \n",
       "4     0.000000   0.000000   0.000000   0.000000   0.000000  \n",
       "..         ...        ...        ...        ...        ...  \n",
       "194   1.092143   1.984272   2.303799   1.587597   0.184648  \n",
       "195  -2.035133  -1.780128  -1.156148  -0.511489   0.100604  \n",
       "196   3.395893   5.967640   2.081252  -5.207866  -9.263192  \n",
       "197   0.401733  -0.877058  -1.297012  -0.560106   0.733061  \n",
       "198  -0.442166   1.441936   1.849335   1.124896   0.849227  \n",
       "\n",
       "[199 rows x 13344 columns]"
      ],
      "text/html": "<div>\n<style scoped>\n    .dataframe tbody tr th:only-of-type {\n        vertical-align: middle;\n    }\n\n    .dataframe tbody tr th {\n        vertical-align: top;\n    }\n\n    .dataframe thead th {\n        text-align: right;\n    }\n</style>\n<table border=\"1\" class=\"dataframe\">\n  <thead>\n    <tr style=\"text-align: right;\">\n      <th></th>\n      <th>id</th>\n      <th>var1</th>\n      <th>var2</th>\n      <th>var3</th>\n      <th>t1_2001</th>\n      <th>t2_2001</th>\n      <th>t3_2001</th>\n      <th>t4_2001</th>\n      <th>t5_2001</th>\n      <th>t6_2001</th>\n      <th>...</th>\n      <th>t106_9170</th>\n      <th>t107_9170</th>\n      <th>t108_9170</th>\n      <th>t109_9170</th>\n      <th>t110_9170</th>\n      <th>t111_9170</th>\n      <th>t112_9170</th>\n      <th>t113_9170</th>\n      <th>t114_9170</th>\n      <th>t115_9170</th>\n    </tr>\n  </thead>\n  <tbody>\n    <tr>\n      <th>0</th>\n      <td>17</td>\n      <td>32</td>\n      <td>A</td>\n      <td>A</td>\n      <td>-0.350440</td>\n      <td>-0.222368</td>\n      <td>0.023356</td>\n      <td>0.243820</td>\n      <td>0.307884</td>\n      <td>0.181462</td>\n      <td>...</td>\n      <td>-0.249206</td>\n      <td>-0.299956</td>\n      <td>-0.230605</td>\n      <td>-0.002176</td>\n      <td>0.307232</td>\n      <td>0.574038</td>\n      <td>0.719488</td>\n      <td>0.739103</td>\n      <td>0.657216</td>\n      <td>0.466077</td>\n    </tr>\n    <tr>\n      <th>1</th>\n      <td>19</td>\n      <td>11</td>\n      <td>C</td>\n      <td>A</td>\n      <td>-0.637826</td>\n      <td>-0.626851</td>\n      <td>-0.360784</td>\n      <td>0.030366</td>\n      <td>0.336757</td>\n      <td>0.405507</td>\n      <td>...</td>\n      <td>0.747080</td>\n      <td>1.451542</td>\n      <td>1.888522</td>\n      <td>1.843617</td>\n      <td>1.353949</td>\n      <td>0.721757</td>\n      <td>0.341038</td>\n      <td>0.461075</td>\n      <td>1.052172</td>\n      <td>1.853388</td>\n    </tr>\n    <tr>\n      <th>2</th>\n      <td>25</td>\n      <td>17</td>\n      <td>A</td>\n      <td>C</td>\n      <td>-0.012941</td>\n      <td>-0.104797</td>\n      <td>-0.236863</td>\n      <td>-0.323248</td>\n      <td>-0.289526</td>\n      <td>-0.127867</td>\n      <td>...</td>\n      <td>-2.263840</td>\n      <td>-2.082246</td>\n      <td>-1.299818</td>\n      <td>-0.087112</td>\n      <td>1.200546</td>\n      <td>2.217524</td>\n      <td>2.777598</td>\n      <td>2.863644</td>\n      <td>2.528300</td>\n      <td>1.804936</td>\n    </tr>\n    <tr>\n      <th>3</th>\n      <td>32</td>\n      <td>17</td>\n      <td>A</td>\n      <td>C</td>\n      <td>0.090513</td>\n      <td>0.210141</td>\n      <td>0.258353</td>\n      <td>0.176808</td>\n      <td>-0.021250</td>\n      <td>-0.246477</td>\n      <td>...</td>\n      <td>-2.662342</td>\n      <td>-1.246634</td>\n      <td>0.756969</td>\n      <td>2.115026</td>\n      <td>2.007031</td>\n      <td>0.606600</td>\n      <td>-1.034530</td>\n      <td>-1.731524</td>\n      <td>-1.012911</td>\n      <td>0.541681</td>\n    </tr>\n    <tr>\n      <th>4</th>\n      <td>33</td>\n      <td>16</td>\n      <td>A</td>\n      <td>C</td>\n      <td>0.020757</td>\n      <td>0.004422</td>\n      <td>0.048168</td>\n      <td>0.217449</td>\n      <td>0.499191</td>\n      <td>0.774152</td>\n      <td>...</td>\n      <td>0.000000</td>\n      <td>0.000000</td>\n      <td>0.000000</td>\n      <td>0.000000</td>\n      <td>0.000000</td>\n      <td>0.000000</td>\n      <td>0.000000</td>\n      <td>0.000000</td>\n      <td>0.000000</td>\n      <td>0.000000</td>\n    </tr>\n    <tr>\n      <th>...</th>\n      <td>...</td>\n      <td>...</td>\n      <td>...</td>\n      <td>...</td>\n      <td>...</td>\n      <td>...</td>\n      <td>...</td>\n      <td>...</td>\n      <td>...</td>\n      <td>...</td>\n      <td>...</td>\n      <td>...</td>\n      <td>...</td>\n      <td>...</td>\n      <td>...</td>\n      <td>...</td>\n      <td>...</td>\n      <td>...</td>\n      <td>...</td>\n      <td>...</td>\n      <td>...</td>\n    </tr>\n    <tr>\n      <th>194</th>\n      <td>777</td>\n      <td>20</td>\n      <td>A</td>\n      <td>C</td>\n      <td>0.196767</td>\n      <td>0.279578</td>\n      <td>0.269504</td>\n      <td>0.142366</td>\n      <td>-0.050581</td>\n      <td>-0.192273</td>\n      <td>...</td>\n      <td>1.501500</td>\n      <td>0.315651</td>\n      <td>-0.438466</td>\n      <td>-0.390447</td>\n      <td>0.203565</td>\n      <td>1.092143</td>\n      <td>1.984272</td>\n      <td>2.303799</td>\n      <td>1.587597</td>\n      <td>0.184648</td>\n    </tr>\n    <tr>\n      <th>195</th>\n      <td>783</td>\n      <td>24</td>\n      <td>A</td>\n      <td>C</td>\n      <td>0.166928</td>\n      <td>0.062544</td>\n      <td>-0.064816</td>\n      <td>-0.223924</td>\n      <td>-0.397589</td>\n      <td>-0.477872</td>\n      <td>...</td>\n      <td>0.998999</td>\n      <td>2.150780</td>\n      <td>1.765160</td>\n      <td>0.167519</td>\n      <td>-1.398137</td>\n      <td>-2.035133</td>\n      <td>-1.780128</td>\n      <td>-1.156148</td>\n      <td>-0.511489</td>\n      <td>0.100604</td>\n    </tr>\n    <tr>\n      <th>196</th>\n      <td>784</td>\n      <td>24</td>\n      <td>A</td>\n      <td>C</td>\n      <td>0.467909</td>\n      <td>0.601598</td>\n      <td>0.466428</td>\n      <td>0.064870</td>\n      <td>-0.453154</td>\n      <td>-0.874220</td>\n      <td>...</td>\n      <td>4.963199</td>\n      <td>1.800244</td>\n      <td>-2.997877</td>\n      <td>-5.256964</td>\n      <td>-2.305884</td>\n      <td>3.395893</td>\n      <td>5.967640</td>\n      <td>2.081252</td>\n      <td>-5.207866</td>\n      <td>-9.263192</td>\n    </tr>\n    <tr>\n      <th>197</th>\n      <td>792</td>\n      <td>29</td>\n      <td>C</td>\n      <td>C</td>\n      <td>0.158687</td>\n      <td>0.187958</td>\n      <td>0.187666</td>\n      <td>0.168700</td>\n      <td>0.137513</td>\n      <td>0.109296</td>\n      <td>...</td>\n      <td>-2.660509</td>\n      <td>-1.084989</td>\n      <td>0.932748</td>\n      <td>2.014907</td>\n      <td>1.678764</td>\n      <td>0.401733</td>\n      <td>-0.877058</td>\n      <td>-1.297012</td>\n      <td>-0.560106</td>\n      <td>0.733061</td>\n    </tr>\n    <tr>\n      <th>198</th>\n      <td>796</td>\n      <td>35</td>\n      <td>A</td>\n      <td>A</td>\n      <td>-0.236773</td>\n      <td>-0.267845</td>\n      <td>-0.108305</td>\n      <td>0.141632</td>\n      <td>0.310586</td>\n      <td>0.313349</td>\n      <td>...</td>\n      <td>0.010158</td>\n      <td>0.408345</td>\n      <td>-0.480362</td>\n      <td>-1.950726</td>\n      <td>-2.116528</td>\n      <td>-0.442166</td>\n      <td>1.441936</td>\n      <td>1.849335</td>\n      <td>1.124896</td>\n      <td>0.849227</td>\n    </tr>\n  </tbody>\n</table>\n<p>199 rows × 13344 columns</p>\n</div>"
     },
     "metadata": {},
     "execution_count": 109
    }
   ],
   "source": [
    "test_df"
   ]
  },
  {
   "cell_type": "code",
   "execution_count": 192,
   "metadata": {},
   "outputs": [],
   "source": [
    "first_cols_test = test_df.iloc[:, [1,2,3]]\n",
    "new_test = first_cols_test.join(normalized_corr_df_test)\n",
    "new_test['var2'].replace({'A':0, 'C':1}, inplace = True)\n",
    "new_test['var3'].replace({'A':0, 'C':1}, inplace = True)"
   ]
  },
  {
   "cell_type": "code",
   "execution_count": 193,
   "metadata": {},
   "outputs": [
    {
     "output_type": "execute_result",
     "data": {
      "text/plain": [
       "     var1  var2  var3  ROI1-ROI2  ROI1-ROI3  ROI1-ROI4  ROI1-ROI5  ROI1-ROI6  \\\n",
       "0      32     0     0   0.854176  -1.020147   1.864560  -1.721855  -1.069154   \n",
       "1      11     1     0   0.282427   0.179774   0.442699   0.237340  -0.241023   \n",
       "2      17     0     1  -0.415623   0.293733  -0.628416   0.448865   0.612347   \n",
       "3      17     0     1   0.017353  -2.060074  -0.568036  -0.072772   1.033885   \n",
       "4      16     0     1   0.640871   0.413572  -0.043011   1.724712   0.534138   \n",
       "..    ...   ...   ...        ...        ...        ...        ...        ...   \n",
       "194    20     0     1  -0.910154   0.666450   0.009796   1.242370   2.676010   \n",
       "195    24     0     1   0.313027  -0.053079   0.226083  -0.377109  -0.626859   \n",
       "196    24     0     1  -0.403646  -0.473689  -0.584146  -1.111021   0.398049   \n",
       "197    29     1     1   0.732765  -1.894450  -0.662169   0.415669   0.924637   \n",
       "198    35     0     0   0.222385  -0.286850   0.496170   0.142518   0.348083   \n",
       "\n",
       "     ROI1-ROI7  ROI1-ROI8  ...  ROI112-ROI113  ROI112-ROI114  ROI112-ROI115  \\\n",
       "0     0.186898  -0.896962  ...      -1.141650      -0.026179       0.681606   \n",
       "1     0.893571   0.318030  ...      -0.143382      -2.177311       0.199929   \n",
       "2    -1.009774  -0.107739  ...       1.115244       0.823498      -0.038657   \n",
       "3    -1.131877  -0.275737  ...       0.651000       0.053489      -2.104100   \n",
       "4    -0.095318  -0.486773  ...      -2.035928      -1.083962      -0.635361   \n",
       "..         ...        ...  ...            ...            ...            ...   \n",
       "194  -1.165259  -0.988860  ...      -1.000106      -0.989723      -0.546118   \n",
       "195   1.260601   0.251055  ...       0.136552      -0.541645       1.329381   \n",
       "196  -1.886028  -1.425569  ...      -1.702665      -1.487650      -0.354707   \n",
       "197  -0.724449   1.651059  ...      -1.499161       1.298924       0.760146   \n",
       "198  -0.119479  -0.912289  ...       1.412315      -0.403800      -1.777603   \n",
       "\n",
       "     ROI112-ROI116  ROI113-ROI114  ROI113-ROI115  ROI113-ROI116  \\\n",
       "0         0.446590      -1.592575       0.019245      -0.884480   \n",
       "1         0.349797      -1.636280       0.377658       0.482896   \n",
       "2        -0.150514       0.994522       1.148562       0.055833   \n",
       "3        -0.861101      -0.462669      -1.137136      -0.217642   \n",
       "4        -0.549281      -1.316980      -0.604474      -0.571270   \n",
       "..             ...            ...            ...            ...   \n",
       "194      -0.376407      -1.348651      -1.326373      -1.003789   \n",
       "195       0.873091       0.983898       0.472766       0.623338   \n",
       "196      -0.341808       0.752052      -0.420370       0.705709   \n",
       "197       1.788906       0.138388       0.261933      -0.864682   \n",
       "198       0.161884       0.206288      -1.668862      -0.048747   \n",
       "\n",
       "     ROI114-ROI115  ROI114-ROI116  ROI115-ROI116  \n",
       "0        -0.490194      -0.008778      -2.175748  \n",
       "1        -1.314534      -0.736005      -1.034840  \n",
       "2         0.176230       0.052239      -0.421842  \n",
       "3        -1.296901      -0.870719      -0.517845  \n",
       "4        -1.467529      -0.854753      -1.493323  \n",
       "..             ...            ...            ...  \n",
       "194       1.599268       1.634438       1.304677  \n",
       "195      -0.354521      -0.420251       0.573490  \n",
       "196       0.953942       0.373112       0.891682  \n",
       "197       0.766376       0.772700       0.317366  \n",
       "198      -1.370694      -0.589748      -0.474493  \n",
       "\n",
       "[199 rows x 6673 columns]"
      ],
      "text/html": "<div>\n<style scoped>\n    .dataframe tbody tr th:only-of-type {\n        vertical-align: middle;\n    }\n\n    .dataframe tbody tr th {\n        vertical-align: top;\n    }\n\n    .dataframe thead th {\n        text-align: right;\n    }\n</style>\n<table border=\"1\" class=\"dataframe\">\n  <thead>\n    <tr style=\"text-align: right;\">\n      <th></th>\n      <th>var1</th>\n      <th>var2</th>\n      <th>var3</th>\n      <th>ROI1-ROI2</th>\n      <th>ROI1-ROI3</th>\n      <th>ROI1-ROI4</th>\n      <th>ROI1-ROI5</th>\n      <th>ROI1-ROI6</th>\n      <th>ROI1-ROI7</th>\n      <th>ROI1-ROI8</th>\n      <th>...</th>\n      <th>ROI112-ROI113</th>\n      <th>ROI112-ROI114</th>\n      <th>ROI112-ROI115</th>\n      <th>ROI112-ROI116</th>\n      <th>ROI113-ROI114</th>\n      <th>ROI113-ROI115</th>\n      <th>ROI113-ROI116</th>\n      <th>ROI114-ROI115</th>\n      <th>ROI114-ROI116</th>\n      <th>ROI115-ROI116</th>\n    </tr>\n  </thead>\n  <tbody>\n    <tr>\n      <th>0</th>\n      <td>32</td>\n      <td>0</td>\n      <td>0</td>\n      <td>0.854176</td>\n      <td>-1.020147</td>\n      <td>1.864560</td>\n      <td>-1.721855</td>\n      <td>-1.069154</td>\n      <td>0.186898</td>\n      <td>-0.896962</td>\n      <td>...</td>\n      <td>-1.141650</td>\n      <td>-0.026179</td>\n      <td>0.681606</td>\n      <td>0.446590</td>\n      <td>-1.592575</td>\n      <td>0.019245</td>\n      <td>-0.884480</td>\n      <td>-0.490194</td>\n      <td>-0.008778</td>\n      <td>-2.175748</td>\n    </tr>\n    <tr>\n      <th>1</th>\n      <td>11</td>\n      <td>1</td>\n      <td>0</td>\n      <td>0.282427</td>\n      <td>0.179774</td>\n      <td>0.442699</td>\n      <td>0.237340</td>\n      <td>-0.241023</td>\n      <td>0.893571</td>\n      <td>0.318030</td>\n      <td>...</td>\n      <td>-0.143382</td>\n      <td>-2.177311</td>\n      <td>0.199929</td>\n      <td>0.349797</td>\n      <td>-1.636280</td>\n      <td>0.377658</td>\n      <td>0.482896</td>\n      <td>-1.314534</td>\n      <td>-0.736005</td>\n      <td>-1.034840</td>\n    </tr>\n    <tr>\n      <th>2</th>\n      <td>17</td>\n      <td>0</td>\n      <td>1</td>\n      <td>-0.415623</td>\n      <td>0.293733</td>\n      <td>-0.628416</td>\n      <td>0.448865</td>\n      <td>0.612347</td>\n      <td>-1.009774</td>\n      <td>-0.107739</td>\n      <td>...</td>\n      <td>1.115244</td>\n      <td>0.823498</td>\n      <td>-0.038657</td>\n      <td>-0.150514</td>\n      <td>0.994522</td>\n      <td>1.148562</td>\n      <td>0.055833</td>\n      <td>0.176230</td>\n      <td>0.052239</td>\n      <td>-0.421842</td>\n    </tr>\n    <tr>\n      <th>3</th>\n      <td>17</td>\n      <td>0</td>\n      <td>1</td>\n      <td>0.017353</td>\n      <td>-2.060074</td>\n      <td>-0.568036</td>\n      <td>-0.072772</td>\n      <td>1.033885</td>\n      <td>-1.131877</td>\n      <td>-0.275737</td>\n      <td>...</td>\n      <td>0.651000</td>\n      <td>0.053489</td>\n      <td>-2.104100</td>\n      <td>-0.861101</td>\n      <td>-0.462669</td>\n      <td>-1.137136</td>\n      <td>-0.217642</td>\n      <td>-1.296901</td>\n      <td>-0.870719</td>\n      <td>-0.517845</td>\n    </tr>\n    <tr>\n      <th>4</th>\n      <td>16</td>\n      <td>0</td>\n      <td>1</td>\n      <td>0.640871</td>\n      <td>0.413572</td>\n      <td>-0.043011</td>\n      <td>1.724712</td>\n      <td>0.534138</td>\n      <td>-0.095318</td>\n      <td>-0.486773</td>\n      <td>...</td>\n      <td>-2.035928</td>\n      <td>-1.083962</td>\n      <td>-0.635361</td>\n      <td>-0.549281</td>\n      <td>-1.316980</td>\n      <td>-0.604474</td>\n      <td>-0.571270</td>\n      <td>-1.467529</td>\n      <td>-0.854753</td>\n      <td>-1.493323</td>\n    </tr>\n    <tr>\n      <th>...</th>\n      <td>...</td>\n      <td>...</td>\n      <td>...</td>\n      <td>...</td>\n      <td>...</td>\n      <td>...</td>\n      <td>...</td>\n      <td>...</td>\n      <td>...</td>\n      <td>...</td>\n      <td>...</td>\n      <td>...</td>\n      <td>...</td>\n      <td>...</td>\n      <td>...</td>\n      <td>...</td>\n      <td>...</td>\n      <td>...</td>\n      <td>...</td>\n      <td>...</td>\n      <td>...</td>\n    </tr>\n    <tr>\n      <th>194</th>\n      <td>20</td>\n      <td>0</td>\n      <td>1</td>\n      <td>-0.910154</td>\n      <td>0.666450</td>\n      <td>0.009796</td>\n      <td>1.242370</td>\n      <td>2.676010</td>\n      <td>-1.165259</td>\n      <td>-0.988860</td>\n      <td>...</td>\n      <td>-1.000106</td>\n      <td>-0.989723</td>\n      <td>-0.546118</td>\n      <td>-0.376407</td>\n      <td>-1.348651</td>\n      <td>-1.326373</td>\n      <td>-1.003789</td>\n      <td>1.599268</td>\n      <td>1.634438</td>\n      <td>1.304677</td>\n    </tr>\n    <tr>\n      <th>195</th>\n      <td>24</td>\n      <td>0</td>\n      <td>1</td>\n      <td>0.313027</td>\n      <td>-0.053079</td>\n      <td>0.226083</td>\n      <td>-0.377109</td>\n      <td>-0.626859</td>\n      <td>1.260601</td>\n      <td>0.251055</td>\n      <td>...</td>\n      <td>0.136552</td>\n      <td>-0.541645</td>\n      <td>1.329381</td>\n      <td>0.873091</td>\n      <td>0.983898</td>\n      <td>0.472766</td>\n      <td>0.623338</td>\n      <td>-0.354521</td>\n      <td>-0.420251</td>\n      <td>0.573490</td>\n    </tr>\n    <tr>\n      <th>196</th>\n      <td>24</td>\n      <td>0</td>\n      <td>1</td>\n      <td>-0.403646</td>\n      <td>-0.473689</td>\n      <td>-0.584146</td>\n      <td>-1.111021</td>\n      <td>0.398049</td>\n      <td>-1.886028</td>\n      <td>-1.425569</td>\n      <td>...</td>\n      <td>-1.702665</td>\n      <td>-1.487650</td>\n      <td>-0.354707</td>\n      <td>-0.341808</td>\n      <td>0.752052</td>\n      <td>-0.420370</td>\n      <td>0.705709</td>\n      <td>0.953942</td>\n      <td>0.373112</td>\n      <td>0.891682</td>\n    </tr>\n    <tr>\n      <th>197</th>\n      <td>29</td>\n      <td>1</td>\n      <td>1</td>\n      <td>0.732765</td>\n      <td>-1.894450</td>\n      <td>-0.662169</td>\n      <td>0.415669</td>\n      <td>0.924637</td>\n      <td>-0.724449</td>\n      <td>1.651059</td>\n      <td>...</td>\n      <td>-1.499161</td>\n      <td>1.298924</td>\n      <td>0.760146</td>\n      <td>1.788906</td>\n      <td>0.138388</td>\n      <td>0.261933</td>\n      <td>-0.864682</td>\n      <td>0.766376</td>\n      <td>0.772700</td>\n      <td>0.317366</td>\n    </tr>\n    <tr>\n      <th>198</th>\n      <td>35</td>\n      <td>0</td>\n      <td>0</td>\n      <td>0.222385</td>\n      <td>-0.286850</td>\n      <td>0.496170</td>\n      <td>0.142518</td>\n      <td>0.348083</td>\n      <td>-0.119479</td>\n      <td>-0.912289</td>\n      <td>...</td>\n      <td>1.412315</td>\n      <td>-0.403800</td>\n      <td>-1.777603</td>\n      <td>0.161884</td>\n      <td>0.206288</td>\n      <td>-1.668862</td>\n      <td>-0.048747</td>\n      <td>-1.370694</td>\n      <td>-0.589748</td>\n      <td>-0.474493</td>\n    </tr>\n  </tbody>\n</table>\n<p>199 rows × 6673 columns</p>\n</div>"
     },
     "metadata": {},
     "execution_count": 193
    }
   ],
   "source": [
    "new_test"
   ]
  },
  {
   "cell_type": "code",
   "execution_count": 112,
   "metadata": {},
   "outputs": [],
   "source": [
    "new_test['mean']=np.mean(new_test.iloc[:,3:],axis=1)"
   ]
  },
  {
   "cell_type": "code",
   "execution_count": 113,
   "metadata": {},
   "outputs": [],
   "source": [
    "new_test['min']=np.min(new_test.iloc[:,4:],axis=1)\n",
    "new_test['max']=np.max(new_test.iloc[:,4:],axis=1)"
   ]
  },
  {
   "cell_type": "code",
   "execution_count": 115,
   "metadata": {},
   "outputs": [
    {
     "output_type": "execute_result",
     "data": {
      "text/plain": [
       "     var1  var2  var3  ROI1-ROI2  ROI1-ROI3  ROI1-ROI4  ROI1-ROI5  ROI1-ROI6  \\\n",
       "0      32     0     0   0.854176  -1.020147   1.864560  -1.721855  -1.069154   \n",
       "1      11     1     0   0.282427   0.179774   0.442699   0.237340  -0.241023   \n",
       "2      17     0     1  -0.415623   0.293733  -0.628416   0.448865   0.612347   \n",
       "3      17     0     1   0.017353  -2.060074  -0.568036  -0.072772   1.033885   \n",
       "4      16     0     1   0.640871   0.413572  -0.043011   1.724712   0.534138   \n",
       "..    ...   ...   ...        ...        ...        ...        ...        ...   \n",
       "194    20     0     1  -0.910154   0.666450   0.009796   1.242370   2.676010   \n",
       "195    24     0     1   0.313027  -0.053079   0.226083  -0.377109  -0.626859   \n",
       "196    24     0     1  -0.403646  -0.473689  -0.584146  -1.111021   0.398049   \n",
       "197    29     1     1   0.732765  -1.894450  -0.662169   0.415669   0.924637   \n",
       "198    35     0     0   0.222385  -0.286850   0.496170   0.142518   0.348083   \n",
       "\n",
       "     ROI1-ROI7  ROI1-ROI8  ...  ROI112-ROI116  ROI113-ROI114  ROI113-ROI115  \\\n",
       "0     0.186898  -0.896962  ...       0.446590      -1.592575       0.019245   \n",
       "1     0.893571   0.318030  ...       0.349797      -1.636280       0.377658   \n",
       "2    -1.009774  -0.107739  ...      -0.150514       0.994522       1.148562   \n",
       "3    -1.131877  -0.275737  ...      -0.861101      -0.462669      -1.137136   \n",
       "4    -0.095318  -0.486773  ...      -0.549281      -1.316980      -0.604474   \n",
       "..         ...        ...  ...            ...            ...            ...   \n",
       "194  -1.165259  -0.988860  ...      -0.376407      -1.348651      -1.326373   \n",
       "195   1.260601   0.251055  ...       0.873091       0.983898       0.472766   \n",
       "196  -1.886028  -1.425569  ...      -0.341808       0.752052      -0.420370   \n",
       "197  -0.724449   1.651059  ...       1.788906       0.138388       0.261933   \n",
       "198  -0.119479  -0.912289  ...       0.161884       0.206288      -1.668862   \n",
       "\n",
       "     ROI113-ROI116  ROI114-ROI115  ROI114-ROI116  ROI115-ROI116      mean  \\\n",
       "0        -0.884480      -0.490194      -0.008778      -2.175748 -0.015626   \n",
       "1         0.482896      -1.314534      -0.736005      -1.034840 -0.023734   \n",
       "2         0.055833       0.176230       0.052239      -0.421842  0.010251   \n",
       "3        -0.217642      -1.296901      -0.870719      -0.517845 -0.013695   \n",
       "4        -0.571270      -1.467529      -0.854753      -1.493323 -0.005802   \n",
       "..             ...            ...            ...            ...       ...   \n",
       "194      -1.003789       1.599268       1.634438       1.304677 -0.008625   \n",
       "195       0.623338      -0.354521      -0.420251       0.573490 -0.001298   \n",
       "196       0.705709       0.953942       0.373112       0.891682  0.006870   \n",
       "197      -0.864682       0.766376       0.772700       0.317366  0.008879   \n",
       "198      -0.048747      -1.370694      -0.589748      -0.474493 -0.004384   \n",
       "\n",
       "          min       max  \n",
       "0   -4.607065  3.548730  \n",
       "1   -3.500945  3.230425  \n",
       "2   -3.165788  4.052801  \n",
       "3   -3.135288  3.808898  \n",
       "4   -3.355427  3.645788  \n",
       "..        ...       ...  \n",
       "194 -4.064658  3.092875  \n",
       "195 -4.166565  2.851944  \n",
       "196 -3.940358  4.081513  \n",
       "197 -3.499295  3.175915  \n",
       "198 -3.371291  3.473869  \n",
       "\n",
       "[199 rows x 6676 columns]"
      ],
      "text/html": "<div>\n<style scoped>\n    .dataframe tbody tr th:only-of-type {\n        vertical-align: middle;\n    }\n\n    .dataframe tbody tr th {\n        vertical-align: top;\n    }\n\n    .dataframe thead th {\n        text-align: right;\n    }\n</style>\n<table border=\"1\" class=\"dataframe\">\n  <thead>\n    <tr style=\"text-align: right;\">\n      <th></th>\n      <th>var1</th>\n      <th>var2</th>\n      <th>var3</th>\n      <th>ROI1-ROI2</th>\n      <th>ROI1-ROI3</th>\n      <th>ROI1-ROI4</th>\n      <th>ROI1-ROI5</th>\n      <th>ROI1-ROI6</th>\n      <th>ROI1-ROI7</th>\n      <th>ROI1-ROI8</th>\n      <th>...</th>\n      <th>ROI112-ROI116</th>\n      <th>ROI113-ROI114</th>\n      <th>ROI113-ROI115</th>\n      <th>ROI113-ROI116</th>\n      <th>ROI114-ROI115</th>\n      <th>ROI114-ROI116</th>\n      <th>ROI115-ROI116</th>\n      <th>mean</th>\n      <th>min</th>\n      <th>max</th>\n    </tr>\n  </thead>\n  <tbody>\n    <tr>\n      <th>0</th>\n      <td>32</td>\n      <td>0</td>\n      <td>0</td>\n      <td>0.854176</td>\n      <td>-1.020147</td>\n      <td>1.864560</td>\n      <td>-1.721855</td>\n      <td>-1.069154</td>\n      <td>0.186898</td>\n      <td>-0.896962</td>\n      <td>...</td>\n      <td>0.446590</td>\n      <td>-1.592575</td>\n      <td>0.019245</td>\n      <td>-0.884480</td>\n      <td>-0.490194</td>\n      <td>-0.008778</td>\n      <td>-2.175748</td>\n      <td>-0.015626</td>\n      <td>-4.607065</td>\n      <td>3.548730</td>\n    </tr>\n    <tr>\n      <th>1</th>\n      <td>11</td>\n      <td>1</td>\n      <td>0</td>\n      <td>0.282427</td>\n      <td>0.179774</td>\n      <td>0.442699</td>\n      <td>0.237340</td>\n      <td>-0.241023</td>\n      <td>0.893571</td>\n      <td>0.318030</td>\n      <td>...</td>\n      <td>0.349797</td>\n      <td>-1.636280</td>\n      <td>0.377658</td>\n      <td>0.482896</td>\n      <td>-1.314534</td>\n      <td>-0.736005</td>\n      <td>-1.034840</td>\n      <td>-0.023734</td>\n      <td>-3.500945</td>\n      <td>3.230425</td>\n    </tr>\n    <tr>\n      <th>2</th>\n      <td>17</td>\n      <td>0</td>\n      <td>1</td>\n      <td>-0.415623</td>\n      <td>0.293733</td>\n      <td>-0.628416</td>\n      <td>0.448865</td>\n      <td>0.612347</td>\n      <td>-1.009774</td>\n      <td>-0.107739</td>\n      <td>...</td>\n      <td>-0.150514</td>\n      <td>0.994522</td>\n      <td>1.148562</td>\n      <td>0.055833</td>\n      <td>0.176230</td>\n      <td>0.052239</td>\n      <td>-0.421842</td>\n      <td>0.010251</td>\n      <td>-3.165788</td>\n      <td>4.052801</td>\n    </tr>\n    <tr>\n      <th>3</th>\n      <td>17</td>\n      <td>0</td>\n      <td>1</td>\n      <td>0.017353</td>\n      <td>-2.060074</td>\n      <td>-0.568036</td>\n      <td>-0.072772</td>\n      <td>1.033885</td>\n      <td>-1.131877</td>\n      <td>-0.275737</td>\n      <td>...</td>\n      <td>-0.861101</td>\n      <td>-0.462669</td>\n      <td>-1.137136</td>\n      <td>-0.217642</td>\n      <td>-1.296901</td>\n      <td>-0.870719</td>\n      <td>-0.517845</td>\n      <td>-0.013695</td>\n      <td>-3.135288</td>\n      <td>3.808898</td>\n    </tr>\n    <tr>\n      <th>4</th>\n      <td>16</td>\n      <td>0</td>\n      <td>1</td>\n      <td>0.640871</td>\n      <td>0.413572</td>\n      <td>-0.043011</td>\n      <td>1.724712</td>\n      <td>0.534138</td>\n      <td>-0.095318</td>\n      <td>-0.486773</td>\n      <td>...</td>\n      <td>-0.549281</td>\n      <td>-1.316980</td>\n      <td>-0.604474</td>\n      <td>-0.571270</td>\n      <td>-1.467529</td>\n      <td>-0.854753</td>\n      <td>-1.493323</td>\n      <td>-0.005802</td>\n      <td>-3.355427</td>\n      <td>3.645788</td>\n    </tr>\n    <tr>\n      <th>...</th>\n      <td>...</td>\n      <td>...</td>\n      <td>...</td>\n      <td>...</td>\n      <td>...</td>\n      <td>...</td>\n      <td>...</td>\n      <td>...</td>\n      <td>...</td>\n      <td>...</td>\n      <td>...</td>\n      <td>...</td>\n      <td>...</td>\n      <td>...</td>\n      <td>...</td>\n      <td>...</td>\n      <td>...</td>\n      <td>...</td>\n      <td>...</td>\n      <td>...</td>\n      <td>...</td>\n    </tr>\n    <tr>\n      <th>194</th>\n      <td>20</td>\n      <td>0</td>\n      <td>1</td>\n      <td>-0.910154</td>\n      <td>0.666450</td>\n      <td>0.009796</td>\n      <td>1.242370</td>\n      <td>2.676010</td>\n      <td>-1.165259</td>\n      <td>-0.988860</td>\n      <td>...</td>\n      <td>-0.376407</td>\n      <td>-1.348651</td>\n      <td>-1.326373</td>\n      <td>-1.003789</td>\n      <td>1.599268</td>\n      <td>1.634438</td>\n      <td>1.304677</td>\n      <td>-0.008625</td>\n      <td>-4.064658</td>\n      <td>3.092875</td>\n    </tr>\n    <tr>\n      <th>195</th>\n      <td>24</td>\n      <td>0</td>\n      <td>1</td>\n      <td>0.313027</td>\n      <td>-0.053079</td>\n      <td>0.226083</td>\n      <td>-0.377109</td>\n      <td>-0.626859</td>\n      <td>1.260601</td>\n      <td>0.251055</td>\n      <td>...</td>\n      <td>0.873091</td>\n      <td>0.983898</td>\n      <td>0.472766</td>\n      <td>0.623338</td>\n      <td>-0.354521</td>\n      <td>-0.420251</td>\n      <td>0.573490</td>\n      <td>-0.001298</td>\n      <td>-4.166565</td>\n      <td>2.851944</td>\n    </tr>\n    <tr>\n      <th>196</th>\n      <td>24</td>\n      <td>0</td>\n      <td>1</td>\n      <td>-0.403646</td>\n      <td>-0.473689</td>\n      <td>-0.584146</td>\n      <td>-1.111021</td>\n      <td>0.398049</td>\n      <td>-1.886028</td>\n      <td>-1.425569</td>\n      <td>...</td>\n      <td>-0.341808</td>\n      <td>0.752052</td>\n      <td>-0.420370</td>\n      <td>0.705709</td>\n      <td>0.953942</td>\n      <td>0.373112</td>\n      <td>0.891682</td>\n      <td>0.006870</td>\n      <td>-3.940358</td>\n      <td>4.081513</td>\n    </tr>\n    <tr>\n      <th>197</th>\n      <td>29</td>\n      <td>1</td>\n      <td>1</td>\n      <td>0.732765</td>\n      <td>-1.894450</td>\n      <td>-0.662169</td>\n      <td>0.415669</td>\n      <td>0.924637</td>\n      <td>-0.724449</td>\n      <td>1.651059</td>\n      <td>...</td>\n      <td>1.788906</td>\n      <td>0.138388</td>\n      <td>0.261933</td>\n      <td>-0.864682</td>\n      <td>0.766376</td>\n      <td>0.772700</td>\n      <td>0.317366</td>\n      <td>0.008879</td>\n      <td>-3.499295</td>\n      <td>3.175915</td>\n    </tr>\n    <tr>\n      <th>198</th>\n      <td>35</td>\n      <td>0</td>\n      <td>0</td>\n      <td>0.222385</td>\n      <td>-0.286850</td>\n      <td>0.496170</td>\n      <td>0.142518</td>\n      <td>0.348083</td>\n      <td>-0.119479</td>\n      <td>-0.912289</td>\n      <td>...</td>\n      <td>0.161884</td>\n      <td>0.206288</td>\n      <td>-1.668862</td>\n      <td>-0.048747</td>\n      <td>-1.370694</td>\n      <td>-0.589748</td>\n      <td>-0.474493</td>\n      <td>-0.004384</td>\n      <td>-3.371291</td>\n      <td>3.473869</td>\n    </tr>\n  </tbody>\n</table>\n<p>199 rows × 6676 columns</p>\n</div>"
     },
     "metadata": {},
     "execution_count": 115
    }
   ],
   "source": [
    "new_test"
   ]
  },
  {
   "cell_type": "code",
   "execution_count": 204,
   "metadata": {},
   "outputs": [],
   "source": [
    "y_pred_test=svr_reg.predict(new_test)"
   ]
  },
  {
   "cell_type": "code",
   "execution_count": 210,
   "metadata": {},
   "outputs": [
    {
     "output_type": "execute_result",
     "data": {
      "text/plain": [
       "(array([ 6., 11., 39., 59., 41., 26., 10.,  3.,  2.,  2.]),\n",
       " array([105.7495181 , 106.49341147, 107.23730484, 107.9811982 ,\n",
       "        108.72509157, 109.46898494, 110.2128783 , 110.95677167,\n",
       "        111.70066504, 112.4445584 , 113.18845177]),\n",
       " <BarContainer object of 10 artists>)"
      ]
     },
     "metadata": {},
     "execution_count": 210
    },
    {
     "output_type": "display_data",
     "data": {
      "text/plain": "<Figure size 432x288 with 1 Axes>",
      "image/svg+xml": "<?xml version=\"1.0\" encoding=\"utf-8\" standalone=\"no\"?>\r\n<!DOCTYPE svg PUBLIC \"-//W3C//DTD SVG 1.1//EN\"\r\n  \"http://www.w3.org/Graphics/SVG/1.1/DTD/svg11.dtd\">\r\n<svg height=\"248.518125pt\" version=\"1.1\" viewBox=\"0 0 368.925 248.518125\" width=\"368.925pt\" xmlns=\"http://www.w3.org/2000/svg\" xmlns:xlink=\"http://www.w3.org/1999/xlink\">\r\n <metadata>\r\n  <rdf:RDF xmlns:cc=\"http://creativecommons.org/ns#\" xmlns:dc=\"http://purl.org/dc/elements/1.1/\" xmlns:rdf=\"http://www.w3.org/1999/02/22-rdf-syntax-ns#\">\r\n   <cc:Work>\r\n    <dc:type rdf:resource=\"http://purl.org/dc/dcmitype/StillImage\"/>\r\n    <dc:date>2021-06-28T17:18:16.267842</dc:date>\r\n    <dc:format>image/svg+xml</dc:format>\r\n    <dc:creator>\r\n     <cc:Agent>\r\n      <dc:title>Matplotlib v3.4.1, https://matplotlib.org/</dc:title>\r\n     </cc:Agent>\r\n    </dc:creator>\r\n   </cc:Work>\r\n  </rdf:RDF>\r\n </metadata>\r\n <defs>\r\n  <style type=\"text/css\">*{stroke-linecap:butt;stroke-linejoin:round;}</style>\r\n </defs>\r\n <g id=\"figure_1\">\r\n  <g id=\"patch_1\">\r\n   <path d=\"M -0 248.518125 \r\nL 368.925 248.518125 \r\nL 368.925 0 \r\nL -0 0 \r\nz\r\n\" style=\"fill:none;\"/>\r\n  </g>\r\n  <g id=\"axes_1\">\r\n   <g id=\"patch_2\">\r\n    <path d=\"M 26.925 224.64 \r\nL 361.725 224.64 \r\nL 361.725 7.2 \r\nL 26.925 7.2 \r\nz\r\n\" style=\"fill:#ffffff;\"/>\r\n   </g>\r\n   <g id=\"patch_3\">\r\n    <path clip-path=\"url(#p5922719fd1)\" d=\"M 42.143182 224.64 \r\nL 72.579545 224.64 \r\nL 72.579545 203.580436 \r\nL 42.143182 203.580436 \r\nz\r\n\" style=\"fill:#1f77b4;\"/>\r\n   </g>\r\n   <g id=\"patch_4\">\r\n    <path clip-path=\"url(#p5922719fd1)\" d=\"M 72.579545 224.64 \r\nL 103.015909 224.64 \r\nL 103.015909 186.030799 \r\nL 72.579545 186.030799 \r\nz\r\n\" style=\"fill:#1f77b4;\"/>\r\n   </g>\r\n   <g id=\"patch_5\">\r\n    <path clip-path=\"url(#p5922719fd1)\" d=\"M 103.015909 224.64 \r\nL 133.452273 224.64 \r\nL 133.452273 87.752833 \r\nL 103.015909 87.752833 \r\nz\r\n\" style=\"fill:#1f77b4;\"/>\r\n   </g>\r\n   <g id=\"patch_6\">\r\n    <path clip-path=\"url(#p5922719fd1)\" d=\"M 133.452273 224.64 \r\nL 163.888636 224.64 \r\nL 163.888636 17.554286 \r\nL 133.452273 17.554286 \r\nz\r\n\" style=\"fill:#1f77b4;\"/>\r\n   </g>\r\n   <g id=\"patch_7\">\r\n    <path clip-path=\"url(#p5922719fd1)\" d=\"M 163.888636 224.64 \r\nL 194.325 224.64 \r\nL 194.325 80.732978 \r\nL 163.888636 80.732978 \r\nz\r\n\" style=\"fill:#1f77b4;\"/>\r\n   </g>\r\n   <g id=\"patch_8\">\r\n    <path clip-path=\"url(#p5922719fd1)\" d=\"M 194.325 224.64 \r\nL 224.761364 224.64 \r\nL 224.761364 133.381889 \r\nL 194.325 133.381889 \r\nz\r\n\" style=\"fill:#1f77b4;\"/>\r\n   </g>\r\n   <g id=\"patch_9\">\r\n    <path clip-path=\"url(#p5922719fd1)\" d=\"M 224.761364 224.64 \r\nL 255.197727 224.64 \r\nL 255.197727 189.540726 \r\nL 224.761364 189.540726 \r\nz\r\n\" style=\"fill:#1f77b4;\"/>\r\n   </g>\r\n   <g id=\"patch_10\">\r\n    <path clip-path=\"url(#p5922719fd1)\" d=\"M 255.197727 224.64 \r\nL 285.634091 224.64 \r\nL 285.634091 214.110218 \r\nL 255.197727 214.110218 \r\nz\r\n\" style=\"fill:#1f77b4;\"/>\r\n   </g>\r\n   <g id=\"patch_11\">\r\n    <path clip-path=\"url(#p5922719fd1)\" d=\"M 285.634091 224.64 \r\nL 316.070455 224.64 \r\nL 316.070455 217.620145 \r\nL 285.634091 217.620145 \r\nz\r\n\" style=\"fill:#1f77b4;\"/>\r\n   </g>\r\n   <g id=\"patch_12\">\r\n    <path clip-path=\"url(#p5922719fd1)\" d=\"M 316.070455 224.64 \r\nL 346.506818 224.64 \r\nL 346.506818 217.620145 \r\nL 316.070455 217.620145 \r\nz\r\n\" style=\"fill:#1f77b4;\"/>\r\n   </g>\r\n   <g id=\"matplotlib.axis_1\">\r\n    <g id=\"xtick_1\">\r\n     <g id=\"line2d_1\">\r\n      <defs>\r\n       <path d=\"M 0 0 \r\nL 0 3.5 \r\n\" id=\"m0918cc0f78\" style=\"stroke:#000000;stroke-width:0.8;\"/>\r\n      </defs>\r\n      <g>\r\n       <use style=\"stroke:#000000;stroke-width:0.8;\" x=\"52.391637\" xlink:href=\"#m0918cc0f78\" y=\"224.64\"/>\r\n      </g>\r\n     </g>\r\n     <g id=\"text_1\">\r\n      <!-- 106 -->\r\n      <g transform=\"translate(42.847887 239.238437)scale(0.1 -0.1)\">\r\n       <defs>\r\n        <path d=\"M 794 531 \r\nL 1825 531 \r\nL 1825 4091 \r\nL 703 3866 \r\nL 703 4441 \r\nL 1819 4666 \r\nL 2450 4666 \r\nL 2450 531 \r\nL 3481 531 \r\nL 3481 0 \r\nL 794 0 \r\nL 794 531 \r\nz\r\n\" id=\"DejaVuSans-31\" transform=\"scale(0.015625)\"/>\r\n        <path d=\"M 2034 4250 \r\nQ 1547 4250 1301 3770 \r\nQ 1056 3291 1056 2328 \r\nQ 1056 1369 1301 889 \r\nQ 1547 409 2034 409 \r\nQ 2525 409 2770 889 \r\nQ 3016 1369 3016 2328 \r\nQ 3016 3291 2770 3770 \r\nQ 2525 4250 2034 4250 \r\nz\r\nM 2034 4750 \r\nQ 2819 4750 3233 4129 \r\nQ 3647 3509 3647 2328 \r\nQ 3647 1150 3233 529 \r\nQ 2819 -91 2034 -91 \r\nQ 1250 -91 836 529 \r\nQ 422 1150 422 2328 \r\nQ 422 3509 836 4129 \r\nQ 1250 4750 2034 4750 \r\nz\r\n\" id=\"DejaVuSans-30\" transform=\"scale(0.015625)\"/>\r\n        <path d=\"M 2113 2584 \r\nQ 1688 2584 1439 2293 \r\nQ 1191 2003 1191 1497 \r\nQ 1191 994 1439 701 \r\nQ 1688 409 2113 409 \r\nQ 2538 409 2786 701 \r\nQ 3034 994 3034 1497 \r\nQ 3034 2003 2786 2293 \r\nQ 2538 2584 2113 2584 \r\nz\r\nM 3366 4563 \r\nL 3366 3988 \r\nQ 3128 4100 2886 4159 \r\nQ 2644 4219 2406 4219 \r\nQ 1781 4219 1451 3797 \r\nQ 1122 3375 1075 2522 \r\nQ 1259 2794 1537 2939 \r\nQ 1816 3084 2150 3084 \r\nQ 2853 3084 3261 2657 \r\nQ 3669 2231 3669 1497 \r\nQ 3669 778 3244 343 \r\nQ 2819 -91 2113 -91 \r\nQ 1303 -91 875 529 \r\nQ 447 1150 447 2328 \r\nQ 447 3434 972 4092 \r\nQ 1497 4750 2381 4750 \r\nQ 2619 4750 2861 4703 \r\nQ 3103 4656 3366 4563 \r\nz\r\n\" id=\"DejaVuSans-36\" transform=\"scale(0.015625)\"/>\r\n       </defs>\r\n       <use xlink:href=\"#DejaVuSans-31\"/>\r\n       <use x=\"63.623047\" xlink:href=\"#DejaVuSans-30\"/>\r\n       <use x=\"127.246094\" xlink:href=\"#DejaVuSans-36\"/>\r\n      </g>\r\n     </g>\r\n    </g>\r\n    <g id=\"xtick_2\">\r\n     <g id=\"line2d_2\">\r\n      <g>\r\n       <use style=\"stroke:#000000;stroke-width:0.8;\" x=\"93.306592\" xlink:href=\"#m0918cc0f78\" y=\"224.64\"/>\r\n      </g>\r\n     </g>\r\n     <g id=\"text_2\">\r\n      <!-- 107 -->\r\n      <g transform=\"translate(83.762842 239.238437)scale(0.1 -0.1)\">\r\n       <defs>\r\n        <path d=\"M 525 4666 \r\nL 3525 4666 \r\nL 3525 4397 \r\nL 1831 0 \r\nL 1172 0 \r\nL 2766 4134 \r\nL 525 4134 \r\nL 525 4666 \r\nz\r\n\" id=\"DejaVuSans-37\" transform=\"scale(0.015625)\"/>\r\n       </defs>\r\n       <use xlink:href=\"#DejaVuSans-31\"/>\r\n       <use x=\"63.623047\" xlink:href=\"#DejaVuSans-30\"/>\r\n       <use x=\"127.246094\" xlink:href=\"#DejaVuSans-37\"/>\r\n      </g>\r\n     </g>\r\n    </g>\r\n    <g id=\"xtick_3\">\r\n     <g id=\"line2d_3\">\r\n      <g>\r\n       <use style=\"stroke:#000000;stroke-width:0.8;\" x=\"134.221547\" xlink:href=\"#m0918cc0f78\" y=\"224.64\"/>\r\n      </g>\r\n     </g>\r\n     <g id=\"text_3\">\r\n      <!-- 108 -->\r\n      <g transform=\"translate(124.677797 239.238437)scale(0.1 -0.1)\">\r\n       <defs>\r\n        <path d=\"M 2034 2216 \r\nQ 1584 2216 1326 1975 \r\nQ 1069 1734 1069 1313 \r\nQ 1069 891 1326 650 \r\nQ 1584 409 2034 409 \r\nQ 2484 409 2743 651 \r\nQ 3003 894 3003 1313 \r\nQ 3003 1734 2745 1975 \r\nQ 2488 2216 2034 2216 \r\nz\r\nM 1403 2484 \r\nQ 997 2584 770 2862 \r\nQ 544 3141 544 3541 \r\nQ 544 4100 942 4425 \r\nQ 1341 4750 2034 4750 \r\nQ 2731 4750 3128 4425 \r\nQ 3525 4100 3525 3541 \r\nQ 3525 3141 3298 2862 \r\nQ 3072 2584 2669 2484 \r\nQ 3125 2378 3379 2068 \r\nQ 3634 1759 3634 1313 \r\nQ 3634 634 3220 271 \r\nQ 2806 -91 2034 -91 \r\nQ 1263 -91 848 271 \r\nQ 434 634 434 1313 \r\nQ 434 1759 690 2068 \r\nQ 947 2378 1403 2484 \r\nz\r\nM 1172 3481 \r\nQ 1172 3119 1398 2916 \r\nQ 1625 2713 2034 2713 \r\nQ 2441 2713 2670 2916 \r\nQ 2900 3119 2900 3481 \r\nQ 2900 3844 2670 4047 \r\nQ 2441 4250 2034 4250 \r\nQ 1625 4250 1398 4047 \r\nQ 1172 3844 1172 3481 \r\nz\r\n\" id=\"DejaVuSans-38\" transform=\"scale(0.015625)\"/>\r\n       </defs>\r\n       <use xlink:href=\"#DejaVuSans-31\"/>\r\n       <use x=\"63.623047\" xlink:href=\"#DejaVuSans-30\"/>\r\n       <use x=\"127.246094\" xlink:href=\"#DejaVuSans-38\"/>\r\n      </g>\r\n     </g>\r\n    </g>\r\n    <g id=\"xtick_4\">\r\n     <g id=\"line2d_4\">\r\n      <g>\r\n       <use style=\"stroke:#000000;stroke-width:0.8;\" x=\"175.136502\" xlink:href=\"#m0918cc0f78\" y=\"224.64\"/>\r\n      </g>\r\n     </g>\r\n     <g id=\"text_4\">\r\n      <!-- 109 -->\r\n      <g transform=\"translate(165.592752 239.238437)scale(0.1 -0.1)\">\r\n       <defs>\r\n        <path d=\"M 703 97 \r\nL 703 672 \r\nQ 941 559 1184 500 \r\nQ 1428 441 1663 441 \r\nQ 2288 441 2617 861 \r\nQ 2947 1281 2994 2138 \r\nQ 2813 1869 2534 1725 \r\nQ 2256 1581 1919 1581 \r\nQ 1219 1581 811 2004 \r\nQ 403 2428 403 3163 \r\nQ 403 3881 828 4315 \r\nQ 1253 4750 1959 4750 \r\nQ 2769 4750 3195 4129 \r\nQ 3622 3509 3622 2328 \r\nQ 3622 1225 3098 567 \r\nQ 2575 -91 1691 -91 \r\nQ 1453 -91 1209 -44 \r\nQ 966 3 703 97 \r\nz\r\nM 1959 2075 \r\nQ 2384 2075 2632 2365 \r\nQ 2881 2656 2881 3163 \r\nQ 2881 3666 2632 3958 \r\nQ 2384 4250 1959 4250 \r\nQ 1534 4250 1286 3958 \r\nQ 1038 3666 1038 3163 \r\nQ 1038 2656 1286 2365 \r\nQ 1534 2075 1959 2075 \r\nz\r\n\" id=\"DejaVuSans-39\" transform=\"scale(0.015625)\"/>\r\n       </defs>\r\n       <use xlink:href=\"#DejaVuSans-31\"/>\r\n       <use x=\"63.623047\" xlink:href=\"#DejaVuSans-30\"/>\r\n       <use x=\"127.246094\" xlink:href=\"#DejaVuSans-39\"/>\r\n      </g>\r\n     </g>\r\n    </g>\r\n    <g id=\"xtick_5\">\r\n     <g id=\"line2d_5\">\r\n      <g>\r\n       <use style=\"stroke:#000000;stroke-width:0.8;\" x=\"216.051457\" xlink:href=\"#m0918cc0f78\" y=\"224.64\"/>\r\n      </g>\r\n     </g>\r\n     <g id=\"text_5\">\r\n      <!-- 110 -->\r\n      <g transform=\"translate(206.507707 239.238437)scale(0.1 -0.1)\">\r\n       <use xlink:href=\"#DejaVuSans-31\"/>\r\n       <use x=\"63.623047\" xlink:href=\"#DejaVuSans-31\"/>\r\n       <use x=\"127.246094\" xlink:href=\"#DejaVuSans-30\"/>\r\n      </g>\r\n     </g>\r\n    </g>\r\n    <g id=\"xtick_6\">\r\n     <g id=\"line2d_6\">\r\n      <g>\r\n       <use style=\"stroke:#000000;stroke-width:0.8;\" x=\"256.966412\" xlink:href=\"#m0918cc0f78\" y=\"224.64\"/>\r\n      </g>\r\n     </g>\r\n     <g id=\"text_6\">\r\n      <!-- 111 -->\r\n      <g transform=\"translate(247.422662 239.238437)scale(0.1 -0.1)\">\r\n       <use xlink:href=\"#DejaVuSans-31\"/>\r\n       <use x=\"63.623047\" xlink:href=\"#DejaVuSans-31\"/>\r\n       <use x=\"127.246094\" xlink:href=\"#DejaVuSans-31\"/>\r\n      </g>\r\n     </g>\r\n    </g>\r\n    <g id=\"xtick_7\">\r\n     <g id=\"line2d_7\">\r\n      <g>\r\n       <use style=\"stroke:#000000;stroke-width:0.8;\" x=\"297.881367\" xlink:href=\"#m0918cc0f78\" y=\"224.64\"/>\r\n      </g>\r\n     </g>\r\n     <g id=\"text_7\">\r\n      <!-- 112 -->\r\n      <g transform=\"translate(288.337617 239.238437)scale(0.1 -0.1)\">\r\n       <defs>\r\n        <path d=\"M 1228 531 \r\nL 3431 531 \r\nL 3431 0 \r\nL 469 0 \r\nL 469 531 \r\nQ 828 903 1448 1529 \r\nQ 2069 2156 2228 2338 \r\nQ 2531 2678 2651 2914 \r\nQ 2772 3150 2772 3378 \r\nQ 2772 3750 2511 3984 \r\nQ 2250 4219 1831 4219 \r\nQ 1534 4219 1204 4116 \r\nQ 875 4013 500 3803 \r\nL 500 4441 \r\nQ 881 4594 1212 4672 \r\nQ 1544 4750 1819 4750 \r\nQ 2544 4750 2975 4387 \r\nQ 3406 4025 3406 3419 \r\nQ 3406 3131 3298 2873 \r\nQ 3191 2616 2906 2266 \r\nQ 2828 2175 2409 1742 \r\nQ 1991 1309 1228 531 \r\nz\r\n\" id=\"DejaVuSans-32\" transform=\"scale(0.015625)\"/>\r\n       </defs>\r\n       <use xlink:href=\"#DejaVuSans-31\"/>\r\n       <use x=\"63.623047\" xlink:href=\"#DejaVuSans-31\"/>\r\n       <use x=\"127.246094\" xlink:href=\"#DejaVuSans-32\"/>\r\n      </g>\r\n     </g>\r\n    </g>\r\n    <g id=\"xtick_8\">\r\n     <g id=\"line2d_8\">\r\n      <g>\r\n       <use style=\"stroke:#000000;stroke-width:0.8;\" x=\"338.796322\" xlink:href=\"#m0918cc0f78\" y=\"224.64\"/>\r\n      </g>\r\n     </g>\r\n     <g id=\"text_8\">\r\n      <!-- 113 -->\r\n      <g transform=\"translate(329.252572 239.238437)scale(0.1 -0.1)\">\r\n       <defs>\r\n        <path d=\"M 2597 2516 \r\nQ 3050 2419 3304 2112 \r\nQ 3559 1806 3559 1356 \r\nQ 3559 666 3084 287 \r\nQ 2609 -91 1734 -91 \r\nQ 1441 -91 1130 -33 \r\nQ 819 25 488 141 \r\nL 488 750 \r\nQ 750 597 1062 519 \r\nQ 1375 441 1716 441 \r\nQ 2309 441 2620 675 \r\nQ 2931 909 2931 1356 \r\nQ 2931 1769 2642 2001 \r\nQ 2353 2234 1838 2234 \r\nL 1294 2234 \r\nL 1294 2753 \r\nL 1863 2753 \r\nQ 2328 2753 2575 2939 \r\nQ 2822 3125 2822 3475 \r\nQ 2822 3834 2567 4026 \r\nQ 2313 4219 1838 4219 \r\nQ 1578 4219 1281 4162 \r\nQ 984 4106 628 3988 \r\nL 628 4550 \r\nQ 988 4650 1302 4700 \r\nQ 1616 4750 1894 4750 \r\nQ 2613 4750 3031 4423 \r\nQ 3450 4097 3450 3541 \r\nQ 3450 3153 3228 2886 \r\nQ 3006 2619 2597 2516 \r\nz\r\n\" id=\"DejaVuSans-33\" transform=\"scale(0.015625)\"/>\r\n       </defs>\r\n       <use xlink:href=\"#DejaVuSans-31\"/>\r\n       <use x=\"63.623047\" xlink:href=\"#DejaVuSans-31\"/>\r\n       <use x=\"127.246094\" xlink:href=\"#DejaVuSans-33\"/>\r\n      </g>\r\n     </g>\r\n    </g>\r\n   </g>\r\n   <g id=\"matplotlib.axis_2\">\r\n    <g id=\"ytick_1\">\r\n     <g id=\"line2d_9\">\r\n      <defs>\r\n       <path d=\"M 0 0 \r\nL -3.5 0 \r\n\" id=\"m1821a80184\" style=\"stroke:#000000;stroke-width:0.8;\"/>\r\n      </defs>\r\n      <g>\r\n       <use style=\"stroke:#000000;stroke-width:0.8;\" x=\"26.925\" xlink:href=\"#m1821a80184\" y=\"224.64\"/>\r\n      </g>\r\n     </g>\r\n     <g id=\"text_9\">\r\n      <!-- 0 -->\r\n      <g transform=\"translate(13.5625 228.439219)scale(0.1 -0.1)\">\r\n       <use xlink:href=\"#DejaVuSans-30\"/>\r\n      </g>\r\n     </g>\r\n    </g>\r\n    <g id=\"ytick_2\">\r\n     <g id=\"line2d_10\">\r\n      <g>\r\n       <use style=\"stroke:#000000;stroke-width:0.8;\" x=\"26.925\" xlink:href=\"#m1821a80184\" y=\"189.540726\"/>\r\n      </g>\r\n     </g>\r\n     <g id=\"text_10\">\r\n      <!-- 10 -->\r\n      <g transform=\"translate(7.2 193.339945)scale(0.1 -0.1)\">\r\n       <use xlink:href=\"#DejaVuSans-31\"/>\r\n       <use x=\"63.623047\" xlink:href=\"#DejaVuSans-30\"/>\r\n      </g>\r\n     </g>\r\n    </g>\r\n    <g id=\"ytick_3\">\r\n     <g id=\"line2d_11\">\r\n      <g>\r\n       <use style=\"stroke:#000000;stroke-width:0.8;\" x=\"26.925\" xlink:href=\"#m1821a80184\" y=\"154.441453\"/>\r\n      </g>\r\n     </g>\r\n     <g id=\"text_11\">\r\n      <!-- 20 -->\r\n      <g transform=\"translate(7.2 158.240672)scale(0.1 -0.1)\">\r\n       <use xlink:href=\"#DejaVuSans-32\"/>\r\n       <use x=\"63.623047\" xlink:href=\"#DejaVuSans-30\"/>\r\n      </g>\r\n     </g>\r\n    </g>\r\n    <g id=\"ytick_4\">\r\n     <g id=\"line2d_12\">\r\n      <g>\r\n       <use style=\"stroke:#000000;stroke-width:0.8;\" x=\"26.925\" xlink:href=\"#m1821a80184\" y=\"119.342179\"/>\r\n      </g>\r\n     </g>\r\n     <g id=\"text_12\">\r\n      <!-- 30 -->\r\n      <g transform=\"translate(7.2 123.141398)scale(0.1 -0.1)\">\r\n       <use xlink:href=\"#DejaVuSans-33\"/>\r\n       <use x=\"63.623047\" xlink:href=\"#DejaVuSans-30\"/>\r\n      </g>\r\n     </g>\r\n    </g>\r\n    <g id=\"ytick_5\">\r\n     <g id=\"line2d_13\">\r\n      <g>\r\n       <use style=\"stroke:#000000;stroke-width:0.8;\" x=\"26.925\" xlink:href=\"#m1821a80184\" y=\"84.242906\"/>\r\n      </g>\r\n     </g>\r\n     <g id=\"text_13\">\r\n      <!-- 40 -->\r\n      <g transform=\"translate(7.2 88.042124)scale(0.1 -0.1)\">\r\n       <defs>\r\n        <path d=\"M 2419 4116 \r\nL 825 1625 \r\nL 2419 1625 \r\nL 2419 4116 \r\nz\r\nM 2253 4666 \r\nL 3047 4666 \r\nL 3047 1625 \r\nL 3713 1625 \r\nL 3713 1100 \r\nL 3047 1100 \r\nL 3047 0 \r\nL 2419 0 \r\nL 2419 1100 \r\nL 313 1100 \r\nL 313 1709 \r\nL 2253 4666 \r\nz\r\n\" id=\"DejaVuSans-34\" transform=\"scale(0.015625)\"/>\r\n       </defs>\r\n       <use xlink:href=\"#DejaVuSans-34\"/>\r\n       <use x=\"63.623047\" xlink:href=\"#DejaVuSans-30\"/>\r\n      </g>\r\n     </g>\r\n    </g>\r\n    <g id=\"ytick_6\">\r\n     <g id=\"line2d_14\">\r\n      <g>\r\n       <use style=\"stroke:#000000;stroke-width:0.8;\" x=\"26.925\" xlink:href=\"#m1821a80184\" y=\"49.143632\"/>\r\n      </g>\r\n     </g>\r\n     <g id=\"text_14\">\r\n      <!-- 50 -->\r\n      <g transform=\"translate(7.2 52.942851)scale(0.1 -0.1)\">\r\n       <defs>\r\n        <path d=\"M 691 4666 \r\nL 3169 4666 \r\nL 3169 4134 \r\nL 1269 4134 \r\nL 1269 2991 \r\nQ 1406 3038 1543 3061 \r\nQ 1681 3084 1819 3084 \r\nQ 2600 3084 3056 2656 \r\nQ 3513 2228 3513 1497 \r\nQ 3513 744 3044 326 \r\nQ 2575 -91 1722 -91 \r\nQ 1428 -91 1123 -41 \r\nQ 819 9 494 109 \r\nL 494 744 \r\nQ 775 591 1075 516 \r\nQ 1375 441 1709 441 \r\nQ 2250 441 2565 725 \r\nQ 2881 1009 2881 1497 \r\nQ 2881 1984 2565 2268 \r\nQ 2250 2553 1709 2553 \r\nQ 1456 2553 1204 2497 \r\nQ 953 2441 691 2322 \r\nL 691 4666 \r\nz\r\n\" id=\"DejaVuSans-35\" transform=\"scale(0.015625)\"/>\r\n       </defs>\r\n       <use xlink:href=\"#DejaVuSans-35\"/>\r\n       <use x=\"63.623047\" xlink:href=\"#DejaVuSans-30\"/>\r\n      </g>\r\n     </g>\r\n    </g>\r\n    <g id=\"ytick_7\">\r\n     <g id=\"line2d_15\">\r\n      <g>\r\n       <use style=\"stroke:#000000;stroke-width:0.8;\" x=\"26.925\" xlink:href=\"#m1821a80184\" y=\"14.044358\"/>\r\n      </g>\r\n     </g>\r\n     <g id=\"text_15\">\r\n      <!-- 60 -->\r\n      <g transform=\"translate(7.2 17.843577)scale(0.1 -0.1)\">\r\n       <use xlink:href=\"#DejaVuSans-36\"/>\r\n       <use x=\"63.623047\" xlink:href=\"#DejaVuSans-30\"/>\r\n      </g>\r\n     </g>\r\n    </g>\r\n   </g>\r\n   <g id=\"patch_13\">\r\n    <path d=\"M 26.925 224.64 \r\nL 26.925 7.2 \r\n\" style=\"fill:none;stroke:#000000;stroke-linecap:square;stroke-linejoin:miter;stroke-width:0.8;\"/>\r\n   </g>\r\n   <g id=\"patch_14\">\r\n    <path d=\"M 361.725 224.64 \r\nL 361.725 7.2 \r\n\" style=\"fill:none;stroke:#000000;stroke-linecap:square;stroke-linejoin:miter;stroke-width:0.8;\"/>\r\n   </g>\r\n   <g id=\"patch_15\">\r\n    <path d=\"M 26.925 224.64 \r\nL 361.725 224.64 \r\n\" style=\"fill:none;stroke:#000000;stroke-linecap:square;stroke-linejoin:miter;stroke-width:0.8;\"/>\r\n   </g>\r\n   <g id=\"patch_16\">\r\n    <path d=\"M 26.925 7.2 \r\nL 361.725 7.2 \r\n\" style=\"fill:none;stroke:#000000;stroke-linecap:square;stroke-linejoin:miter;stroke-width:0.8;\"/>\r\n   </g>\r\n  </g>\r\n </g>\r\n <defs>\r\n  <clipPath id=\"p5922719fd1\">\r\n   <rect height=\"217.44\" width=\"334.8\" x=\"26.925\" y=\"7.2\"/>\r\n  </clipPath>\r\n </defs>\r\n</svg>\r\n",
      "image/png": "[encoded data removed]"
     },
     "metadata": {
      "needs_background": "light"
     }
    }
   ],
   "source": [
    "plt.hist(y_pred_test)"
   ]
  },
  {
   "cell_type": "code",
   "execution_count": 206,
   "metadata": {},
   "outputs": [],
   "source": [
    "df_leaderboard=pd.DataFrame({'id':test_df['id'],'target':y_pred_test})"
   ]
  },
  {
   "cell_type": "code",
   "execution_count": 207,
   "metadata": {},
   "outputs": [
    {
     "output_type": "execute_result",
     "data": {
      "text/plain": [
       "      id      target\n",
       "0     17  109.697834\n",
       "1     19  107.943775\n",
       "2     25  109.759519\n",
       "3     32  108.930233\n",
       "4     33  108.414670\n",
       "..   ...         ...\n",
       "194  777  109.780622\n",
       "195  783  108.145710\n",
       "196  784  109.985433\n",
       "197  792  110.108989\n",
       "198  796  111.676593\n",
       "\n",
       "[199 rows x 2 columns]"
      ],
      "text/html": "<div>\n<style scoped>\n    .dataframe tbody tr th:only-of-type {\n        vertical-align: middle;\n    }\n\n    .dataframe tbody tr th {\n        vertical-align: top;\n    }\n\n    .dataframe thead th {\n        text-align: right;\n    }\n</style>\n<table border=\"1\" class=\"dataframe\">\n  <thead>\n    <tr style=\"text-align: right;\">\n      <th></th>\n      <th>id</th>\n      <th>target</th>\n    </tr>\n  </thead>\n  <tbody>\n    <tr>\n      <th>0</th>\n      <td>17</td>\n      <td>109.697834</td>\n    </tr>\n    <tr>\n      <th>1</th>\n      <td>19</td>\n      <td>107.943775</td>\n    </tr>\n    <tr>\n      <th>2</th>\n      <td>25</td>\n      <td>109.759519</td>\n    </tr>\n    <tr>\n      <th>3</th>\n      <td>32</td>\n      <td>108.930233</td>\n    </tr>\n    <tr>\n      <th>4</th>\n      <td>33</td>\n      <td>108.414670</td>\n    </tr>\n    <tr>\n      <th>...</th>\n      <td>...</td>\n      <td>...</td>\n    </tr>\n    <tr>\n      <th>194</th>\n      <td>777</td>\n      <td>109.780622</td>\n    </tr>\n    <tr>\n      <th>195</th>\n      <td>783</td>\n      <td>108.145710</td>\n    </tr>\n    <tr>\n      <th>196</th>\n      <td>784</td>\n      <td>109.985433</td>\n    </tr>\n    <tr>\n      <th>197</th>\n      <td>792</td>\n      <td>110.108989</td>\n    </tr>\n    <tr>\n      <th>198</th>\n      <td>796</td>\n      <td>111.676593</td>\n    </tr>\n  </tbody>\n</table>\n<p>199 rows × 2 columns</p>\n</div>"
     },
     "metadata": {},
     "execution_count": 207
    }
   ],
   "source": [
    "df_leaderboard"
   ]
  },
  {
   "cell_type": "code",
   "execution_count": 44,
   "metadata": {},
   "outputs": [
    {
     "output_type": "execute_result",
     "data": {
      "text/plain": [
       "      id      target\n",
       "0     17  110.158718\n",
       "1     19  107.920292\n",
       "2     25  108.159483\n",
       "3     32  104.923576\n",
       "4     33  106.752830\n",
       "..   ...         ...\n",
       "194  777  113.772811\n",
       "195  783  112.309465\n",
       "196  784  113.409241\n",
       "197  792  114.279185\n",
       "198  796  108.703676\n",
       "\n",
       "[199 rows x 2 columns]"
      ],
      "text/html": "<div>\n<style scoped>\n    .dataframe tbody tr th:only-of-type {\n        vertical-align: middle;\n    }\n\n    .dataframe tbody tr th {\n        vertical-align: top;\n    }\n\n    .dataframe thead th {\n        text-align: right;\n    }\n</style>\n<table border=\"1\" class=\"dataframe\">\n  <thead>\n    <tr style=\"text-align: right;\">\n      <th></th>\n      <th>id</th>\n      <th>target</th>\n    </tr>\n  </thead>\n  <tbody>\n    <tr>\n      <th>0</th>\n      <td>17</td>\n      <td>110.158718</td>\n    </tr>\n    <tr>\n      <th>1</th>\n      <td>19</td>\n      <td>107.920292</td>\n    </tr>\n    <tr>\n      <th>2</th>\n      <td>25</td>\n      <td>108.159483</td>\n    </tr>\n    <tr>\n      <th>3</th>\n      <td>32</td>\n      <td>104.923576</td>\n    </tr>\n    <tr>\n      <th>4</th>\n      <td>33</td>\n      <td>106.752830</td>\n    </tr>\n    <tr>\n      <th>...</th>\n      <td>...</td>\n      <td>...</td>\n    </tr>\n    <tr>\n      <th>194</th>\n      <td>777</td>\n      <td>113.772811</td>\n    </tr>\n    <tr>\n      <th>195</th>\n      <td>783</td>\n      <td>112.309465</td>\n    </tr>\n    <tr>\n      <th>196</th>\n      <td>784</td>\n      <td>113.409241</td>\n    </tr>\n    <tr>\n      <th>197</th>\n      <td>792</td>\n      <td>114.279185</td>\n    </tr>\n    <tr>\n      <th>198</th>\n      <td>796</td>\n      <td>108.703676</td>\n    </tr>\n  </tbody>\n</table>\n<p>199 rows × 2 columns</p>\n</div>"
     },
     "metadata": {},
     "execution_count": 44
    }
   ],
   "source": [
    "df_leaderboard"
   ]
  },
  {
   "cell_type": "code",
   "execution_count": 208,
   "metadata": {},
   "outputs": [],
   "source": [
    "df_leaderboard.to_csv('G14_08',index=False)"
   ]
  },
  {
   "cell_type": "code",
   "execution_count": null,
   "metadata": {},
   "outputs": [],
   "source": [
    "tuning_params=[{'n_neighbors':[range(1,45,2)],\n",
    "                'weights':['uniform','distance'],\n",
    "                'p':[1,2,4,6]}]\n",
    "neigh_r=NearestNeighbors()\n",
    "grids = GridSearchCV(neigh_r,tuning_params,cv=3,verbose=5,n_jobs=-1)\n",
    "grids.fit(X_train,y_train)\n",
    "grids.best_params_               \n"
   ]
  },
  {
   "cell_type": "code",
   "execution_count": 201,
   "metadata": {},
   "outputs": [
    {
     "output_type": "execute_result",
     "data": {
      "text/plain": [
       "62    115.5\n",
       "40    103.5\n",
       "95    142.0\n",
       "18     88.0\n",
       "97    147.5\n",
       "84    131.0\n",
       "64    117.0\n",
       "42    104.5\n",
       "10     80.0\n",
       "0      41.0\n",
       "31     96.5\n",
       "76    125.0\n",
       "47    107.5\n",
       "26     93.0\n",
       "44    106.0\n",
       "4      75.0\n",
       "22     90.5\n",
       "12     81.5\n",
       "88    134.0\n",
       "73    123.5\n",
       "49    108.5\n",
       "70    121.5\n",
       "68    120.0\n",
       "15     85.0\n",
       "39    103.0\n",
       "Name: y, dtype: float64"
      ]
     },
     "metadata": {},
     "execution_count": 201
    }
   ],
   "source": [
    "y_test"
   ]
  },
  {
   "cell_type": "code",
   "execution_count": null,
   "metadata": {},
   "outputs": [],
   "source": []
  }
 ],
 "metadata": {
  "kernelspec": {
   "name": "python3",
   "display_name": "Python 3.9.4 64-bit"
  },
  "language_info": {
   "codemirror_mode": {
    "name": "ipython",
    "version": 3
   },
   "file_extension": ".py",
   "mimetype": "text/x-python",
   "name": "python",
   "nbconvert_exporter": "python",
   "pygments_lexer": "ipython3",
   "version": "3.9.4"
  },
  "interpreter": {
   "hash": "1166cef94fc0fcb59fdf1f3664e32c4e91f49a9d01a5d46c1aacacdd3a178a73"
  }
 },
 "nbformat": 4,
 "nbformat_minor": 4
}