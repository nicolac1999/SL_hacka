{
 "cells": [
  {
   "cell_type": "code",
   "execution_count": null,
   "metadata": {},
   "outputs": [],
   "source": []
  },
  {
   "cell_type": "code",
   "execution_count": 96,
   "metadata": {
    "_cell_guid": "b1076dfc-b9ad-4769-8c92-a6c4dae69d19",
    "_uuid": "8f2839f25d086af736a60e9eeb907d3b93b6e0e5",
    "execution": {
     "iopub.execute_input": "2021-06-28T06:33:21.887869Z",
     "iopub.status.busy": "2021-06-28T06:33:21.887480Z",
     "iopub.status.idle": "2021-06-28T06:33:21.901206Z",
     "shell.execute_reply": "2021-06-28T06:33:21.899845Z",
     "shell.execute_reply.started": "2021-06-28T06:33:21.887790Z"
    }
   },
   "outputs": [],
   "source": [
    "import numpy as np \r\n",
    "import pandas as pd \r\n",
    "import matplotlib.pyplot as plt\r\n",
    "from tqdm import tqdm\r\n",
    "tqdm.pandas()\r\n",
    "from sklearn.model_selection import train_test_split\r\n",
    "from sklearn.metrics import mean_squared_error\r\n",
    "from sklearn.svm import SVR\r\n",
    "from sklearn.model_selection import GridSearchCV\r\n",
    "from scipy.stats.stats import pearsonr \r\n",
    "from statistics import NormalDist\r\n",
    "from imblearn.over_sampling import RandomOverSampler\r\n"
   ]
  },
  {
   "cell_type": "code",
   "execution_count": 5,
   "metadata": {
    "execution": {
     "iopub.execute_input": "2021-06-28T06:34:43.500484Z",
     "iopub.status.busy": "2021-06-28T06:34:43.500105Z",
     "iopub.status.idle": "2021-06-28T06:34:48.838859Z",
     "shell.execute_reply": "2021-06-28T06:34:48.837849Z",
     "shell.execute_reply.started": "2021-06-28T06:34:43.500450Z"
    }
   },
   "outputs": [],
   "source": [
    "train_df=pd.read_csv('./Data/train.csv')"
   ]
  },
  {
   "cell_type": "code",
   "execution_count": 6,
   "metadata": {},
   "outputs": [],
   "source": [
    "target_values=train_df['y'].unique()"
   ]
  },
  {
   "cell_type": "code",
   "execution_count": 7,
   "metadata": {},
   "outputs": [
    {
     "name": "stderr",
     "output_type": "stream",
     "text": [
      "0it [00:00, ?it/s]C:\\Users\\Nicola\\AppData\\Local\\Programs\\Python\\Python39\\lib\\site-packages\\numpy\\lib\\function_base.py:2642: RuntimeWarning: invalid value encountered in true_divide\n",
      "  c /= stddev[:, None]\n",
      "C:\\Users\\Nicola\\AppData\\Local\\Programs\\Python\\Python39\\lib\\site-packages\\numpy\\lib\\function_base.py:2643: RuntimeWarning: invalid value encountered in true_divide\n",
      "  c /= stddev[None, :]\n",
      "600it [05:25,  1.84it/s]\n"
     ]
    }
   ],
   "source": [
    "Ric_subjects=[]\r\n",
    "epsi=1/116\r\n",
    "for index,row in tqdm(train_df.iterrows()):\r\n",
    "    subject = np.array(row[5:]).reshape((116, 115)).astype(float)\r\n",
    "    corr = np.corrcoef(subject)\r\n",
    "    Ric=np.zeros((116,116))\r\n",
    "    corr_pos=np.fmax(corr,epsi)\r\n",
    "    for i in range(0,116):\r\n",
    "        for j in range(i,116):\r\n",
    "            val=2-corr_pos[i,j]*(np.sum(1/(np.sqrt(corr_pos[i,j]*corr_pos[i])))+np.sum(1/(np.sqrt(corr_pos[i,j]*corr_pos[j]))))\r\n",
    "            Ric[i,j]=val\r\n",
    "            Ric[j,i]=val\r\n",
    "    Ric_subjects.append(np.mean(Ric,axis=1))"
   ]
  },
  {
   "cell_type": "code",
   "execution_count": 8,
   "metadata": {},
   "outputs": [],
   "source": [
    "Ric_subjects_arr=np.array(Ric_subjects)\r\n",
    "avg=Ric_subjects_arr.mean(axis=0)\r\n",
    "usable_roi=avg>=np.median(avg)\r\n",
    "#ROI=np.array([f'ROI{i}' for i in range(1,117)])\r\n",
    "#ROI[avg>=np.median(avg)]"
   ]
  },
  {
   "cell_type": "code",
   "execution_count": 168,
   "metadata": {},
   "outputs": [
    {
     "name": "stderr",
     "output_type": "stream",
     "text": [
      "100%|██████████| 99/99 [01:42<00:00,  1.03s/it]\n"
     ]
    }
   ],
   "source": [
    "m_ricci = []\r\n",
    "for v in tqdm(range(len(target_values))):\r\n",
    "    corr=[]\r\n",
    "    df_y = train_df[train_df['y']==target_values[v]].iloc[:, 5:]\r\n",
    "    for i in range(0,116):\r\n",
    "        if usable_roi[i]:\r\n",
    "            roi_i=df_y.iloc[:,i*115:(i+1)*115]\r\n",
    "            for j in range(i+1,116):\r\n",
    "                if usable_roi[j]:\r\n",
    "                    roi_j=df_y.iloc[:,(j)*115:(j+1)*115]\r\n",
    "                    corr.append(pearsonr(roi_i.values.flatten(),roi_j.values.flatten())[0])\r\n",
    "    m_ricci.append(corr)\r\n",
    "m_ricci = np.array(m_ricci)\r\n"
   ]
  },
  {
   "cell_type": "code",
   "execution_count": 169,
   "metadata": {},
   "outputs": [
    {
     "data": {
      "text/plain": [
       "(99, 1653)"
      ]
     },
     "execution_count": 169,
     "metadata": {},
     "output_type": "execute_result"
    }
   ],
   "source": [
    "m_ricci.shape"
   ]
  },
  {
   "cell_type": "code",
   "execution_count": 170,
   "metadata": {},
   "outputs": [],
   "source": [
    "def get_corr(row,usable_roi,test=False):\r\n",
    "    if test:\r\n",
    "        brain = np.array(row[4:])\r\n",
    "    else:\r\n",
    "        brain = np.array(row[5:])\r\n",
    "    #brain = brain.reshape((116, 115)).astype(float)\r\n",
    "    #corr = np.corrcoef(brain)\r\n",
    "    #flat = corr[np.triu_indices(corr.shape[0], 1)]\r\n",
    "    corr = []\r\n",
    "    for i in range(0,116):\r\n",
    "        if usable_roi[i]:\r\n",
    "            roi_i=brain[i*115:(i+1)*115]\r\n",
    "            for j in range(i+1,116):\r\n",
    "                if usable_roi[j]:\r\n",
    "                    roi_j=brain[(j)*115:(j+1)*115]\r\n",
    "                    corr.append(pearsonr(roi_i.flatten(), roi_j.flatten())[0])\r\n",
    "    return corr\r\n"
   ]
  },
  {
   "cell_type": "code",
   "execution_count": 171,
   "metadata": {},
   "outputs": [],
   "source": [
    "corr_df_train=pd.DataFrame(m_ricci).fillna(0)\r\n",
    "corr_df_train['y']=target_values"
   ]
  },
  {
   "cell_type": "markdown",
   "metadata": {},
   "source": [
    "# Train"
   ]
  },
  {
   "cell_type": "code",
   "execution_count": 172,
   "metadata": {},
   "outputs": [],
   "source": [
    "X_train, X_test, y_train, y_test = train_test_split(corr_df_train.drop(columns='y'), corr_df_train['y'], test_size=0.25, random_state=42)\r\n"
   ]
  },
  {
   "cell_type": "code",
   "execution_count": 173,
   "metadata": {},
   "outputs": [
    {
     "data": {
      "text/plain": [
       "(74, 1653)"
      ]
     },
     "execution_count": 173,
     "metadata": {},
     "output_type": "execute_result"
    }
   ],
   "source": [
    "X_train.shape"
   ]
  },
  {
   "cell_type": "code",
   "execution_count": 105,
   "metadata": {},
   "outputs": [],
   "source": [
    "sm = RandomOverSampler(random_state=42)\r\n",
    "y_train_pos = np.digitize(y_train, y_train.sort_values().unique())\r\n",
    "X_res, y_res = sm.fit_resample(X_train, y_train_pos)\r\n",
    "X_train, y_train = X_res, y_train.sort_values().unique()[y_res-1]\r\n"
   ]
  },
  {
   "cell_type": "code",
   "execution_count": 106,
   "metadata": {},
   "outputs": [
    {
     "data": {
      "text/plain": [
       "(74, 1653)"
      ]
     },
     "execution_count": 106,
     "metadata": {},
     "output_type": "execute_result"
    }
   ],
   "source": [
    "X_train.shape"
   ]
  },
  {
   "cell_type": "markdown",
   "metadata": {},
   "source": [
    "## SVR"
   ]
  },
  {
   "cell_type": "code",
   "execution_count": 127,
   "metadata": {},
   "outputs": [],
   "source": [
    "#params = [{'kernel' : ['poly'],\r\n",
    "#        'C' : [1,5,10,12,15,20,25],\r\n",
    "#        'degree' : [2,3,4],\r\n",
    "#        'coef0' : [0.02,0.5],\r\n",
    "#        'gamma' : ['auto','scale'],\r\n",
    "#        'epsilon':[0.02]}]\r\n",
    "\r\n",
    "params = [{'kernel' : ['rbf'],\r\n",
    "        'C' : [100,150,200],\r\n",
    "        'gamma' : ['auto','scale'],\r\n",
    "        'epsilon':[0.02]}]\r\n"
   ]
  },
  {
   "cell_type": "code",
   "execution_count": 128,
   "metadata": {},
   "outputs": [
    {
     "name": "stdout",
     "output_type": "stream",
     "text": [
      "Fitting 5 folds for each of 6 candidates, totalling 30 fits\n"
     ]
    },
    {
     "data": {
      "text/plain": [
       "GridSearchCV(cv=5, estimator=SVR(), n_jobs=-1,\n",
       "             param_grid=[{'C': [100, 150, 200], 'epsilon': [0.02],\n",
       "                          'gamma': ['auto', 'scale'], 'kernel': ['rbf']}],\n",
       "             verbose=5)"
      ]
     },
     "execution_count": 128,
     "metadata": {},
     "output_type": "execute_result"
    }
   ],
   "source": [
    "svr_reg=SVR()\r\n",
    "grids = GridSearchCV(svr_reg,params,cv=5,verbose=5,n_jobs=-1)\r\n",
    "grids.fit(X_train,y_train)"
   ]
  },
  {
   "cell_type": "code",
   "execution_count": 129,
   "metadata": {},
   "outputs": [
    {
     "data": {
      "text/plain": [
       "{'C': 100, 'epsilon': 0.02, 'gamma': 'scale', 'kernel': 'rbf'}"
      ]
     },
     "execution_count": 129,
     "metadata": {},
     "output_type": "execute_result"
    }
   ],
   "source": [
    "grids.best_params_"
   ]
  },
  {
   "cell_type": "code",
   "execution_count": 130,
   "metadata": {},
   "outputs": [
    {
     "data": {
      "text/plain": [
       "19.435131569207236"
      ]
     },
     "execution_count": 130,
     "metadata": {},
     "output_type": "execute_result"
    }
   ],
   "source": [
    "y_pred=grids.predict(X_test)\r\n",
    "mean_squared_error(y_test, y_pred,squared=False)"
   ]
  },
  {
   "cell_type": "code",
   "execution_count": 131,
   "metadata": {},
   "outputs": [
    {
     "data": {
      "text/plain": [
       "SVR(C=100, epsilon=0.02)"
      ]
     },
     "execution_count": 131,
     "metadata": {},
     "output_type": "execute_result"
    }
   ],
   "source": [
    "#retrain on all dataset\r\n",
    "#svr_reg=SVR(C= 10, degree= 2, kernel= 'poly')\r\n",
    "#svr_reg=SVR(C= 10, degree= 3, kernel= 'poly',gamma='scale',coef0=0.5\r\n",
    "#svr_reg=SVR(C= 15, degree= 3, kernel= 'poly',gamma='scale',coef0=0.5,epsilon=0.02)\r\n",
    "\r\n",
    "svr_reg=SVR(**grids.best_params_)\r\n",
    "svr_reg.fit(corr_df_train.drop(columns='y'),corr_df_train['y'])"
   ]
  },
  {
   "cell_type": "code",
   "execution_count": 174,
   "metadata": {},
   "outputs": [],
   "source": [
    "from sklearn.neural_network import MLPRegressor"
   ]
  },
  {
   "cell_type": "code",
   "execution_count": 209,
   "metadata": {},
   "outputs": [
    {
     "data": {
      "text/plain": [
       "24.731883401577186"
      ]
     },
     "execution_count": 209,
     "metadata": {},
     "output_type": "execute_result"
    }
   ],
   "source": [
    "regr = MLPRegressor(random_state=1, max_iter=1000,hidden_layer_sizes=(100,20,30,30,30,20,100),alpha=0.01)\r\n",
    "regr.fit(X_train, y_train)\r\n",
    "y_pred_nn=regr.predict(X_test)\r\n",
    "mean_squared_error(y_test, y_pred_nn,squared=False)"
   ]
  },
  {
   "cell_type": "code",
   "execution_count": 193,
   "metadata": {},
   "outputs": [
    {
     "data": {
      "text/plain": [
       "MLPRegressor(alpha=0.5, hidden_layer_sizes=(100, 50, 30, 10), max_iter=1000,\n",
       "             random_state=1)"
      ]
     },
     "execution_count": 193,
     "metadata": {},
     "output_type": "execute_result"
    }
   ],
   "source": [
    "regr.fit(corr_df_train.drop(columns='y'),corr_df_train['y'])"
   ]
  },
  {
   "cell_type": "markdown",
   "metadata": {},
   "source": [
    "# Linear models"
   ]
  },
  {
   "cell_type": "code",
   "execution_count": 76,
   "metadata": {},
   "outputs": [],
   "source": [
    "from sklearn import linear_model\r\n",
    "from sklearn.linear_model import Ridge,Lasso,MultiTaskLasso,Lars,BayesianRidge,RANSACRegressor,TheilSenRegressor,HuberRegressor\r\n",
    "clf = TheilSenRegressor()"
   ]
  },
  {
   "cell_type": "code",
   "execution_count": 138,
   "metadata": {},
   "outputs": [
    {
     "data": {
      "text/plain": [
       "21.63169916742998"
      ]
     },
     "execution_count": 138,
     "metadata": {},
     "output_type": "execute_result"
    }
   ],
   "source": [
    "clf.fit(X_train, y_train)\r\n",
    "y_pred_2=clf.predict(X_test)\r\n",
    "mean_squared_error(y_test, y_pred_2,squared=False)"
   ]
  },
  {
   "cell_type": "code",
   "execution_count": 139,
   "metadata": {},
   "outputs": [
    {
     "data": {
      "text/plain": [
       "TheilSenRegressor(max_subpopulation=10000)"
      ]
     },
     "execution_count": 139,
     "metadata": {},
     "output_type": "execute_result"
    }
   ],
   "source": [
    "clf.fit(corr_df_train.drop(columns='y'),corr_df_train['y'])"
   ]
  },
  {
   "cell_type": "markdown",
   "metadata": {},
   "source": [
    "# Test "
   ]
  },
  {
   "cell_type": "code",
   "execution_count": 184,
   "metadata": {},
   "outputs": [],
   "source": [
    "test_df=pd.read_csv('./Data/test.csv')"
   ]
  },
  {
   "cell_type": "code",
   "execution_count": 185,
   "metadata": {},
   "outputs": [
    {
     "name": "stderr",
     "output_type": "stream",
     "text": [
      "  2%|▏         | 3/199 [00:01<02:08,  1.52it/s]C:\\Users\\Nicola\\AppData\\Local\\Programs\\Python\\Python39\\lib\\site-packages\\scipy\\stats\\stats.py:3913: PearsonRConstantInputWarning: An input array is constant; the correlation coefficent is not defined.\n",
      "  warnings.warn(PearsonRConstantInputWarning())\n",
      "100%|██████████| 199/199 [01:53<00:00,  1.75it/s]\n"
     ]
    }
   ],
   "source": [
    "corr_test=test_df.progress_apply(lambda row:get_corr(row,usable_roi,test=True),axis=1)"
   ]
  },
  {
   "cell_type": "code",
   "execution_count": 187,
   "metadata": {},
   "outputs": [],
   "source": [
    "test_final_df=pd.DataFrame(np.array(corr_test.values.tolist())).fillna(0)"
   ]
  },
  {
   "cell_type": "code",
   "execution_count": 194,
   "metadata": {},
   "outputs": [],
   "source": [
    "#y_pred_test_svr=svr_reg.predict(test_final_df)\r\n",
    "#y_pred_test_ten=clf.predict(test_final_df)\r\n",
    "y_pred_test_nn=regr.predict(test_final_df)"
   ]
  },
  {
   "cell_type": "code",
   "execution_count": 195,
   "metadata": {},
   "outputs": [
    {
     "data": {
      "text/plain": [
       "(array([ 6., 32., 47., 61., 36., 12.,  3.,  1.,  0.,  1.]),\n",
       " array([ 56.35426839,  72.33576185,  88.3172553 , 104.29874876,\n",
       "        120.28024221, 136.26173567, 152.24322912, 168.22472257,\n",
       "        184.20621603, 200.18770948, 216.16920294]),\n",
       " <BarContainer object of 10 artists>)"
      ]
     },
     "execution_count": 195,
     "metadata": {},
     "output_type": "execute_result"
    },
    {
     "data": {
      "image/png": "[encoded data removed]",
      "text/plain": [
       "<Figure size 432x288 with 1 Axes>"
      ]
     },
     "metadata": {
      "needs_background": "light"
     },
     "output_type": "display_data"
    }
   ],
   "source": [
    "plt.hist(y_pred_test_nn)"
   ]
  },
  {
   "cell_type": "code",
   "execution_count": 142,
   "metadata": {},
   "outputs": [
    {
     "data": {
      "text/plain": [
       "(array([ 4.,  7., 18., 38., 40., 36., 27., 13., 11.,  5.]),\n",
       " array([ 63.93048703,  72.40871197,  80.88693692,  89.36516186,\n",
       "         97.84338681, 106.32161176, 114.7998367 , 123.27806165,\n",
       "        131.75628659, 140.23451154, 148.71273648]),\n",
       " <BarContainer object of 10 artists>)"
      ]
     },
     "execution_count": 142,
     "metadata": {},
     "output_type": "execute_result"
    },
    {
     "data": {
      "image/png": "[encoded data removed]",
      "text/plain": [
       "<Figure size 432x288 with 1 Axes>"
      ]
     },
     "metadata": {
      "needs_background": "light"
     },
     "output_type": "display_data"
    }
   ],
   "source": [
    "plt.hist(y_pred_test_ten)"
   ]
  },
  {
   "cell_type": "code",
   "execution_count": 89,
   "metadata": {},
   "outputs": [],
   "source": [
    "y_pred_avg=0.6*y_pred_test_svr+0.4*y_pred_test_ten"
   ]
  },
  {
   "cell_type": "code",
   "execution_count": 196,
   "metadata": {},
   "outputs": [
    {
     "data": {
      "text/plain": [
       "array([ 91.01958021,  86.87812487, 107.62399608,  87.63864217,\n",
       "        91.70855554, 131.11237735, 102.36880391, 112.64836539,\n",
       "        88.83819423, 108.99817563, 117.07302242, 135.28726952,\n",
       "        98.59245168, 154.07744924, 126.57961317,  99.26943518,\n",
       "       114.56017856, 108.76199331, 117.78285557, 137.23065129,\n",
       "       143.71655368, 101.30832029, 112.87064931, 107.09920828,\n",
       "       127.80451068, 122.12518814, 117.60761149, 147.17868176,\n",
       "       107.63807266, 125.79878179, 109.7249138 , 121.73597143,\n",
       "       147.63713973, 111.82963667, 169.24361651, 154.08287968,\n",
       "       119.03089022, 105.49243132,  95.64262667,  94.5511226 ,\n",
       "        92.13833903, 135.81386058, 126.36176374,  83.46558429,\n",
       "       120.15409694, 110.07717304, 129.15830486,  90.08806544,\n",
       "        92.57921185,  95.4918722 , 216.16920294, 115.3475786 ,\n",
       "       127.43762174, 129.93137063, 151.60839774, 115.57346961,\n",
       "       103.31514638, 124.94832967, 106.31884113,  87.50889628,\n",
       "       101.05974114,  82.09508694,  92.15225089, 125.48105673,\n",
       "       110.86968334,  70.76899765, 118.4780055 , 141.2308013 ,\n",
       "        99.6140944 , 125.27970342,  83.41028994, 114.2322624 ,\n",
       "        77.28656361, 122.34026032, 106.40426937, 124.33576883,\n",
       "        97.84907664,  87.74759035,  83.61487704,  69.83964382,\n",
       "        56.35426839, 107.56246308, 117.65754669, 128.23835287,\n",
       "       103.46364212, 145.0847717 , 144.41621086,  89.35683834,\n",
       "       135.31752023, 153.33231575,  93.58614523, 104.55703063,\n",
       "       134.91913764,  88.59432977, 120.71769539, 130.48790662,\n",
       "       123.02061709, 117.7511806 , 109.13766964, 109.9124393 ,\n",
       "       113.4252574 , 125.89152556,  86.09727106,  93.64558728,\n",
       "        92.16875129, 112.61098472,  78.42791462,  84.45609953,\n",
       "        67.97731481, 111.33987528,  79.97569264,  83.21501691,\n",
       "       107.71372176, 101.02549616, 110.64227589,  87.99063976,\n",
       "       105.43559428,  73.02352801,  86.39124775,  99.22790752,\n",
       "       110.00941703, 118.05443152,  78.7705305 , 104.55461031,\n",
       "        96.40698482, 122.94111321, 116.57784048,  84.59017861,\n",
       "        97.91886097, 120.74440951, 119.36563714, 106.59693669,\n",
       "        80.29003627, 113.64656371, 115.29119221, 112.45373716,\n",
       "        95.53451746, 123.51987459,  92.44091621, 114.14148562,\n",
       "       103.60447388,  74.80018322, 124.01559918, 118.58303278,\n",
       "        87.14267669,  70.66985031,  86.76656577, 116.90220841,\n",
       "        75.22945382, 115.70973312, 122.36279268, 113.34930725,\n",
       "        83.26833974,  94.01200095, 112.99116065, 113.04769119,\n",
       "       105.7338434 ,  96.19825944, 114.0926933 , 133.391905  ,\n",
       "        96.74472868,  87.87662766, 131.06694351, 118.48738139,\n",
       "       102.18009822,  94.06214018, 102.50904449, 121.65551439,\n",
       "       117.10982682, 132.02169731, 128.2250708 ,  87.04467465,\n",
       "       107.99779518, 138.80816769, 140.91911564, 117.72122223,\n",
       "        74.26120359,  97.98338852,  76.1236298 ,  95.60024907,\n",
       "        68.58320982,  81.04814174,  90.51826981,  90.35689437,\n",
       "       126.1706271 , 136.88164468,  93.19403056,  76.96740135,\n",
       "        78.83519381, 111.40792742, 122.4575533 ,  92.69265942,\n",
       "       115.45412188,  89.65713017, 103.93713361, 116.90454477,\n",
       "       147.74623278, 101.89707972, 103.17005362])"
      ]
     },
     "execution_count": 196,
     "metadata": {},
     "output_type": "execute_result"
    }
   ],
   "source": [
    "y_pred_test_nn"
   ]
  },
  {
   "cell_type": "code",
   "execution_count": 91,
   "metadata": {},
   "outputs": [],
   "source": [
    "df_leaderboard=pd.DataFrame({'id':test_df['id'],'target':y_pred_avg})"
   ]
  },
  {
   "cell_type": "code",
   "execution_count": 92,
   "metadata": {},
   "outputs": [],
   "source": [
    "df_leaderboard.to_csv('G14_26_avg_models',index=False)"
   ]
  },
  {
   "cell_type": "code",
   "execution_count": null,
   "metadata": {},
   "outputs": [],
   "source": []
  },
  {
   "cell_type": "code",
   "execution_count": 203,
   "metadata": {},
   "outputs": [
    {
     "data": {
      "text/plain": [
       "(array([2., 1., 1., 3., 2., 0., 1., 3., 1., 0., 3., 2., 0., 1., 3., 0., 1.,\n",
       "        0., 0., 1.]),\n",
       " array([ 75.05723571,  78.02473113,  80.99222654,  83.95972196,\n",
       "         86.92721738,  89.8947128 ,  92.86220822,  95.82970364,\n",
       "         98.79719905, 101.76469447, 104.73218989, 107.69968531,\n",
       "        110.66718073, 113.63467615, 116.60217157, 119.56966698,\n",
       "        122.5371624 , 125.50465782, 128.47215324, 131.43964866,\n",
       "        134.40714408]),\n",
       " <BarContainer object of 20 artists>)"
      ]
     },
     "execution_count": 203,
     "metadata": {},
     "output_type": "execute_result"
    },
    {
     "data": {
      "image/png": "[encoded data removed]",
      "text/plain": [
       "<Figure size 432x288 with 1 Axes>"
      ]
     },
     "metadata": {
      "needs_background": "light"
     },
     "output_type": "display_data"
    }
   ],
   "source": [
    "plt.hist(y_test, bins=20)\r\n",
    "#plt.hist(y_pred, bins=20)\r\n",
    "plt.hist(y_pred_nn, bins=20);\r\n"
   ]
  },
  {
   "cell_type": "code",
   "execution_count": 210,
   "metadata": {},
   "outputs": [
    {
     "data": {
      "text/plain": [
       "<matplotlib.collections.PathCollection at 0x1c9482bb7f0>"
      ]
     },
     "execution_count": 210,
     "metadata": {},
     "output_type": "execute_result"
    },
    {
     "data": {
      "image/png": "[encoded data removed]",
      "text/plain": [
       "<Figure size 432x288 with 1 Axes>"
      ]
     },
     "metadata": {
      "needs_background": "light"
     },
     "output_type": "display_data"
    }
   ],
   "source": [
    "plt.scatter(y_test, y_pred_nn)\r\n",
    "#plt.scatter(y_test, y_pred_2)\r\n"
   ]
  },
  {
   "cell_type": "code",
   "execution_count": 211,
   "metadata": {},
   "outputs": [
    {
     "data": {
      "text/plain": [
       "<matplotlib.collections.PathCollection at 0x1c9482ffc40>"
      ]
     },
     "execution_count": 211,
     "metadata": {},
     "output_type": "execute_result"
    },
    {
     "data": {
      "image/png": "[encoded data removed]",
      "text/plain": [
       "<Figure size 432x288 with 1 Axes>"
      ]
     },
     "metadata": {
      "needs_background": "light"
     },
     "output_type": "display_data"
    }
   ],
   "source": [
    "plt.scatter(y_test, (y_test-y_pred_nn))\r\n",
    "#plt.scatter(y_test, (y_test-y_pred_2))\r\n",
    "#plt.scatter(y_test, (y_test-(0.6*y_pred+0.4*y_pred_2)))\r\n"
   ]
  },
  {
   "cell_type": "code",
   "execution_count": 79,
   "metadata": {},
   "outputs": [
    {
     "name": "stdout",
     "output_type": "stream",
     "text": [
      "0.0 21.15634742207624\n",
      "0.01 21.113671266384554\n",
      "0.02 21.071358580130696\n",
      "0.03 21.029411557294615\n",
      "0.04 20.987832390359873\n",
      "0.05 20.946623269914795\n",
      "0.06 20.905786384246984\n",
      "0.07 20.865323918931413\n",
      "0.08 20.825238056411983\n",
      "0.09 20.785530975576798\n",
      "0.1 20.746204851327132\n",
      "0.11 20.707261854140206\n",
      "0.12 20.668704149625945\n",
      "0.13 20.630533898077708\n",
      "0.14 20.5927532540172\n",
      "0.15 20.55536436573365\n",
      "0.16 20.51836937481737\n",
      "0.17 20.481770415687897\n",
      "0.18 20.44556961511678\n",
      "0.19 20.409769091745236\n",
      "0.2 20.37437095559678\n",
      "0.21 20.339377307585067\n",
      "0.22 20.304790239017024\n",
      "0.23 20.27061183109157\n",
      "0.24 20.236844154394035\n",
      "0.25 20.203489268386505\n",
      "0.26 20.17054922089429\n",
      "0.27 20.13802604758877\n",
      "0.28 20.10592177146679\n",
      "0.29 20.07423840232687\n",
      "0.3 20.042977936242444\n",
      "0.31 20.012142355032406\n",
      "0.32 19.981733625729184\n",
      "0.33 19.951753700044634\n",
      "0.34 19.922204513833986\n",
      "0.35000000000000003 19.89308798655814\n",
      "0.36 19.864406020744596\n",
      "0.37 19.836160501447317\n",
      "0.38 19.808353295705754\n",
      "0.39 19.780986252003448\n",
      "0.4 19.754061199726397\n",
      "0.41000000000000003 19.727579948621578\n",
      "0.42 19.70154428825595\n",
      "0.43 19.67595598747616\n",
      "0.44 19.650816793869442\n",
      "0.45 19.626128433225887\n",
      "0.46 19.601892609002533\n",
      "0.47000000000000003 19.578111001789534\n",
      "0.48 19.554785268778858\n",
      "0.49 19.531917043235747\n",
      "0.5 19.509507933973357\n",
      "0.51 19.487559524830953\n",
      "0.52 19.46607337415597\n",
      "0.53 19.4450510142903\n",
      "0.54 19.424493951061233\n",
      "0.55 19.404403663277332\n",
      "0.56 19.384781602229648\n",
      "0.5700000000000001 19.36562919119865\n",
      "0.58 19.34694782496721\n",
      "0.59 19.32873886934002\n",
      "0.6 19.311003660669787\n",
      "0.61 19.2937435053906\n",
      "0.62 19.276959679558814\n",
      "0.63 19.260653428401763\n",
      "0.64 19.244825965874742\n",
      "0.65 19.229478474226568\n",
      "0.66 19.214612103574016\n",
      "0.67 19.200227971485578\n",
      "0.68 19.186327162574795\n",
      "0.6900000000000001 19.17291072810353\n",
      "0.7000000000000001 19.159979685595534\n",
      "0.71 19.147535018460566\n",
      "0.72 19.135577675629442\n",
      "0.73 19.124108571200278\n",
      "0.74 19.11312858409627\n",
      "0.75 19.10263855773526\n",
      "0.76 19.092639299711397\n",
      "0.77 19.083131581489134\n",
      "0.78 19.07411613810994\n",
      "0.79 19.065593667911788\n",
      "0.8 19.057564832261864\n",
      "0.81 19.05003025530259\n",
      "0.8200000000000001 19.042990523711296\n",
      "0.8300000000000001 19.036446186473626\n",
      "0.84 19.03039775467103\n",
      "0.85 19.024845701282423\n",
      "0.86 19.019790461000202\n",
      "0.87 19.015232430060856\n",
      "0.88 19.011171966090252\n",
      "0.89 19.007609387963758\n",
      "0.9 19.004544975681313\n",
      "0.91 19.001978970257646\n",
      "0.92 18.999911573627593\n",
      "0.93 18.998342948566737\n",
      "0.9400000000000001 18.997273218627388\n",
      "0.9500000000000001 18.99670246808991\n",
      "0.96 18.99663074192956\n",
      "0.97 18.997058045798752\n",
      "0.98 18.99798434602484\n",
      "0.99 18.999409569623385\n"
     ]
    }
   ],
   "source": [
    "for i in np.arange(0,1,0.01):\r\n",
    "    print(i,mean_squared_error(y_test, i*y_pred+(1-i)*y_pred_2,squared=False))"
   ]
  },
  {
   "cell_type": "code",
   "execution_count": 145,
   "metadata": {},
   "outputs": [],
   "source": [
    "ROI=np.array([f'ROI{i}' for i in range(1,117)])[avg>=np.median(avg)]\r\n"
   ]
  },
  {
   "cell_type": "code",
   "execution_count": 154,
   "metadata": {},
   "outputs": [
    {
     "data": {
      "text/plain": [
       "array(['ROI1', 'ROI3', 'ROI4', 'ROI5', 'ROI7', 'ROI8', 'ROI9', 'ROI10',\n",
       "       'ROI11', 'ROI12', 'ROI13', 'ROI19', 'ROI20', 'ROI21', 'ROI33',\n",
       "       'ROI34', 'ROI35', 'ROI36', 'ROI45', 'ROI46', 'ROI50', 'ROI51',\n",
       "       'ROI52', 'ROI53', 'ROI54', 'ROI59', 'ROI60', 'ROI61', 'ROI62',\n",
       "       'ROI65', 'ROI66', 'ROI67', 'ROI68', 'ROI69', 'ROI70', 'ROI71',\n",
       "       'ROI72', 'ROI85', 'ROI86', 'ROI87', 'ROI88', 'ROI90', 'ROI95',\n",
       "       'ROI96', 'ROI101', 'ROI102', 'ROI103', 'ROI104', 'ROI105',\n",
       "       'ROI106', 'ROI107', 'ROI108', 'ROI109', 'ROI110', 'ROI113',\n",
       "       'ROI114', 'ROI115', 'ROI116'], dtype='<U6')"
      ]
     },
     "execution_count": 154,
     "metadata": {},
     "output_type": "execute_result"
    }
   ],
   "source": [
    "ROI"
   ]
  },
  {
   "cell_type": "code",
   "execution_count": 152,
   "metadata": {},
   "outputs": [],
   "source": [
    "columns=[ROI[i]+'-'+ROI[j] for i in range(0,len(ROI)-1) for j in range(i+1,len(ROI))]"
   ]
  },
  {
   "cell_type": "code",
   "execution_count": 212,
   "metadata": {},
   "outputs": [
    {
     "data": {
      "text/plain": [
       "0      True\n",
       "1      True\n",
       "2      True\n",
       "3      True\n",
       "4     False\n",
       "      ...  \n",
       "94    False\n",
       "95    False\n",
       "96    False\n",
       "97    False\n",
       "98    False\n",
       "Name: y, Length: 99, dtype: bool"
      ]
     },
     "execution_count": 212,
     "metadata": {},
     "output_type": "execute_result"
    }
   ],
   "source": [
    "(corr_df_train['y'] > 100) & (corr_df_train['y'] < 120)\r\n"
   ]
  },
  {
   "cell_type": "code",
   "execution_count": 214,
   "metadata": {},
   "outputs": [
    {
     "data": {
      "text/plain": [
       "33    False\n",
       "9     False\n",
       "81     True\n",
       "11    False\n",
       "65    False\n",
       "      ...  \n",
       "60     True\n",
       "71    False\n",
       "14    False\n",
       "92    False\n",
       "51    False\n",
       "Name: y, Length: 74, dtype: bool"
      ]
     },
     "execution_count": 214,
     "metadata": {},
     "output_type": "execute_result"
    }
   ],
   "source": [
    "(y_train > 100) & (y_train < 120)\r\n"
   ]
  }
 ],
 "metadata": {
  "interpreter": {
   "hash": "1166cef94fc0fcb59fdf1f3664e32c4e91f49a9d01a5d46c1aacacdd3a178a73"
  },
  "kernelspec": {
   "display_name": "Python 3.9.4 64-bit",
   "name": "python3"
  },
  "language_info": {
   "codemirror_mode": {
    "name": "ipython",
    "version": 3
   },
   "file_extension": ".py",
   "mimetype": "text/x-python",
   "name": "python",
   "nbconvert_exporter": "python",
   "pygments_lexer": "ipython3",
   "version": "3.9.4"
  }
 },
 "nbformat": 4,
 "nbformat_minor": 4
}