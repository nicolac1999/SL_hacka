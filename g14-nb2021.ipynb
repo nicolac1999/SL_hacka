{
 "cells": [
  {
   "cell_type": "code",
   "execution_count": 38,
   "metadata": {
    "_cell_guid": "b1076dfc-b9ad-4769-8c92-a6c4dae69d19",
    "_uuid": "8f2839f25d086af736a60e9eeb907d3b93b6e0e5",
    "execution": {
     "iopub.execute_input": "2021-06-28T06:33:21.887869Z",
     "iopub.status.busy": "2021-06-28T06:33:21.887480Z",
     "iopub.status.idle": "2021-06-28T06:33:21.901206Z",
     "shell.execute_reply": "2021-06-28T06:33:21.899845Z",
     "shell.execute_reply.started": "2021-06-28T06:33:21.887790Z"
    }
   },
   "outputs": [],
   "source": [
    "\n",
    "import numpy as np # linear algebra\n",
    "import pandas as pd # data processing, CSV file I/O (e.g. pd.read_csv)\n",
    "import matplotlib.pyplot as plt\n",
    "import os\n",
    "from tqdm import tqdm\n",
    "tqdm.pandas()\n",
    "from sklearn.linear_model import LinearRegression\n",
    "from sklearn.model_selection import train_test_split\n",
    "from sklearn.metrics import mean_squared_error\n",
    "from sklearn.svm import SVR\n",
    "from sklearn.model_selection import RandomizedSearchCV,GridSearchCV\n"
   ]
  },
  {
   "cell_type": "code",
   "execution_count": 3,
   "metadata": {
    "execution": {
     "iopub.execute_input": "2021-06-28T06:34:43.500484Z",
     "iopub.status.busy": "2021-06-28T06:34:43.500105Z",
     "iopub.status.idle": "2021-06-28T06:34:48.838859Z",
     "shell.execute_reply": "2021-06-28T06:34:48.837849Z",
     "shell.execute_reply.started": "2021-06-28T06:34:43.500450Z"
    }
   },
   "outputs": [],
   "source": [
    "train_df=pd.read_csv('./Data/train.csv')"
   ]
  },
  {
   "cell_type": "code",
   "execution_count": 4,
   "metadata": {
    "execution": {
     "iopub.execute_input": "2021-06-28T06:21:10.120687Z",
     "iopub.status.busy": "2021-06-28T06:21:10.120353Z",
     "iopub.status.idle": "2021-06-28T06:21:10.154972Z",
     "shell.execute_reply": "2021-06-28T06:21:10.154058Z",
     "shell.execute_reply.started": "2021-06-28T06:21:10.120657Z"
    }
   },
   "outputs": [
    {
     "output_type": "execute_result",
     "data": {
      "text/plain": [
       "   id      y  var1 var2 var3   t1_2001   t2_2001   t3_2001   t4_2001  \\\n",
       "0   1  113.0    19    A    A -0.140642 -0.388162 -0.574181 -0.583770   \n",
       "1   2  119.0    14    C    A  0.023754 -0.105455 -0.245025 -0.310670   \n",
       "2   3  109.0    13    A    A  0.180818  0.135004  0.001879 -0.134548   \n",
       "3   4  110.0    18    A    A -0.234780 -0.094543  0.193084  0.508519   \n",
       "4   5  123.0    32    A    A -0.130934 -0.360313 -0.547045 -0.603495   \n",
       "\n",
       "    t5_2001  ...  t106_9170  t107_9170  t108_9170  t109_9170  t110_9170  \\\n",
       "0 -0.376220  ...   0.584130  -0.100278  -0.846640  -1.461938  -1.801008   \n",
       "1 -0.249384  ...  -3.024336  -2.480266  -1.118005   0.181451   0.726820   \n",
       "2 -0.185928  ...  -0.156851  -0.262902  -0.668436  -1.172372  -1.387328   \n",
       "3  0.668783  ...  -1.358540  -0.028478   0.535346  -0.116384  -1.542395   \n",
       "4 -0.508025  ...  -0.825535  -0.392556   0.156361   0.567142   0.756362   \n",
       "\n",
       "   t111_9170  t112_9170  t113_9170  t114_9170  t115_9170  \n",
       "0  -1.804553  -1.500023  -0.980571  -0.377526   0.168243  \n",
       "1   0.401501  -0.356744  -0.913405  -0.854943  -0.193468  \n",
       "2  -1.016077  -0.103130   0.935900   1.550512   1.405350  \n",
       "3  -2.486781  -1.631185   1.481241   6.015514  10.233163  \n",
       "4   0.809336   0.844580   0.876423   0.801686   0.524566  \n",
       "\n",
       "[5 rows x 13345 columns]"
      ],
      "text/html": "<div>\n<style scoped>\n    .dataframe tbody tr th:only-of-type {\n        vertical-align: middle;\n    }\n\n    .dataframe tbody tr th {\n        vertical-align: top;\n    }\n\n    .dataframe thead th {\n        text-align: right;\n    }\n</style>\n<table border=\"1\" class=\"dataframe\">\n  <thead>\n    <tr style=\"text-align: right;\">\n      <th></th>\n      <th>id</th>\n      <th>y</th>\n      <th>var1</th>\n      <th>var2</th>\n      <th>var3</th>\n      <th>t1_2001</th>\n      <th>t2_2001</th>\n      <th>t3_2001</th>\n      <th>t4_2001</th>\n      <th>t5_2001</th>\n      <th>...</th>\n      <th>t106_9170</th>\n      <th>t107_9170</th>\n      <th>t108_9170</th>\n      <th>t109_9170</th>\n      <th>t110_9170</th>\n      <th>t111_9170</th>\n      <th>t112_9170</th>\n      <th>t113_9170</th>\n      <th>t114_9170</th>\n      <th>t115_9170</th>\n    </tr>\n  </thead>\n  <tbody>\n    <tr>\n      <th>0</th>\n      <td>1</td>\n      <td>113.0</td>\n      <td>19</td>\n      <td>A</td>\n      <td>A</td>\n      <td>-0.140642</td>\n      <td>-0.388162</td>\n      <td>-0.574181</td>\n      <td>-0.583770</td>\n      <td>-0.376220</td>\n      <td>...</td>\n      <td>0.584130</td>\n      <td>-0.100278</td>\n      <td>-0.846640</td>\n      <td>-1.461938</td>\n      <td>-1.801008</td>\n      <td>-1.804553</td>\n      <td>-1.500023</td>\n      <td>-0.980571</td>\n      <td>-0.377526</td>\n      <td>0.168243</td>\n    </tr>\n    <tr>\n      <th>1</th>\n      <td>2</td>\n      <td>119.0</td>\n      <td>14</td>\n      <td>C</td>\n      <td>A</td>\n      <td>0.023754</td>\n      <td>-0.105455</td>\n      <td>-0.245025</td>\n      <td>-0.310670</td>\n      <td>-0.249384</td>\n      <td>...</td>\n      <td>-3.024336</td>\n      <td>-2.480266</td>\n      <td>-1.118005</td>\n      <td>0.181451</td>\n      <td>0.726820</td>\n      <td>0.401501</td>\n      <td>-0.356744</td>\n      <td>-0.913405</td>\n      <td>-0.854943</td>\n      <td>-0.193468</td>\n    </tr>\n    <tr>\n      <th>2</th>\n      <td>3</td>\n      <td>109.0</td>\n      <td>13</td>\n      <td>A</td>\n      <td>A</td>\n      <td>0.180818</td>\n      <td>0.135004</td>\n      <td>0.001879</td>\n      <td>-0.134548</td>\n      <td>-0.185928</td>\n      <td>...</td>\n      <td>-0.156851</td>\n      <td>-0.262902</td>\n      <td>-0.668436</td>\n      <td>-1.172372</td>\n      <td>-1.387328</td>\n      <td>-1.016077</td>\n      <td>-0.103130</td>\n      <td>0.935900</td>\n      <td>1.550512</td>\n      <td>1.405350</td>\n    </tr>\n    <tr>\n      <th>3</th>\n      <td>4</td>\n      <td>110.0</td>\n      <td>18</td>\n      <td>A</td>\n      <td>A</td>\n      <td>-0.234780</td>\n      <td>-0.094543</td>\n      <td>0.193084</td>\n      <td>0.508519</td>\n      <td>0.668783</td>\n      <td>...</td>\n      <td>-1.358540</td>\n      <td>-0.028478</td>\n      <td>0.535346</td>\n      <td>-0.116384</td>\n      <td>-1.542395</td>\n      <td>-2.486781</td>\n      <td>-1.631185</td>\n      <td>1.481241</td>\n      <td>6.015514</td>\n      <td>10.233163</td>\n    </tr>\n    <tr>\n      <th>4</th>\n      <td>5</td>\n      <td>123.0</td>\n      <td>32</td>\n      <td>A</td>\n      <td>A</td>\n      <td>-0.130934</td>\n      <td>-0.360313</td>\n      <td>-0.547045</td>\n      <td>-0.603495</td>\n      <td>-0.508025</td>\n      <td>...</td>\n      <td>-0.825535</td>\n      <td>-0.392556</td>\n      <td>0.156361</td>\n      <td>0.567142</td>\n      <td>0.756362</td>\n      <td>0.809336</td>\n      <td>0.844580</td>\n      <td>0.876423</td>\n      <td>0.801686</td>\n      <td>0.524566</td>\n    </tr>\n  </tbody>\n</table>\n<p>5 rows × 13345 columns</p>\n</div>"
     },
     "metadata": {},
     "execution_count": 4
    }
   ],
   "source": [
    "train_df.head()"
   ]
  },
  {
   "cell_type": "code",
   "execution_count": 6,
   "metadata": {},
   "outputs": [],
   "source": [
    "columns=[f'Roi{i}-Roi{j}'  for i in range(1,116) for j in range (i+1,117) ]"
   ]
  },
  {
   "cell_type": "code",
   "execution_count": 7,
   "metadata": {},
   "outputs": [],
   "source": [
    "def get_corr(row,test=False):\n",
    "    if test:\n",
    "        brain = np.array(row[4:])\n",
    "    else:\n",
    "        brain = np.array(row[5:])\n",
    "    brain = brain.reshape((116, 115)).astype(float)\n",
    "    corr = np.corrcoef(brain)\n",
    "    flat = corr[np.triu_indices(corr.shape[0], 1)]\n",
    "    return flat.tolist()\n"
   ]
  },
  {
   "cell_type": "code",
   "execution_count": 8,
   "metadata": {},
   "outputs": [
    {
     "output_type": "stream",
     "name": "stderr",
     "text": [
      "  0%|          | 1/600 [00:01<12:07,  1.22s/it]C:\\Users\\Nicola\\AppData\\Local\\Programs\\Python\\Python39\\lib\\site-packages\\numpy\\lib\\function_base.py:2642: RuntimeWarning: invalid value encountered in true_divide\n",
      "  c /= stddev[:, None]\n",
      "C:\\Users\\Nicola\\AppData\\Local\\Programs\\Python\\Python39\\lib\\site-packages\\numpy\\lib\\function_base.py:2643: RuntimeWarning: invalid value encountered in true_divide\n",
      "  c /= stddev[None, :]\n",
      "100%|██████████| 600/600 [00:16<00:00, 35.72it/s]\n"
     ]
    }
   ],
   "source": [
    "corr=train_df.progress_apply(lambda x :get_corr(x),axis=1)"
   ]
  },
  {
   "cell_type": "code",
   "execution_count": 12,
   "metadata": {},
   "outputs": [],
   "source": [
    "corr_df=pd.DataFrame(np.array(corr.values.tolist()),columns=columns).fillna(0)"
   ]
  },
  {
   "cell_type": "code",
   "execution_count": 13,
   "metadata": {},
   "outputs": [],
   "source": [
    "first_cols = train_df.iloc[:, [1,2,3,4]]"
   ]
  },
  {
   "cell_type": "code",
   "execution_count": 14,
   "metadata": {},
   "outputs": [],
   "source": [
    "new_train = first_cols.join(corr_df)"
   ]
  },
  {
   "cell_type": "code",
   "execution_count": 16,
   "metadata": {},
   "outputs": [],
   "source": [
    "new_train['var2'].replace({'A':0, 'C':1}, inplace = True)\n",
    "new_train['var3'].replace({'A':0, 'C':1}, inplace = True)"
   ]
  },
  {
   "cell_type": "code",
   "execution_count": 17,
   "metadata": {},
   "outputs": [
    {
     "output_type": "execute_result",
     "data": {
      "text/plain": [
       "         y  var1  var2  var3  Roi1-Roi2  Roi1-Roi3  Roi1-Roi4  Roi1-Roi5  \\\n",
       "0    113.0    19     0     0   0.320408  -0.156421  -0.115766  -0.306091   \n",
       "1    119.0    14     1     0   0.386406   0.084164  -0.226632  -0.136301   \n",
       "2    109.0    13     0     0   0.809958   0.096828  -0.012295  -0.658145   \n",
       "3    110.0    18     0     0   0.371073   0.340416   0.165785   0.319523   \n",
       "4    123.0    32     0     0   0.238808  -0.075542  -0.312048   0.343195   \n",
       "..     ...   ...   ...   ...        ...        ...        ...        ...   \n",
       "595  110.0    41     0     0   0.239704   0.334075  -0.133219   0.396904   \n",
       "596  120.0    64     0     0   0.082087   0.106322  -0.234501  -0.227719   \n",
       "597   96.0    27     0     0   0.550363  -0.173623  -0.087052  -0.076264   \n",
       "598  118.0    29     1     0   0.302419   0.042842  -0.557081  -0.029869   \n",
       "599  110.0    26     0     0   0.297124   0.075646  -0.318396  -0.048918   \n",
       "\n",
       "     Roi1-Roi6  Roi1-Roi7  ...  Roi112-Roi113  Roi112-Roi114  Roi112-Roi115  \\\n",
       "0     0.034975  -0.147885  ...       0.006686      -0.285579      -0.072048   \n",
       "1    -0.428097  -0.126119  ...       0.736991       0.147084      -0.159465   \n",
       "2    -0.565232   0.436640  ...       0.200037       0.393775      -0.085829   \n",
       "3     0.071653  -0.006067  ...       0.711573       0.449607      -0.101063   \n",
       "4    -0.017375   0.279959  ...       0.464747       0.110613       0.242850   \n",
       "..         ...        ...  ...            ...            ...            ...   \n",
       "595   0.218766   0.401353  ...       0.868837       0.570910       0.411275   \n",
       "596  -0.221337   0.428577  ...       0.192933      -0.112865       0.101323   \n",
       "597  -0.334513   0.005763  ...       0.673816       0.309224       0.328117   \n",
       "598  -0.165823   0.216248  ...       0.168198       0.348409      -0.134313   \n",
       "599   0.141353   0.234284  ...       0.606218       0.454123       0.211787   \n",
       "\n",
       "     Roi112-Roi116  Roi113-Roi114  Roi113-Roi115  Roi113-Roi116  \\\n",
       "0         0.411215       0.322524       0.208173      -0.071341   \n",
       "1         0.264405       0.006974       0.009238       0.266661   \n",
       "2         0.266476       0.340162      -0.142864       0.342046   \n",
       "3         0.494471       0.630120       0.089310       0.583527   \n",
       "4         0.180382       0.264813       0.369938       0.449401   \n",
       "..             ...            ...            ...            ...   \n",
       "595       0.662582       0.576929       0.390116       0.636213   \n",
       "596       0.343547       0.358325       0.412704       0.412598   \n",
       "597       0.451602       0.389896       0.261399       0.427783   \n",
       "598       0.081805       0.124225      -0.034212      -0.042134   \n",
       "599       0.208022       0.403398       0.277017       0.310910   \n",
       "\n",
       "     Roi114-Roi115  Roi114-Roi116  Roi115-Roi116  \n",
       "0         0.282784      -0.055727       0.144371  \n",
       "1         0.047870       0.112745       0.142081  \n",
       "2         0.374683       0.281569      -0.166943  \n",
       "3         0.391849       0.529610       0.202928  \n",
       "4        -0.011589       0.637432       0.323892  \n",
       "..             ...            ...            ...  \n",
       "595       0.414633       0.584703       0.823124  \n",
       "596       0.035520      -0.126774       0.412996  \n",
       "597       0.504431       0.574561       0.499287  \n",
       "598       0.136920       0.025787      -0.288578  \n",
       "599       0.246480       0.317431       0.150887  \n",
       "\n",
       "[600 rows x 6674 columns]"
      ],
      "text/html": "<div>\n<style scoped>\n    .dataframe tbody tr th:only-of-type {\n        vertical-align: middle;\n    }\n\n    .dataframe tbody tr th {\n        vertical-align: top;\n    }\n\n    .dataframe thead th {\n        text-align: right;\n    }\n</style>\n<table border=\"1\" class=\"dataframe\">\n  <thead>\n    <tr style=\"text-align: right;\">\n      <th></th>\n      <th>y</th>\n      <th>var1</th>\n      <th>var2</th>\n      <th>var3</th>\n      <th>Roi1-Roi2</th>\n      <th>Roi1-Roi3</th>\n      <th>Roi1-Roi4</th>\n      <th>Roi1-Roi5</th>\n      <th>Roi1-Roi6</th>\n      <th>Roi1-Roi7</th>\n      <th>...</th>\n      <th>Roi112-Roi113</th>\n      <th>Roi112-Roi114</th>\n      <th>Roi112-Roi115</th>\n      <th>Roi112-Roi116</th>\n      <th>Roi113-Roi114</th>\n      <th>Roi113-Roi115</th>\n      <th>Roi113-Roi116</th>\n      <th>Roi114-Roi115</th>\n      <th>Roi114-Roi116</th>\n      <th>Roi115-Roi116</th>\n    </tr>\n  </thead>\n  <tbody>\n    <tr>\n      <th>0</th>\n      <td>113.0</td>\n      <td>19</td>\n      <td>0</td>\n      <td>0</td>\n      <td>0.320408</td>\n      <td>-0.156421</td>\n      <td>-0.115766</td>\n      <td>-0.306091</td>\n      <td>0.034975</td>\n      <td>-0.147885</td>\n      <td>...</td>\n      <td>0.006686</td>\n      <td>-0.285579</td>\n      <td>-0.072048</td>\n      <td>0.411215</td>\n      <td>0.322524</td>\n      <td>0.208173</td>\n      <td>-0.071341</td>\n      <td>0.282784</td>\n      <td>-0.055727</td>\n      <td>0.144371</td>\n    </tr>\n    <tr>\n      <th>1</th>\n      <td>119.0</td>\n      <td>14</td>\n      <td>1</td>\n      <td>0</td>\n      <td>0.386406</td>\n      <td>0.084164</td>\n      <td>-0.226632</td>\n      <td>-0.136301</td>\n      <td>-0.428097</td>\n      <td>-0.126119</td>\n      <td>...</td>\n      <td>0.736991</td>\n      <td>0.147084</td>\n      <td>-0.159465</td>\n      <td>0.264405</td>\n      <td>0.006974</td>\n      <td>0.009238</td>\n      <td>0.266661</td>\n      <td>0.047870</td>\n      <td>0.112745</td>\n      <td>0.142081</td>\n    </tr>\n    <tr>\n      <th>2</th>\n      <td>109.0</td>\n      <td>13</td>\n      <td>0</td>\n      <td>0</td>\n      <td>0.809958</td>\n      <td>0.096828</td>\n      <td>-0.012295</td>\n      <td>-0.658145</td>\n      <td>-0.565232</td>\n      <td>0.436640</td>\n      <td>...</td>\n      <td>0.200037</td>\n      <td>0.393775</td>\n      <td>-0.085829</td>\n      <td>0.266476</td>\n      <td>0.340162</td>\n      <td>-0.142864</td>\n      <td>0.342046</td>\n      <td>0.374683</td>\n      <td>0.281569</td>\n      <td>-0.166943</td>\n    </tr>\n    <tr>\n      <th>3</th>\n      <td>110.0</td>\n      <td>18</td>\n      <td>0</td>\n      <td>0</td>\n      <td>0.371073</td>\n      <td>0.340416</td>\n      <td>0.165785</td>\n      <td>0.319523</td>\n      <td>0.071653</td>\n      <td>-0.006067</td>\n      <td>...</td>\n      <td>0.711573</td>\n      <td>0.449607</td>\n      <td>-0.101063</td>\n      <td>0.494471</td>\n      <td>0.630120</td>\n      <td>0.089310</td>\n      <td>0.583527</td>\n      <td>0.391849</td>\n      <td>0.529610</td>\n      <td>0.202928</td>\n    </tr>\n    <tr>\n      <th>4</th>\n      <td>123.0</td>\n      <td>32</td>\n      <td>0</td>\n      <td>0</td>\n      <td>0.238808</td>\n      <td>-0.075542</td>\n      <td>-0.312048</td>\n      <td>0.343195</td>\n      <td>-0.017375</td>\n      <td>0.279959</td>\n      <td>...</td>\n      <td>0.464747</td>\n      <td>0.110613</td>\n      <td>0.242850</td>\n      <td>0.180382</td>\n      <td>0.264813</td>\n      <td>0.369938</td>\n      <td>0.449401</td>\n      <td>-0.011589</td>\n      <td>0.637432</td>\n      <td>0.323892</td>\n    </tr>\n    <tr>\n      <th>...</th>\n      <td>...</td>\n      <td>...</td>\n      <td>...</td>\n      <td>...</td>\n      <td>...</td>\n      <td>...</td>\n      <td>...</td>\n      <td>...</td>\n      <td>...</td>\n      <td>...</td>\n      <td>...</td>\n      <td>...</td>\n      <td>...</td>\n      <td>...</td>\n      <td>...</td>\n      <td>...</td>\n      <td>...</td>\n      <td>...</td>\n      <td>...</td>\n      <td>...</td>\n      <td>...</td>\n    </tr>\n    <tr>\n      <th>595</th>\n      <td>110.0</td>\n      <td>41</td>\n      <td>0</td>\n      <td>0</td>\n      <td>0.239704</td>\n      <td>0.334075</td>\n      <td>-0.133219</td>\n      <td>0.396904</td>\n      <td>0.218766</td>\n      <td>0.401353</td>\n      <td>...</td>\n      <td>0.868837</td>\n      <td>0.570910</td>\n      <td>0.411275</td>\n      <td>0.662582</td>\n      <td>0.576929</td>\n      <td>0.390116</td>\n      <td>0.636213</td>\n      <td>0.414633</td>\n      <td>0.584703</td>\n      <td>0.823124</td>\n    </tr>\n    <tr>\n      <th>596</th>\n      <td>120.0</td>\n      <td>64</td>\n      <td>0</td>\n      <td>0</td>\n      <td>0.082087</td>\n      <td>0.106322</td>\n      <td>-0.234501</td>\n      <td>-0.227719</td>\n      <td>-0.221337</td>\n      <td>0.428577</td>\n      <td>...</td>\n      <td>0.192933</td>\n      <td>-0.112865</td>\n      <td>0.101323</td>\n      <td>0.343547</td>\n      <td>0.358325</td>\n      <td>0.412704</td>\n      <td>0.412598</td>\n      <td>0.035520</td>\n      <td>-0.126774</td>\n      <td>0.412996</td>\n    </tr>\n    <tr>\n      <th>597</th>\n      <td>96.0</td>\n      <td>27</td>\n      <td>0</td>\n      <td>0</td>\n      <td>0.550363</td>\n      <td>-0.173623</td>\n      <td>-0.087052</td>\n      <td>-0.076264</td>\n      <td>-0.334513</td>\n      <td>0.005763</td>\n      <td>...</td>\n      <td>0.673816</td>\n      <td>0.309224</td>\n      <td>0.328117</td>\n      <td>0.451602</td>\n      <td>0.389896</td>\n      <td>0.261399</td>\n      <td>0.427783</td>\n      <td>0.504431</td>\n      <td>0.574561</td>\n      <td>0.499287</td>\n    </tr>\n    <tr>\n      <th>598</th>\n      <td>118.0</td>\n      <td>29</td>\n      <td>1</td>\n      <td>0</td>\n      <td>0.302419</td>\n      <td>0.042842</td>\n      <td>-0.557081</td>\n      <td>-0.029869</td>\n      <td>-0.165823</td>\n      <td>0.216248</td>\n      <td>...</td>\n      <td>0.168198</td>\n      <td>0.348409</td>\n      <td>-0.134313</td>\n      <td>0.081805</td>\n      <td>0.124225</td>\n      <td>-0.034212</td>\n      <td>-0.042134</td>\n      <td>0.136920</td>\n      <td>0.025787</td>\n      <td>-0.288578</td>\n    </tr>\n    <tr>\n      <th>599</th>\n      <td>110.0</td>\n      <td>26</td>\n      <td>0</td>\n      <td>0</td>\n      <td>0.297124</td>\n      <td>0.075646</td>\n      <td>-0.318396</td>\n      <td>-0.048918</td>\n      <td>0.141353</td>\n      <td>0.234284</td>\n      <td>...</td>\n      <td>0.606218</td>\n      <td>0.454123</td>\n      <td>0.211787</td>\n      <td>0.208022</td>\n      <td>0.403398</td>\n      <td>0.277017</td>\n      <td>0.310910</td>\n      <td>0.246480</td>\n      <td>0.317431</td>\n      <td>0.150887</td>\n    </tr>\n  </tbody>\n</table>\n<p>600 rows × 6674 columns</p>\n</div>"
     },
     "metadata": {},
     "execution_count": 17
    }
   ],
   "source": [
    "new_train"
   ]
  },
  {
   "source": [
    "# Train"
   ],
   "cell_type": "markdown",
   "metadata": {}
  },
  {
   "source": [
    "## Linear Regession"
   ],
   "cell_type": "markdown",
   "metadata": {}
  },
  {
   "cell_type": "code",
   "execution_count": 19,
   "metadata": {},
   "outputs": [],
   "source": [
    "reg = LinearRegression()"
   ]
  },
  {
   "cell_type": "code",
   "execution_count": 20,
   "metadata": {},
   "outputs": [],
   "source": [
    "X_train, X_test, y_train, y_test = train_test_split(new_train.drop(columns='y'), new_train['y'], test_size=0.33, random_state=42)"
   ]
  },
  {
   "cell_type": "code",
   "execution_count": 21,
   "metadata": {},
   "outputs": [
    {
     "output_type": "execute_result",
     "data": {
      "text/plain": [
       "LinearRegression()"
      ]
     },
     "metadata": {},
     "execution_count": 21
    }
   ],
   "source": [
    "reg.fit(X_train,y_train)"
   ]
  },
  {
   "cell_type": "code",
   "execution_count": 22,
   "metadata": {},
   "outputs": [],
   "source": [
    "y_pred=reg.predict(X_test)"
   ]
  },
  {
   "cell_type": "code",
   "execution_count": 25,
   "metadata": {},
   "outputs": [
    {
     "output_type": "execute_result",
     "data": {
      "text/plain": [
       "15.923881311476057"
      ]
     },
     "metadata": {},
     "execution_count": 25
    }
   ],
   "source": [
    "mean_squared_error(y_test, y_pred,squared=False)"
   ]
  },
  {
   "source": [
    "## SVR"
   ],
   "cell_type": "markdown",
   "metadata": {}
  },
  {
   "cell_type": "code",
   "execution_count": 30,
   "metadata": {},
   "outputs": [],
   "source": [
    "params = {'kernel' : ('linear', 'poly', 'rbf', 'sigmoid'),\n",
    "        'C' : [1,5,10],\n",
    "        'degree' : [3,8],\n",
    "        'coef0' : [0.01,10,0.5],\n",
    "        'gamma' : ('auto','scale')},\n"
   ]
  },
  {
   "cell_type": "code",
   "execution_count": 33,
   "metadata": {},
   "outputs": [
    {
     "output_type": "stream",
     "name": "stdout",
     "text": [
      "Fitting 3 folds for each of 30 candidates, totalling 90 fits\n"
     ]
    },
    {
     "output_type": "execute_result",
     "data": {
      "text/plain": [
       "RandomizedSearchCV(cv=3, estimator=SVR(), n_iter=30, n_jobs=-1,\n",
       "                   param_distributions=({'C': [1, 5, 10],\n",
       "                                         'coef0': [0.01, 10, 0.5],\n",
       "                                         'degree': [3, 8],\n",
       "                                         'gamma': ('auto', 'scale'),\n",
       "                                         'kernel': ('linear', 'poly', 'rbf',\n",
       "                                                    'sigmoid')},),\n",
       "                   verbose=5)"
      ]
     },
     "metadata": {},
     "execution_count": 33
    }
   ],
   "source": [
    "svr_reg=SVR()\n",
    "grids = RandomizedSearchCV(svr_reg,params,cv=3,verbose=5,n_iter=30,n_jobs=-1)\n",
    "grids.fit(X_train,y_train)\n"
   ]
  },
  {
   "cell_type": "code",
   "execution_count": 37,
   "metadata": {},
   "outputs": [
    {
     "output_type": "execute_result",
     "data": {
      "text/plain": [
       "{'kernel': 'rbf', 'gamma': 'scale', 'degree': 3, 'coef0': 10, 'C': 10}"
      ]
     },
     "metadata": {},
     "execution_count": 37
    }
   ],
   "source": [
    "grids.best_params_"
   ]
  },
  {
   "cell_type": "code",
   "execution_count": 34,
   "metadata": {},
   "outputs": [],
   "source": [
    "y_pred=grids.predict(X_test)"
   ]
  },
  {
   "cell_type": "code",
   "execution_count": 35,
   "metadata": {},
   "outputs": [
    {
     "output_type": "execute_result",
     "data": {
      "text/plain": [
       "15.051786941609702"
      ]
     },
     "metadata": {},
     "execution_count": 35
    }
   ],
   "source": [
    "mean_squared_error(y_test, y_pred,squared=False)"
   ]
  },
  {
   "cell_type": "code",
   "execution_count": 167,
   "metadata": {},
   "outputs": [
    {
     "output_type": "execute_result",
     "data": {
      "text/plain": [
       "SVR(degree=1, epsilon=0.2, kernel='poly')"
      ]
     },
     "metadata": {},
     "execution_count": 167
    }
   ],
   "source": [
    "#retrain on all dataset\n",
    "svr_reg.fit(new_df.drop(columns='y'),new_df['y'])"
   ]
  },
  {
   "cell_type": "code",
   "execution_count": null,
   "metadata": {},
   "outputs": [],
   "source": []
  },
  {
   "source": [
    "# Test "
   ],
   "cell_type": "markdown",
   "metadata": {}
  },
  {
   "cell_type": "code",
   "execution_count": 150,
   "metadata": {},
   "outputs": [],
   "source": [
    "test_df=pd.read_csv('./Data/test.csv')"
   ]
  },
  {
   "cell_type": "code",
   "execution_count": 152,
   "metadata": {},
   "outputs": [
    {
     "output_type": "execute_result",
     "data": {
      "text/plain": [
       "      id  var1 var2 var3   t1_2001   t2_2001   t3_2001   t4_2001   t5_2001  \\\n",
       "0     17    32    A    A -0.350440 -0.222368  0.023356  0.243820  0.307884   \n",
       "1     19    11    C    A -0.637826 -0.626851 -0.360784  0.030366  0.336757   \n",
       "2     25    17    A    C -0.012941 -0.104797 -0.236863 -0.323248 -0.289526   \n",
       "3     32    17    A    C  0.090513  0.210141  0.258353  0.176808 -0.021250   \n",
       "4     33    16    A    C  0.020757  0.004422  0.048168  0.217449  0.499191   \n",
       "..   ...   ...  ...  ...       ...       ...       ...       ...       ...   \n",
       "194  777    20    A    C  0.196767  0.279578  0.269504  0.142366 -0.050581   \n",
       "195  783    24    A    C  0.166928  0.062544 -0.064816 -0.223924 -0.397589   \n",
       "196  784    24    A    C  0.467909  0.601598  0.466428  0.064870 -0.453154   \n",
       "197  792    29    C    C  0.158687  0.187958  0.187666  0.168700  0.137513   \n",
       "198  796    35    A    A -0.236773 -0.267845 -0.108305  0.141632  0.310586   \n",
       "\n",
       "      t6_2001  ...  t106_9170  t107_9170  t108_9170  t109_9170  t110_9170  \\\n",
       "0    0.181462  ...  -0.249206  -0.299956  -0.230605  -0.002176   0.307232   \n",
       "1    0.405507  ...   0.747080   1.451542   1.888522   1.843617   1.353949   \n",
       "2   -0.127867  ...  -2.263840  -2.082246  -1.299818  -0.087112   1.200546   \n",
       "3   -0.246477  ...  -2.662342  -1.246634   0.756969   2.115026   2.007031   \n",
       "4    0.774152  ...   0.000000   0.000000   0.000000   0.000000   0.000000   \n",
       "..        ...  ...        ...        ...        ...        ...        ...   \n",
       "194 -0.192273  ...   1.501500   0.315651  -0.438466  -0.390447   0.203565   \n",
       "195 -0.477872  ...   0.998999   2.150780   1.765160   0.167519  -1.398137   \n",
       "196 -0.874220  ...   4.963199   1.800244  -2.997877  -5.256964  -2.305884   \n",
       "197  0.109296  ...  -2.660509  -1.084989   0.932748   2.014907   1.678764   \n",
       "198  0.313349  ...   0.010158   0.408345  -0.480362  -1.950726  -2.116528   \n",
       "\n",
       "     t111_9170  t112_9170  t113_9170  t114_9170  t115_9170  \n",
       "0     0.574038   0.719488   0.739103   0.657216   0.466077  \n",
       "1     0.721757   0.341038   0.461075   1.052172   1.853388  \n",
       "2     2.217524   2.777598   2.863644   2.528300   1.804936  \n",
       "3     0.606600  -1.034530  -1.731524  -1.012911   0.541681  \n",
       "4     0.000000   0.000000   0.000000   0.000000   0.000000  \n",
       "..         ...        ...        ...        ...        ...  \n",
       "194   1.092143   1.984272   2.303799   1.587597   0.184648  \n",
       "195  -2.035133  -1.780128  -1.156148  -0.511489   0.100604  \n",
       "196   3.395893   5.967640   2.081252  -5.207866  -9.263192  \n",
       "197   0.401733  -0.877058  -1.297012  -0.560106   0.733061  \n",
       "198  -0.442166   1.441936   1.849335   1.124896   0.849227  \n",
       "\n",
       "[199 rows x 13344 columns]"
      ],
      "text/html": "<div>\n<style scoped>\n    .dataframe tbody tr th:only-of-type {\n        vertical-align: middle;\n    }\n\n    .dataframe tbody tr th {\n        vertical-align: top;\n    }\n\n    .dataframe thead th {\n        text-align: right;\n    }\n</style>\n<table border=\"1\" class=\"dataframe\">\n  <thead>\n    <tr style=\"text-align: right;\">\n      <th></th>\n      <th>id</th>\n      <th>var1</th>\n      <th>var2</th>\n      <th>var3</th>\n      <th>t1_2001</th>\n      <th>t2_2001</th>\n      <th>t3_2001</th>\n      <th>t4_2001</th>\n      <th>t5_2001</th>\n      <th>t6_2001</th>\n      <th>...</th>\n      <th>t106_9170</th>\n      <th>t107_9170</th>\n      <th>t108_9170</th>\n      <th>t109_9170</th>\n      <th>t110_9170</th>\n      <th>t111_9170</th>\n      <th>t112_9170</th>\n      <th>t113_9170</th>\n      <th>t114_9170</th>\n      <th>t115_9170</th>\n    </tr>\n  </thead>\n  <tbody>\n    <tr>\n      <th>0</th>\n      <td>17</td>\n      <td>32</td>\n      <td>A</td>\n      <td>A</td>\n      <td>-0.350440</td>\n      <td>-0.222368</td>\n      <td>0.023356</td>\n      <td>0.243820</td>\n      <td>0.307884</td>\n      <td>0.181462</td>\n      <td>...</td>\n      <td>-0.249206</td>\n      <td>-0.299956</td>\n      <td>-0.230605</td>\n      <td>-0.002176</td>\n      <td>0.307232</td>\n      <td>0.574038</td>\n      <td>0.719488</td>\n      <td>0.739103</td>\n      <td>0.657216</td>\n      <td>0.466077</td>\n    </tr>\n    <tr>\n      <th>1</th>\n      <td>19</td>\n      <td>11</td>\n      <td>C</td>\n      <td>A</td>\n      <td>-0.637826</td>\n      <td>-0.626851</td>\n      <td>-0.360784</td>\n      <td>0.030366</td>\n      <td>0.336757</td>\n      <td>0.405507</td>\n      <td>...</td>\n      <td>0.747080</td>\n      <td>1.451542</td>\n      <td>1.888522</td>\n      <td>1.843617</td>\n      <td>1.353949</td>\n      <td>0.721757</td>\n      <td>0.341038</td>\n      <td>0.461075</td>\n      <td>1.052172</td>\n      <td>1.853388</td>\n    </tr>\n    <tr>\n      <th>2</th>\n      <td>25</td>\n      <td>17</td>\n      <td>A</td>\n      <td>C</td>\n      <td>-0.012941</td>\n      <td>-0.104797</td>\n      <td>-0.236863</td>\n      <td>-0.323248</td>\n      <td>-0.289526</td>\n      <td>-0.127867</td>\n      <td>...</td>\n      <td>-2.263840</td>\n      <td>-2.082246</td>\n      <td>-1.299818</td>\n      <td>-0.087112</td>\n      <td>1.200546</td>\n      <td>2.217524</td>\n      <td>2.777598</td>\n      <td>2.863644</td>\n      <td>2.528300</td>\n      <td>1.804936</td>\n    </tr>\n    <tr>\n      <th>3</th>\n      <td>32</td>\n      <td>17</td>\n      <td>A</td>\n      <td>C</td>\n      <td>0.090513</td>\n      <td>0.210141</td>\n      <td>0.258353</td>\n      <td>0.176808</td>\n      <td>-0.021250</td>\n      <td>-0.246477</td>\n      <td>...</td>\n      <td>-2.662342</td>\n      <td>-1.246634</td>\n      <td>0.756969</td>\n      <td>2.115026</td>\n      <td>2.007031</td>\n      <td>0.606600</td>\n      <td>-1.034530</td>\n      <td>-1.731524</td>\n      <td>-1.012911</td>\n      <td>0.541681</td>\n    </tr>\n    <tr>\n      <th>4</th>\n      <td>33</td>\n      <td>16</td>\n      <td>A</td>\n      <td>C</td>\n      <td>0.020757</td>\n      <td>0.004422</td>\n      <td>0.048168</td>\n      <td>0.217449</td>\n      <td>0.499191</td>\n      <td>0.774152</td>\n      <td>...</td>\n      <td>0.000000</td>\n      <td>0.000000</td>\n      <td>0.000000</td>\n      <td>0.000000</td>\n      <td>0.000000</td>\n      <td>0.000000</td>\n      <td>0.000000</td>\n      <td>0.000000</td>\n      <td>0.000000</td>\n      <td>0.000000</td>\n    </tr>\n    <tr>\n      <th>...</th>\n      <td>...</td>\n      <td>...</td>\n      <td>...</td>\n      <td>...</td>\n      <td>...</td>\n      <td>...</td>\n      <td>...</td>\n      <td>...</td>\n      <td>...</td>\n      <td>...</td>\n      <td>...</td>\n      <td>...</td>\n      <td>...</td>\n      <td>...</td>\n      <td>...</td>\n      <td>...</td>\n      <td>...</td>\n      <td>...</td>\n      <td>...</td>\n      <td>...</td>\n      <td>...</td>\n    </tr>\n    <tr>\n      <th>194</th>\n      <td>777</td>\n      <td>20</td>\n      <td>A</td>\n      <td>C</td>\n      <td>0.196767</td>\n      <td>0.279578</td>\n      <td>0.269504</td>\n      <td>0.142366</td>\n      <td>-0.050581</td>\n      <td>-0.192273</td>\n      <td>...</td>\n      <td>1.501500</td>\n      <td>0.315651</td>\n      <td>-0.438466</td>\n      <td>-0.390447</td>\n      <td>0.203565</td>\n      <td>1.092143</td>\n      <td>1.984272</td>\n      <td>2.303799</td>\n      <td>1.587597</td>\n      <td>0.184648</td>\n    </tr>\n    <tr>\n      <th>195</th>\n      <td>783</td>\n      <td>24</td>\n      <td>A</td>\n      <td>C</td>\n      <td>0.166928</td>\n      <td>0.062544</td>\n      <td>-0.064816</td>\n      <td>-0.223924</td>\n      <td>-0.397589</td>\n      <td>-0.477872</td>\n      <td>...</td>\n      <td>0.998999</td>\n      <td>2.150780</td>\n      <td>1.765160</td>\n      <td>0.167519</td>\n      <td>-1.398137</td>\n      <td>-2.035133</td>\n      <td>-1.780128</td>\n      <td>-1.156148</td>\n      <td>-0.511489</td>\n      <td>0.100604</td>\n    </tr>\n    <tr>\n      <th>196</th>\n      <td>784</td>\n      <td>24</td>\n      <td>A</td>\n      <td>C</td>\n      <td>0.467909</td>\n      <td>0.601598</td>\n      <td>0.466428</td>\n      <td>0.064870</td>\n      <td>-0.453154</td>\n      <td>-0.874220</td>\n      <td>...</td>\n      <td>4.963199</td>\n      <td>1.800244</td>\n      <td>-2.997877</td>\n      <td>-5.256964</td>\n      <td>-2.305884</td>\n      <td>3.395893</td>\n      <td>5.967640</td>\n      <td>2.081252</td>\n      <td>-5.207866</td>\n      <td>-9.263192</td>\n    </tr>\n    <tr>\n      <th>197</th>\n      <td>792</td>\n      <td>29</td>\n      <td>C</td>\n      <td>C</td>\n      <td>0.158687</td>\n      <td>0.187958</td>\n      <td>0.187666</td>\n      <td>0.168700</td>\n      <td>0.137513</td>\n      <td>0.109296</td>\n      <td>...</td>\n      <td>-2.660509</td>\n      <td>-1.084989</td>\n      <td>0.932748</td>\n      <td>2.014907</td>\n      <td>1.678764</td>\n      <td>0.401733</td>\n      <td>-0.877058</td>\n      <td>-1.297012</td>\n      <td>-0.560106</td>\n      <td>0.733061</td>\n    </tr>\n    <tr>\n      <th>198</th>\n      <td>796</td>\n      <td>35</td>\n      <td>A</td>\n      <td>A</td>\n      <td>-0.236773</td>\n      <td>-0.267845</td>\n      <td>-0.108305</td>\n      <td>0.141632</td>\n      <td>0.310586</td>\n      <td>0.313349</td>\n      <td>...</td>\n      <td>0.010158</td>\n      <td>0.408345</td>\n      <td>-0.480362</td>\n      <td>-1.950726</td>\n      <td>-2.116528</td>\n      <td>-0.442166</td>\n      <td>1.441936</td>\n      <td>1.849335</td>\n      <td>1.124896</td>\n      <td>0.849227</td>\n    </tr>\n  </tbody>\n</table>\n<p>199 rows × 13344 columns</p>\n</div>"
     },
     "metadata": {},
     "execution_count": 152
    }
   ],
   "source": [
    "test_df"
   ]
  },
  {
   "cell_type": "code",
   "execution_count": 157,
   "metadata": {},
   "outputs": [
    {
     "output_type": "stream",
     "name": "stderr",
     "text": [
      "  1%|          | 1/199 [00:00<01:38,  2.01it/s]C:\\Users\\Nicola\\AppData\\Local\\Programs\\Python\\Python39\\lib\\site-packages\\numpy\\lib\\function_base.py:2642: RuntimeWarning: invalid value encountered in true_divide\n",
      "  c /= stddev[:, None]\n",
      "C:\\Users\\Nicola\\AppData\\Local\\Programs\\Python\\Python39\\lib\\site-packages\\numpy\\lib\\function_base.py:2643: RuntimeWarning: invalid value encountered in true_divide\n",
      "  c /= stddev[None, :]\n",
      "100%|██████████| 199/199 [00:05<00:00, 35.95it/s]\n"
     ]
    }
   ],
   "source": [
    "corr_test=test_df.progress_apply(lambda row:get_corr(row,test=True),axis=1)"
   ]
  },
  {
   "cell_type": "code",
   "execution_count": 158,
   "metadata": {},
   "outputs": [],
   "source": [
    "test_final_df=pd.DataFrame(np.array(corr_test.values.tolist()),columns=columns)"
   ]
  },
  {
   "cell_type": "code",
   "execution_count": 159,
   "metadata": {},
   "outputs": [
    {
     "output_type": "execute_result",
     "data": {
      "text/plain": [
       "     ROI1-ROI2  ROI1-ROI3  ROI1-ROI4  ROI1-ROI5  ROI1-ROI6  ROI1-ROI7  \\\n",
       "0     0.574820  -0.184674   0.335784  -0.433897  -0.314960   0.121238   \n",
       "1     0.459187   0.091974  -0.012738   0.018270  -0.144327   0.286588   \n",
       "2     0.318010   0.118248  -0.275287   0.067088   0.031507  -0.158764   \n",
       "3     0.405577  -0.424435  -0.260486  -0.053301   0.118364  -0.187334   \n",
       "4     0.531680   0.145877  -0.131794   0.361544   0.015393   0.055204   \n",
       "..         ...        ...        ...        ...        ...        ...   \n",
       "194   0.217994   0.204179  -0.118850   0.250223   0.456717  -0.195145   \n",
       "195   0.465376   0.038288  -0.065834  -0.123540  -0.223827   0.372467   \n",
       "196   0.320433  -0.058686  -0.264435  -0.292921  -0.012648  -0.363793   \n",
       "197   0.550265  -0.386250  -0.283560   0.059427   0.095853  -0.092002   \n",
       "198   0.447044  -0.015609   0.000369  -0.003614  -0.022943   0.049551   \n",
       "\n",
       "     ROI1-ROI8  ROI1-ROI9  ROI1-ROI10  ROI1-ROI11  ...  ROI112-ROI113  \\\n",
       "0    -0.304749  -0.360175   -0.213842    0.592588  ...       0.188771   \n",
       "1    -0.024430   0.003806   -0.102631   -0.192910  ...       0.395746   \n",
       "2    -0.122662   0.233291    0.070906    0.441458  ...       0.656703   \n",
       "3    -0.161422  -0.307382   -0.090365    0.439814  ...       0.560449   \n",
       "4    -0.210112   0.204085    0.027663    0.721721  ...       0.003357   \n",
       "..         ...        ...         ...         ...  ...            ...   \n",
       "194  -0.325952  -0.053743   -0.012564    0.794479  ...       0.218118   \n",
       "195  -0.039882  -0.101934   -0.115844    0.628183  ...       0.453787   \n",
       "196  -0.426708   0.040388   -0.286963    0.561433  ...       0.072454   \n",
       "197   0.283123   0.147292   -0.060154    0.400976  ...       0.114647   \n",
       "198  -0.308286   0.024050   -0.128347    0.187289  ...       0.718296   \n",
       "\n",
       "     ROI112-ROI114  ROI112-ROI115  ROI112-ROI116  ROI113-ROI114  \\\n",
       "0         0.237508       0.273457       0.225723      -0.060189   \n",
       "1        -0.245494       0.173441       0.203784      -0.069734   \n",
       "2         0.428289       0.123900       0.090384       0.504827   \n",
       "3         0.255396      -0.304971      -0.070677       0.186580   \n",
       "4              NaN            NaN            NaN            NaN   \n",
       "..             ...            ...            ...            ...   \n",
       "194       0.021160       0.018531       0.039184      -0.006917   \n",
       "195       0.121769       0.407962       0.322393       0.502507   \n",
       "196      -0.090642       0.058275       0.047026       0.451872   \n",
       "197       0.535039       0.289765       0.529971       0.317849   \n",
       "198       0.152719      -0.237177       0.161192       0.332678   \n",
       "\n",
       "     ROI113-ROI115  ROI113-ROI116  ROI114-ROI115  ROI114-ROI116  ROI115-ROI116  \n",
       "0         0.135940      -0.068397       0.239504       0.221618      -0.186755  \n",
       "1         0.214056       0.230202       0.037493       0.031108       0.125471  \n",
       "2         0.382075       0.136943       0.402817       0.237602       0.293227  \n",
       "3        -0.116094       0.077223       0.041814      -0.004182       0.266954  \n",
       "4              NaN            NaN            NaN            NaN            NaN  \n",
       "..             ...            ...            ...            ...            ...  \n",
       "194      -0.157338      -0.094451       0.751545       0.652086       0.765714  \n",
       "195       0.234785       0.260871       0.272752       0.113825       0.565614  \n",
       "196       0.040126       0.278858       0.593402       0.321660       0.652692  \n",
       "197       0.188834      -0.064073       0.547437       0.426339       0.495522  \n",
       "198      -0.231984       0.114105       0.023730       0.069423       0.278818  \n",
       "\n",
       "[199 rows x 6670 columns]"
      ],
      "text/html": "<div>\n<style scoped>\n    .dataframe tbody tr th:only-of-type {\n        vertical-align: middle;\n    }\n\n    .dataframe tbody tr th {\n        vertical-align: top;\n    }\n\n    .dataframe thead th {\n        text-align: right;\n    }\n</style>\n<table border=\"1\" class=\"dataframe\">\n  <thead>\n    <tr style=\"text-align: right;\">\n      <th></th>\n      <th>ROI1-ROI2</th>\n      <th>ROI1-ROI3</th>\n      <th>ROI1-ROI4</th>\n      <th>ROI1-ROI5</th>\n      <th>ROI1-ROI6</th>\n      <th>ROI1-ROI7</th>\n      <th>ROI1-ROI8</th>\n      <th>ROI1-ROI9</th>\n      <th>ROI1-ROI10</th>\n      <th>ROI1-ROI11</th>\n      <th>...</th>\n      <th>ROI112-ROI113</th>\n      <th>ROI112-ROI114</th>\n      <th>ROI112-ROI115</th>\n      <th>ROI112-ROI116</th>\n      <th>ROI113-ROI114</th>\n      <th>ROI113-ROI115</th>\n      <th>ROI113-ROI116</th>\n      <th>ROI114-ROI115</th>\n      <th>ROI114-ROI116</th>\n      <th>ROI115-ROI116</th>\n    </tr>\n  </thead>\n  <tbody>\n    <tr>\n      <th>0</th>\n      <td>0.574820</td>\n      <td>-0.184674</td>\n      <td>0.335784</td>\n      <td>-0.433897</td>\n      <td>-0.314960</td>\n      <td>0.121238</td>\n      <td>-0.304749</td>\n      <td>-0.360175</td>\n      <td>-0.213842</td>\n      <td>0.592588</td>\n      <td>...</td>\n      <td>0.188771</td>\n      <td>0.237508</td>\n      <td>0.273457</td>\n      <td>0.225723</td>\n      <td>-0.060189</td>\n      <td>0.135940</td>\n      <td>-0.068397</td>\n      <td>0.239504</td>\n      <td>0.221618</td>\n      <td>-0.186755</td>\n    </tr>\n    <tr>\n      <th>1</th>\n      <td>0.459187</td>\n      <td>0.091974</td>\n      <td>-0.012738</td>\n      <td>0.018270</td>\n      <td>-0.144327</td>\n      <td>0.286588</td>\n      <td>-0.024430</td>\n      <td>0.003806</td>\n      <td>-0.102631</td>\n      <td>-0.192910</td>\n      <td>...</td>\n      <td>0.395746</td>\n      <td>-0.245494</td>\n      <td>0.173441</td>\n      <td>0.203784</td>\n      <td>-0.069734</td>\n      <td>0.214056</td>\n      <td>0.230202</td>\n      <td>0.037493</td>\n      <td>0.031108</td>\n      <td>0.125471</td>\n    </tr>\n    <tr>\n      <th>2</th>\n      <td>0.318010</td>\n      <td>0.118248</td>\n      <td>-0.275287</td>\n      <td>0.067088</td>\n      <td>0.031507</td>\n      <td>-0.158764</td>\n      <td>-0.122662</td>\n      <td>0.233291</td>\n      <td>0.070906</td>\n      <td>0.441458</td>\n      <td>...</td>\n      <td>0.656703</td>\n      <td>0.428289</td>\n      <td>0.123900</td>\n      <td>0.090384</td>\n      <td>0.504827</td>\n      <td>0.382075</td>\n      <td>0.136943</td>\n      <td>0.402817</td>\n      <td>0.237602</td>\n      <td>0.293227</td>\n    </tr>\n    <tr>\n      <th>3</th>\n      <td>0.405577</td>\n      <td>-0.424435</td>\n      <td>-0.260486</td>\n      <td>-0.053301</td>\n      <td>0.118364</td>\n      <td>-0.187334</td>\n      <td>-0.161422</td>\n      <td>-0.307382</td>\n      <td>-0.090365</td>\n      <td>0.439814</td>\n      <td>...</td>\n      <td>0.560449</td>\n      <td>0.255396</td>\n      <td>-0.304971</td>\n      <td>-0.070677</td>\n      <td>0.186580</td>\n      <td>-0.116094</td>\n      <td>0.077223</td>\n      <td>0.041814</td>\n      <td>-0.004182</td>\n      <td>0.266954</td>\n    </tr>\n    <tr>\n      <th>4</th>\n      <td>0.531680</td>\n      <td>0.145877</td>\n      <td>-0.131794</td>\n      <td>0.361544</td>\n      <td>0.015393</td>\n      <td>0.055204</td>\n      <td>-0.210112</td>\n      <td>0.204085</td>\n      <td>0.027663</td>\n      <td>0.721721</td>\n      <td>...</td>\n      <td>0.003357</td>\n      <td>NaN</td>\n      <td>NaN</td>\n      <td>NaN</td>\n      <td>NaN</td>\n      <td>NaN</td>\n      <td>NaN</td>\n      <td>NaN</td>\n      <td>NaN</td>\n      <td>NaN</td>\n    </tr>\n    <tr>\n      <th>...</th>\n      <td>...</td>\n      <td>...</td>\n      <td>...</td>\n      <td>...</td>\n      <td>...</td>\n      <td>...</td>\n      <td>...</td>\n      <td>...</td>\n      <td>...</td>\n      <td>...</td>\n      <td>...</td>\n      <td>...</td>\n      <td>...</td>\n      <td>...</td>\n      <td>...</td>\n      <td>...</td>\n      <td>...</td>\n      <td>...</td>\n      <td>...</td>\n      <td>...</td>\n      <td>...</td>\n    </tr>\n    <tr>\n      <th>194</th>\n      <td>0.217994</td>\n      <td>0.204179</td>\n      <td>-0.118850</td>\n      <td>0.250223</td>\n      <td>0.456717</td>\n      <td>-0.195145</td>\n      <td>-0.325952</td>\n      <td>-0.053743</td>\n      <td>-0.012564</td>\n      <td>0.794479</td>\n      <td>...</td>\n      <td>0.218118</td>\n      <td>0.021160</td>\n      <td>0.018531</td>\n      <td>0.039184</td>\n      <td>-0.006917</td>\n      <td>-0.157338</td>\n      <td>-0.094451</td>\n      <td>0.751545</td>\n      <td>0.652086</td>\n      <td>0.765714</td>\n    </tr>\n    <tr>\n      <th>195</th>\n      <td>0.465376</td>\n      <td>0.038288</td>\n      <td>-0.065834</td>\n      <td>-0.123540</td>\n      <td>-0.223827</td>\n      <td>0.372467</td>\n      <td>-0.039882</td>\n      <td>-0.101934</td>\n      <td>-0.115844</td>\n      <td>0.628183</td>\n      <td>...</td>\n      <td>0.453787</td>\n      <td>0.121769</td>\n      <td>0.407962</td>\n      <td>0.322393</td>\n      <td>0.502507</td>\n      <td>0.234785</td>\n      <td>0.260871</td>\n      <td>0.272752</td>\n      <td>0.113825</td>\n      <td>0.565614</td>\n    </tr>\n    <tr>\n      <th>196</th>\n      <td>0.320433</td>\n      <td>-0.058686</td>\n      <td>-0.264435</td>\n      <td>-0.292921</td>\n      <td>-0.012648</td>\n      <td>-0.363793</td>\n      <td>-0.426708</td>\n      <td>0.040388</td>\n      <td>-0.286963</td>\n      <td>0.561433</td>\n      <td>...</td>\n      <td>0.072454</td>\n      <td>-0.090642</td>\n      <td>0.058275</td>\n      <td>0.047026</td>\n      <td>0.451872</td>\n      <td>0.040126</td>\n      <td>0.278858</td>\n      <td>0.593402</td>\n      <td>0.321660</td>\n      <td>0.652692</td>\n    </tr>\n    <tr>\n      <th>197</th>\n      <td>0.550265</td>\n      <td>-0.386250</td>\n      <td>-0.283560</td>\n      <td>0.059427</td>\n      <td>0.095853</td>\n      <td>-0.092002</td>\n      <td>0.283123</td>\n      <td>0.147292</td>\n      <td>-0.060154</td>\n      <td>0.400976</td>\n      <td>...</td>\n      <td>0.114647</td>\n      <td>0.535039</td>\n      <td>0.289765</td>\n      <td>0.529971</td>\n      <td>0.317849</td>\n      <td>0.188834</td>\n      <td>-0.064073</td>\n      <td>0.547437</td>\n      <td>0.426339</td>\n      <td>0.495522</td>\n    </tr>\n    <tr>\n      <th>198</th>\n      <td>0.447044</td>\n      <td>-0.015609</td>\n      <td>0.000369</td>\n      <td>-0.003614</td>\n      <td>-0.022943</td>\n      <td>0.049551</td>\n      <td>-0.308286</td>\n      <td>0.024050</td>\n      <td>-0.128347</td>\n      <td>0.187289</td>\n      <td>...</td>\n      <td>0.718296</td>\n      <td>0.152719</td>\n      <td>-0.237177</td>\n      <td>0.161192</td>\n      <td>0.332678</td>\n      <td>-0.231984</td>\n      <td>0.114105</td>\n      <td>0.023730</td>\n      <td>0.069423</td>\n      <td>0.278818</td>\n    </tr>\n  </tbody>\n</table>\n<p>199 rows × 6670 columns</p>\n</div>"
     },
     "metadata": {},
     "execution_count": 159
    }
   ],
   "source": [
    "test_final_df"
   ]
  },
  {
   "cell_type": "code",
   "execution_count": 160,
   "metadata": {},
   "outputs": [],
   "source": [
    "test_final_df=test_final_df.fillna(0)"
   ]
  },
  {
   "cell_type": "code",
   "execution_count": 162,
   "metadata": {},
   "outputs": [],
   "source": [
    "test_final_df['var1']=test_df['var1']"
   ]
  },
  {
   "cell_type": "code",
   "execution_count": 163,
   "metadata": {},
   "outputs": [
    {
     "output_type": "execute_result",
     "data": {
      "text/plain": [
       "     ROI1-ROI2  ROI1-ROI3  ROI1-ROI4  ROI1-ROI5  ROI1-ROI6  ROI1-ROI7  \\\n",
       "0     0.574820  -0.184674   0.335784  -0.433897  -0.314960   0.121238   \n",
       "1     0.459187   0.091974  -0.012738   0.018270  -0.144327   0.286588   \n",
       "2     0.318010   0.118248  -0.275287   0.067088   0.031507  -0.158764   \n",
       "3     0.405577  -0.424435  -0.260486  -0.053301   0.118364  -0.187334   \n",
       "4     0.531680   0.145877  -0.131794   0.361544   0.015393   0.055204   \n",
       "..         ...        ...        ...        ...        ...        ...   \n",
       "194   0.217994   0.204179  -0.118850   0.250223   0.456717  -0.195145   \n",
       "195   0.465376   0.038288  -0.065834  -0.123540  -0.223827   0.372467   \n",
       "196   0.320433  -0.058686  -0.264435  -0.292921  -0.012648  -0.363793   \n",
       "197   0.550265  -0.386250  -0.283560   0.059427   0.095853  -0.092002   \n",
       "198   0.447044  -0.015609   0.000369  -0.003614  -0.022943   0.049551   \n",
       "\n",
       "     ROI1-ROI8  ROI1-ROI9  ROI1-ROI10  ROI1-ROI11  ...  ROI112-ROI114  \\\n",
       "0    -0.304749  -0.360175   -0.213842    0.592588  ...       0.237508   \n",
       "1    -0.024430   0.003806   -0.102631   -0.192910  ...      -0.245494   \n",
       "2    -0.122662   0.233291    0.070906    0.441458  ...       0.428289   \n",
       "3    -0.161422  -0.307382   -0.090365    0.439814  ...       0.255396   \n",
       "4    -0.210112   0.204085    0.027663    0.721721  ...       0.000000   \n",
       "..         ...        ...         ...         ...  ...            ...   \n",
       "194  -0.325952  -0.053743   -0.012564    0.794479  ...       0.021160   \n",
       "195  -0.039882  -0.101934   -0.115844    0.628183  ...       0.121769   \n",
       "196  -0.426708   0.040388   -0.286963    0.561433  ...      -0.090642   \n",
       "197   0.283123   0.147292   -0.060154    0.400976  ...       0.535039   \n",
       "198  -0.308286   0.024050   -0.128347    0.187289  ...       0.152719   \n",
       "\n",
       "     ROI112-ROI115  ROI112-ROI116  ROI113-ROI114  ROI113-ROI115  \\\n",
       "0         0.273457       0.225723      -0.060189       0.135940   \n",
       "1         0.173441       0.203784      -0.069734       0.214056   \n",
       "2         0.123900       0.090384       0.504827       0.382075   \n",
       "3        -0.304971      -0.070677       0.186580      -0.116094   \n",
       "4         0.000000       0.000000       0.000000       0.000000   \n",
       "..             ...            ...            ...            ...   \n",
       "194       0.018531       0.039184      -0.006917      -0.157338   \n",
       "195       0.407962       0.322393       0.502507       0.234785   \n",
       "196       0.058275       0.047026       0.451872       0.040126   \n",
       "197       0.289765       0.529971       0.317849       0.188834   \n",
       "198      -0.237177       0.161192       0.332678      -0.231984   \n",
       "\n",
       "     ROI113-ROI116  ROI114-ROI115  ROI114-ROI116  ROI115-ROI116  var1  \n",
       "0        -0.068397       0.239504       0.221618      -0.186755    32  \n",
       "1         0.230202       0.037493       0.031108       0.125471    11  \n",
       "2         0.136943       0.402817       0.237602       0.293227    17  \n",
       "3         0.077223       0.041814      -0.004182       0.266954    17  \n",
       "4         0.000000       0.000000       0.000000       0.000000    16  \n",
       "..             ...            ...            ...            ...   ...  \n",
       "194      -0.094451       0.751545       0.652086       0.765714    20  \n",
       "195       0.260871       0.272752       0.113825       0.565614    24  \n",
       "196       0.278858       0.593402       0.321660       0.652692    24  \n",
       "197      -0.064073       0.547437       0.426339       0.495522    29  \n",
       "198       0.114105       0.023730       0.069423       0.278818    35  \n",
       "\n",
       "[199 rows x 6671 columns]"
      ],
      "text/html": "<div>\n<style scoped>\n    .dataframe tbody tr th:only-of-type {\n        vertical-align: middle;\n    }\n\n    .dataframe tbody tr th {\n        vertical-align: top;\n    }\n\n    .dataframe thead th {\n        text-align: right;\n    }\n</style>\n<table border=\"1\" class=\"dataframe\">\n  <thead>\n    <tr style=\"text-align: right;\">\n      <th></th>\n      <th>ROI1-ROI2</th>\n      <th>ROI1-ROI3</th>\n      <th>ROI1-ROI4</th>\n      <th>ROI1-ROI5</th>\n      <th>ROI1-ROI6</th>\n      <th>ROI1-ROI7</th>\n      <th>ROI1-ROI8</th>\n      <th>ROI1-ROI9</th>\n      <th>ROI1-ROI10</th>\n      <th>ROI1-ROI11</th>\n      <th>...</th>\n      <th>ROI112-ROI114</th>\n      <th>ROI112-ROI115</th>\n      <th>ROI112-ROI116</th>\n      <th>ROI113-ROI114</th>\n      <th>ROI113-ROI115</th>\n      <th>ROI113-ROI116</th>\n      <th>ROI114-ROI115</th>\n      <th>ROI114-ROI116</th>\n      <th>ROI115-ROI116</th>\n      <th>var1</th>\n    </tr>\n  </thead>\n  <tbody>\n    <tr>\n      <th>0</th>\n      <td>0.574820</td>\n      <td>-0.184674</td>\n      <td>0.335784</td>\n      <td>-0.433897</td>\n      <td>-0.314960</td>\n      <td>0.121238</td>\n      <td>-0.304749</td>\n      <td>-0.360175</td>\n      <td>-0.213842</td>\n      <td>0.592588</td>\n      <td>...</td>\n      <td>0.237508</td>\n      <td>0.273457</td>\n      <td>0.225723</td>\n      <td>-0.060189</td>\n      <td>0.135940</td>\n      <td>-0.068397</td>\n      <td>0.239504</td>\n      <td>0.221618</td>\n      <td>-0.186755</td>\n      <td>32</td>\n    </tr>\n    <tr>\n      <th>1</th>\n      <td>0.459187</td>\n      <td>0.091974</td>\n      <td>-0.012738</td>\n      <td>0.018270</td>\n      <td>-0.144327</td>\n      <td>0.286588</td>\n      <td>-0.024430</td>\n      <td>0.003806</td>\n      <td>-0.102631</td>\n      <td>-0.192910</td>\n      <td>...</td>\n      <td>-0.245494</td>\n      <td>0.173441</td>\n      <td>0.203784</td>\n      <td>-0.069734</td>\n      <td>0.214056</td>\n      <td>0.230202</td>\n      <td>0.037493</td>\n      <td>0.031108</td>\n      <td>0.125471</td>\n      <td>11</td>\n    </tr>\n    <tr>\n      <th>2</th>\n      <td>0.318010</td>\n      <td>0.118248</td>\n      <td>-0.275287</td>\n      <td>0.067088</td>\n      <td>0.031507</td>\n      <td>-0.158764</td>\n      <td>-0.122662</td>\n      <td>0.233291</td>\n      <td>0.070906</td>\n      <td>0.441458</td>\n      <td>...</td>\n      <td>0.428289</td>\n      <td>0.123900</td>\n      <td>0.090384</td>\n      <td>0.504827</td>\n      <td>0.382075</td>\n      <td>0.136943</td>\n      <td>0.402817</td>\n      <td>0.237602</td>\n      <td>0.293227</td>\n      <td>17</td>\n    </tr>\n    <tr>\n      <th>3</th>\n      <td>0.405577</td>\n      <td>-0.424435</td>\n      <td>-0.260486</td>\n      <td>-0.053301</td>\n      <td>0.118364</td>\n      <td>-0.187334</td>\n      <td>-0.161422</td>\n      <td>-0.307382</td>\n      <td>-0.090365</td>\n      <td>0.439814</td>\n      <td>...</td>\n      <td>0.255396</td>\n      <td>-0.304971</td>\n      <td>-0.070677</td>\n      <td>0.186580</td>\n      <td>-0.116094</td>\n      <td>0.077223</td>\n      <td>0.041814</td>\n      <td>-0.004182</td>\n      <td>0.266954</td>\n      <td>17</td>\n    </tr>\n    <tr>\n      <th>4</th>\n      <td>0.531680</td>\n      <td>0.145877</td>\n      <td>-0.131794</td>\n      <td>0.361544</td>\n      <td>0.015393</td>\n      <td>0.055204</td>\n      <td>-0.210112</td>\n      <td>0.204085</td>\n      <td>0.027663</td>\n      <td>0.721721</td>\n      <td>...</td>\n      <td>0.000000</td>\n      <td>0.000000</td>\n      <td>0.000000</td>\n      <td>0.000000</td>\n      <td>0.000000</td>\n      <td>0.000000</td>\n      <td>0.000000</td>\n      <td>0.000000</td>\n      <td>0.000000</td>\n      <td>16</td>\n    </tr>\n    <tr>\n      <th>...</th>\n      <td>...</td>\n      <td>...</td>\n      <td>...</td>\n      <td>...</td>\n      <td>...</td>\n      <td>...</td>\n      <td>...</td>\n      <td>...</td>\n      <td>...</td>\n      <td>...</td>\n      <td>...</td>\n      <td>...</td>\n      <td>...</td>\n      <td>...</td>\n      <td>...</td>\n      <td>...</td>\n      <td>...</td>\n      <td>...</td>\n      <td>...</td>\n      <td>...</td>\n      <td>...</td>\n    </tr>\n    <tr>\n      <th>194</th>\n      <td>0.217994</td>\n      <td>0.204179</td>\n      <td>-0.118850</td>\n      <td>0.250223</td>\n      <td>0.456717</td>\n      <td>-0.195145</td>\n      <td>-0.325952</td>\n      <td>-0.053743</td>\n      <td>-0.012564</td>\n      <td>0.794479</td>\n      <td>...</td>\n      <td>0.021160</td>\n      <td>0.018531</td>\n      <td>0.039184</td>\n      <td>-0.006917</td>\n      <td>-0.157338</td>\n      <td>-0.094451</td>\n      <td>0.751545</td>\n      <td>0.652086</td>\n      <td>0.765714</td>\n      <td>20</td>\n    </tr>\n    <tr>\n      <th>195</th>\n      <td>0.465376</td>\n      <td>0.038288</td>\n      <td>-0.065834</td>\n      <td>-0.123540</td>\n      <td>-0.223827</td>\n      <td>0.372467</td>\n      <td>-0.039882</td>\n      <td>-0.101934</td>\n      <td>-0.115844</td>\n      <td>0.628183</td>\n      <td>...</td>\n      <td>0.121769</td>\n      <td>0.407962</td>\n      <td>0.322393</td>\n      <td>0.502507</td>\n      <td>0.234785</td>\n      <td>0.260871</td>\n      <td>0.272752</td>\n      <td>0.113825</td>\n      <td>0.565614</td>\n      <td>24</td>\n    </tr>\n    <tr>\n      <th>196</th>\n      <td>0.320433</td>\n      <td>-0.058686</td>\n      <td>-0.264435</td>\n      <td>-0.292921</td>\n      <td>-0.012648</td>\n      <td>-0.363793</td>\n      <td>-0.426708</td>\n      <td>0.040388</td>\n      <td>-0.286963</td>\n      <td>0.561433</td>\n      <td>...</td>\n      <td>-0.090642</td>\n      <td>0.058275</td>\n      <td>0.047026</td>\n      <td>0.451872</td>\n      <td>0.040126</td>\n      <td>0.278858</td>\n      <td>0.593402</td>\n      <td>0.321660</td>\n      <td>0.652692</td>\n      <td>24</td>\n    </tr>\n    <tr>\n      <th>197</th>\n      <td>0.550265</td>\n      <td>-0.386250</td>\n      <td>-0.283560</td>\n      <td>0.059427</td>\n      <td>0.095853</td>\n      <td>-0.092002</td>\n      <td>0.283123</td>\n      <td>0.147292</td>\n      <td>-0.060154</td>\n      <td>0.400976</td>\n      <td>...</td>\n      <td>0.535039</td>\n      <td>0.289765</td>\n      <td>0.529971</td>\n      <td>0.317849</td>\n      <td>0.188834</td>\n      <td>-0.064073</td>\n      <td>0.547437</td>\n      <td>0.426339</td>\n      <td>0.495522</td>\n      <td>29</td>\n    </tr>\n    <tr>\n      <th>198</th>\n      <td>0.447044</td>\n      <td>-0.015609</td>\n      <td>0.000369</td>\n      <td>-0.003614</td>\n      <td>-0.022943</td>\n      <td>0.049551</td>\n      <td>-0.308286</td>\n      <td>0.024050</td>\n      <td>-0.128347</td>\n      <td>0.187289</td>\n      <td>...</td>\n      <td>0.152719</td>\n      <td>-0.237177</td>\n      <td>0.161192</td>\n      <td>0.332678</td>\n      <td>-0.231984</td>\n      <td>0.114105</td>\n      <td>0.023730</td>\n      <td>0.069423</td>\n      <td>0.278818</td>\n      <td>35</td>\n    </tr>\n  </tbody>\n</table>\n<p>199 rows × 6671 columns</p>\n</div>"
     },
     "metadata": {},
     "execution_count": 163
    }
   ],
   "source": [
    "test_final_df"
   ]
  },
  {
   "cell_type": "code",
   "execution_count": 170,
   "metadata": {},
   "outputs": [],
   "source": [
    "y_pred_test=svr_reg.predict(test_final_df)"
   ]
  },
  {
   "cell_type": "code",
   "execution_count": 172,
   "metadata": {},
   "outputs": [
    {
     "output_type": "execute_result",
     "data": {
      "text/plain": [
       "array([112.48524541, 107.9742695 , 109.28836002, 109.27406428,\n",
       "       109.25129428, 108.00585667, 108.36915404, 109.53978185,\n",
       "       109.53488903, 108.27682714, 109.12666967, 107.24689681,\n",
       "       109.86064948, 107.72338198, 108.78559092, 109.03074489,\n",
       "       109.39470834, 109.49425655, 109.60327633, 108.23951968,\n",
       "       109.16758611, 109.05039471, 109.78752054, 109.26719304,\n",
       "       108.31139636, 108.70787101, 108.51679156, 108.97712267,\n",
       "       110.21838906, 108.95709755, 108.33310928, 108.99406531,\n",
       "       109.08108765, 109.73369887, 109.43799765, 109.59982365,\n",
       "       108.34789475, 108.82990657, 109.08337224, 107.10795249,\n",
       "       109.52910143, 107.94646969, 108.47896635, 108.21659796,\n",
       "       107.94349594, 109.08501064, 109.29966473, 108.2068465 ,\n",
       "       108.71662708, 106.98501041, 106.76632186, 108.57347915,\n",
       "       108.71688769, 107.92803289, 109.08033039, 107.1841864 ,\n",
       "       109.75735994, 107.94600419, 108.83932747, 108.00048571,\n",
       "       109.72407354, 108.41892449, 109.83822764, 109.03011918,\n",
       "       108.96285503, 109.13805935, 109.04841882, 109.30216685,\n",
       "       108.93514735, 111.31906435, 110.46245603, 110.27607268,\n",
       "       113.65423242, 114.25755838, 109.01714218, 111.25779248,\n",
       "       109.48398583, 110.70493349, 109.54934446, 112.51484269,\n",
       "       111.26508674, 109.03048755, 107.92163331, 107.5958994 ,\n",
       "       108.69348803, 107.44444479, 107.88397493, 106.34502328,\n",
       "       107.72511859, 109.09831412, 108.4811431 , 107.12796819,\n",
       "       107.62044577, 112.29718909, 110.04494277, 110.7364043 ,\n",
       "       109.99483889, 109.48109807, 108.92277315, 110.50432022,\n",
       "       109.6258699 , 108.4466327 , 108.07550147, 108.16930195,\n",
       "       107.68595882, 108.2762566 , 108.45513838, 108.14750365,\n",
       "       107.80589311, 107.57754695, 107.56672485, 108.11753274,\n",
       "       109.81997607, 107.40591825, 108.7659683 , 107.78971882,\n",
       "       108.15913304, 109.52136888, 107.8386208 , 107.96311088,\n",
       "       111.57990519, 110.03770417, 106.70666899, 107.46511343,\n",
       "       107.42773862, 108.16826557, 107.85284571, 109.05009739,\n",
       "       110.07868614, 111.42528734, 107.37875063, 108.51933245,\n",
       "       109.31689562, 107.65339564, 107.97283446, 107.94880771,\n",
       "       108.23199946, 108.61797908, 109.26450985, 108.54034103,\n",
       "       109.17618445, 108.79586153, 108.37456072, 108.56583354,\n",
       "       110.64877199, 111.42020338, 109.71753457, 108.64449846,\n",
       "       107.82476581, 107.39560284, 107.54129175, 107.84803622,\n",
       "       106.97362752, 107.27224336, 107.68003433, 108.06290044,\n",
       "       107.92866058, 109.03127962, 109.41117283, 107.31211722,\n",
       "       107.19677763, 108.81865577, 107.85828596, 108.38979451,\n",
       "       109.37664929, 109.35722237, 108.35775928, 108.32184615,\n",
       "       107.54237357, 108.34736942, 108.48677233, 108.22950489,\n",
       "       108.39740378, 108.92515972, 107.5090607 , 107.44021697,\n",
       "       107.93250465, 108.37206291, 112.64514712, 115.50917911,\n",
       "       118.02416146, 111.2523347 , 111.80757722, 110.76844591,\n",
       "       107.51800084, 107.77327169, 112.24003049, 112.52314946,\n",
       "       114.17160136, 110.30220901, 110.06445857, 110.52052225,\n",
       "       114.61976289, 115.16681438, 110.77481745, 110.40243408,\n",
       "       110.89585229, 112.36289284, 113.83607168])"
      ]
     },
     "metadata": {},
     "execution_count": 172
    }
   ],
   "source": [
    "y_pred_test"
   ]
  },
  {
   "cell_type": "code",
   "execution_count": 173,
   "metadata": {},
   "outputs": [],
   "source": [
    "df_leaderboard=pd.DataFrame({'id':test_df['id'],'target':y_pred_test})"
   ]
  },
  {
   "cell_type": "code",
   "execution_count": 174,
   "metadata": {},
   "outputs": [
    {
     "output_type": "execute_result",
     "data": {
      "text/plain": [
       "      id      target\n",
       "0     17  112.485245\n",
       "1     19  107.974269\n",
       "2     25  109.288360\n",
       "3     32  109.274064\n",
       "4     33  109.251294\n",
       "..   ...         ...\n",
       "194  777  110.774817\n",
       "195  783  110.402434\n",
       "196  784  110.895852\n",
       "197  792  112.362893\n",
       "198  796  113.836072\n",
       "\n",
       "[199 rows x 2 columns]"
      ],
      "text/html": "<div>\n<style scoped>\n    .dataframe tbody tr th:only-of-type {\n        vertical-align: middle;\n    }\n\n    .dataframe tbody tr th {\n        vertical-align: top;\n    }\n\n    .dataframe thead th {\n        text-align: right;\n    }\n</style>\n<table border=\"1\" class=\"dataframe\">\n  <thead>\n    <tr style=\"text-align: right;\">\n      <th></th>\n      <th>id</th>\n      <th>target</th>\n    </tr>\n  </thead>\n  <tbody>\n    <tr>\n      <th>0</th>\n      <td>17</td>\n      <td>112.485245</td>\n    </tr>\n    <tr>\n      <th>1</th>\n      <td>19</td>\n      <td>107.974269</td>\n    </tr>\n    <tr>\n      <th>2</th>\n      <td>25</td>\n      <td>109.288360</td>\n    </tr>\n    <tr>\n      <th>3</th>\n      <td>32</td>\n      <td>109.274064</td>\n    </tr>\n    <tr>\n      <th>4</th>\n      <td>33</td>\n      <td>109.251294</td>\n    </tr>\n    <tr>\n      <th>...</th>\n      <td>...</td>\n      <td>...</td>\n    </tr>\n    <tr>\n      <th>194</th>\n      <td>777</td>\n      <td>110.774817</td>\n    </tr>\n    <tr>\n      <th>195</th>\n      <td>783</td>\n      <td>110.402434</td>\n    </tr>\n    <tr>\n      <th>196</th>\n      <td>784</td>\n      <td>110.895852</td>\n    </tr>\n    <tr>\n      <th>197</th>\n      <td>792</td>\n      <td>112.362893</td>\n    </tr>\n    <tr>\n      <th>198</th>\n      <td>796</td>\n      <td>113.836072</td>\n    </tr>\n  </tbody>\n</table>\n<p>199 rows × 2 columns</p>\n</div>"
     },
     "metadata": {},
     "execution_count": 174
    }
   ],
   "source": [
    "df_leaderboard"
   ]
  },
  {
   "cell_type": "code",
   "execution_count": 176,
   "metadata": {},
   "outputs": [],
   "source": [
    "df_leaderboard.to_csv('G14_01',index=False)"
   ]
  },
  {
   "cell_type": "code",
   "execution_count": null,
   "metadata": {},
   "outputs": [],
   "source": []
  }
 ],
 "metadata": {
  "kernelspec": {
   "name": "python3",
   "display_name": "Python 3.9.4 64-bit"
  },
  "language_info": {
   "codemirror_mode": {
    "name": "ipython",
    "version": 3
   },
   "file_extension": ".py",
   "mimetype": "text/x-python",
   "name": "python",
   "nbconvert_exporter": "python",
   "pygments_lexer": "ipython3",
   "version": "3.9.4"
  },
  "interpreter": {
   "hash": "1166cef94fc0fcb59fdf1f3664e32c4e91f49a9d01a5d46c1aacacdd3a178a73"
  }
 },
 "nbformat": 4,
 "nbformat_minor": 4
}