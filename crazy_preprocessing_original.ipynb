{
 "cells": [
  {
   "cell_type": "code",
   "execution_count": 1,
   "metadata": {
    "_cell_guid": "b1076dfc-b9ad-4769-8c92-a6c4dae69d19",
    "_uuid": "8f2839f25d086af736a60e9eeb907d3b93b6e0e5",
    "execution": {
     "iopub.execute_input": "2021-06-28T06:33:21.887869Z",
     "iopub.status.busy": "2021-06-28T06:33:21.887480Z",
     "iopub.status.idle": "2021-06-28T06:33:21.901206Z",
     "shell.execute_reply": "2021-06-28T06:33:21.899845Z",
     "shell.execute_reply.started": "2021-06-28T06:33:21.887790Z"
    }
   },
   "outputs": [],
   "source": [
    "import numpy as np # linear algebra\n",
    "import pandas as pd # data processing, CSV file I/O (e.g. pd.read_csv)\n",
    "import matplotlib.pyplot as plt\n",
    "import os\n",
    "from tqdm import tqdm\n",
    "tqdm.pandas()\n",
    "from sklearn.linear_model import LinearRegression\n",
    "from sklearn.model_selection import train_test_split\n",
    "from sklearn.metrics import mean_squared_error\n",
    "from sklearn.svm import SVR\n",
    "from sklearn.model_selection import RandomizedSearchCV,GridSearchCV\n",
    "from scipy.stats.stats import pearsonr "
   ]
  },
  {
   "cell_type": "code",
   "execution_count": null,
   "metadata": {},
   "outputs": [],
   "source": []
  },
  {
   "cell_type": "code",
   "execution_count": 2,
   "metadata": {
    "execution": {
     "iopub.execute_input": "2021-06-28T06:34:43.500484Z",
     "iopub.status.busy": "2021-06-28T06:34:43.500105Z",
     "iopub.status.idle": "2021-06-28T06:34:48.838859Z",
     "shell.execute_reply": "2021-06-28T06:34:48.837849Z",
     "shell.execute_reply.started": "2021-06-28T06:34:43.500450Z"
    }
   },
   "outputs": [],
   "source": [
    "train_df=pd.read_csv('./Data/train.csv')"
   ]
  },
  {
   "cell_type": "code",
   "execution_count": 3,
   "metadata": {
    "execution": {
     "iopub.execute_input": "2021-06-28T06:21:10.120687Z",
     "iopub.status.busy": "2021-06-28T06:21:10.120353Z",
     "iopub.status.idle": "2021-06-28T06:21:10.154972Z",
     "shell.execute_reply": "2021-06-28T06:21:10.154058Z",
     "shell.execute_reply.started": "2021-06-28T06:21:10.120657Z"
    }
   },
   "outputs": [
    {
     "data": {
      "text/html": [
       "<div>\n",
       "<style scoped>\n",
       "    .dataframe tbody tr th:only-of-type {\n",
       "        vertical-align: middle;\n",
       "    }\n",
       "\n",
       "    .dataframe tbody tr th {\n",
       "        vertical-align: top;\n",
       "    }\n",
       "\n",
       "    .dataframe thead th {\n",
       "        text-align: right;\n",
       "    }\n",
       "</style>\n",
       "<table border=\"1\" class=\"dataframe\">\n",
       "  <thead>\n",
       "    <tr style=\"text-align: right;\">\n",
       "      <th></th>\n",
       "      <th>id</th>\n",
       "      <th>y</th>\n",
       "      <th>var1</th>\n",
       "      <th>var2</th>\n",
       "      <th>var3</th>\n",
       "      <th>t1_2001</th>\n",
       "      <th>t2_2001</th>\n",
       "      <th>t3_2001</th>\n",
       "      <th>t4_2001</th>\n",
       "      <th>t5_2001</th>\n",
       "      <th>...</th>\n",
       "      <th>t106_9170</th>\n",
       "      <th>t107_9170</th>\n",
       "      <th>t108_9170</th>\n",
       "      <th>t109_9170</th>\n",
       "      <th>t110_9170</th>\n",
       "      <th>t111_9170</th>\n",
       "      <th>t112_9170</th>\n",
       "      <th>t113_9170</th>\n",
       "      <th>t114_9170</th>\n",
       "      <th>t115_9170</th>\n",
       "    </tr>\n",
       "  </thead>\n",
       "  <tbody>\n",
       "    <tr>\n",
       "      <th>0</th>\n",
       "      <td>1</td>\n",
       "      <td>113.0</td>\n",
       "      <td>19</td>\n",
       "      <td>A</td>\n",
       "      <td>A</td>\n",
       "      <td>-0.140642</td>\n",
       "      <td>-0.388162</td>\n",
       "      <td>-0.574181</td>\n",
       "      <td>-0.583770</td>\n",
       "      <td>-0.376220</td>\n",
       "      <td>...</td>\n",
       "      <td>0.584130</td>\n",
       "      <td>-0.100278</td>\n",
       "      <td>-0.846640</td>\n",
       "      <td>-1.461938</td>\n",
       "      <td>-1.801008</td>\n",
       "      <td>-1.804553</td>\n",
       "      <td>-1.500023</td>\n",
       "      <td>-0.980571</td>\n",
       "      <td>-0.377526</td>\n",
       "      <td>0.168243</td>\n",
       "    </tr>\n",
       "    <tr>\n",
       "      <th>1</th>\n",
       "      <td>2</td>\n",
       "      <td>119.0</td>\n",
       "      <td>14</td>\n",
       "      <td>C</td>\n",
       "      <td>A</td>\n",
       "      <td>0.023754</td>\n",
       "      <td>-0.105455</td>\n",
       "      <td>-0.245025</td>\n",
       "      <td>-0.310670</td>\n",
       "      <td>-0.249384</td>\n",
       "      <td>...</td>\n",
       "      <td>-3.024336</td>\n",
       "      <td>-2.480266</td>\n",
       "      <td>-1.118005</td>\n",
       "      <td>0.181451</td>\n",
       "      <td>0.726820</td>\n",
       "      <td>0.401501</td>\n",
       "      <td>-0.356744</td>\n",
       "      <td>-0.913405</td>\n",
       "      <td>-0.854943</td>\n",
       "      <td>-0.193468</td>\n",
       "    </tr>\n",
       "    <tr>\n",
       "      <th>2</th>\n",
       "      <td>3</td>\n",
       "      <td>109.0</td>\n",
       "      <td>13</td>\n",
       "      <td>A</td>\n",
       "      <td>A</td>\n",
       "      <td>0.180818</td>\n",
       "      <td>0.135004</td>\n",
       "      <td>0.001879</td>\n",
       "      <td>-0.134548</td>\n",
       "      <td>-0.185928</td>\n",
       "      <td>...</td>\n",
       "      <td>-0.156851</td>\n",
       "      <td>-0.262902</td>\n",
       "      <td>-0.668436</td>\n",
       "      <td>-1.172372</td>\n",
       "      <td>-1.387328</td>\n",
       "      <td>-1.016077</td>\n",
       "      <td>-0.103130</td>\n",
       "      <td>0.935900</td>\n",
       "      <td>1.550512</td>\n",
       "      <td>1.405350</td>\n",
       "    </tr>\n",
       "    <tr>\n",
       "      <th>3</th>\n",
       "      <td>4</td>\n",
       "      <td>110.0</td>\n",
       "      <td>18</td>\n",
       "      <td>A</td>\n",
       "      <td>A</td>\n",
       "      <td>-0.234780</td>\n",
       "      <td>-0.094543</td>\n",
       "      <td>0.193084</td>\n",
       "      <td>0.508519</td>\n",
       "      <td>0.668783</td>\n",
       "      <td>...</td>\n",
       "      <td>-1.358540</td>\n",
       "      <td>-0.028478</td>\n",
       "      <td>0.535346</td>\n",
       "      <td>-0.116384</td>\n",
       "      <td>-1.542395</td>\n",
       "      <td>-2.486781</td>\n",
       "      <td>-1.631185</td>\n",
       "      <td>1.481241</td>\n",
       "      <td>6.015514</td>\n",
       "      <td>10.233163</td>\n",
       "    </tr>\n",
       "    <tr>\n",
       "      <th>4</th>\n",
       "      <td>5</td>\n",
       "      <td>123.0</td>\n",
       "      <td>32</td>\n",
       "      <td>A</td>\n",
       "      <td>A</td>\n",
       "      <td>-0.130934</td>\n",
       "      <td>-0.360313</td>\n",
       "      <td>-0.547045</td>\n",
       "      <td>-0.603495</td>\n",
       "      <td>-0.508025</td>\n",
       "      <td>...</td>\n",
       "      <td>-0.825535</td>\n",
       "      <td>-0.392556</td>\n",
       "      <td>0.156361</td>\n",
       "      <td>0.567142</td>\n",
       "      <td>0.756362</td>\n",
       "      <td>0.809336</td>\n",
       "      <td>0.844580</td>\n",
       "      <td>0.876423</td>\n",
       "      <td>0.801686</td>\n",
       "      <td>0.524566</td>\n",
       "    </tr>\n",
       "  </tbody>\n",
       "</table>\n",
       "<p>5 rows × 13345 columns</p>\n",
       "</div>"
      ],
      "text/plain": [
       "   id      y  var1 var2 var3   t1_2001   t2_2001   t3_2001   t4_2001  \\\n",
       "0   1  113.0    19    A    A -0.140642 -0.388162 -0.574181 -0.583770   \n",
       "1   2  119.0    14    C    A  0.023754 -0.105455 -0.245025 -0.310670   \n",
       "2   3  109.0    13    A    A  0.180818  0.135004  0.001879 -0.134548   \n",
       "3   4  110.0    18    A    A -0.234780 -0.094543  0.193084  0.508519   \n",
       "4   5  123.0    32    A    A -0.130934 -0.360313 -0.547045 -0.603495   \n",
       "\n",
       "    t5_2001  ...  t106_9170  t107_9170  t108_9170  t109_9170  t110_9170  \\\n",
       "0 -0.376220  ...   0.584130  -0.100278  -0.846640  -1.461938  -1.801008   \n",
       "1 -0.249384  ...  -3.024336  -2.480266  -1.118005   0.181451   0.726820   \n",
       "2 -0.185928  ...  -0.156851  -0.262902  -0.668436  -1.172372  -1.387328   \n",
       "3  0.668783  ...  -1.358540  -0.028478   0.535346  -0.116384  -1.542395   \n",
       "4 -0.508025  ...  -0.825535  -0.392556   0.156361   0.567142   0.756362   \n",
       "\n",
       "   t111_9170  t112_9170  t113_9170  t114_9170  t115_9170  \n",
       "0  -1.804553  -1.500023  -0.980571  -0.377526   0.168243  \n",
       "1   0.401501  -0.356744  -0.913405  -0.854943  -0.193468  \n",
       "2  -1.016077  -0.103130   0.935900   1.550512   1.405350  \n",
       "3  -2.486781  -1.631185   1.481241   6.015514  10.233163  \n",
       "4   0.809336   0.844580   0.876423   0.801686   0.524566  \n",
       "\n",
       "[5 rows x 13345 columns]"
      ]
     },
     "execution_count": 3,
     "metadata": {},
     "output_type": "execute_result"
    }
   ],
   "source": [
    "train_df.head()"
   ]
  },
  {
   "cell_type": "code",
   "execution_count": 5,
   "metadata": {},
   "outputs": [],
   "source": [
    "target_values=train_df['y'].unique()"
   ]
  },
  {
   "cell_type": "code",
   "execution_count": 5,
   "metadata": {
    "tags": []
   },
   "outputs": [
    {
     "name": "stderr",
     "output_type": "stream",
     "text": [
      "100%|██████████| 99/99 [50:34<00:00, 30.65s/it]\n"
     ]
    }
   ],
   "source": [
    "m=np.zeros((99,6670))\n",
    "for v in tqdm(range(len(target_values))):\n",
    "    corr=[]\n",
    "    for i in range(0,116):\n",
    "        roi_i=train_df[train_df['y']==target_values[v]].iloc[:,5+i*115:5+(i+1)*115]\n",
    "        for j in range(i+1,116):\n",
    "            roi_j=train_df[train_df['y']==target_values[v]].iloc[:,5+(j)*115:5+(j+1)*115]\n",
    "            corr.append(pearsonr(roi_i.values.flatten(),roi_j.values.flatten())[0])\n",
    "    m[v]=corr"
   ]
  },
  {
   "cell_type": "code",
   "execution_count": 6,
   "metadata": {},
   "outputs": [
    {
     "name": "stderr",
     "output_type": "stream",
     "text": [
      "100%|██████████| 99/99 [07:34<00:00,  4.59s/it]\n"
     ]
    }
   ],
   "source": [
    "# m=np.zeros((99,6670))\r\n",
    "m = []\r\n",
    "for v in tqdm(range(len(target_values))):\r\n",
    "    corr=[]\r\n",
    "    df_y = train_df[train_df['y']==target_values[v]].iloc[:, 5:]\r\n",
    "    for i in range(0,116):\r\n",
    "        roi_i=df_y.iloc[:,i*115:(i+1)*115]\r\n",
    "        for j in range(i+1,116):\r\n",
    "            roi_j=df_y.iloc[:,(j)*115:(j+1)*115]\r\n",
    "            corr.append(pearsonr(roi_i.values.flatten(),roi_j.values.flatten())[0])\r\n",
    "        #corr.append(roi_i.values.std() / 200)\r\n",
    "        # print(roi_i.values.std() / 200)\r\n",
    "    m.append(corr)\r\n",
    "m = np.array(m)"
   ]
  },
  {
   "cell_type": "code",
   "execution_count": 71,
   "metadata": {},
   "outputs": [
    {
     "data": {
      "text/plain": [
       "array([ True, False,  True,  True,  True, False,  True,  True,  True,\n",
       "        True,  True,  True,  True, False, False, False, False, False,\n",
       "        True,  True,  True, False, False, False, False, False, False,\n",
       "       False, False, False, False, False,  True,  True,  True,  True,\n",
       "       False, False, False, False, False, False, False, False,  True,\n",
       "        True, False, False, False,  True,  True,  True,  True,  True,\n",
       "       False, False, False, False,  True,  True,  True,  True, False,\n",
       "       False,  True,  True,  True,  True,  True,  True,  True,  True,\n",
       "       False, False, False, False, False, False, False, False, False,\n",
       "       False, False, False,  True,  True,  True,  True, False,  True,\n",
       "       False, False, False, False,  True,  True, False, False, False,\n",
       "       False,  True,  True,  True,  True,  True,  True,  True,  True,\n",
       "        True,  True, False, False,  True,  True,  True,  True])"
      ]
     },
     "execution_count": 71,
     "metadata": {},
     "output_type": "execute_result"
    }
   ],
   "source": [
    "usable_roi"
   ]
  },
  {
   "cell_type": "code",
   "execution_count": 68,
   "metadata": {},
   "outputs": [
    {
     "data": {
      "text/plain": [
       "(99, 6786)"
      ]
     },
     "execution_count": 68,
     "metadata": {},
     "output_type": "execute_result"
    }
   ],
   "source": [
    "m.shape"
   ]
  },
  {
   "cell_type": "code",
   "execution_count": 72,
   "metadata": {},
   "outputs": [
    {
     "name": "stderr",
     "output_type": "stream",
     "text": [
      "100%|██████████| 99/99 [02:24<00:00,  1.46s/it]\n"
     ]
    }
   ],
   "source": [
    "# m=np.zeros((99,6670))\r\n",
    "m_ricci = []\r\n",
    "for v in tqdm(range(len(target_values))):\r\n",
    "    corr=[]\r\n",
    "    df_y = train_df[train_df['y']==target_values[v]].iloc[:, 5:]\r\n",
    "    for i in range(0,116):\r\n",
    "        if usable_roi[i]:\r\n",
    "            roi_i=df_y.iloc[:,i*115:(i+1)*115]\r\n",
    "            for j in range(i+1,116):\r\n",
    "                if usable_roi[j]:\r\n",
    "                    roi_j=df_y.iloc[:,(j)*115:(j+1)*115]\r\n",
    "                    corr.append(pearsonr(roi_i.values.flatten(),roi_j.values.flatten())[0])\r\n",
    "        #corr.append(roi_i.values.std() / 200)\r\n",
    "        # print(roi_i.values.std() / 200)\r\n",
    "    m_ricci.append(corr)\r\n",
    "m_ricci = np.array(m_ricci)\r\n"
   ]
  },
  {
   "cell_type": "code",
   "execution_count": 10,
   "metadata": {},
   "outputs": [
    {
     "data": {
      "text/plain": [
       "array([[ 1.        ,  0.38640554,  0.08416445, ..., -0.02241088,\n",
       "         0.18301372, -0.11582895],\n",
       "       [ 0.38640554,  1.        , -0.44050838, ...,  0.18745823,\n",
       "         0.09692667, -0.31484989],\n",
       "       [ 0.08416445, -0.44050838,  1.        , ...,  0.19245921,\n",
       "         0.11024755,  0.28251509],\n",
       "       ...,\n",
       "       [-0.02241088,  0.18745823,  0.19245921, ...,  1.        ,\n",
       "         0.04786964,  0.11274495],\n",
       "       [ 0.18301372,  0.09692667,  0.11024755, ...,  0.04786964,\n",
       "         1.        ,  0.14208132],\n",
       "       [-0.11582895, -0.31484989,  0.28251509, ...,  0.11274495,\n",
       "         0.14208132,  1.        ]])"
      ]
     },
     "execution_count": 10,
     "metadata": {},
     "output_type": "execute_result"
    }
   ],
   "source": [
    "persona = np.array(train_df.iloc[1,5:]).reshape((116, 115)).astype(float)\r\n",
    "corr = np.corrcoef(persona)\r\n",
    "print(corr.shape)\r\n",
    "corr\r\n"
   ]
  },
  {
   "cell_type": "code",
   "execution_count": 52,
   "metadata": {},
   "outputs": [
    {
     "name": "stderr",
     "output_type": "stream",
     "text": [
      "0it [00:00, ?it/s]C:\\Users\\Nicola\\AppData\\Local\\Programs\\Python\\Python39\\lib\\site-packages\\numpy\\lib\\function_base.py:2642: RuntimeWarning: invalid value encountered in true_divide\n",
      "  c /= stddev[:, None]\n",
      "C:\\Users\\Nicola\\AppData\\Local\\Programs\\Python\\Python39\\lib\\site-packages\\numpy\\lib\\function_base.py:2643: RuntimeWarning: invalid value encountered in true_divide\n",
      "  c /= stddev[None, :]\n",
      "600it [06:46,  1.48it/s]\n"
     ]
    }
   ],
   "source": [
    "epsi=1/116\r\n",
    "Ric_subjects=[]\r\n",
    "for index,row in tqdm(train_df.iterrows()):\r\n",
    "    subject = np.array(row[5:]).reshape((116, 115)).astype(float)\r\n",
    "    corr = np.corrcoef(subject)\r\n",
    "    Ric=np.zeros((116,116))\r\n",
    "    corr_pos=np.fmax(corr,epsi)\r\n",
    "    for i in range(0,116):\r\n",
    "        for j in range(i,116):\r\n",
    "            val=2-corr_pos[i,j]*(np.sum(1/(np.sqrt(corr_pos[i,j]*corr_pos[i])))+np.sum(1/(np.sqrt(corr_pos[i,j]*corr_pos[j]))))\r\n",
    "            Ric[i,j]=val\r\n",
    "            Ric[j,i]=val\r\n",
    "    Ric_subjects.append(np.mean(Ric,axis=1))\r\n"
   ]
  },
  {
   "cell_type": "code",
   "execution_count": 50,
   "metadata": {},
   "outputs": [],
   "source": [
    "average_ric=np.mean(Ric,axis=1)"
   ]
  },
  {
   "cell_type": "code",
   "execution_count": 51,
   "metadata": {},
   "outputs": [
    {
     "data": {
      "text/plain": [
       "array([-436.85493348, -422.87170107, -438.2510712 , -421.24600375,\n",
       "       -440.63593765, -492.06949644, -410.16931292, -432.93388115,\n",
       "       -409.60812155, -457.84484347, -450.07251054, -417.66311797,\n",
       "       -464.08441384, -450.85490449, -473.80167921, -412.43085419,\n",
       "       -460.02412176, -451.85342729, -469.10361324, -392.7808454 ,\n",
       "       -424.32372032, -471.12170118, -454.83295003, -440.19766182,\n",
       "       -447.9110162 , -473.53257088, -449.05055402, -472.69636441,\n",
       "       -468.23209803, -489.2771048 , -442.07975672, -423.33794112,\n",
       "       -456.19371713, -430.11290363, -437.32906057, -438.5194336 ,\n",
       "       -511.14600072, -441.77365788, -417.88457723, -439.82938655,\n",
       "       -461.014174  , -474.36462676, -496.36902771, -484.23962631,\n",
       "       -409.67956997, -437.31686845, -465.22941457, -437.61782891,\n",
       "       -417.04161643, -441.27380502, -453.47680375, -433.10355041,\n",
       "       -430.26548536, -453.77666863, -482.2452351 , -490.82970291,\n",
       "       -401.35158647, -443.68629112, -444.79631838, -425.50186628,\n",
       "       -467.0322119 , -410.97882345, -458.48579326, -478.60881089,\n",
       "       -413.48675694, -404.18353054, -409.22874197, -482.83033   ,\n",
       "       -462.50865269, -396.92011989, -379.51045153, -415.01421378,\n",
       "       -495.45622904, -501.32629383, -489.7204811 , -429.91463604,\n",
       "       -521.6886916 , -481.61787228, -458.55765006, -473.35177921,\n",
       "       -427.42134336, -491.39017549, -438.61242917, -474.02753168,\n",
       "       -440.64371743, -423.21169488, -430.03655841, -470.6932305 ,\n",
       "       -435.93293463, -415.38860239, -464.11810662, -470.80285333,\n",
       "       -469.6709787 , -484.94884576, -424.32573361, -411.25225604,\n",
       "       -467.99752485, -420.19730577, -451.20174648, -471.82158907,\n",
       "       -444.89974235, -454.39971743, -465.41018927, -449.10032652,\n",
       "       -446.46340766, -441.85053526, -432.3728837 , -345.0982846 ,\n",
       "       -428.77991865, -394.47094982, -488.79611134, -465.41166076,\n",
       "       -459.2983203 , -367.43957966, -373.77090914, -399.29411333])"
      ]
     },
     "execution_count": 51,
     "metadata": {},
     "output_type": "execute_result"
    }
   ],
   "source": [
    "average_ric"
   ]
  },
  {
   "cell_type": "code",
   "execution_count": 53,
   "metadata": {},
   "outputs": [
    {
     "data": {
      "text/plain": [
       "array([ True,  True,  True,  True,  True, False,  True,  True,  True,\n",
       "       False, False,  True, False, False, False,  True, False, False,\n",
       "       False,  True,  True, False, False,  True, False, False, False,\n",
       "       False, False, False,  True,  True, False,  True,  True,  True,\n",
       "       False,  True,  True,  True, False, False, False, False,  True,\n",
       "        True, False,  True,  True,  True, False,  True,  True, False,\n",
       "       False, False,  True,  True,  True,  True, False,  True, False,\n",
       "       False,  True,  True,  True, False, False,  True,  True,  True,\n",
       "       False, False, False,  True, False, False, False, False,  True,\n",
       "       False,  True, False,  True,  True,  True, False,  True,  True,\n",
       "       False, False, False, False,  True,  True, False,  True, False,\n",
       "       False, False, False, False, False, False,  True,  True,  True,\n",
       "        True,  True, False, False, False,  True,  True,  True])"
      ]
     },
     "execution_count": 53,
     "metadata": {},
     "output_type": "execute_result"
    }
   ],
   "source": [
    "average_ric>=np.median(average_ric)"
   ]
  },
  {
   "cell_type": "code",
   "execution_count": 55,
   "metadata": {},
   "outputs": [],
   "source": [
    "Ric_subjects_arr=np.array(Ric_subjects)"
   ]
  },
  {
   "cell_type": "code",
   "execution_count": 59,
   "metadata": {},
   "outputs": [],
   "source": [
    "avg=Ric_subjects_arr.mean(axis=0)"
   ]
  },
  {
   "cell_type": "code",
   "execution_count": 69,
   "metadata": {},
   "outputs": [],
   "source": [
    "avg>=np.median(avg)\r\n",
    "usable_roi=avg>=np.median(avg)"
   ]
  },
  {
   "cell_type": "code",
   "execution_count": 66,
   "metadata": {},
   "outputs": [],
   "source": [
    "ROI=np.array([f'ROI{i}' for i in range(1,117)])"
   ]
  },
  {
   "cell_type": "code",
   "execution_count": 65,
   "metadata": {},
   "outputs": [
    {
     "data": {
      "text/plain": [
       "116"
      ]
     },
     "execution_count": 65,
     "metadata": {},
     "output_type": "execute_result"
    }
   ],
   "source": [
    "len(ROI)"
   ]
  },
  {
   "cell_type": "code",
   "execution_count": 67,
   "metadata": {},
   "outputs": [
    {
     "data": {
      "text/plain": [
       "array(['ROI1', 'ROI3', 'ROI4', 'ROI5', 'ROI7', 'ROI8', 'ROI9', 'ROI10',\n",
       "       'ROI11', 'ROI12', 'ROI13', 'ROI19', 'ROI20', 'ROI21', 'ROI33',\n",
       "       'ROI34', 'ROI35', 'ROI36', 'ROI45', 'ROI46', 'ROI50', 'ROI51',\n",
       "       'ROI52', 'ROI53', 'ROI54', 'ROI59', 'ROI60', 'ROI61', 'ROI62',\n",
       "       'ROI65', 'ROI66', 'ROI67', 'ROI68', 'ROI69', 'ROI70', 'ROI71',\n",
       "       'ROI72', 'ROI85', 'ROI86', 'ROI87', 'ROI88', 'ROI90', 'ROI95',\n",
       "       'ROI96', 'ROI101', 'ROI102', 'ROI103', 'ROI104', 'ROI105',\n",
       "       'ROI106', 'ROI107', 'ROI108', 'ROI109', 'ROI110', 'ROI113',\n",
       "       'ROI114', 'ROI115', 'ROI116'], dtype='<U6')"
      ]
     },
     "execution_count": 67,
     "metadata": {},
     "output_type": "execute_result"
    }
   ],
   "source": [
    "ROI[avg>=np.median(avg)]"
   ]
  },
  {
   "cell_type": "code",
   "execution_count": 7,
   "metadata": {},
   "outputs": [],
   "source": [
    "columns=[f'ROI{i}-ROI{j}'  for i in range(1,116) for j in range (i+1,117) ]"
   ]
  },
  {
   "cell_type": "code",
   "execution_count": 74,
   "metadata": {},
   "outputs": [
    {
     "data": {
      "text/plain": [
       "(99, 1653)"
      ]
     },
     "execution_count": 74,
     "metadata": {},
     "output_type": "execute_result"
    }
   ],
   "source": [
    "m_ricc.shape"
   ]
  },
  {
   "cell_type": "code",
   "execution_count": 96,
   "metadata": {},
   "outputs": [],
   "source": [
    "def get_corr(row,usable_roi,test=False):\r\n",
    "    if test:\r\n",
    "        brain = np.array(row[4:])\r\n",
    "    else:\r\n",
    "        brain = np.array(row[5:])\r\n",
    "    #brain = brain.reshape((116, 115)).astype(float)\r\n",
    "    #corr = np.corrcoef(brain)\r\n",
    "    #flat = corr[np.triu_indices(corr.shape[0], 1)]\r\n",
    "    corr = []\r\n",
    "    for i in range(0,116):\r\n",
    "        if usable_roi[i]:\r\n",
    "            roi_i=brain[i*115:(i+1)*115]\r\n",
    "            for j in range(i+1,116):\r\n",
    "                if usable_roi[j]:\r\n",
    "                    roi_j=brain[(j)*115:(j+1)*115]\r\n",
    "                    # print(len(roi_i), len(roi_j))\r\n",
    "                    corr.append(pearsonr(roi_i.flatten(), roi_j.flatten())[0])\r\n",
    "            # corr.append(roi_i.std() / 200)\r\n",
    "    return corr\r\n",
    "\r\n",
    "    #return flat.tolist()\r\n"
   ]
  },
  {
   "cell_type": "code",
   "execution_count": 7,
   "metadata": {},
   "outputs": [
    {
     "name": "stderr",
     "output_type": "stream",
     "text": [
      "  0%|          | 1/600 [00:01<11:29,  1.15s/it]C:\\Users\\Nicola\\AppData\\Local\\Programs\\Python\\Python39\\lib\\site-packages\\numpy\\lib\\function_base.py:2642: RuntimeWarning: invalid value encountered in true_divide\n",
      "  c /= stddev[:, None]\n",
      "C:\\Users\\Nicola\\AppData\\Local\\Programs\\Python\\Python39\\lib\\site-packages\\numpy\\lib\\function_base.py:2643: RuntimeWarning: invalid value encountered in true_divide\n",
      "  c /= stddev[None, :]\n",
      "100%|██████████| 600/600 [00:13<00:00, 43.42it/s]\n"
     ]
    }
   ],
   "source": [
    "corr=train_df.progress_apply(lambda x :get_corr(x),axis=1)"
   ]
  },
  {
   "cell_type": "code",
   "execution_count": 75,
   "metadata": {},
   "outputs": [],
   "source": [
    "#corr_df=pd.DataFrame(np.array(corr.values.tolist()),columns=columns).fillna(0)\r\n",
    "corr_df=pd.DataFrame(m_ricc).fillna(0)\r\n",
    "#new_train=corr_df\r\n",
    "#new_train['var1']=train_df['var1']\r\n",
    "#new_train['y']=train_df['y']"
   ]
  },
  {
   "cell_type": "code",
   "execution_count": 76,
   "metadata": {},
   "outputs": [
    {
     "data": {
      "text/html": [
       "<div>\n",
       "<style scoped>\n",
       "    .dataframe tbody tr th:only-of-type {\n",
       "        vertical-align: middle;\n",
       "    }\n",
       "\n",
       "    .dataframe tbody tr th {\n",
       "        vertical-align: top;\n",
       "    }\n",
       "\n",
       "    .dataframe thead th {\n",
       "        text-align: right;\n",
       "    }\n",
       "</style>\n",
       "<table border=\"1\" class=\"dataframe\">\n",
       "  <thead>\n",
       "    <tr style=\"text-align: right;\">\n",
       "      <th></th>\n",
       "      <th>0</th>\n",
       "      <th>1</th>\n",
       "      <th>2</th>\n",
       "      <th>3</th>\n",
       "      <th>4</th>\n",
       "      <th>5</th>\n",
       "      <th>6</th>\n",
       "      <th>7</th>\n",
       "      <th>8</th>\n",
       "      <th>9</th>\n",
       "      <th>...</th>\n",
       "      <th>1643</th>\n",
       "      <th>1644</th>\n",
       "      <th>1645</th>\n",
       "      <th>1646</th>\n",
       "      <th>1647</th>\n",
       "      <th>1648</th>\n",
       "      <th>1649</th>\n",
       "      <th>1650</th>\n",
       "      <th>1651</th>\n",
       "      <th>1652</th>\n",
       "    </tr>\n",
       "  </thead>\n",
       "  <tbody>\n",
       "    <tr>\n",
       "      <th>0</th>\n",
       "      <td>-0.128682</td>\n",
       "      <td>-0.319849</td>\n",
       "      <td>-0.324166</td>\n",
       "      <td>-0.025520</td>\n",
       "      <td>-0.360514</td>\n",
       "      <td>-0.153844</td>\n",
       "      <td>-0.231056</td>\n",
       "      <td>0.406997</td>\n",
       "      <td>-0.019308</td>\n",
       "      <td>0.221273</td>\n",
       "      <td>...</td>\n",
       "      <td>0.405543</td>\n",
       "      <td>0.317367</td>\n",
       "      <td>0.156731</td>\n",
       "      <td>0.316928</td>\n",
       "      <td>0.598233</td>\n",
       "      <td>0.224943</td>\n",
       "      <td>0.198616</td>\n",
       "      <td>0.627310</td>\n",
       "      <td>0.493860</td>\n",
       "      <td>0.762508</td>\n",
       "    </tr>\n",
       "    <tr>\n",
       "      <th>1</th>\n",
       "      <td>0.215177</td>\n",
       "      <td>-0.324562</td>\n",
       "      <td>0.035001</td>\n",
       "      <td>0.299189</td>\n",
       "      <td>-0.011791</td>\n",
       "      <td>-0.092059</td>\n",
       "      <td>-0.311974</td>\n",
       "      <td>0.525294</td>\n",
       "      <td>0.316897</td>\n",
       "      <td>0.222939</td>\n",
       "      <td>...</td>\n",
       "      <td>0.228135</td>\n",
       "      <td>0.028930</td>\n",
       "      <td>-0.045873</td>\n",
       "      <td>0.114253</td>\n",
       "      <td>0.542688</td>\n",
       "      <td>0.266197</td>\n",
       "      <td>0.232802</td>\n",
       "      <td>0.610117</td>\n",
       "      <td>0.595988</td>\n",
       "      <td>0.759333</td>\n",
       "    </tr>\n",
       "    <tr>\n",
       "      <th>2</th>\n",
       "      <td>0.368124</td>\n",
       "      <td>0.129039</td>\n",
       "      <td>0.042282</td>\n",
       "      <td>0.320363</td>\n",
       "      <td>0.052695</td>\n",
       "      <td>-0.007191</td>\n",
       "      <td>-0.115823</td>\n",
       "      <td>0.438331</td>\n",
       "      <td>0.243395</td>\n",
       "      <td>0.197927</td>\n",
       "      <td>...</td>\n",
       "      <td>0.026509</td>\n",
       "      <td>0.266138</td>\n",
       "      <td>-0.046827</td>\n",
       "      <td>0.112721</td>\n",
       "      <td>0.094228</td>\n",
       "      <td>0.005790</td>\n",
       "      <td>0.001743</td>\n",
       "      <td>0.309380</td>\n",
       "      <td>0.356655</td>\n",
       "      <td>0.510192</td>\n",
       "    </tr>\n",
       "    <tr>\n",
       "      <th>3</th>\n",
       "      <td>0.128242</td>\n",
       "      <td>-0.336238</td>\n",
       "      <td>-0.117699</td>\n",
       "      <td>-0.300985</td>\n",
       "      <td>-0.291991</td>\n",
       "      <td>-0.028831</td>\n",
       "      <td>0.049166</td>\n",
       "      <td>0.264095</td>\n",
       "      <td>0.086405</td>\n",
       "      <td>0.101414</td>\n",
       "      <td>...</td>\n",
       "      <td>0.239482</td>\n",
       "      <td>0.211560</td>\n",
       "      <td>-0.142819</td>\n",
       "      <td>-0.050326</td>\n",
       "      <td>0.520089</td>\n",
       "      <td>0.097454</td>\n",
       "      <td>0.191578</td>\n",
       "      <td>0.496777</td>\n",
       "      <td>0.437103</td>\n",
       "      <td>0.702825</td>\n",
       "    </tr>\n",
       "    <tr>\n",
       "      <th>4</th>\n",
       "      <td>0.126783</td>\n",
       "      <td>-0.036986</td>\n",
       "      <td>-0.107399</td>\n",
       "      <td>0.093512</td>\n",
       "      <td>-0.132265</td>\n",
       "      <td>0.072785</td>\n",
       "      <td>-0.027129</td>\n",
       "      <td>0.206432</td>\n",
       "      <td>0.098717</td>\n",
       "      <td>-0.058600</td>\n",
       "      <td>...</td>\n",
       "      <td>0.076262</td>\n",
       "      <td>-0.057215</td>\n",
       "      <td>-0.071727</td>\n",
       "      <td>0.428875</td>\n",
       "      <td>0.296669</td>\n",
       "      <td>0.199877</td>\n",
       "      <td>0.037061</td>\n",
       "      <td>0.084179</td>\n",
       "      <td>-0.195883</td>\n",
       "      <td>0.133420</td>\n",
       "    </tr>\n",
       "    <tr>\n",
       "      <th>...</th>\n",
       "      <td>...</td>\n",
       "      <td>...</td>\n",
       "      <td>...</td>\n",
       "      <td>...</td>\n",
       "      <td>...</td>\n",
       "      <td>...</td>\n",
       "      <td>...</td>\n",
       "      <td>...</td>\n",
       "      <td>...</td>\n",
       "      <td>...</td>\n",
       "      <td>...</td>\n",
       "      <td>...</td>\n",
       "      <td>...</td>\n",
       "      <td>...</td>\n",
       "      <td>...</td>\n",
       "      <td>...</td>\n",
       "      <td>...</td>\n",
       "      <td>...</td>\n",
       "      <td>...</td>\n",
       "      <td>...</td>\n",
       "      <td>...</td>\n",
       "    </tr>\n",
       "    <tr>\n",
       "      <th>94</th>\n",
       "      <td>0.351149</td>\n",
       "      <td>-0.038836</td>\n",
       "      <td>0.223067</td>\n",
       "      <td>0.319957</td>\n",
       "      <td>0.030517</td>\n",
       "      <td>0.159190</td>\n",
       "      <td>0.073564</td>\n",
       "      <td>0.437765</td>\n",
       "      <td>-0.078260</td>\n",
       "      <td>0.520290</td>\n",
       "      <td>...</td>\n",
       "      <td>0.043098</td>\n",
       "      <td>0.073808</td>\n",
       "      <td>0.063758</td>\n",
       "      <td>0.462111</td>\n",
       "      <td>0.502167</td>\n",
       "      <td>-0.034922</td>\n",
       "      <td>0.009250</td>\n",
       "      <td>0.179169</td>\n",
       "      <td>0.015129</td>\n",
       "      <td>0.072416</td>\n",
       "    </tr>\n",
       "    <tr>\n",
       "      <th>95</th>\n",
       "      <td>-0.062977</td>\n",
       "      <td>0.038081</td>\n",
       "      <td>-0.019106</td>\n",
       "      <td>-0.046278</td>\n",
       "      <td>-0.093730</td>\n",
       "      <td>0.160723</td>\n",
       "      <td>0.030468</td>\n",
       "      <td>0.343544</td>\n",
       "      <td>0.294119</td>\n",
       "      <td>0.343351</td>\n",
       "      <td>...</td>\n",
       "      <td>0.125703</td>\n",
       "      <td>0.162704</td>\n",
       "      <td>-0.049653</td>\n",
       "      <td>0.110388</td>\n",
       "      <td>0.328286</td>\n",
       "      <td>-0.343286</td>\n",
       "      <td>-0.097973</td>\n",
       "      <td>-0.050513</td>\n",
       "      <td>0.062323</td>\n",
       "      <td>0.119114</td>\n",
       "    </tr>\n",
       "    <tr>\n",
       "      <th>96</th>\n",
       "      <td>-0.217757</td>\n",
       "      <td>-0.406463</td>\n",
       "      <td>-0.127794</td>\n",
       "      <td>-0.223247</td>\n",
       "      <td>-0.346684</td>\n",
       "      <td>-0.108791</td>\n",
       "      <td>-0.248721</td>\n",
       "      <td>0.258565</td>\n",
       "      <td>-0.055787</td>\n",
       "      <td>0.025042</td>\n",
       "      <td>...</td>\n",
       "      <td>-0.188414</td>\n",
       "      <td>0.468370</td>\n",
       "      <td>0.172022</td>\n",
       "      <td>-0.092063</td>\n",
       "      <td>-0.278035</td>\n",
       "      <td>-0.062824</td>\n",
       "      <td>0.105871</td>\n",
       "      <td>0.127236</td>\n",
       "      <td>-0.137419</td>\n",
       "      <td>0.384195</td>\n",
       "    </tr>\n",
       "    <tr>\n",
       "      <th>97</th>\n",
       "      <td>0.041617</td>\n",
       "      <td>0.422122</td>\n",
       "      <td>0.218517</td>\n",
       "      <td>0.198131</td>\n",
       "      <td>0.160266</td>\n",
       "      <td>-0.095230</td>\n",
       "      <td>-0.382416</td>\n",
       "      <td>0.069999</td>\n",
       "      <td>0.038906</td>\n",
       "      <td>-0.101761</td>\n",
       "      <td>...</td>\n",
       "      <td>0.141199</td>\n",
       "      <td>0.257843</td>\n",
       "      <td>0.268758</td>\n",
       "      <td>0.285794</td>\n",
       "      <td>0.243030</td>\n",
       "      <td>0.092524</td>\n",
       "      <td>0.197212</td>\n",
       "      <td>0.302225</td>\n",
       "      <td>0.111809</td>\n",
       "      <td>-0.008902</td>\n",
       "    </tr>\n",
       "    <tr>\n",
       "      <th>98</th>\n",
       "      <td>0.194880</td>\n",
       "      <td>-0.278367</td>\n",
       "      <td>0.213362</td>\n",
       "      <td>0.108711</td>\n",
       "      <td>-0.133329</td>\n",
       "      <td>0.349854</td>\n",
       "      <td>0.142841</td>\n",
       "      <td>0.474486</td>\n",
       "      <td>0.066274</td>\n",
       "      <td>0.134304</td>\n",
       "      <td>...</td>\n",
       "      <td>-0.162364</td>\n",
       "      <td>0.074650</td>\n",
       "      <td>-0.029201</td>\n",
       "      <td>0.234499</td>\n",
       "      <td>0.274061</td>\n",
       "      <td>0.159913</td>\n",
       "      <td>0.056439</td>\n",
       "      <td>0.394824</td>\n",
       "      <td>0.084801</td>\n",
       "      <td>0.321150</td>\n",
       "    </tr>\n",
       "  </tbody>\n",
       "</table>\n",
       "<p>99 rows × 1653 columns</p>\n",
       "</div>"
      ],
      "text/plain": [
       "        0         1         2         3         4         5         6     \\\n",
       "0  -0.128682 -0.319849 -0.324166 -0.025520 -0.360514 -0.153844 -0.231056   \n",
       "1   0.215177 -0.324562  0.035001  0.299189 -0.011791 -0.092059 -0.311974   \n",
       "2   0.368124  0.129039  0.042282  0.320363  0.052695 -0.007191 -0.115823   \n",
       "3   0.128242 -0.336238 -0.117699 -0.300985 -0.291991 -0.028831  0.049166   \n",
       "4   0.126783 -0.036986 -0.107399  0.093512 -0.132265  0.072785 -0.027129   \n",
       "..       ...       ...       ...       ...       ...       ...       ...   \n",
       "94  0.351149 -0.038836  0.223067  0.319957  0.030517  0.159190  0.073564   \n",
       "95 -0.062977  0.038081 -0.019106 -0.046278 -0.093730  0.160723  0.030468   \n",
       "96 -0.217757 -0.406463 -0.127794 -0.223247 -0.346684 -0.108791 -0.248721   \n",
       "97  0.041617  0.422122  0.218517  0.198131  0.160266 -0.095230 -0.382416   \n",
       "98  0.194880 -0.278367  0.213362  0.108711 -0.133329  0.349854  0.142841   \n",
       "\n",
       "        7         8         9     ...      1643      1644      1645      1646  \\\n",
       "0   0.406997 -0.019308  0.221273  ...  0.405543  0.317367  0.156731  0.316928   \n",
       "1   0.525294  0.316897  0.222939  ...  0.228135  0.028930 -0.045873  0.114253   \n",
       "2   0.438331  0.243395  0.197927  ...  0.026509  0.266138 -0.046827  0.112721   \n",
       "3   0.264095  0.086405  0.101414  ...  0.239482  0.211560 -0.142819 -0.050326   \n",
       "4   0.206432  0.098717 -0.058600  ...  0.076262 -0.057215 -0.071727  0.428875   \n",
       "..       ...       ...       ...  ...       ...       ...       ...       ...   \n",
       "94  0.437765 -0.078260  0.520290  ...  0.043098  0.073808  0.063758  0.462111   \n",
       "95  0.343544  0.294119  0.343351  ...  0.125703  0.162704 -0.049653  0.110388   \n",
       "96  0.258565 -0.055787  0.025042  ... -0.188414  0.468370  0.172022 -0.092063   \n",
       "97  0.069999  0.038906 -0.101761  ...  0.141199  0.257843  0.268758  0.285794   \n",
       "98  0.474486  0.066274  0.134304  ... -0.162364  0.074650 -0.029201  0.234499   \n",
       "\n",
       "        1647      1648      1649      1650      1651      1652  \n",
       "0   0.598233  0.224943  0.198616  0.627310  0.493860  0.762508  \n",
       "1   0.542688  0.266197  0.232802  0.610117  0.595988  0.759333  \n",
       "2   0.094228  0.005790  0.001743  0.309380  0.356655  0.510192  \n",
       "3   0.520089  0.097454  0.191578  0.496777  0.437103  0.702825  \n",
       "4   0.296669  0.199877  0.037061  0.084179 -0.195883  0.133420  \n",
       "..       ...       ...       ...       ...       ...       ...  \n",
       "94  0.502167 -0.034922  0.009250  0.179169  0.015129  0.072416  \n",
       "95  0.328286 -0.343286 -0.097973 -0.050513  0.062323  0.119114  \n",
       "96 -0.278035 -0.062824  0.105871  0.127236 -0.137419  0.384195  \n",
       "97  0.243030  0.092524  0.197212  0.302225  0.111809 -0.008902  \n",
       "98  0.274061  0.159913  0.056439  0.394824  0.084801  0.321150  \n",
       "\n",
       "[99 rows x 1653 columns]"
      ]
     },
     "execution_count": 76,
     "metadata": {},
     "output_type": "execute_result"
    }
   ],
   "source": [
    "corr_df"
   ]
  },
  {
   "cell_type": "code",
   "execution_count": 77,
   "metadata": {},
   "outputs": [],
   "source": [
    "corr_df['y']=target_values"
   ]
  },
  {
   "cell_type": "code",
   "execution_count": 13,
   "metadata": {},
   "outputs": [],
   "source": [
    "first_cols = train_df.iloc[:, [1,2,3,4]]"
   ]
  },
  {
   "cell_type": "code",
   "execution_count": 14,
   "metadata": {},
   "outputs": [],
   "source": [
    "new_train = first_cols.join(corr_df)"
   ]
  },
  {
   "cell_type": "code",
   "execution_count": 15,
   "metadata": {},
   "outputs": [],
   "source": [
    "new_train['var2'].replace({'A':0, 'C':1}, inplace = True)\n",
    "new_train['var3'].replace({'A':0, 'C':1}, inplace = True)"
   ]
  },
  {
   "cell_type": "code",
   "execution_count": 16,
   "metadata": {},
   "outputs": [
    {
     "data": {
      "text/html": [
       "<div>\n",
       "<style scoped>\n",
       "    .dataframe tbody tr th:only-of-type {\n",
       "        vertical-align: middle;\n",
       "    }\n",
       "\n",
       "    .dataframe tbody tr th {\n",
       "        vertical-align: top;\n",
       "    }\n",
       "\n",
       "    .dataframe thead th {\n",
       "        text-align: right;\n",
       "    }\n",
       "</style>\n",
       "<table border=\"1\" class=\"dataframe\">\n",
       "  <thead>\n",
       "    <tr style=\"text-align: right;\">\n",
       "      <th></th>\n",
       "      <th>y</th>\n",
       "      <th>var1</th>\n",
       "      <th>var2</th>\n",
       "      <th>var3</th>\n",
       "      <th>ROI1-ROI2</th>\n",
       "      <th>ROI1-ROI3</th>\n",
       "      <th>ROI1-ROI4</th>\n",
       "      <th>ROI1-ROI5</th>\n",
       "      <th>ROI1-ROI6</th>\n",
       "      <th>ROI1-ROI7</th>\n",
       "      <th>...</th>\n",
       "      <th>ROI112-ROI113</th>\n",
       "      <th>ROI112-ROI114</th>\n",
       "      <th>ROI112-ROI115</th>\n",
       "      <th>ROI112-ROI116</th>\n",
       "      <th>ROI113-ROI114</th>\n",
       "      <th>ROI113-ROI115</th>\n",
       "      <th>ROI113-ROI116</th>\n",
       "      <th>ROI114-ROI115</th>\n",
       "      <th>ROI114-ROI116</th>\n",
       "      <th>ROI115-ROI116</th>\n",
       "    </tr>\n",
       "  </thead>\n",
       "  <tbody>\n",
       "    <tr>\n",
       "      <th>0</th>\n",
       "      <td>113.0</td>\n",
       "      <td>19</td>\n",
       "      <td>0</td>\n",
       "      <td>0</td>\n",
       "      <td>0.353489</td>\n",
       "      <td>-0.128682</td>\n",
       "      <td>-0.319849</td>\n",
       "      <td>-0.324166</td>\n",
       "      <td>-0.246387</td>\n",
       "      <td>-0.025520</td>\n",
       "      <td>...</td>\n",
       "      <td>0.683160</td>\n",
       "      <td>0.349207</td>\n",
       "      <td>0.184093</td>\n",
       "      <td>0.295171</td>\n",
       "      <td>0.598233</td>\n",
       "      <td>0.224943</td>\n",
       "      <td>0.198616</td>\n",
       "      <td>0.627310</td>\n",
       "      <td>0.493860</td>\n",
       "      <td>0.762508</td>\n",
       "    </tr>\n",
       "    <tr>\n",
       "      <th>1</th>\n",
       "      <td>119.0</td>\n",
       "      <td>14</td>\n",
       "      <td>1</td>\n",
       "      <td>0</td>\n",
       "      <td>0.266270</td>\n",
       "      <td>0.215177</td>\n",
       "      <td>-0.324562</td>\n",
       "      <td>0.035001</td>\n",
       "      <td>-0.268579</td>\n",
       "      <td>0.299189</td>\n",
       "      <td>...</td>\n",
       "      <td>0.701862</td>\n",
       "      <td>0.410321</td>\n",
       "      <td>0.140138</td>\n",
       "      <td>0.134177</td>\n",
       "      <td>0.542688</td>\n",
       "      <td>0.266197</td>\n",
       "      <td>0.232802</td>\n",
       "      <td>0.610117</td>\n",
       "      <td>0.595988</td>\n",
       "      <td>0.759333</td>\n",
       "    </tr>\n",
       "    <tr>\n",
       "      <th>2</th>\n",
       "      <td>109.0</td>\n",
       "      <td>13</td>\n",
       "      <td>0</td>\n",
       "      <td>0</td>\n",
       "      <td>0.176860</td>\n",
       "      <td>0.368124</td>\n",
       "      <td>0.129039</td>\n",
       "      <td>0.042282</td>\n",
       "      <td>-0.109159</td>\n",
       "      <td>0.320363</td>\n",
       "      <td>...</td>\n",
       "      <td>0.701880</td>\n",
       "      <td>0.105945</td>\n",
       "      <td>0.015031</td>\n",
       "      <td>0.058321</td>\n",
       "      <td>0.094228</td>\n",
       "      <td>0.005790</td>\n",
       "      <td>0.001743</td>\n",
       "      <td>0.309380</td>\n",
       "      <td>0.356655</td>\n",
       "      <td>0.510192</td>\n",
       "    </tr>\n",
       "    <tr>\n",
       "      <th>3</th>\n",
       "      <td>110.0</td>\n",
       "      <td>18</td>\n",
       "      <td>0</td>\n",
       "      <td>0</td>\n",
       "      <td>0.385438</td>\n",
       "      <td>0.128242</td>\n",
       "      <td>-0.336238</td>\n",
       "      <td>-0.117699</td>\n",
       "      <td>-0.216569</td>\n",
       "      <td>-0.300985</td>\n",
       "      <td>...</td>\n",
       "      <td>0.471972</td>\n",
       "      <td>0.129105</td>\n",
       "      <td>-0.086784</td>\n",
       "      <td>0.024874</td>\n",
       "      <td>0.520089</td>\n",
       "      <td>0.097454</td>\n",
       "      <td>0.191578</td>\n",
       "      <td>0.496777</td>\n",
       "      <td>0.437103</td>\n",
       "      <td>0.702825</td>\n",
       "    </tr>\n",
       "    <tr>\n",
       "      <th>4</th>\n",
       "      <td>123.0</td>\n",
       "      <td>32</td>\n",
       "      <td>0</td>\n",
       "      <td>0</td>\n",
       "      <td>0.288994</td>\n",
       "      <td>0.126783</td>\n",
       "      <td>-0.036986</td>\n",
       "      <td>-0.107399</td>\n",
       "      <td>-0.018702</td>\n",
       "      <td>0.093512</td>\n",
       "      <td>...</td>\n",
       "      <td>0.502216</td>\n",
       "      <td>0.412209</td>\n",
       "      <td>0.171462</td>\n",
       "      <td>-0.051080</td>\n",
       "      <td>0.296669</td>\n",
       "      <td>0.199877</td>\n",
       "      <td>0.037061</td>\n",
       "      <td>0.084179</td>\n",
       "      <td>-0.195883</td>\n",
       "      <td>0.133420</td>\n",
       "    </tr>\n",
       "    <tr>\n",
       "      <th>...</th>\n",
       "      <td>...</td>\n",
       "      <td>...</td>\n",
       "      <td>...</td>\n",
       "      <td>...</td>\n",
       "      <td>...</td>\n",
       "      <td>...</td>\n",
       "      <td>...</td>\n",
       "      <td>...</td>\n",
       "      <td>...</td>\n",
       "      <td>...</td>\n",
       "      <td>...</td>\n",
       "      <td>...</td>\n",
       "      <td>...</td>\n",
       "      <td>...</td>\n",
       "      <td>...</td>\n",
       "      <td>...</td>\n",
       "      <td>...</td>\n",
       "      <td>...</td>\n",
       "      <td>...</td>\n",
       "      <td>...</td>\n",
       "      <td>...</td>\n",
       "    </tr>\n",
       "    <tr>\n",
       "      <th>595</th>\n",
       "      <td>110.0</td>\n",
       "      <td>41</td>\n",
       "      <td>0</td>\n",
       "      <td>0</td>\n",
       "      <td>NaN</td>\n",
       "      <td>NaN</td>\n",
       "      <td>NaN</td>\n",
       "      <td>NaN</td>\n",
       "      <td>NaN</td>\n",
       "      <td>NaN</td>\n",
       "      <td>...</td>\n",
       "      <td>NaN</td>\n",
       "      <td>NaN</td>\n",
       "      <td>NaN</td>\n",
       "      <td>NaN</td>\n",
       "      <td>NaN</td>\n",
       "      <td>NaN</td>\n",
       "      <td>NaN</td>\n",
       "      <td>NaN</td>\n",
       "      <td>NaN</td>\n",
       "      <td>NaN</td>\n",
       "    </tr>\n",
       "    <tr>\n",
       "      <th>596</th>\n",
       "      <td>120.0</td>\n",
       "      <td>64</td>\n",
       "      <td>0</td>\n",
       "      <td>0</td>\n",
       "      <td>NaN</td>\n",
       "      <td>NaN</td>\n",
       "      <td>NaN</td>\n",
       "      <td>NaN</td>\n",
       "      <td>NaN</td>\n",
       "      <td>NaN</td>\n",
       "      <td>...</td>\n",
       "      <td>NaN</td>\n",
       "      <td>NaN</td>\n",
       "      <td>NaN</td>\n",
       "      <td>NaN</td>\n",
       "      <td>NaN</td>\n",
       "      <td>NaN</td>\n",
       "      <td>NaN</td>\n",
       "      <td>NaN</td>\n",
       "      <td>NaN</td>\n",
       "      <td>NaN</td>\n",
       "    </tr>\n",
       "    <tr>\n",
       "      <th>597</th>\n",
       "      <td>96.0</td>\n",
       "      <td>27</td>\n",
       "      <td>0</td>\n",
       "      <td>0</td>\n",
       "      <td>NaN</td>\n",
       "      <td>NaN</td>\n",
       "      <td>NaN</td>\n",
       "      <td>NaN</td>\n",
       "      <td>NaN</td>\n",
       "      <td>NaN</td>\n",
       "      <td>...</td>\n",
       "      <td>NaN</td>\n",
       "      <td>NaN</td>\n",
       "      <td>NaN</td>\n",
       "      <td>NaN</td>\n",
       "      <td>NaN</td>\n",
       "      <td>NaN</td>\n",
       "      <td>NaN</td>\n",
       "      <td>NaN</td>\n",
       "      <td>NaN</td>\n",
       "      <td>NaN</td>\n",
       "    </tr>\n",
       "    <tr>\n",
       "      <th>598</th>\n",
       "      <td>118.0</td>\n",
       "      <td>29</td>\n",
       "      <td>1</td>\n",
       "      <td>0</td>\n",
       "      <td>NaN</td>\n",
       "      <td>NaN</td>\n",
       "      <td>NaN</td>\n",
       "      <td>NaN</td>\n",
       "      <td>NaN</td>\n",
       "      <td>NaN</td>\n",
       "      <td>...</td>\n",
       "      <td>NaN</td>\n",
       "      <td>NaN</td>\n",
       "      <td>NaN</td>\n",
       "      <td>NaN</td>\n",
       "      <td>NaN</td>\n",
       "      <td>NaN</td>\n",
       "      <td>NaN</td>\n",
       "      <td>NaN</td>\n",
       "      <td>NaN</td>\n",
       "      <td>NaN</td>\n",
       "    </tr>\n",
       "    <tr>\n",
       "      <th>599</th>\n",
       "      <td>110.0</td>\n",
       "      <td>26</td>\n",
       "      <td>0</td>\n",
       "      <td>0</td>\n",
       "      <td>NaN</td>\n",
       "      <td>NaN</td>\n",
       "      <td>NaN</td>\n",
       "      <td>NaN</td>\n",
       "      <td>NaN</td>\n",
       "      <td>NaN</td>\n",
       "      <td>...</td>\n",
       "      <td>NaN</td>\n",
       "      <td>NaN</td>\n",
       "      <td>NaN</td>\n",
       "      <td>NaN</td>\n",
       "      <td>NaN</td>\n",
       "      <td>NaN</td>\n",
       "      <td>NaN</td>\n",
       "      <td>NaN</td>\n",
       "      <td>NaN</td>\n",
       "      <td>NaN</td>\n",
       "    </tr>\n",
       "  </tbody>\n",
       "</table>\n",
       "<p>600 rows × 6674 columns</p>\n",
       "</div>"
      ],
      "text/plain": [
       "         y  var1  var2  var3  ROI1-ROI2  ROI1-ROI3  ROI1-ROI4  ROI1-ROI5  \\\n",
       "0    113.0    19     0     0   0.353489  -0.128682  -0.319849  -0.324166   \n",
       "1    119.0    14     1     0   0.266270   0.215177  -0.324562   0.035001   \n",
       "2    109.0    13     0     0   0.176860   0.368124   0.129039   0.042282   \n",
       "3    110.0    18     0     0   0.385438   0.128242  -0.336238  -0.117699   \n",
       "4    123.0    32     0     0   0.288994   0.126783  -0.036986  -0.107399   \n",
       "..     ...   ...   ...   ...        ...        ...        ...        ...   \n",
       "595  110.0    41     0     0        NaN        NaN        NaN        NaN   \n",
       "596  120.0    64     0     0        NaN        NaN        NaN        NaN   \n",
       "597   96.0    27     0     0        NaN        NaN        NaN        NaN   \n",
       "598  118.0    29     1     0        NaN        NaN        NaN        NaN   \n",
       "599  110.0    26     0     0        NaN        NaN        NaN        NaN   \n",
       "\n",
       "     ROI1-ROI6  ROI1-ROI7  ...  ROI112-ROI113  ROI112-ROI114  ROI112-ROI115  \\\n",
       "0    -0.246387  -0.025520  ...       0.683160       0.349207       0.184093   \n",
       "1    -0.268579   0.299189  ...       0.701862       0.410321       0.140138   \n",
       "2    -0.109159   0.320363  ...       0.701880       0.105945       0.015031   \n",
       "3    -0.216569  -0.300985  ...       0.471972       0.129105      -0.086784   \n",
       "4    -0.018702   0.093512  ...       0.502216       0.412209       0.171462   \n",
       "..         ...        ...  ...            ...            ...            ...   \n",
       "595        NaN        NaN  ...            NaN            NaN            NaN   \n",
       "596        NaN        NaN  ...            NaN            NaN            NaN   \n",
       "597        NaN        NaN  ...            NaN            NaN            NaN   \n",
       "598        NaN        NaN  ...            NaN            NaN            NaN   \n",
       "599        NaN        NaN  ...            NaN            NaN            NaN   \n",
       "\n",
       "     ROI112-ROI116  ROI113-ROI114  ROI113-ROI115  ROI113-ROI116  \\\n",
       "0         0.295171       0.598233       0.224943       0.198616   \n",
       "1         0.134177       0.542688       0.266197       0.232802   \n",
       "2         0.058321       0.094228       0.005790       0.001743   \n",
       "3         0.024874       0.520089       0.097454       0.191578   \n",
       "4        -0.051080       0.296669       0.199877       0.037061   \n",
       "..             ...            ...            ...            ...   \n",
       "595            NaN            NaN            NaN            NaN   \n",
       "596            NaN            NaN            NaN            NaN   \n",
       "597            NaN            NaN            NaN            NaN   \n",
       "598            NaN            NaN            NaN            NaN   \n",
       "599            NaN            NaN            NaN            NaN   \n",
       "\n",
       "     ROI114-ROI115  ROI114-ROI116  ROI115-ROI116  \n",
       "0         0.627310       0.493860       0.762508  \n",
       "1         0.610117       0.595988       0.759333  \n",
       "2         0.309380       0.356655       0.510192  \n",
       "3         0.496777       0.437103       0.702825  \n",
       "4         0.084179      -0.195883       0.133420  \n",
       "..             ...            ...            ...  \n",
       "595            NaN            NaN            NaN  \n",
       "596            NaN            NaN            NaN  \n",
       "597            NaN            NaN            NaN  \n",
       "598            NaN            NaN            NaN  \n",
       "599            NaN            NaN            NaN  \n",
       "\n",
       "[600 rows x 6674 columns]"
      ]
     },
     "execution_count": 16,
     "metadata": {},
     "output_type": "execute_result"
    }
   ],
   "source": [
    "new_train"
   ]
  },
  {
   "cell_type": "code",
   "execution_count": 77,
   "metadata": {},
   "outputs": [
    {
     "data": {
      "text/plain": [
       "y\n",
       "100.0    24\n",
       "113.0    20\n",
       "109.0    19\n",
       "119.0    18\n",
       "108.0    17\n",
       "         ..\n",
       "112.5     1\n",
       "114.5     1\n",
       "115.5     1\n",
       "121.5     1\n",
       "148.0     1\n",
       "Length: 99, dtype: int64"
      ]
     },
     "execution_count": 77,
     "metadata": {},
     "output_type": "execute_result"
    }
   ],
   "source": [
    "new_train.groupby('y').size().sort_values(ascending=False)"
   ]
  },
  {
   "cell_type": "code",
   "execution_count": 83,
   "metadata": {},
   "outputs": [],
   "source": [
    "new_train=new_train.groupby('y').mean().reset_index()"
   ]
  },
  {
   "cell_type": "code",
   "execution_count": 80,
   "metadata": {},
   "outputs": [],
   "source": [
    "new_train=corr_df"
   ]
  },
  {
   "cell_type": "markdown",
   "metadata": {},
   "source": [
    "# Train"
   ]
  },
  {
   "cell_type": "markdown",
   "metadata": {},
   "source": [
    "## Linear Regession"
   ]
  },
  {
   "cell_type": "code",
   "execution_count": 248,
   "metadata": {},
   "outputs": [],
   "source": [
    "reg = LinearRegression()"
   ]
  },
  {
   "cell_type": "code",
   "execution_count": 249,
   "metadata": {},
   "outputs": [],
   "source": [
    "X_train, X_test, y_train, y_test = train_test_split(new_train.drop(columns='y'), new_train['y'], test_size=0.25, random_state=42)"
   ]
  },
  {
   "cell_type": "code",
   "execution_count": 250,
   "metadata": {},
   "outputs": [
    {
     "data": {
      "text/plain": [
       "LinearRegression()"
      ]
     },
     "execution_count": 250,
     "metadata": {},
     "output_type": "execute_result"
    }
   ],
   "source": [
    "reg.fit(X_train,y_train)"
   ]
  },
  {
   "cell_type": "code",
   "execution_count": 251,
   "metadata": {},
   "outputs": [],
   "source": [
    "y_pred=reg.predict(X_test)"
   ]
  },
  {
   "cell_type": "code",
   "execution_count": 252,
   "metadata": {},
   "outputs": [
    {
     "data": {
      "text/plain": [
       "20.442849696034543"
      ]
     },
     "execution_count": 252,
     "metadata": {},
     "output_type": "execute_result"
    }
   ],
   "source": [
    "mean_squared_error(y_test, y_pred,squared=False)"
   ]
  },
  {
   "cell_type": "markdown",
   "metadata": {},
   "source": [
    "## SVR"
   ]
  },
  {
   "cell_type": "code",
   "execution_count": 485,
   "metadata": {},
   "outputs": [],
   "source": [
    "#params = [{'kernel' : ['poly',],\r\n",
    "#        'C' : [1,5,10,12,15,20,25],\r\n",
    "#        'degree' : [2,3,4],\r\n",
    "#        'coef0' : [0.01,0.02,0.5],\r\n",
    "#        'gamma' : ('auto','scale'),\r\n",
    "#        'epsilon':[0.02,0.05,0.1]}]\r\n",
    "params = [{'kernel' : ['rbf',],\r\n",
    "        'C' : [1,5,10,12,15,20,25],\r\n",
    "        #'degree' : [2,3,4],\r\n",
    "        'coef0' : [0.01,0.02,0.5],\r\n",
    "        'gamma' : ('auto','scale'),\r\n",
    "        'epsilon':[0.02,0.05,0.1]}]"
   ]
  },
  {
   "cell_type": "code",
   "execution_count": 486,
   "metadata": {},
   "outputs": [
    {
     "name": "stdout",
     "output_type": "stream",
     "text": [
      "Fitting 5 folds for each of 90 candidates, totalling 450 fits\n"
     ]
    },
    {
     "data": {
      "text/plain": [
       "GridSearchCV(cv=5, estimator=SVR(), n_jobs=-1,\n",
       "             param_grid=[{'C': [25, 26, 28, 30, 32], 'coef0': [0.01, 0.02, 0.5],\n",
       "                          'epsilon': [0.02, 0.05, 0.1],\n",
       "                          'gamma': ('auto', 'scale'), 'kernel': ['rbf']}],\n",
       "             verbose=5)"
      ]
     },
     "execution_count": 486,
     "metadata": {},
     "output_type": "execute_result"
    }
   ],
   "source": [
    "svr_reg=SVR()\r\n",
    "grids = GridSearchCV(svr_reg,params,cv=5,verbose=5,n_jobs=-1)\r\n",
    "grids.fit(X_train,y_train)\r\n"
   ]
  },
  {
   "cell_type": "code",
   "execution_count": 487,
   "metadata": {},
   "outputs": [
    {
     "data": {
      "text/plain": [
       "{'C': 32, 'coef0': 0.01, 'epsilon': 0.02, 'gamma': 'scale', 'kernel': 'rbf'}"
      ]
     },
     "execution_count": 487,
     "metadata": {},
     "output_type": "execute_result"
    }
   ],
   "source": [
    "grids.best_params_"
   ]
  },
  {
   "cell_type": "code",
   "execution_count": 488,
   "metadata": {},
   "outputs": [],
   "source": [
    "y_pred=grids.predict(X_test)"
   ]
  },
  {
   "cell_type": "code",
   "execution_count": 489,
   "metadata": {},
   "outputs": [
    {
     "data": {
      "text/plain": [
       "19.14640318806492"
      ]
     },
     "execution_count": 489,
     "metadata": {},
     "output_type": "execute_result"
    }
   ],
   "source": [
    "mean_squared_error(y_test, y_pred,squared=False)"
   ]
  },
  {
   "cell_type": "code",
   "execution_count": 428,
   "metadata": {},
   "outputs": [
    {
     "data": {
      "text/plain": [
       "SVR(C=15, coef0=0.5, epsilon=0.02, kernel='poly')"
      ]
     },
     "execution_count": 428,
     "metadata": {},
     "output_type": "execute_result"
    }
   ],
   "source": [
    "#retrain on all dataset\r\n",
    "#svr_reg=SVR(C= 10, degree= 2, kernel= 'poly')\r\n",
    "#svr_reg=SVR(C= 10, degree= 3, kernel= 'poly',gamma='scale',coef0=0.5)\r\n",
    "svr_reg=SVR(C= 15, degree= 3, kernel= 'poly',gamma='scale',coef0=0.5,epsilon=0.02)\r\n",
    "svr_reg.fit(new_train.drop(columns='y'),new_train['y'])"
   ]
  },
  {
   "cell_type": "code",
   "execution_count": 429,
   "metadata": {},
   "outputs": [],
   "source": [
    "y_pred=svr_reg.predict(X_test)"
   ]
  },
  {
   "cell_type": "code",
   "execution_count": 430,
   "metadata": {},
   "outputs": [
    {
     "data": {
      "text/plain": [
       "0.687046353767287"
      ]
     },
     "execution_count": 430,
     "metadata": {},
     "output_type": "execute_result"
    }
   ],
   "source": [
    "mean_squared_error(y_test, y_pred,squared=False)"
   ]
  },
  {
   "cell_type": "markdown",
   "metadata": {},
   "source": [
    "## K-neigbors regression"
   ]
  },
  {
   "cell_type": "code",
   "execution_count": null,
   "metadata": {},
   "outputs": [],
   "source": []
  },
  {
   "cell_type": "code",
   "execution_count": 214,
   "metadata": {},
   "outputs": [],
   "source": [
    "from sklearn.neighbors import KNeighborsRegressor"
   ]
  },
  {
   "cell_type": "code",
   "execution_count": 108,
   "metadata": {},
   "outputs": [
    {
     "name": "stdout",
     "output_type": "stream",
     "text": [
      "30 19.58036998855969\n",
      "31 19.527744344074502\n",
      "32 19.543694035736948\n",
      "33 19.622829230191176\n",
      "34 19.703185065620833\n",
      "35 19.915654595297234\n",
      "36 19.990579378519495\n",
      "37 19.638151774370755\n",
      "38 19.61703549768546\n",
      "39 19.662257721284828\n",
      "40 19.570198644878392\n",
      "41 19.55265043933572\n",
      "42 19.59627029625305\n",
      "43 19.67577610908556\n",
      "44 19.64080481657957\n"
     ]
    }
   ],
   "source": [
    "for k in range(30,45):\n",
    "    neigh = KNeighborsRegressor(n_neighbors=k,weights='uniform').fit(X_train, y_train)\n",
    "    y_pred=neigh.predict(X_test)\n",
    "    print(k,mean_squared_error(y_test, y_pred,squared=False))"
   ]
  },
  {
   "cell_type": "code",
   "execution_count": 221,
   "metadata": {},
   "outputs": [
    {
     "name": "stdout",
     "output_type": "stream",
     "text": [
      "1 20.921759008266967\n",
      "2 20.185124549326677\n",
      "3 19.239232483108623\n",
      "4 20.175760721879367\n",
      "5 20.19807769543227\n",
      "6 20.2952043471166\n",
      "7 19.63323638681482\n",
      "8 19.946352350108516\n",
      "9 19.683248053341213\n",
      "10 19.848312219180944\n",
      "11 19.469910606653734\n",
      "12 19.135311761083184\n",
      "13 18.870401520129956\n",
      "14 18.966359699849924\n",
      "15 19.61437728969104\n",
      "16 20.044108867288173\n",
      "17 20.148731098747092\n",
      "18 20.48265127667949\n",
      "19 20.412416986942212\n"
     ]
    }
   ],
   "source": [
    "for k in range(1,20):\r\n",
    "    neigh = KNeighborsRegressor(n_neighbors=k,weights='distance',p=2).fit(X_train, y_train)\r\n",
    "    y_pred=neigh.predict(X_test)\r\n",
    "    print(k,mean_squared_error(y_test, y_pred,squared=False))"
   ]
  },
  {
   "cell_type": "code",
   "execution_count": 222,
   "metadata": {},
   "outputs": [],
   "source": [
    "neigh = KNeighborsRegressor(n_neighbors=12,weights='distance',p=2).fit(X_train, y_train)"
   ]
  },
  {
   "cell_type": "code",
   "execution_count": 223,
   "metadata": {},
   "outputs": [],
   "source": [
    "y_pred=neigh.predict(X_test)"
   ]
  },
  {
   "cell_type": "code",
   "execution_count": 224,
   "metadata": {},
   "outputs": [
    {
     "data": {
      "text/plain": [
       "19.135311761083184"
      ]
     },
     "execution_count": 224,
     "metadata": {},
     "output_type": "execute_result"
    }
   ],
   "source": [
    "mean_squared_error(y_test, y_pred,squared=False)"
   ]
  },
  {
   "cell_type": "code",
   "execution_count": 225,
   "metadata": {},
   "outputs": [],
   "source": [
    "neigh = KNeighborsRegressor(n_neighbors=12,weights='distance',p=2).fit(new_train.drop(columns='y'),new_train['y'])"
   ]
  },
  {
   "cell_type": "code",
   "execution_count": 226,
   "metadata": {},
   "outputs": [],
   "source": [
    "y_pred=neigh.predict(X_test)"
   ]
  },
  {
   "cell_type": "code",
   "execution_count": 227,
   "metadata": {},
   "outputs": [
    {
     "data": {
      "text/plain": [
       "4.643923040349269e-06"
      ]
     },
     "execution_count": 227,
     "metadata": {},
     "output_type": "execute_result"
    }
   ],
   "source": [
    "mean_squared_error(y_test, y_pred,squared=False)"
   ]
  },
  {
   "cell_type": "code",
   "execution_count": 119,
   "metadata": {},
   "outputs": [],
   "source": [
    "# Gradient Boosting"
   ]
  },
  {
   "cell_type": "markdown",
   "metadata": {},
   "source": [
    "# Gradient Boosting"
   ]
  },
  {
   "cell_type": "code",
   "execution_count": 131,
   "metadata": {},
   "outputs": [
    {
     "data": {
      "text/plain": [
       "GradientBoostingRegressor(n_estimators=200, random_state=0)"
      ]
     },
     "execution_count": 131,
     "metadata": {},
     "output_type": "execute_result"
    }
   ],
   "source": [
    "from sklearn.datasets import make_regression\r\n",
    "from sklearn.ensemble import GradientBoostingRegressor\r\n",
    "from sklearn.model_selection import train_test_split\r\n",
    "\r\n",
    "reg = GradientBoostingRegressor(random_state=0,n_estimators=200)\r\n",
    "reg.fit(X_train, y_train)\r\n"
   ]
  },
  {
   "cell_type": "code",
   "execution_count": 132,
   "metadata": {},
   "outputs": [],
   "source": [
    "y_pred=reg.predict(X_test)"
   ]
  },
  {
   "cell_type": "code",
   "execution_count": 133,
   "metadata": {},
   "outputs": [
    {
     "data": {
      "text/plain": [
       "20.34134513792314"
      ]
     },
     "execution_count": 133,
     "metadata": {},
     "output_type": "execute_result"
    }
   ],
   "source": [
    "mean_squared_error(y_test, y_pred,squared=False)"
   ]
  },
  {
   "cell_type": "code",
   "execution_count": 134,
   "metadata": {},
   "outputs": [
    {
     "data": {
      "text/plain": [
       "GradientBoostingRegressor(n_estimators=200, random_state=0)"
      ]
     },
     "execution_count": 134,
     "metadata": {},
     "output_type": "execute_result"
    }
   ],
   "source": [
    "reg.fit(new_train.drop(columns='y'),new_train['y'])"
   ]
  },
  {
   "cell_type": "markdown",
   "metadata": {},
   "source": [
    "# Elastic net"
   ]
  },
  {
   "cell_type": "code",
   "execution_count": 167,
   "metadata": {},
   "outputs": [
    {
     "data": {
      "text/plain": [
       "ElasticNet(alpha=0.5, random_state=0)"
      ]
     },
     "execution_count": 167,
     "metadata": {},
     "output_type": "execute_result"
    }
   ],
   "source": [
    "from sklearn.linear_model import ElasticNet\r\n",
    "\r\n",
    "regr = ElasticNet( random_state=0,alpha=0.5)\r\n",
    "regr.fit(X_train, y_train)\r\n"
   ]
  },
  {
   "cell_type": "code",
   "execution_count": 168,
   "metadata": {},
   "outputs": [
    {
     "data": {
      "text/plain": [
       "19.48317590132921"
      ]
     },
     "execution_count": 168,
     "metadata": {},
     "output_type": "execute_result"
    }
   ],
   "source": [
    "y_pred=regr.predict(X_test)\r\n",
    "mean_squared_error(y_test, y_pred,squared=False)"
   ]
  },
  {
   "cell_type": "code",
   "execution_count": 160,
   "metadata": {},
   "outputs": [
    {
     "data": {
      "text/plain": [
       "ElasticNet(random_state=0)"
      ]
     },
     "execution_count": 160,
     "metadata": {},
     "output_type": "execute_result"
    }
   ],
   "source": [
    "regr.fit(new_train.drop(columns='y'),new_train['y'])"
   ]
  },
  {
   "cell_type": "code",
   "execution_count": null,
   "metadata": {},
   "outputs": [],
   "source": []
  },
  {
   "cell_type": "markdown",
   "metadata": {},
   "source": [
    "# Ada boost"
   ]
  },
  {
   "cell_type": "code",
   "execution_count": 137,
   "metadata": {},
   "outputs": [
    {
     "data": {
      "text/plain": [
       "AdaBoostRegressor(n_estimators=100, random_state=0)"
      ]
     },
     "execution_count": 137,
     "metadata": {},
     "output_type": "execute_result"
    }
   ],
   "source": [
    "from sklearn.ensemble import AdaBoostRegressor\r\n",
    "#from sklearn.datasets import make_regression\r\n",
    "#X, y = make_regression(n_features=4, n_informative=2,\r\n",
    "#                       random_state=0, shuffle=False)\r\n",
    "regr = AdaBoostRegressor(random_state=0, n_estimators=100)\r\n",
    "regr.fit(X_train, y_train)"
   ]
  },
  {
   "cell_type": "code",
   "execution_count": 138,
   "metadata": {},
   "outputs": [],
   "source": [
    "y_pred=regr.predict(X_test)"
   ]
  },
  {
   "cell_type": "code",
   "execution_count": 139,
   "metadata": {},
   "outputs": [
    {
     "data": {
      "text/plain": [
       "19.09970634577643"
      ]
     },
     "execution_count": 139,
     "metadata": {},
     "output_type": "execute_result"
    }
   ],
   "source": [
    "mean_squared_error(y_test, y_pred,squared=False)"
   ]
  },
  {
   "cell_type": "code",
   "execution_count": 140,
   "metadata": {},
   "outputs": [
    {
     "data": {
      "text/plain": [
       "AdaBoostRegressor(n_estimators=100, random_state=0)"
      ]
     },
     "execution_count": 140,
     "metadata": {},
     "output_type": "execute_result"
    }
   ],
   "source": [
    "regr.fit(new_train.drop(columns='y'),new_train['y'])"
   ]
  },
  {
   "cell_type": "code",
   "execution_count": null,
   "metadata": {},
   "outputs": [],
   "source": []
  },
  {
   "cell_type": "markdown",
   "metadata": {},
   "source": [
    "# Random forest"
   ]
  },
  {
   "cell_type": "code",
   "execution_count": 205,
   "metadata": {},
   "outputs": [
    {
     "data": {
      "text/plain": [
       "RandomForestRegressor(criterion='mae', n_estimators=120, random_state=0)"
      ]
     },
     "execution_count": 205,
     "metadata": {},
     "output_type": "execute_result"
    }
   ],
   "source": [
    "from sklearn.ensemble import RandomForestRegressor\r\n",
    "  \r\n",
    " # create regressor object\r\n",
    "regressor = RandomForestRegressor(n_estimators = 120, random_state = 0,max_features='auto',criterion='mae')\r\n",
    "  \r\n",
    "# fit the regressor with x and y data\r\n",
    "regressor.fit(X_train, y_train)  "
   ]
  },
  {
   "cell_type": "code",
   "execution_count": 206,
   "metadata": {},
   "outputs": [
    {
     "data": {
      "text/plain": [
       "19.323857627583347"
      ]
     },
     "execution_count": 206,
     "metadata": {},
     "output_type": "execute_result"
    }
   ],
   "source": [
    "y_pred=regressor.predict(X_test)\r\n",
    "mean_squared_error(y_test, y_pred,squared=False)"
   ]
  },
  {
   "cell_type": "code",
   "execution_count": 207,
   "metadata": {},
   "outputs": [
    {
     "data": {
      "text/plain": [
       "RandomForestRegressor(criterion='mae', n_estimators=120, random_state=0)"
      ]
     },
     "execution_count": 207,
     "metadata": {},
     "output_type": "execute_result"
    }
   ],
   "source": [
    "regressor.fit(new_train.drop(columns='y'),new_train['y'])"
   ]
  },
  {
   "cell_type": "code",
   "execution_count": 407,
   "metadata": {},
   "outputs": [],
   "source": [
    "from sklearn import linear_model\r\n",
    "from sklearn.linear_model import Ridge,Lasso,MultiTaskLasso,Lars,BayesianRidge,RANSACRegressor,TheilSenRegressor\r\n",
    "clf = TheilSenRegressor()"
   ]
  },
  {
   "cell_type": "code",
   "execution_count": 408,
   "metadata": {},
   "outputs": [
    {
     "data": {
      "text/plain": [
       "21.15634742207624"
      ]
     },
     "execution_count": 408,
     "metadata": {},
     "output_type": "execute_result"
    }
   ],
   "source": [
    "clf.fit(X_train, y_train)\r\n",
    "y_pred=clf.predict(X_test)\r\n",
    "mean_squared_error(y_test, y_pred,squared=False)"
   ]
  },
  {
   "cell_type": "code",
   "execution_count": 409,
   "metadata": {},
   "outputs": [
    {
     "data": {
      "text/plain": [
       "TheilSenRegressor(max_subpopulation=10000)"
      ]
     },
     "execution_count": 409,
     "metadata": {},
     "output_type": "execute_result"
    }
   ],
   "source": [
    "clf.fit(new_train.drop(columns='y'),new_train['y'])"
   ]
  },
  {
   "cell_type": "code",
   "execution_count": 438,
   "metadata": {},
   "outputs": [],
   "source": [
    "from sklearn.cross_decomposition import PLSRegression"
   ]
  },
  {
   "cell_type": "code",
   "execution_count": 458,
   "metadata": {},
   "outputs": [
    {
     "data": {
      "text/plain": [
       "PLSRegression(n_components=10)"
      ]
     },
     "execution_count": 458,
     "metadata": {},
     "output_type": "execute_result"
    }
   ],
   "source": [
    "pls2 = PLSRegression(n_components=10)\r\n",
    "pls2.fit(X_train, y_train)"
   ]
  },
  {
   "cell_type": "code",
   "execution_count": 459,
   "metadata": {},
   "outputs": [
    {
     "data": {
      "text/plain": [
       "20.367863413137403"
      ]
     },
     "execution_count": 459,
     "metadata": {},
     "output_type": "execute_result"
    }
   ],
   "source": [
    "y_pred=pls2.predict(X_test)\r\n",
    "mean_squared_error(y_test, y_pred,squared=False)"
   ]
  },
  {
   "cell_type": "code",
   "execution_count": 460,
   "metadata": {},
   "outputs": [
    {
     "data": {
      "text/plain": [
       "PLSRegression(n_components=10)"
      ]
     },
     "execution_count": 460,
     "metadata": {},
     "output_type": "execute_result"
    }
   ],
   "source": [
    "pls2.fit(new_train.drop(columns='y'),new_train['y'])"
   ]
  },
  {
   "cell_type": "markdown",
   "metadata": {},
   "source": [
    "# Test "
   ]
  },
  {
   "cell_type": "code",
   "execution_count": null,
   "metadata": {},
   "outputs": [],
   "source": []
  },
  {
   "cell_type": "code",
   "execution_count": 94,
   "metadata": {},
   "outputs": [],
   "source": [
    "test_df=pd.read_csv('./Data/test.csv')"
   ]
  },
  {
   "cell_type": "code",
   "execution_count": 95,
   "metadata": {},
   "outputs": [
    {
     "data": {
      "text/html": [
       "<div>\n",
       "<style scoped>\n",
       "    .dataframe tbody tr th:only-of-type {\n",
       "        vertical-align: middle;\n",
       "    }\n",
       "\n",
       "    .dataframe tbody tr th {\n",
       "        vertical-align: top;\n",
       "    }\n",
       "\n",
       "    .dataframe thead th {\n",
       "        text-align: right;\n",
       "    }\n",
       "</style>\n",
       "<table border=\"1\" class=\"dataframe\">\n",
       "  <thead>\n",
       "    <tr style=\"text-align: right;\">\n",
       "      <th></th>\n",
       "      <th>id</th>\n",
       "      <th>var1</th>\n",
       "      <th>var2</th>\n",
       "      <th>var3</th>\n",
       "      <th>t1_2001</th>\n",
       "      <th>t2_2001</th>\n",
       "      <th>t3_2001</th>\n",
       "      <th>t4_2001</th>\n",
       "      <th>t5_2001</th>\n",
       "      <th>t6_2001</th>\n",
       "      <th>...</th>\n",
       "      <th>t106_9170</th>\n",
       "      <th>t107_9170</th>\n",
       "      <th>t108_9170</th>\n",
       "      <th>t109_9170</th>\n",
       "      <th>t110_9170</th>\n",
       "      <th>t111_9170</th>\n",
       "      <th>t112_9170</th>\n",
       "      <th>t113_9170</th>\n",
       "      <th>t114_9170</th>\n",
       "      <th>t115_9170</th>\n",
       "    </tr>\n",
       "  </thead>\n",
       "  <tbody>\n",
       "    <tr>\n",
       "      <th>0</th>\n",
       "      <td>17</td>\n",
       "      <td>32</td>\n",
       "      <td>A</td>\n",
       "      <td>A</td>\n",
       "      <td>-0.350440</td>\n",
       "      <td>-0.222368</td>\n",
       "      <td>0.023356</td>\n",
       "      <td>0.243820</td>\n",
       "      <td>0.307884</td>\n",
       "      <td>0.181462</td>\n",
       "      <td>...</td>\n",
       "      <td>-0.249206</td>\n",
       "      <td>-0.299956</td>\n",
       "      <td>-0.230605</td>\n",
       "      <td>-0.002176</td>\n",
       "      <td>0.307232</td>\n",
       "      <td>0.574038</td>\n",
       "      <td>0.719488</td>\n",
       "      <td>0.739103</td>\n",
       "      <td>0.657216</td>\n",
       "      <td>0.466077</td>\n",
       "    </tr>\n",
       "    <tr>\n",
       "      <th>1</th>\n",
       "      <td>19</td>\n",
       "      <td>11</td>\n",
       "      <td>C</td>\n",
       "      <td>A</td>\n",
       "      <td>-0.637826</td>\n",
       "      <td>-0.626851</td>\n",
       "      <td>-0.360784</td>\n",
       "      <td>0.030366</td>\n",
       "      <td>0.336757</td>\n",
       "      <td>0.405507</td>\n",
       "      <td>...</td>\n",
       "      <td>0.747080</td>\n",
       "      <td>1.451542</td>\n",
       "      <td>1.888522</td>\n",
       "      <td>1.843617</td>\n",
       "      <td>1.353949</td>\n",
       "      <td>0.721757</td>\n",
       "      <td>0.341038</td>\n",
       "      <td>0.461075</td>\n",
       "      <td>1.052172</td>\n",
       "      <td>1.853388</td>\n",
       "    </tr>\n",
       "    <tr>\n",
       "      <th>2</th>\n",
       "      <td>25</td>\n",
       "      <td>17</td>\n",
       "      <td>A</td>\n",
       "      <td>C</td>\n",
       "      <td>-0.012941</td>\n",
       "      <td>-0.104797</td>\n",
       "      <td>-0.236863</td>\n",
       "      <td>-0.323248</td>\n",
       "      <td>-0.289526</td>\n",
       "      <td>-0.127867</td>\n",
       "      <td>...</td>\n",
       "      <td>-2.263840</td>\n",
       "      <td>-2.082246</td>\n",
       "      <td>-1.299818</td>\n",
       "      <td>-0.087112</td>\n",
       "      <td>1.200546</td>\n",
       "      <td>2.217524</td>\n",
       "      <td>2.777598</td>\n",
       "      <td>2.863644</td>\n",
       "      <td>2.528300</td>\n",
       "      <td>1.804936</td>\n",
       "    </tr>\n",
       "    <tr>\n",
       "      <th>3</th>\n",
       "      <td>32</td>\n",
       "      <td>17</td>\n",
       "      <td>A</td>\n",
       "      <td>C</td>\n",
       "      <td>0.090513</td>\n",
       "      <td>0.210141</td>\n",
       "      <td>0.258353</td>\n",
       "      <td>0.176808</td>\n",
       "      <td>-0.021250</td>\n",
       "      <td>-0.246477</td>\n",
       "      <td>...</td>\n",
       "      <td>-2.662342</td>\n",
       "      <td>-1.246634</td>\n",
       "      <td>0.756969</td>\n",
       "      <td>2.115026</td>\n",
       "      <td>2.007031</td>\n",
       "      <td>0.606600</td>\n",
       "      <td>-1.034530</td>\n",
       "      <td>-1.731524</td>\n",
       "      <td>-1.012911</td>\n",
       "      <td>0.541681</td>\n",
       "    </tr>\n",
       "    <tr>\n",
       "      <th>4</th>\n",
       "      <td>33</td>\n",
       "      <td>16</td>\n",
       "      <td>A</td>\n",
       "      <td>C</td>\n",
       "      <td>0.020757</td>\n",
       "      <td>0.004422</td>\n",
       "      <td>0.048168</td>\n",
       "      <td>0.217449</td>\n",
       "      <td>0.499191</td>\n",
       "      <td>0.774152</td>\n",
       "      <td>...</td>\n",
       "      <td>0.000000</td>\n",
       "      <td>0.000000</td>\n",
       "      <td>0.000000</td>\n",
       "      <td>0.000000</td>\n",
       "      <td>0.000000</td>\n",
       "      <td>0.000000</td>\n",
       "      <td>0.000000</td>\n",
       "      <td>0.000000</td>\n",
       "      <td>0.000000</td>\n",
       "      <td>0.000000</td>\n",
       "    </tr>\n",
       "    <tr>\n",
       "      <th>...</th>\n",
       "      <td>...</td>\n",
       "      <td>...</td>\n",
       "      <td>...</td>\n",
       "      <td>...</td>\n",
       "      <td>...</td>\n",
       "      <td>...</td>\n",
       "      <td>...</td>\n",
       "      <td>...</td>\n",
       "      <td>...</td>\n",
       "      <td>...</td>\n",
       "      <td>...</td>\n",
       "      <td>...</td>\n",
       "      <td>...</td>\n",
       "      <td>...</td>\n",
       "      <td>...</td>\n",
       "      <td>...</td>\n",
       "      <td>...</td>\n",
       "      <td>...</td>\n",
       "      <td>...</td>\n",
       "      <td>...</td>\n",
       "      <td>...</td>\n",
       "    </tr>\n",
       "    <tr>\n",
       "      <th>194</th>\n",
       "      <td>777</td>\n",
       "      <td>20</td>\n",
       "      <td>A</td>\n",
       "      <td>C</td>\n",
       "      <td>0.196767</td>\n",
       "      <td>0.279578</td>\n",
       "      <td>0.269504</td>\n",
       "      <td>0.142366</td>\n",
       "      <td>-0.050581</td>\n",
       "      <td>-0.192273</td>\n",
       "      <td>...</td>\n",
       "      <td>1.501500</td>\n",
       "      <td>0.315651</td>\n",
       "      <td>-0.438466</td>\n",
       "      <td>-0.390447</td>\n",
       "      <td>0.203565</td>\n",
       "      <td>1.092143</td>\n",
       "      <td>1.984272</td>\n",
       "      <td>2.303799</td>\n",
       "      <td>1.587597</td>\n",
       "      <td>0.184648</td>\n",
       "    </tr>\n",
       "    <tr>\n",
       "      <th>195</th>\n",
       "      <td>783</td>\n",
       "      <td>24</td>\n",
       "      <td>A</td>\n",
       "      <td>C</td>\n",
       "      <td>0.166928</td>\n",
       "      <td>0.062544</td>\n",
       "      <td>-0.064816</td>\n",
       "      <td>-0.223924</td>\n",
       "      <td>-0.397589</td>\n",
       "      <td>-0.477872</td>\n",
       "      <td>...</td>\n",
       "      <td>0.998999</td>\n",
       "      <td>2.150780</td>\n",
       "      <td>1.765160</td>\n",
       "      <td>0.167519</td>\n",
       "      <td>-1.398137</td>\n",
       "      <td>-2.035133</td>\n",
       "      <td>-1.780128</td>\n",
       "      <td>-1.156148</td>\n",
       "      <td>-0.511489</td>\n",
       "      <td>0.100604</td>\n",
       "    </tr>\n",
       "    <tr>\n",
       "      <th>196</th>\n",
       "      <td>784</td>\n",
       "      <td>24</td>\n",
       "      <td>A</td>\n",
       "      <td>C</td>\n",
       "      <td>0.467909</td>\n",
       "      <td>0.601598</td>\n",
       "      <td>0.466428</td>\n",
       "      <td>0.064870</td>\n",
       "      <td>-0.453154</td>\n",
       "      <td>-0.874220</td>\n",
       "      <td>...</td>\n",
       "      <td>4.963199</td>\n",
       "      <td>1.800244</td>\n",
       "      <td>-2.997877</td>\n",
       "      <td>-5.256964</td>\n",
       "      <td>-2.305884</td>\n",
       "      <td>3.395893</td>\n",
       "      <td>5.967640</td>\n",
       "      <td>2.081252</td>\n",
       "      <td>-5.207866</td>\n",
       "      <td>-9.263192</td>\n",
       "    </tr>\n",
       "    <tr>\n",
       "      <th>197</th>\n",
       "      <td>792</td>\n",
       "      <td>29</td>\n",
       "      <td>C</td>\n",
       "      <td>C</td>\n",
       "      <td>0.158687</td>\n",
       "      <td>0.187958</td>\n",
       "      <td>0.187666</td>\n",
       "      <td>0.168700</td>\n",
       "      <td>0.137513</td>\n",
       "      <td>0.109296</td>\n",
       "      <td>...</td>\n",
       "      <td>-2.660509</td>\n",
       "      <td>-1.084989</td>\n",
       "      <td>0.932748</td>\n",
       "      <td>2.014907</td>\n",
       "      <td>1.678764</td>\n",
       "      <td>0.401733</td>\n",
       "      <td>-0.877058</td>\n",
       "      <td>-1.297012</td>\n",
       "      <td>-0.560106</td>\n",
       "      <td>0.733061</td>\n",
       "    </tr>\n",
       "    <tr>\n",
       "      <th>198</th>\n",
       "      <td>796</td>\n",
       "      <td>35</td>\n",
       "      <td>A</td>\n",
       "      <td>A</td>\n",
       "      <td>-0.236773</td>\n",
       "      <td>-0.267845</td>\n",
       "      <td>-0.108305</td>\n",
       "      <td>0.141632</td>\n",
       "      <td>0.310586</td>\n",
       "      <td>0.313349</td>\n",
       "      <td>...</td>\n",
       "      <td>0.010158</td>\n",
       "      <td>0.408345</td>\n",
       "      <td>-0.480362</td>\n",
       "      <td>-1.950726</td>\n",
       "      <td>-2.116528</td>\n",
       "      <td>-0.442166</td>\n",
       "      <td>1.441936</td>\n",
       "      <td>1.849335</td>\n",
       "      <td>1.124896</td>\n",
       "      <td>0.849227</td>\n",
       "    </tr>\n",
       "  </tbody>\n",
       "</table>\n",
       "<p>199 rows × 13344 columns</p>\n",
       "</div>"
      ],
      "text/plain": [
       "      id  var1 var2 var3   t1_2001   t2_2001   t3_2001   t4_2001   t5_2001  \\\n",
       "0     17    32    A    A -0.350440 -0.222368  0.023356  0.243820  0.307884   \n",
       "1     19    11    C    A -0.637826 -0.626851 -0.360784  0.030366  0.336757   \n",
       "2     25    17    A    C -0.012941 -0.104797 -0.236863 -0.323248 -0.289526   \n",
       "3     32    17    A    C  0.090513  0.210141  0.258353  0.176808 -0.021250   \n",
       "4     33    16    A    C  0.020757  0.004422  0.048168  0.217449  0.499191   \n",
       "..   ...   ...  ...  ...       ...       ...       ...       ...       ...   \n",
       "194  777    20    A    C  0.196767  0.279578  0.269504  0.142366 -0.050581   \n",
       "195  783    24    A    C  0.166928  0.062544 -0.064816 -0.223924 -0.397589   \n",
       "196  784    24    A    C  0.467909  0.601598  0.466428  0.064870 -0.453154   \n",
       "197  792    29    C    C  0.158687  0.187958  0.187666  0.168700  0.137513   \n",
       "198  796    35    A    A -0.236773 -0.267845 -0.108305  0.141632  0.310586   \n",
       "\n",
       "      t6_2001  ...  t106_9170  t107_9170  t108_9170  t109_9170  t110_9170  \\\n",
       "0    0.181462  ...  -0.249206  -0.299956  -0.230605  -0.002176   0.307232   \n",
       "1    0.405507  ...   0.747080   1.451542   1.888522   1.843617   1.353949   \n",
       "2   -0.127867  ...  -2.263840  -2.082246  -1.299818  -0.087112   1.200546   \n",
       "3   -0.246477  ...  -2.662342  -1.246634   0.756969   2.115026   2.007031   \n",
       "4    0.774152  ...   0.000000   0.000000   0.000000   0.000000   0.000000   \n",
       "..        ...  ...        ...        ...        ...        ...        ...   \n",
       "194 -0.192273  ...   1.501500   0.315651  -0.438466  -0.390447   0.203565   \n",
       "195 -0.477872  ...   0.998999   2.150780   1.765160   0.167519  -1.398137   \n",
       "196 -0.874220  ...   4.963199   1.800244  -2.997877  -5.256964  -2.305884   \n",
       "197  0.109296  ...  -2.660509  -1.084989   0.932748   2.014907   1.678764   \n",
       "198  0.313349  ...   0.010158   0.408345  -0.480362  -1.950726  -2.116528   \n",
       "\n",
       "     t111_9170  t112_9170  t113_9170  t114_9170  t115_9170  \n",
       "0     0.574038   0.719488   0.739103   0.657216   0.466077  \n",
       "1     0.721757   0.341038   0.461075   1.052172   1.853388  \n",
       "2     2.217524   2.777598   2.863644   2.528300   1.804936  \n",
       "3     0.606600  -1.034530  -1.731524  -1.012911   0.541681  \n",
       "4     0.000000   0.000000   0.000000   0.000000   0.000000  \n",
       "..         ...        ...        ...        ...        ...  \n",
       "194   1.092143   1.984272   2.303799   1.587597   0.184648  \n",
       "195  -2.035133  -1.780128  -1.156148  -0.511489   0.100604  \n",
       "196   3.395893   5.967640   2.081252  -5.207866  -9.263192  \n",
       "197   0.401733  -0.877058  -1.297012  -0.560106   0.733061  \n",
       "198  -0.442166   1.441936   1.849335   1.124896   0.849227  \n",
       "\n",
       "[199 rows x 13344 columns]"
      ]
     },
     "execution_count": 95,
     "metadata": {},
     "output_type": "execute_result"
    }
   ],
   "source": [
    "test_df"
   ]
  },
  {
   "cell_type": "code",
   "execution_count": 97,
   "metadata": {},
   "outputs": [
    {
     "name": "stderr",
     "output_type": "stream",
     "text": [
      "  2%|▏         | 3/199 [00:02<02:19,  1.40it/s]C:\\Users\\Nicola\\AppData\\Local\\Programs\\Python\\Python39\\lib\\site-packages\\scipy\\stats\\stats.py:3913: PearsonRConstantInputWarning: An input array is constant; the correlation coefficent is not defined.\n",
      "  warnings.warn(PearsonRConstantInputWarning())\n",
      "100%|██████████| 199/199 [02:08<00:00,  1.55it/s]\n"
     ]
    }
   ],
   "source": [
    "corr_test=test_df.progress_apply(lambda row:get_corr(row,usable_roi,test=True),axis=1)"
   ]
  },
  {
   "cell_type": "code",
   "execution_count": 98,
   "metadata": {},
   "outputs": [],
   "source": [
    "test_final_df=pd.DataFrame(np.array(corr_test.values.tolist())).fillna(0)"
   ]
  },
  {
   "cell_type": "code",
   "execution_count": 99,
   "metadata": {},
   "outputs": [
    {
     "data": {
      "text/html": [
       "<div>\n",
       "<style scoped>\n",
       "    .dataframe tbody tr th:only-of-type {\n",
       "        vertical-align: middle;\n",
       "    }\n",
       "\n",
       "    .dataframe tbody tr th {\n",
       "        vertical-align: top;\n",
       "    }\n",
       "\n",
       "    .dataframe thead th {\n",
       "        text-align: right;\n",
       "    }\n",
       "</style>\n",
       "<table border=\"1\" class=\"dataframe\">\n",
       "  <thead>\n",
       "    <tr style=\"text-align: right;\">\n",
       "      <th></th>\n",
       "      <th>0</th>\n",
       "      <th>1</th>\n",
       "      <th>2</th>\n",
       "      <th>3</th>\n",
       "      <th>4</th>\n",
       "      <th>5</th>\n",
       "      <th>6</th>\n",
       "      <th>7</th>\n",
       "      <th>8</th>\n",
       "      <th>9</th>\n",
       "      <th>...</th>\n",
       "      <th>1643</th>\n",
       "      <th>1644</th>\n",
       "      <th>1645</th>\n",
       "      <th>1646</th>\n",
       "      <th>1647</th>\n",
       "      <th>1648</th>\n",
       "      <th>1649</th>\n",
       "      <th>1650</th>\n",
       "      <th>1651</th>\n",
       "      <th>1652</th>\n",
       "    </tr>\n",
       "  </thead>\n",
       "  <tbody>\n",
       "    <tr>\n",
       "      <th>0</th>\n",
       "      <td>-0.184674</td>\n",
       "      <td>0.335784</td>\n",
       "      <td>-0.433897</td>\n",
       "      <td>0.121238</td>\n",
       "      <td>-0.304749</td>\n",
       "      <td>-0.360175</td>\n",
       "      <td>-0.213842</td>\n",
       "      <td>0.592588</td>\n",
       "      <td>0.337346</td>\n",
       "      <td>0.261790</td>\n",
       "      <td>...</td>\n",
       "      <td>0.059721</td>\n",
       "      <td>-0.139047</td>\n",
       "      <td>0.292124</td>\n",
       "      <td>-0.189912</td>\n",
       "      <td>-0.060189</td>\n",
       "      <td>0.135940</td>\n",
       "      <td>-0.068397</td>\n",
       "      <td>0.239504</td>\n",
       "      <td>0.221618</td>\n",
       "      <td>-0.186755</td>\n",
       "    </tr>\n",
       "    <tr>\n",
       "      <th>1</th>\n",
       "      <td>0.091974</td>\n",
       "      <td>-0.012738</td>\n",
       "      <td>0.018270</td>\n",
       "      <td>0.286588</td>\n",
       "      <td>-0.024430</td>\n",
       "      <td>0.003806</td>\n",
       "      <td>-0.102631</td>\n",
       "      <td>-0.192910</td>\n",
       "      <td>-0.088184</td>\n",
       "      <td>0.150901</td>\n",
       "      <td>...</td>\n",
       "      <td>0.053499</td>\n",
       "      <td>0.202817</td>\n",
       "      <td>-0.271832</td>\n",
       "      <td>-0.033193</td>\n",
       "      <td>-0.069734</td>\n",
       "      <td>0.214056</td>\n",
       "      <td>0.230202</td>\n",
       "      <td>0.037493</td>\n",
       "      <td>0.031108</td>\n",
       "      <td>0.125471</td>\n",
       "    </tr>\n",
       "    <tr>\n",
       "      <th>2</th>\n",
       "      <td>0.118248</td>\n",
       "      <td>-0.275287</td>\n",
       "      <td>0.067088</td>\n",
       "      <td>-0.158764</td>\n",
       "      <td>-0.122662</td>\n",
       "      <td>0.233291</td>\n",
       "      <td>0.070906</td>\n",
       "      <td>0.441458</td>\n",
       "      <td>-0.068922</td>\n",
       "      <td>0.326351</td>\n",
       "      <td>...</td>\n",
       "      <td>0.234287</td>\n",
       "      <td>0.064304</td>\n",
       "      <td>0.235092</td>\n",
       "      <td>0.574309</td>\n",
       "      <td>0.504827</td>\n",
       "      <td>0.382075</td>\n",
       "      <td>0.136943</td>\n",
       "      <td>0.402817</td>\n",
       "      <td>0.237602</td>\n",
       "      <td>0.293227</td>\n",
       "    </tr>\n",
       "    <tr>\n",
       "      <th>3</th>\n",
       "      <td>-0.424435</td>\n",
       "      <td>-0.260486</td>\n",
       "      <td>-0.053301</td>\n",
       "      <td>-0.187334</td>\n",
       "      <td>-0.161422</td>\n",
       "      <td>-0.307382</td>\n",
       "      <td>-0.090365</td>\n",
       "      <td>0.439814</td>\n",
       "      <td>0.182087</td>\n",
       "      <td>0.310335</td>\n",
       "      <td>...</td>\n",
       "      <td>-0.077084</td>\n",
       "      <td>-0.436091</td>\n",
       "      <td>0.213071</td>\n",
       "      <td>0.315935</td>\n",
       "      <td>0.186580</td>\n",
       "      <td>-0.116094</td>\n",
       "      <td>0.077223</td>\n",
       "      <td>0.041814</td>\n",
       "      <td>-0.004182</td>\n",
       "      <td>0.266954</td>\n",
       "    </tr>\n",
       "    <tr>\n",
       "      <th>4</th>\n",
       "      <td>0.145877</td>\n",
       "      <td>-0.131794</td>\n",
       "      <td>0.361544</td>\n",
       "      <td>0.055204</td>\n",
       "      <td>-0.210112</td>\n",
       "      <td>0.204085</td>\n",
       "      <td>0.027663</td>\n",
       "      <td>0.721721</td>\n",
       "      <td>0.615052</td>\n",
       "      <td>0.407586</td>\n",
       "      <td>...</td>\n",
       "      <td>0.137650</td>\n",
       "      <td>0.000000</td>\n",
       "      <td>0.000000</td>\n",
       "      <td>0.000000</td>\n",
       "      <td>0.000000</td>\n",
       "      <td>0.000000</td>\n",
       "      <td>0.000000</td>\n",
       "      <td>0.000000</td>\n",
       "      <td>0.000000</td>\n",
       "      <td>0.000000</td>\n",
       "    </tr>\n",
       "    <tr>\n",
       "      <th>...</th>\n",
       "      <td>...</td>\n",
       "      <td>...</td>\n",
       "      <td>...</td>\n",
       "      <td>...</td>\n",
       "      <td>...</td>\n",
       "      <td>...</td>\n",
       "      <td>...</td>\n",
       "      <td>...</td>\n",
       "      <td>...</td>\n",
       "      <td>...</td>\n",
       "      <td>...</td>\n",
       "      <td>...</td>\n",
       "      <td>...</td>\n",
       "      <td>...</td>\n",
       "      <td>...</td>\n",
       "      <td>...</td>\n",
       "      <td>...</td>\n",
       "      <td>...</td>\n",
       "      <td>...</td>\n",
       "      <td>...</td>\n",
       "      <td>...</td>\n",
       "    </tr>\n",
       "    <tr>\n",
       "      <th>194</th>\n",
       "      <td>0.204179</td>\n",
       "      <td>-0.118850</td>\n",
       "      <td>0.250223</td>\n",
       "      <td>-0.195145</td>\n",
       "      <td>-0.325952</td>\n",
       "      <td>-0.053743</td>\n",
       "      <td>-0.012564</td>\n",
       "      <td>0.794479</td>\n",
       "      <td>0.338629</td>\n",
       "      <td>0.253609</td>\n",
       "      <td>...</td>\n",
       "      <td>0.138667</td>\n",
       "      <td>-0.481127</td>\n",
       "      <td>-0.418897</td>\n",
       "      <td>-0.324728</td>\n",
       "      <td>-0.006917</td>\n",
       "      <td>-0.157338</td>\n",
       "      <td>-0.094451</td>\n",
       "      <td>0.751545</td>\n",
       "      <td>0.652086</td>\n",
       "      <td>0.765714</td>\n",
       "    </tr>\n",
       "    <tr>\n",
       "      <th>195</th>\n",
       "      <td>0.038288</td>\n",
       "      <td>-0.065834</td>\n",
       "      <td>-0.123540</td>\n",
       "      <td>0.372467</td>\n",
       "      <td>-0.039882</td>\n",
       "      <td>-0.101934</td>\n",
       "      <td>-0.115844</td>\n",
       "      <td>0.628183</td>\n",
       "      <td>0.089262</td>\n",
       "      <td>0.147353</td>\n",
       "      <td>...</td>\n",
       "      <td>-0.175271</td>\n",
       "      <td>0.282997</td>\n",
       "      <td>0.300204</td>\n",
       "      <td>0.190003</td>\n",
       "      <td>0.502507</td>\n",
       "      <td>0.234785</td>\n",
       "      <td>0.260871</td>\n",
       "      <td>0.272752</td>\n",
       "      <td>0.113825</td>\n",
       "      <td>0.565614</td>\n",
       "    </tr>\n",
       "    <tr>\n",
       "      <th>196</th>\n",
       "      <td>-0.058686</td>\n",
       "      <td>-0.264435</td>\n",
       "      <td>-0.292921</td>\n",
       "      <td>-0.363793</td>\n",
       "      <td>-0.426708</td>\n",
       "      <td>0.040388</td>\n",
       "      <td>-0.286963</td>\n",
       "      <td>0.561433</td>\n",
       "      <td>0.347283</td>\n",
       "      <td>0.271698</td>\n",
       "      <td>...</td>\n",
       "      <td>0.125242</td>\n",
       "      <td>0.692103</td>\n",
       "      <td>0.605296</td>\n",
       "      <td>0.189826</td>\n",
       "      <td>0.451872</td>\n",
       "      <td>0.040126</td>\n",
       "      <td>0.278858</td>\n",
       "      <td>0.593402</td>\n",
       "      <td>0.321660</td>\n",
       "      <td>0.652692</td>\n",
       "    </tr>\n",
       "    <tr>\n",
       "      <th>197</th>\n",
       "      <td>-0.386250</td>\n",
       "      <td>-0.283560</td>\n",
       "      <td>0.059427</td>\n",
       "      <td>-0.092002</td>\n",
       "      <td>0.283123</td>\n",
       "      <td>0.147292</td>\n",
       "      <td>-0.060154</td>\n",
       "      <td>0.400976</td>\n",
       "      <td>0.673323</td>\n",
       "      <td>0.499302</td>\n",
       "      <td>...</td>\n",
       "      <td>-0.183756</td>\n",
       "      <td>-0.024456</td>\n",
       "      <td>-0.087496</td>\n",
       "      <td>0.103422</td>\n",
       "      <td>0.317849</td>\n",
       "      <td>0.188834</td>\n",
       "      <td>-0.064073</td>\n",
       "      <td>0.547437</td>\n",
       "      <td>0.426339</td>\n",
       "      <td>0.495522</td>\n",
       "    </tr>\n",
       "    <tr>\n",
       "      <th>198</th>\n",
       "      <td>-0.015609</td>\n",
       "      <td>0.000369</td>\n",
       "      <td>-0.003614</td>\n",
       "      <td>0.049551</td>\n",
       "      <td>-0.308286</td>\n",
       "      <td>0.024050</td>\n",
       "      <td>-0.128347</td>\n",
       "      <td>0.187289</td>\n",
       "      <td>0.069366</td>\n",
       "      <td>0.284426</td>\n",
       "      <td>...</td>\n",
       "      <td>0.214975</td>\n",
       "      <td>-0.150195</td>\n",
       "      <td>-0.056852</td>\n",
       "      <td>0.552862</td>\n",
       "      <td>0.332678</td>\n",
       "      <td>-0.231984</td>\n",
       "      <td>0.114105</td>\n",
       "      <td>0.023730</td>\n",
       "      <td>0.069423</td>\n",
       "      <td>0.278818</td>\n",
       "    </tr>\n",
       "  </tbody>\n",
       "</table>\n",
       "<p>199 rows × 1653 columns</p>\n",
       "</div>"
      ],
      "text/plain": [
       "         0         1         2         3         4         5         6     \\\n",
       "0   -0.184674  0.335784 -0.433897  0.121238 -0.304749 -0.360175 -0.213842   \n",
       "1    0.091974 -0.012738  0.018270  0.286588 -0.024430  0.003806 -0.102631   \n",
       "2    0.118248 -0.275287  0.067088 -0.158764 -0.122662  0.233291  0.070906   \n",
       "3   -0.424435 -0.260486 -0.053301 -0.187334 -0.161422 -0.307382 -0.090365   \n",
       "4    0.145877 -0.131794  0.361544  0.055204 -0.210112  0.204085  0.027663   \n",
       "..        ...       ...       ...       ...       ...       ...       ...   \n",
       "194  0.204179 -0.118850  0.250223 -0.195145 -0.325952 -0.053743 -0.012564   \n",
       "195  0.038288 -0.065834 -0.123540  0.372467 -0.039882 -0.101934 -0.115844   \n",
       "196 -0.058686 -0.264435 -0.292921 -0.363793 -0.426708  0.040388 -0.286963   \n",
       "197 -0.386250 -0.283560  0.059427 -0.092002  0.283123  0.147292 -0.060154   \n",
       "198 -0.015609  0.000369 -0.003614  0.049551 -0.308286  0.024050 -0.128347   \n",
       "\n",
       "         7         8         9     ...      1643      1644      1645  \\\n",
       "0    0.592588  0.337346  0.261790  ...  0.059721 -0.139047  0.292124   \n",
       "1   -0.192910 -0.088184  0.150901  ...  0.053499  0.202817 -0.271832   \n",
       "2    0.441458 -0.068922  0.326351  ...  0.234287  0.064304  0.235092   \n",
       "3    0.439814  0.182087  0.310335  ... -0.077084 -0.436091  0.213071   \n",
       "4    0.721721  0.615052  0.407586  ...  0.137650  0.000000  0.000000   \n",
       "..        ...       ...       ...  ...       ...       ...       ...   \n",
       "194  0.794479  0.338629  0.253609  ...  0.138667 -0.481127 -0.418897   \n",
       "195  0.628183  0.089262  0.147353  ... -0.175271  0.282997  0.300204   \n",
       "196  0.561433  0.347283  0.271698  ...  0.125242  0.692103  0.605296   \n",
       "197  0.400976  0.673323  0.499302  ... -0.183756 -0.024456 -0.087496   \n",
       "198  0.187289  0.069366  0.284426  ...  0.214975 -0.150195 -0.056852   \n",
       "\n",
       "         1646      1647      1648      1649      1650      1651      1652  \n",
       "0   -0.189912 -0.060189  0.135940 -0.068397  0.239504  0.221618 -0.186755  \n",
       "1   -0.033193 -0.069734  0.214056  0.230202  0.037493  0.031108  0.125471  \n",
       "2    0.574309  0.504827  0.382075  0.136943  0.402817  0.237602  0.293227  \n",
       "3    0.315935  0.186580 -0.116094  0.077223  0.041814 -0.004182  0.266954  \n",
       "4    0.000000  0.000000  0.000000  0.000000  0.000000  0.000000  0.000000  \n",
       "..        ...       ...       ...       ...       ...       ...       ...  \n",
       "194 -0.324728 -0.006917 -0.157338 -0.094451  0.751545  0.652086  0.765714  \n",
       "195  0.190003  0.502507  0.234785  0.260871  0.272752  0.113825  0.565614  \n",
       "196  0.189826  0.451872  0.040126  0.278858  0.593402  0.321660  0.652692  \n",
       "197  0.103422  0.317849  0.188834 -0.064073  0.547437  0.426339  0.495522  \n",
       "198  0.552862  0.332678 -0.231984  0.114105  0.023730  0.069423  0.278818  \n",
       "\n",
       "[199 rows x 1653 columns]"
      ]
     },
     "execution_count": 99,
     "metadata": {},
     "output_type": "execute_result"
    }
   ],
   "source": [
    "test_final_df"
   ]
  },
  {
   "cell_type": "code",
   "execution_count": 28,
   "metadata": {},
   "outputs": [
    {
     "data": {
      "text/html": [
       "<div>\n",
       "<style scoped>\n",
       "    .dataframe tbody tr th:only-of-type {\n",
       "        vertical-align: middle;\n",
       "    }\n",
       "\n",
       "    .dataframe tbody tr th {\n",
       "        vertical-align: top;\n",
       "    }\n",
       "\n",
       "    .dataframe thead th {\n",
       "        text-align: right;\n",
       "    }\n",
       "</style>\n",
       "<table border=\"1\" class=\"dataframe\">\n",
       "  <thead>\n",
       "    <tr style=\"text-align: right;\">\n",
       "      <th></th>\n",
       "      <th>id</th>\n",
       "      <th>var1</th>\n",
       "      <th>var2</th>\n",
       "      <th>var3</th>\n",
       "      <th>t1_2001</th>\n",
       "      <th>t2_2001</th>\n",
       "      <th>t3_2001</th>\n",
       "      <th>t4_2001</th>\n",
       "      <th>t5_2001</th>\n",
       "      <th>t6_2001</th>\n",
       "      <th>...</th>\n",
       "      <th>t106_9170</th>\n",
       "      <th>t107_9170</th>\n",
       "      <th>t108_9170</th>\n",
       "      <th>t109_9170</th>\n",
       "      <th>t110_9170</th>\n",
       "      <th>t111_9170</th>\n",
       "      <th>t112_9170</th>\n",
       "      <th>t113_9170</th>\n",
       "      <th>t114_9170</th>\n",
       "      <th>t115_9170</th>\n",
       "    </tr>\n",
       "  </thead>\n",
       "  <tbody>\n",
       "    <tr>\n",
       "      <th>0</th>\n",
       "      <td>17</td>\n",
       "      <td>32</td>\n",
       "      <td>A</td>\n",
       "      <td>A</td>\n",
       "      <td>-0.350440</td>\n",
       "      <td>-0.222368</td>\n",
       "      <td>0.023356</td>\n",
       "      <td>0.243820</td>\n",
       "      <td>0.307884</td>\n",
       "      <td>0.181462</td>\n",
       "      <td>...</td>\n",
       "      <td>-0.249206</td>\n",
       "      <td>-0.299956</td>\n",
       "      <td>-0.230605</td>\n",
       "      <td>-0.002176</td>\n",
       "      <td>0.307232</td>\n",
       "      <td>0.574038</td>\n",
       "      <td>0.719488</td>\n",
       "      <td>0.739103</td>\n",
       "      <td>0.657216</td>\n",
       "      <td>0.466077</td>\n",
       "    </tr>\n",
       "    <tr>\n",
       "      <th>1</th>\n",
       "      <td>19</td>\n",
       "      <td>11</td>\n",
       "      <td>C</td>\n",
       "      <td>A</td>\n",
       "      <td>-0.637826</td>\n",
       "      <td>-0.626851</td>\n",
       "      <td>-0.360784</td>\n",
       "      <td>0.030366</td>\n",
       "      <td>0.336757</td>\n",
       "      <td>0.405507</td>\n",
       "      <td>...</td>\n",
       "      <td>0.747080</td>\n",
       "      <td>1.451542</td>\n",
       "      <td>1.888522</td>\n",
       "      <td>1.843617</td>\n",
       "      <td>1.353949</td>\n",
       "      <td>0.721757</td>\n",
       "      <td>0.341038</td>\n",
       "      <td>0.461075</td>\n",
       "      <td>1.052172</td>\n",
       "      <td>1.853388</td>\n",
       "    </tr>\n",
       "    <tr>\n",
       "      <th>2</th>\n",
       "      <td>25</td>\n",
       "      <td>17</td>\n",
       "      <td>A</td>\n",
       "      <td>C</td>\n",
       "      <td>-0.012941</td>\n",
       "      <td>-0.104797</td>\n",
       "      <td>-0.236863</td>\n",
       "      <td>-0.323248</td>\n",
       "      <td>-0.289526</td>\n",
       "      <td>-0.127867</td>\n",
       "      <td>...</td>\n",
       "      <td>-2.263840</td>\n",
       "      <td>-2.082246</td>\n",
       "      <td>-1.299818</td>\n",
       "      <td>-0.087112</td>\n",
       "      <td>1.200546</td>\n",
       "      <td>2.217524</td>\n",
       "      <td>2.777598</td>\n",
       "      <td>2.863644</td>\n",
       "      <td>2.528300</td>\n",
       "      <td>1.804936</td>\n",
       "    </tr>\n",
       "    <tr>\n",
       "      <th>3</th>\n",
       "      <td>32</td>\n",
       "      <td>17</td>\n",
       "      <td>A</td>\n",
       "      <td>C</td>\n",
       "      <td>0.090513</td>\n",
       "      <td>0.210141</td>\n",
       "      <td>0.258353</td>\n",
       "      <td>0.176808</td>\n",
       "      <td>-0.021250</td>\n",
       "      <td>-0.246477</td>\n",
       "      <td>...</td>\n",
       "      <td>-2.662342</td>\n",
       "      <td>-1.246634</td>\n",
       "      <td>0.756969</td>\n",
       "      <td>2.115026</td>\n",
       "      <td>2.007031</td>\n",
       "      <td>0.606600</td>\n",
       "      <td>-1.034530</td>\n",
       "      <td>-1.731524</td>\n",
       "      <td>-1.012911</td>\n",
       "      <td>0.541681</td>\n",
       "    </tr>\n",
       "    <tr>\n",
       "      <th>4</th>\n",
       "      <td>33</td>\n",
       "      <td>16</td>\n",
       "      <td>A</td>\n",
       "      <td>C</td>\n",
       "      <td>0.020757</td>\n",
       "      <td>0.004422</td>\n",
       "      <td>0.048168</td>\n",
       "      <td>0.217449</td>\n",
       "      <td>0.499191</td>\n",
       "      <td>0.774152</td>\n",
       "      <td>...</td>\n",
       "      <td>0.000000</td>\n",
       "      <td>0.000000</td>\n",
       "      <td>0.000000</td>\n",
       "      <td>0.000000</td>\n",
       "      <td>0.000000</td>\n",
       "      <td>0.000000</td>\n",
       "      <td>0.000000</td>\n",
       "      <td>0.000000</td>\n",
       "      <td>0.000000</td>\n",
       "      <td>0.000000</td>\n",
       "    </tr>\n",
       "    <tr>\n",
       "      <th>...</th>\n",
       "      <td>...</td>\n",
       "      <td>...</td>\n",
       "      <td>...</td>\n",
       "      <td>...</td>\n",
       "      <td>...</td>\n",
       "      <td>...</td>\n",
       "      <td>...</td>\n",
       "      <td>...</td>\n",
       "      <td>...</td>\n",
       "      <td>...</td>\n",
       "      <td>...</td>\n",
       "      <td>...</td>\n",
       "      <td>...</td>\n",
       "      <td>...</td>\n",
       "      <td>...</td>\n",
       "      <td>...</td>\n",
       "      <td>...</td>\n",
       "      <td>...</td>\n",
       "      <td>...</td>\n",
       "      <td>...</td>\n",
       "      <td>...</td>\n",
       "    </tr>\n",
       "    <tr>\n",
       "      <th>194</th>\n",
       "      <td>777</td>\n",
       "      <td>20</td>\n",
       "      <td>A</td>\n",
       "      <td>C</td>\n",
       "      <td>0.196767</td>\n",
       "      <td>0.279578</td>\n",
       "      <td>0.269504</td>\n",
       "      <td>0.142366</td>\n",
       "      <td>-0.050581</td>\n",
       "      <td>-0.192273</td>\n",
       "      <td>...</td>\n",
       "      <td>1.501500</td>\n",
       "      <td>0.315651</td>\n",
       "      <td>-0.438466</td>\n",
       "      <td>-0.390447</td>\n",
       "      <td>0.203565</td>\n",
       "      <td>1.092143</td>\n",
       "      <td>1.984272</td>\n",
       "      <td>2.303799</td>\n",
       "      <td>1.587597</td>\n",
       "      <td>0.184648</td>\n",
       "    </tr>\n",
       "    <tr>\n",
       "      <th>195</th>\n",
       "      <td>783</td>\n",
       "      <td>24</td>\n",
       "      <td>A</td>\n",
       "      <td>C</td>\n",
       "      <td>0.166928</td>\n",
       "      <td>0.062544</td>\n",
       "      <td>-0.064816</td>\n",
       "      <td>-0.223924</td>\n",
       "      <td>-0.397589</td>\n",
       "      <td>-0.477872</td>\n",
       "      <td>...</td>\n",
       "      <td>0.998999</td>\n",
       "      <td>2.150780</td>\n",
       "      <td>1.765160</td>\n",
       "      <td>0.167519</td>\n",
       "      <td>-1.398137</td>\n",
       "      <td>-2.035133</td>\n",
       "      <td>-1.780128</td>\n",
       "      <td>-1.156148</td>\n",
       "      <td>-0.511489</td>\n",
       "      <td>0.100604</td>\n",
       "    </tr>\n",
       "    <tr>\n",
       "      <th>196</th>\n",
       "      <td>784</td>\n",
       "      <td>24</td>\n",
       "      <td>A</td>\n",
       "      <td>C</td>\n",
       "      <td>0.467909</td>\n",
       "      <td>0.601598</td>\n",
       "      <td>0.466428</td>\n",
       "      <td>0.064870</td>\n",
       "      <td>-0.453154</td>\n",
       "      <td>-0.874220</td>\n",
       "      <td>...</td>\n",
       "      <td>4.963199</td>\n",
       "      <td>1.800244</td>\n",
       "      <td>-2.997877</td>\n",
       "      <td>-5.256964</td>\n",
       "      <td>-2.305884</td>\n",
       "      <td>3.395893</td>\n",
       "      <td>5.967640</td>\n",
       "      <td>2.081252</td>\n",
       "      <td>-5.207866</td>\n",
       "      <td>-9.263192</td>\n",
       "    </tr>\n",
       "    <tr>\n",
       "      <th>197</th>\n",
       "      <td>792</td>\n",
       "      <td>29</td>\n",
       "      <td>C</td>\n",
       "      <td>C</td>\n",
       "      <td>0.158687</td>\n",
       "      <td>0.187958</td>\n",
       "      <td>0.187666</td>\n",
       "      <td>0.168700</td>\n",
       "      <td>0.137513</td>\n",
       "      <td>0.109296</td>\n",
       "      <td>...</td>\n",
       "      <td>-2.660509</td>\n",
       "      <td>-1.084989</td>\n",
       "      <td>0.932748</td>\n",
       "      <td>2.014907</td>\n",
       "      <td>1.678764</td>\n",
       "      <td>0.401733</td>\n",
       "      <td>-0.877058</td>\n",
       "      <td>-1.297012</td>\n",
       "      <td>-0.560106</td>\n",
       "      <td>0.733061</td>\n",
       "    </tr>\n",
       "    <tr>\n",
       "      <th>198</th>\n",
       "      <td>796</td>\n",
       "      <td>35</td>\n",
       "      <td>A</td>\n",
       "      <td>A</td>\n",
       "      <td>-0.236773</td>\n",
       "      <td>-0.267845</td>\n",
       "      <td>-0.108305</td>\n",
       "      <td>0.141632</td>\n",
       "      <td>0.310586</td>\n",
       "      <td>0.313349</td>\n",
       "      <td>...</td>\n",
       "      <td>0.010158</td>\n",
       "      <td>0.408345</td>\n",
       "      <td>-0.480362</td>\n",
       "      <td>-1.950726</td>\n",
       "      <td>-2.116528</td>\n",
       "      <td>-0.442166</td>\n",
       "      <td>1.441936</td>\n",
       "      <td>1.849335</td>\n",
       "      <td>1.124896</td>\n",
       "      <td>0.849227</td>\n",
       "    </tr>\n",
       "  </tbody>\n",
       "</table>\n",
       "<p>199 rows × 13344 columns</p>\n",
       "</div>"
      ],
      "text/plain": [
       "      id  var1 var2 var3   t1_2001   t2_2001   t3_2001   t4_2001   t5_2001  \\\n",
       "0     17    32    A    A -0.350440 -0.222368  0.023356  0.243820  0.307884   \n",
       "1     19    11    C    A -0.637826 -0.626851 -0.360784  0.030366  0.336757   \n",
       "2     25    17    A    C -0.012941 -0.104797 -0.236863 -0.323248 -0.289526   \n",
       "3     32    17    A    C  0.090513  0.210141  0.258353  0.176808 -0.021250   \n",
       "4     33    16    A    C  0.020757  0.004422  0.048168  0.217449  0.499191   \n",
       "..   ...   ...  ...  ...       ...       ...       ...       ...       ...   \n",
       "194  777    20    A    C  0.196767  0.279578  0.269504  0.142366 -0.050581   \n",
       "195  783    24    A    C  0.166928  0.062544 -0.064816 -0.223924 -0.397589   \n",
       "196  784    24    A    C  0.467909  0.601598  0.466428  0.064870 -0.453154   \n",
       "197  792    29    C    C  0.158687  0.187958  0.187666  0.168700  0.137513   \n",
       "198  796    35    A    A -0.236773 -0.267845 -0.108305  0.141632  0.310586   \n",
       "\n",
       "      t6_2001  ...  t106_9170  t107_9170  t108_9170  t109_9170  t110_9170  \\\n",
       "0    0.181462  ...  -0.249206  -0.299956  -0.230605  -0.002176   0.307232   \n",
       "1    0.405507  ...   0.747080   1.451542   1.888522   1.843617   1.353949   \n",
       "2   -0.127867  ...  -2.263840  -2.082246  -1.299818  -0.087112   1.200546   \n",
       "3   -0.246477  ...  -2.662342  -1.246634   0.756969   2.115026   2.007031   \n",
       "4    0.774152  ...   0.000000   0.000000   0.000000   0.000000   0.000000   \n",
       "..        ...  ...        ...        ...        ...        ...        ...   \n",
       "194 -0.192273  ...   1.501500   0.315651  -0.438466  -0.390447   0.203565   \n",
       "195 -0.477872  ...   0.998999   2.150780   1.765160   0.167519  -1.398137   \n",
       "196 -0.874220  ...   4.963199   1.800244  -2.997877  -5.256964  -2.305884   \n",
       "197  0.109296  ...  -2.660509  -1.084989   0.932748   2.014907   1.678764   \n",
       "198  0.313349  ...   0.010158   0.408345  -0.480362  -1.950726  -2.116528   \n",
       "\n",
       "     t111_9170  t112_9170  t113_9170  t114_9170  t115_9170  \n",
       "0     0.574038   0.719488   0.739103   0.657216   0.466077  \n",
       "1     0.721757   0.341038   0.461075   1.052172   1.853388  \n",
       "2     2.217524   2.777598   2.863644   2.528300   1.804936  \n",
       "3     0.606600  -1.034530  -1.731524  -1.012911   0.541681  \n",
       "4     0.000000   0.000000   0.000000   0.000000   0.000000  \n",
       "..         ...        ...        ...        ...        ...  \n",
       "194   1.092143   1.984272   2.303799   1.587597   0.184648  \n",
       "195  -2.035133  -1.780128  -1.156148  -0.511489   0.100604  \n",
       "196   3.395893   5.967640   2.081252  -5.207866  -9.263192  \n",
       "197   0.401733  -0.877058  -1.297012  -0.560106   0.733061  \n",
       "198  -0.442166   1.441936   1.849335   1.124896   0.849227  \n",
       "\n",
       "[199 rows x 13344 columns]"
      ]
     },
     "execution_count": 28,
     "metadata": {},
     "output_type": "execute_result"
    }
   ],
   "source": [
    "test_df"
   ]
  },
  {
   "cell_type": "code",
   "execution_count": 29,
   "metadata": {},
   "outputs": [],
   "source": [
    "first_cols_test = test_df.iloc[:, [1,2,3]]\n",
    "new_test = first_cols_test.join(test_final_df)\n",
    "new_test['var2'].replace({'A':0, 'C':1}, inplace = True)\n",
    "new_test['var3'].replace({'A':0, 'C':1}, inplace = True)"
   ]
  },
  {
   "cell_type": "code",
   "execution_count": 30,
   "metadata": {},
   "outputs": [
    {
     "data": {
      "text/html": [
       "<div>\n",
       "<style scoped>\n",
       "    .dataframe tbody tr th:only-of-type {\n",
       "        vertical-align: middle;\n",
       "    }\n",
       "\n",
       "    .dataframe tbody tr th {\n",
       "        vertical-align: top;\n",
       "    }\n",
       "\n",
       "    .dataframe thead th {\n",
       "        text-align: right;\n",
       "    }\n",
       "</style>\n",
       "<table border=\"1\" class=\"dataframe\">\n",
       "  <thead>\n",
       "    <tr style=\"text-align: right;\">\n",
       "      <th></th>\n",
       "      <th>var1</th>\n",
       "      <th>var2</th>\n",
       "      <th>var3</th>\n",
       "      <th>Roi1-Roi2</th>\n",
       "      <th>Roi1-Roi3</th>\n",
       "      <th>Roi1-Roi4</th>\n",
       "      <th>Roi1-Roi5</th>\n",
       "      <th>Roi1-Roi6</th>\n",
       "      <th>Roi1-Roi7</th>\n",
       "      <th>Roi1-Roi8</th>\n",
       "      <th>...</th>\n",
       "      <th>Roi112-Roi113</th>\n",
       "      <th>Roi112-Roi114</th>\n",
       "      <th>Roi112-Roi115</th>\n",
       "      <th>Roi112-Roi116</th>\n",
       "      <th>Roi113-Roi114</th>\n",
       "      <th>Roi113-Roi115</th>\n",
       "      <th>Roi113-Roi116</th>\n",
       "      <th>Roi114-Roi115</th>\n",
       "      <th>Roi114-Roi116</th>\n",
       "      <th>Roi115-Roi116</th>\n",
       "    </tr>\n",
       "  </thead>\n",
       "  <tbody>\n",
       "    <tr>\n",
       "      <th>0</th>\n",
       "      <td>32</td>\n",
       "      <td>0</td>\n",
       "      <td>0</td>\n",
       "      <td>0.574820</td>\n",
       "      <td>-0.184674</td>\n",
       "      <td>0.335784</td>\n",
       "      <td>-0.433897</td>\n",
       "      <td>-0.314960</td>\n",
       "      <td>0.121238</td>\n",
       "      <td>-0.304749</td>\n",
       "      <td>...</td>\n",
       "      <td>0.188771</td>\n",
       "      <td>0.237508</td>\n",
       "      <td>0.273457</td>\n",
       "      <td>0.225723</td>\n",
       "      <td>-0.060189</td>\n",
       "      <td>0.135940</td>\n",
       "      <td>-0.068397</td>\n",
       "      <td>0.239504</td>\n",
       "      <td>0.221618</td>\n",
       "      <td>-0.186755</td>\n",
       "    </tr>\n",
       "    <tr>\n",
       "      <th>1</th>\n",
       "      <td>11</td>\n",
       "      <td>1</td>\n",
       "      <td>0</td>\n",
       "      <td>0.459187</td>\n",
       "      <td>0.091974</td>\n",
       "      <td>-0.012738</td>\n",
       "      <td>0.018270</td>\n",
       "      <td>-0.144327</td>\n",
       "      <td>0.286588</td>\n",
       "      <td>-0.024430</td>\n",
       "      <td>...</td>\n",
       "      <td>0.395746</td>\n",
       "      <td>-0.245494</td>\n",
       "      <td>0.173441</td>\n",
       "      <td>0.203784</td>\n",
       "      <td>-0.069734</td>\n",
       "      <td>0.214056</td>\n",
       "      <td>0.230202</td>\n",
       "      <td>0.037493</td>\n",
       "      <td>0.031108</td>\n",
       "      <td>0.125471</td>\n",
       "    </tr>\n",
       "    <tr>\n",
       "      <th>2</th>\n",
       "      <td>17</td>\n",
       "      <td>0</td>\n",
       "      <td>1</td>\n",
       "      <td>0.318010</td>\n",
       "      <td>0.118248</td>\n",
       "      <td>-0.275287</td>\n",
       "      <td>0.067088</td>\n",
       "      <td>0.031507</td>\n",
       "      <td>-0.158764</td>\n",
       "      <td>-0.122662</td>\n",
       "      <td>...</td>\n",
       "      <td>0.656703</td>\n",
       "      <td>0.428289</td>\n",
       "      <td>0.123900</td>\n",
       "      <td>0.090384</td>\n",
       "      <td>0.504827</td>\n",
       "      <td>0.382075</td>\n",
       "      <td>0.136943</td>\n",
       "      <td>0.402817</td>\n",
       "      <td>0.237602</td>\n",
       "      <td>0.293227</td>\n",
       "    </tr>\n",
       "    <tr>\n",
       "      <th>3</th>\n",
       "      <td>17</td>\n",
       "      <td>0</td>\n",
       "      <td>1</td>\n",
       "      <td>0.405577</td>\n",
       "      <td>-0.424435</td>\n",
       "      <td>-0.260486</td>\n",
       "      <td>-0.053301</td>\n",
       "      <td>0.118364</td>\n",
       "      <td>-0.187334</td>\n",
       "      <td>-0.161422</td>\n",
       "      <td>...</td>\n",
       "      <td>0.560449</td>\n",
       "      <td>0.255396</td>\n",
       "      <td>-0.304971</td>\n",
       "      <td>-0.070677</td>\n",
       "      <td>0.186580</td>\n",
       "      <td>-0.116094</td>\n",
       "      <td>0.077223</td>\n",
       "      <td>0.041814</td>\n",
       "      <td>-0.004182</td>\n",
       "      <td>0.266954</td>\n",
       "    </tr>\n",
       "    <tr>\n",
       "      <th>4</th>\n",
       "      <td>16</td>\n",
       "      <td>0</td>\n",
       "      <td>1</td>\n",
       "      <td>0.531680</td>\n",
       "      <td>0.145877</td>\n",
       "      <td>-0.131794</td>\n",
       "      <td>0.361544</td>\n",
       "      <td>0.015393</td>\n",
       "      <td>0.055204</td>\n",
       "      <td>-0.210112</td>\n",
       "      <td>...</td>\n",
       "      <td>0.003357</td>\n",
       "      <td>0.000000</td>\n",
       "      <td>0.000000</td>\n",
       "      <td>0.000000</td>\n",
       "      <td>0.000000</td>\n",
       "      <td>0.000000</td>\n",
       "      <td>0.000000</td>\n",
       "      <td>0.000000</td>\n",
       "      <td>0.000000</td>\n",
       "      <td>0.000000</td>\n",
       "    </tr>\n",
       "    <tr>\n",
       "      <th>...</th>\n",
       "      <td>...</td>\n",
       "      <td>...</td>\n",
       "      <td>...</td>\n",
       "      <td>...</td>\n",
       "      <td>...</td>\n",
       "      <td>...</td>\n",
       "      <td>...</td>\n",
       "      <td>...</td>\n",
       "      <td>...</td>\n",
       "      <td>...</td>\n",
       "      <td>...</td>\n",
       "      <td>...</td>\n",
       "      <td>...</td>\n",
       "      <td>...</td>\n",
       "      <td>...</td>\n",
       "      <td>...</td>\n",
       "      <td>...</td>\n",
       "      <td>...</td>\n",
       "      <td>...</td>\n",
       "      <td>...</td>\n",
       "      <td>...</td>\n",
       "    </tr>\n",
       "    <tr>\n",
       "      <th>194</th>\n",
       "      <td>20</td>\n",
       "      <td>0</td>\n",
       "      <td>1</td>\n",
       "      <td>0.217994</td>\n",
       "      <td>0.204179</td>\n",
       "      <td>-0.118850</td>\n",
       "      <td>0.250223</td>\n",
       "      <td>0.456717</td>\n",
       "      <td>-0.195145</td>\n",
       "      <td>-0.325952</td>\n",
       "      <td>...</td>\n",
       "      <td>0.218118</td>\n",
       "      <td>0.021160</td>\n",
       "      <td>0.018531</td>\n",
       "      <td>0.039184</td>\n",
       "      <td>-0.006917</td>\n",
       "      <td>-0.157338</td>\n",
       "      <td>-0.094451</td>\n",
       "      <td>0.751545</td>\n",
       "      <td>0.652086</td>\n",
       "      <td>0.765714</td>\n",
       "    </tr>\n",
       "    <tr>\n",
       "      <th>195</th>\n",
       "      <td>24</td>\n",
       "      <td>0</td>\n",
       "      <td>1</td>\n",
       "      <td>0.465376</td>\n",
       "      <td>0.038288</td>\n",
       "      <td>-0.065834</td>\n",
       "      <td>-0.123540</td>\n",
       "      <td>-0.223827</td>\n",
       "      <td>0.372467</td>\n",
       "      <td>-0.039882</td>\n",
       "      <td>...</td>\n",
       "      <td>0.453787</td>\n",
       "      <td>0.121769</td>\n",
       "      <td>0.407962</td>\n",
       "      <td>0.322393</td>\n",
       "      <td>0.502507</td>\n",
       "      <td>0.234785</td>\n",
       "      <td>0.260871</td>\n",
       "      <td>0.272752</td>\n",
       "      <td>0.113825</td>\n",
       "      <td>0.565614</td>\n",
       "    </tr>\n",
       "    <tr>\n",
       "      <th>196</th>\n",
       "      <td>24</td>\n",
       "      <td>0</td>\n",
       "      <td>1</td>\n",
       "      <td>0.320433</td>\n",
       "      <td>-0.058686</td>\n",
       "      <td>-0.264435</td>\n",
       "      <td>-0.292921</td>\n",
       "      <td>-0.012648</td>\n",
       "      <td>-0.363793</td>\n",
       "      <td>-0.426708</td>\n",
       "      <td>...</td>\n",
       "      <td>0.072454</td>\n",
       "      <td>-0.090642</td>\n",
       "      <td>0.058275</td>\n",
       "      <td>0.047026</td>\n",
       "      <td>0.451872</td>\n",
       "      <td>0.040126</td>\n",
       "      <td>0.278858</td>\n",
       "      <td>0.593402</td>\n",
       "      <td>0.321660</td>\n",
       "      <td>0.652692</td>\n",
       "    </tr>\n",
       "    <tr>\n",
       "      <th>197</th>\n",
       "      <td>29</td>\n",
       "      <td>1</td>\n",
       "      <td>1</td>\n",
       "      <td>0.550265</td>\n",
       "      <td>-0.386250</td>\n",
       "      <td>-0.283560</td>\n",
       "      <td>0.059427</td>\n",
       "      <td>0.095853</td>\n",
       "      <td>-0.092002</td>\n",
       "      <td>0.283123</td>\n",
       "      <td>...</td>\n",
       "      <td>0.114647</td>\n",
       "      <td>0.535039</td>\n",
       "      <td>0.289765</td>\n",
       "      <td>0.529971</td>\n",
       "      <td>0.317849</td>\n",
       "      <td>0.188834</td>\n",
       "      <td>-0.064073</td>\n",
       "      <td>0.547437</td>\n",
       "      <td>0.426339</td>\n",
       "      <td>0.495522</td>\n",
       "    </tr>\n",
       "    <tr>\n",
       "      <th>198</th>\n",
       "      <td>35</td>\n",
       "      <td>0</td>\n",
       "      <td>0</td>\n",
       "      <td>0.447044</td>\n",
       "      <td>-0.015609</td>\n",
       "      <td>0.000369</td>\n",
       "      <td>-0.003614</td>\n",
       "      <td>-0.022943</td>\n",
       "      <td>0.049551</td>\n",
       "      <td>-0.308286</td>\n",
       "      <td>...</td>\n",
       "      <td>0.718296</td>\n",
       "      <td>0.152719</td>\n",
       "      <td>-0.237177</td>\n",
       "      <td>0.161192</td>\n",
       "      <td>0.332678</td>\n",
       "      <td>-0.231984</td>\n",
       "      <td>0.114105</td>\n",
       "      <td>0.023730</td>\n",
       "      <td>0.069423</td>\n",
       "      <td>0.278818</td>\n",
       "    </tr>\n",
       "  </tbody>\n",
       "</table>\n",
       "<p>199 rows × 6673 columns</p>\n",
       "</div>"
      ],
      "text/plain": [
       "     var1  var2  var3  Roi1-Roi2  Roi1-Roi3  Roi1-Roi4  Roi1-Roi5  Roi1-Roi6  \\\n",
       "0      32     0     0   0.574820  -0.184674   0.335784  -0.433897  -0.314960   \n",
       "1      11     1     0   0.459187   0.091974  -0.012738   0.018270  -0.144327   \n",
       "2      17     0     1   0.318010   0.118248  -0.275287   0.067088   0.031507   \n",
       "3      17     0     1   0.405577  -0.424435  -0.260486  -0.053301   0.118364   \n",
       "4      16     0     1   0.531680   0.145877  -0.131794   0.361544   0.015393   \n",
       "..    ...   ...   ...        ...        ...        ...        ...        ...   \n",
       "194    20     0     1   0.217994   0.204179  -0.118850   0.250223   0.456717   \n",
       "195    24     0     1   0.465376   0.038288  -0.065834  -0.123540  -0.223827   \n",
       "196    24     0     1   0.320433  -0.058686  -0.264435  -0.292921  -0.012648   \n",
       "197    29     1     1   0.550265  -0.386250  -0.283560   0.059427   0.095853   \n",
       "198    35     0     0   0.447044  -0.015609   0.000369  -0.003614  -0.022943   \n",
       "\n",
       "     Roi1-Roi7  Roi1-Roi8  ...  Roi112-Roi113  Roi112-Roi114  Roi112-Roi115  \\\n",
       "0     0.121238  -0.304749  ...       0.188771       0.237508       0.273457   \n",
       "1     0.286588  -0.024430  ...       0.395746      -0.245494       0.173441   \n",
       "2    -0.158764  -0.122662  ...       0.656703       0.428289       0.123900   \n",
       "3    -0.187334  -0.161422  ...       0.560449       0.255396      -0.304971   \n",
       "4     0.055204  -0.210112  ...       0.003357       0.000000       0.000000   \n",
       "..         ...        ...  ...            ...            ...            ...   \n",
       "194  -0.195145  -0.325952  ...       0.218118       0.021160       0.018531   \n",
       "195   0.372467  -0.039882  ...       0.453787       0.121769       0.407962   \n",
       "196  -0.363793  -0.426708  ...       0.072454      -0.090642       0.058275   \n",
       "197  -0.092002   0.283123  ...       0.114647       0.535039       0.289765   \n",
       "198   0.049551  -0.308286  ...       0.718296       0.152719      -0.237177   \n",
       "\n",
       "     Roi112-Roi116  Roi113-Roi114  Roi113-Roi115  Roi113-Roi116  \\\n",
       "0         0.225723      -0.060189       0.135940      -0.068397   \n",
       "1         0.203784      -0.069734       0.214056       0.230202   \n",
       "2         0.090384       0.504827       0.382075       0.136943   \n",
       "3        -0.070677       0.186580      -0.116094       0.077223   \n",
       "4         0.000000       0.000000       0.000000       0.000000   \n",
       "..             ...            ...            ...            ...   \n",
       "194       0.039184      -0.006917      -0.157338      -0.094451   \n",
       "195       0.322393       0.502507       0.234785       0.260871   \n",
       "196       0.047026       0.451872       0.040126       0.278858   \n",
       "197       0.529971       0.317849       0.188834      -0.064073   \n",
       "198       0.161192       0.332678      -0.231984       0.114105   \n",
       "\n",
       "     Roi114-Roi115  Roi114-Roi116  Roi115-Roi116  \n",
       "0         0.239504       0.221618      -0.186755  \n",
       "1         0.037493       0.031108       0.125471  \n",
       "2         0.402817       0.237602       0.293227  \n",
       "3         0.041814      -0.004182       0.266954  \n",
       "4         0.000000       0.000000       0.000000  \n",
       "..             ...            ...            ...  \n",
       "194       0.751545       0.652086       0.765714  \n",
       "195       0.272752       0.113825       0.565614  \n",
       "196       0.593402       0.321660       0.652692  \n",
       "197       0.547437       0.426339       0.495522  \n",
       "198       0.023730       0.069423       0.278818  \n",
       "\n",
       "[199 rows x 6673 columns]"
      ]
     },
     "execution_count": 30,
     "metadata": {},
     "output_type": "execute_result"
    }
   ],
   "source": [
    "new_test"
   ]
  },
  {
   "cell_type": "code",
   "execution_count": 73,
   "metadata": {},
   "outputs": [
    {
     "data": {
      "image/png": "[encoded data removed]",
      "image/svg+xml": "<?xml version=\"1.0\" encoding=\"utf-8\" standalone=\"no\"?>\r\n<!DOCTYPE svg PUBLIC \"-//W3C//DTD SVG 1.1//EN\"\r\n  \"http://www.w3.org/Graphics/SVG/1.1/DTD/svg11.dtd\">\r\n<svg height=\"248.518125pt\" version=\"1.1\" viewBox=\"0 0 381.65 248.518125\" width=\"381.65pt\" xmlns=\"http://www.w3.org/2000/svg\" xmlns:xlink=\"http://www.w3.org/1999/xlink\">\r\n <metadata>\r\n  <rdf:RDF xmlns:cc=\"http://creativecommons.org/ns#\" xmlns:dc=\"http://purl.org/dc/elements/1.1/\" xmlns:rdf=\"http://www.w3.org/1999/02/22-rdf-syntax-ns#\">\r\n   <cc:Work>\r\n    <dc:type rdf:resource=\"http://purl.org/dc/dcmitype/StillImage\"/>\r\n    <dc:date>2021-06-28T12:30:43.234205</dc:date>\r\n    <dc:format>image/svg+xml</dc:format>\r\n    <dc:creator>\r\n     <cc:Agent>\r\n      <dc:title>Matplotlib v3.4.1, https://matplotlib.org/</dc:title>\r\n     </cc:Agent>\r\n    </dc:creator>\r\n   </cc:Work>\r\n  </rdf:RDF>\r\n </metadata>\r\n <defs>\r\n  <style type=\"text/css\">*{stroke-linecap:butt;stroke-linejoin:round;}</style>\r\n </defs>\r\n <g id=\"figure_1\">\r\n  <g id=\"patch_1\">\r\n   <path d=\"M -0 248.518125 \r\nL 381.65 248.518125 \r\nL 381.65 0 \r\nL -0 0 \r\nz\r\n\" style=\"fill:none;\"/>\r\n  </g>\r\n  <g id=\"axes_1\">\r\n   <g id=\"patch_2\">\r\n    <path d=\"M 39.65 224.64 \r\nL 374.45 224.64 \r\nL 374.45 7.2 \r\nL 39.65 7.2 \r\nz\r\n\" style=\"fill:#ffffff;\"/>\r\n   </g>\r\n   <g id=\"patch_3\">\r\n    <path clip-path=\"url(#p6a23dc536d)\" d=\"M 54.868182 224.64 \r\nL 85.304545 224.64 \r\nL 85.304545 220.244922 \r\nL 54.868182 220.244922 \r\nz\r\n\" style=\"fill:#1f77b4;\"/>\r\n   </g>\r\n   <g id=\"patch_4\">\r\n    <path clip-path=\"url(#p6a23dc536d)\" d=\"M 85.304545 224.64 \r\nL 115.740909 224.64 \r\nL 115.740909 187.540375 \r\nL 85.304545 187.540375 \r\nz\r\n\" style=\"fill:#1f77b4;\"/>\r\n   </g>\r\n   <g id=\"patch_5\">\r\n    <path clip-path=\"url(#p6a23dc536d)\" d=\"M 115.740909 224.64 \r\nL 146.177273 224.64 \r\nL 146.177273 116.443531 \r\nL 115.740909 116.443531 \r\nz\r\n\" style=\"fill:#1f77b4;\"/>\r\n   </g>\r\n   <g id=\"patch_6\">\r\n    <path clip-path=\"url(#p6a23dc536d)\" d=\"M 146.177273 224.64 \r\nL 176.613636 224.64 \r\nL 176.613636 39.141873 \r\nL 146.177273 39.141873 \r\nz\r\n\" style=\"fill:#1f77b4;\"/>\r\n   </g>\r\n   <g id=\"patch_7\">\r\n    <path clip-path=\"url(#p6a23dc536d)\" d=\"M 176.613636 224.64 \r\nL 207.05 224.64 \r\nL 207.05 17.554286 \r\nL 176.613636 17.554286 \r\nz\r\n\" style=\"fill:#1f77b4;\"/>\r\n   </g>\r\n   <g id=\"patch_8\">\r\n    <path clip-path=\"url(#p6a23dc536d)\" d=\"M 207.05 224.64 \r\nL 237.486364 224.64 \r\nL 237.486364 65.124537 \r\nL 207.05 65.124537 \r\nz\r\n\" style=\"fill:#1f77b4;\"/>\r\n   </g>\r\n   <g id=\"patch_9\">\r\n    <path clip-path=\"url(#p6a23dc536d)\" d=\"M 237.486364 224.64 \r\nL 267.922727 224.64 \r\nL 267.922727 129.887298 \r\nL 237.486364 129.887298 \r\nz\r\n\" style=\"fill:#1f77b4;\"/>\r\n   </g>\r\n   <g id=\"patch_10\">\r\n    <path clip-path=\"url(#p6a23dc536d)\" d=\"M 267.922727 224.64 \r\nL 298.359091 224.64 \r\nL 298.359091 178.233151 \r\nL 267.922727 178.233151 \r\nz\r\n\" style=\"fill:#1f77b4;\"/>\r\n   </g>\r\n   <g id=\"patch_11\">\r\n    <path clip-path=\"url(#p6a23dc536d)\" d=\"M 298.359091 224.64 \r\nL 328.795455 224.64 \r\nL 328.795455 207.835292 \r\nL 298.359091 207.835292 \r\nz\r\n\" style=\"fill:#1f77b4;\"/>\r\n   </g>\r\n   <g id=\"patch_12\">\r\n    <path clip-path=\"url(#p6a23dc536d)\" d=\"M 328.795455 224.64 \r\nL 359.231818 224.64 \r\nL 359.231818 222.183927 \r\nL 328.795455 222.183927 \r\nz\r\n\" style=\"fill:#1f77b4;\"/>\r\n   </g>\r\n   <g id=\"matplotlib.axis_1\">\r\n    <g id=\"xtick_1\">\r\n     <g id=\"line2d_1\">\r\n      <defs>\r\n       <path d=\"M 0 0 \r\nL 0 3.5 \r\n\" id=\"md84a80e69f\" style=\"stroke:#000000;stroke-width:0.8;\"/>\r\n      </defs>\r\n      <g>\r\n       <use style=\"stroke:#000000;stroke-width:0.8;\" x=\"57.145071\" xlink:href=\"#md84a80e69f\" y=\"224.64\"/>\r\n      </g>\r\n     </g>\r\n     <g id=\"text_1\">\r\n      <!-- −0.75 -->\r\n      <g transform=\"translate(41.822414 239.238438)scale(0.1 -0.1)\">\r\n       <defs>\r\n        <path d=\"M 678 2272 \r\nL 4684 2272 \r\nL 4684 1741 \r\nL 678 1741 \r\nL 678 2272 \r\nz\r\n\" id=\"DejaVuSans-2212\" transform=\"scale(0.015625)\"/>\r\n        <path d=\"M 2034 4250 \r\nQ 1547 4250 1301 3770 \r\nQ 1056 3291 1056 2328 \r\nQ 1056 1369 1301 889 \r\nQ 1547 409 2034 409 \r\nQ 2525 409 2770 889 \r\nQ 3016 1369 3016 2328 \r\nQ 3016 3291 2770 3770 \r\nQ 2525 4250 2034 4250 \r\nz\r\nM 2034 4750 \r\nQ 2819 4750 3233 4129 \r\nQ 3647 3509 3647 2328 \r\nQ 3647 1150 3233 529 \r\nQ 2819 -91 2034 -91 \r\nQ 1250 -91 836 529 \r\nQ 422 1150 422 2328 \r\nQ 422 3509 836 4129 \r\nQ 1250 4750 2034 4750 \r\nz\r\n\" id=\"DejaVuSans-30\" transform=\"scale(0.015625)\"/>\r\n        <path d=\"M 684 794 \r\nL 1344 794 \r\nL 1344 0 \r\nL 684 0 \r\nL 684 794 \r\nz\r\n\" id=\"DejaVuSans-2e\" transform=\"scale(0.015625)\"/>\r\n        <path d=\"M 525 4666 \r\nL 3525 4666 \r\nL 3525 4397 \r\nL 1831 0 \r\nL 1172 0 \r\nL 2766 4134 \r\nL 525 4134 \r\nL 525 4666 \r\nz\r\n\" id=\"DejaVuSans-37\" transform=\"scale(0.015625)\"/>\r\n        <path d=\"M 691 4666 \r\nL 3169 4666 \r\nL 3169 4134 \r\nL 1269 4134 \r\nL 1269 2991 \r\nQ 1406 3038 1543 3061 \r\nQ 1681 3084 1819 3084 \r\nQ 2600 3084 3056 2656 \r\nQ 3513 2228 3513 1497 \r\nQ 3513 744 3044 326 \r\nQ 2575 -91 1722 -91 \r\nQ 1428 -91 1123 -41 \r\nQ 819 9 494 109 \r\nL 494 744 \r\nQ 775 591 1075 516 \r\nQ 1375 441 1709 441 \r\nQ 2250 441 2565 725 \r\nQ 2881 1009 2881 1497 \r\nQ 2881 1984 2565 2268 \r\nQ 2250 2553 1709 2553 \r\nQ 1456 2553 1204 2497 \r\nQ 953 2441 691 2322 \r\nL 691 4666 \r\nz\r\n\" id=\"DejaVuSans-35\" transform=\"scale(0.015625)\"/>\r\n       </defs>\r\n       <use xlink:href=\"#DejaVuSans-2212\"/>\r\n       <use x=\"83.789062\" xlink:href=\"#DejaVuSans-30\"/>\r\n       <use x=\"147.412109\" xlink:href=\"#DejaVuSans-2e\"/>\r\n       <use x=\"179.199219\" xlink:href=\"#DejaVuSans-37\"/>\r\n       <use x=\"242.822266\" xlink:href=\"#DejaVuSans-35\"/>\r\n      </g>\r\n     </g>\r\n    </g>\r\n    <g id=\"xtick_2\">\r\n     <g id=\"line2d_2\">\r\n      <g>\r\n       <use style=\"stroke:#000000;stroke-width:0.8;\" x=\"102.64399\" xlink:href=\"#md84a80e69f\" y=\"224.64\"/>\r\n      </g>\r\n     </g>\r\n     <g id=\"text_2\">\r\n      <!-- −0.50 -->\r\n      <g transform=\"translate(87.321334 239.238438)scale(0.1 -0.1)\">\r\n       <use xlink:href=\"#DejaVuSans-2212\"/>\r\n       <use x=\"83.789062\" xlink:href=\"#DejaVuSans-30\"/>\r\n       <use x=\"147.412109\" xlink:href=\"#DejaVuSans-2e\"/>\r\n       <use x=\"179.199219\" xlink:href=\"#DejaVuSans-35\"/>\r\n       <use x=\"242.822266\" xlink:href=\"#DejaVuSans-30\"/>\r\n      </g>\r\n     </g>\r\n    </g>\r\n    <g id=\"xtick_3\">\r\n     <g id=\"line2d_3\">\r\n      <g>\r\n       <use style=\"stroke:#000000;stroke-width:0.8;\" x=\"148.14291\" xlink:href=\"#md84a80e69f\" y=\"224.64\"/>\r\n      </g>\r\n     </g>\r\n     <g id=\"text_3\">\r\n      <!-- −0.25 -->\r\n      <g transform=\"translate(132.820254 239.238438)scale(0.1 -0.1)\">\r\n       <defs>\r\n        <path d=\"M 1228 531 \r\nL 3431 531 \r\nL 3431 0 \r\nL 469 0 \r\nL 469 531 \r\nQ 828 903 1448 1529 \r\nQ 2069 2156 2228 2338 \r\nQ 2531 2678 2651 2914 \r\nQ 2772 3150 2772 3378 \r\nQ 2772 3750 2511 3984 \r\nQ 2250 4219 1831 4219 \r\nQ 1534 4219 1204 4116 \r\nQ 875 4013 500 3803 \r\nL 500 4441 \r\nQ 881 4594 1212 4672 \r\nQ 1544 4750 1819 4750 \r\nQ 2544 4750 2975 4387 \r\nQ 3406 4025 3406 3419 \r\nQ 3406 3131 3298 2873 \r\nQ 3191 2616 2906 2266 \r\nQ 2828 2175 2409 1742 \r\nQ 1991 1309 1228 531 \r\nz\r\n\" id=\"DejaVuSans-32\" transform=\"scale(0.015625)\"/>\r\n       </defs>\r\n       <use xlink:href=\"#DejaVuSans-2212\"/>\r\n       <use x=\"83.789062\" xlink:href=\"#DejaVuSans-30\"/>\r\n       <use x=\"147.412109\" xlink:href=\"#DejaVuSans-2e\"/>\r\n       <use x=\"179.199219\" xlink:href=\"#DejaVuSans-32\"/>\r\n       <use x=\"242.822266\" xlink:href=\"#DejaVuSans-35\"/>\r\n      </g>\r\n     </g>\r\n    </g>\r\n    <g id=\"xtick_4\">\r\n     <g id=\"line2d_4\">\r\n      <g>\r\n       <use style=\"stroke:#000000;stroke-width:0.8;\" x=\"193.64183\" xlink:href=\"#md84a80e69f\" y=\"224.64\"/>\r\n      </g>\r\n     </g>\r\n     <g id=\"text_4\">\r\n      <!-- 0.00 -->\r\n      <g transform=\"translate(182.509018 239.238438)scale(0.1 -0.1)\">\r\n       <use xlink:href=\"#DejaVuSans-30\"/>\r\n       <use x=\"63.623047\" xlink:href=\"#DejaVuSans-2e\"/>\r\n       <use x=\"95.410156\" xlink:href=\"#DejaVuSans-30\"/>\r\n       <use x=\"159.033203\" xlink:href=\"#DejaVuSans-30\"/>\r\n      </g>\r\n     </g>\r\n    </g>\r\n    <g id=\"xtick_5\">\r\n     <g id=\"line2d_5\">\r\n      <g>\r\n       <use style=\"stroke:#000000;stroke-width:0.8;\" x=\"239.14075\" xlink:href=\"#md84a80e69f\" y=\"224.64\"/>\r\n      </g>\r\n     </g>\r\n     <g id=\"text_5\">\r\n      <!-- 0.25 -->\r\n      <g transform=\"translate(228.007937 239.238438)scale(0.1 -0.1)\">\r\n       <use xlink:href=\"#DejaVuSans-30\"/>\r\n       <use x=\"63.623047\" xlink:href=\"#DejaVuSans-2e\"/>\r\n       <use x=\"95.410156\" xlink:href=\"#DejaVuSans-32\"/>\r\n       <use x=\"159.033203\" xlink:href=\"#DejaVuSans-35\"/>\r\n      </g>\r\n     </g>\r\n    </g>\r\n    <g id=\"xtick_6\">\r\n     <g id=\"line2d_6\">\r\n      <g>\r\n       <use style=\"stroke:#000000;stroke-width:0.8;\" x=\"284.63967\" xlink:href=\"#md84a80e69f\" y=\"224.64\"/>\r\n      </g>\r\n     </g>\r\n     <g id=\"text_6\">\r\n      <!-- 0.50 -->\r\n      <g transform=\"translate(273.506857 239.238438)scale(0.1 -0.1)\">\r\n       <use xlink:href=\"#DejaVuSans-30\"/>\r\n       <use x=\"63.623047\" xlink:href=\"#DejaVuSans-2e\"/>\r\n       <use x=\"95.410156\" xlink:href=\"#DejaVuSans-35\"/>\r\n       <use x=\"159.033203\" xlink:href=\"#DejaVuSans-30\"/>\r\n      </g>\r\n     </g>\r\n    </g>\r\n    <g id=\"xtick_7\">\r\n     <g id=\"line2d_7\">\r\n      <g>\r\n       <use style=\"stroke:#000000;stroke-width:0.8;\" x=\"330.13859\" xlink:href=\"#md84a80e69f\" y=\"224.64\"/>\r\n      </g>\r\n     </g>\r\n     <g id=\"text_7\">\r\n      <!-- 0.75 -->\r\n      <g transform=\"translate(319.005777 239.238438)scale(0.1 -0.1)\">\r\n       <use xlink:href=\"#DejaVuSans-30\"/>\r\n       <use x=\"63.623047\" xlink:href=\"#DejaVuSans-2e\"/>\r\n       <use x=\"95.410156\" xlink:href=\"#DejaVuSans-37\"/>\r\n       <use x=\"159.033203\" xlink:href=\"#DejaVuSans-35\"/>\r\n      </g>\r\n     </g>\r\n    </g>\r\n   </g>\r\n   <g id=\"matplotlib.axis_2\">\r\n    <g id=\"ytick_1\">\r\n     <g id=\"line2d_8\">\r\n      <defs>\r\n       <path d=\"M 0 0 \r\nL -3.5 0 \r\n\" id=\"mf3ce7f8b0e\" style=\"stroke:#000000;stroke-width:0.8;\"/>\r\n      </defs>\r\n      <g>\r\n       <use style=\"stroke:#000000;stroke-width:0.8;\" x=\"39.65\" xlink:href=\"#mf3ce7f8b0e\" y=\"224.64\"/>\r\n      </g>\r\n     </g>\r\n     <g id=\"text_8\">\r\n      <!-- 0 -->\r\n      <g transform=\"translate(26.2875 228.439219)scale(0.1 -0.1)\">\r\n       <use xlink:href=\"#DejaVuSans-30\"/>\r\n      </g>\r\n     </g>\r\n    </g>\r\n    <g id=\"ytick_2\">\r\n     <g id=\"line2d_9\">\r\n      <g>\r\n       <use style=\"stroke:#000000;stroke-width:0.8;\" x=\"39.65\" xlink:href=\"#mf3ce7f8b0e\" y=\"198.786602\"/>\r\n      </g>\r\n     </g>\r\n     <g id=\"text_9\">\r\n      <!-- 200 -->\r\n      <g transform=\"translate(13.5625 202.585821)scale(0.1 -0.1)\">\r\n       <use xlink:href=\"#DejaVuSans-32\"/>\r\n       <use x=\"63.623047\" xlink:href=\"#DejaVuSans-30\"/>\r\n       <use x=\"127.246094\" xlink:href=\"#DejaVuSans-30\"/>\r\n      </g>\r\n     </g>\r\n    </g>\r\n    <g id=\"ytick_3\">\r\n     <g id=\"line2d_10\">\r\n      <g>\r\n       <use style=\"stroke:#000000;stroke-width:0.8;\" x=\"39.65\" xlink:href=\"#mf3ce7f8b0e\" y=\"172.933205\"/>\r\n      </g>\r\n     </g>\r\n     <g id=\"text_10\">\r\n      <!-- 400 -->\r\n      <g transform=\"translate(13.5625 176.732424)scale(0.1 -0.1)\">\r\n       <defs>\r\n        <path d=\"M 2419 4116 \r\nL 825 1625 \r\nL 2419 1625 \r\nL 2419 4116 \r\nz\r\nM 2253 4666 \r\nL 3047 4666 \r\nL 3047 1625 \r\nL 3713 1625 \r\nL 3713 1100 \r\nL 3047 1100 \r\nL 3047 0 \r\nL 2419 0 \r\nL 2419 1100 \r\nL 313 1100 \r\nL 313 1709 \r\nL 2253 4666 \r\nz\r\n\" id=\"DejaVuSans-34\" transform=\"scale(0.015625)\"/>\r\n       </defs>\r\n       <use xlink:href=\"#DejaVuSans-34\"/>\r\n       <use x=\"63.623047\" xlink:href=\"#DejaVuSans-30\"/>\r\n       <use x=\"127.246094\" xlink:href=\"#DejaVuSans-30\"/>\r\n      </g>\r\n     </g>\r\n    </g>\r\n    <g id=\"ytick_4\">\r\n     <g id=\"line2d_11\">\r\n      <g>\r\n       <use style=\"stroke:#000000;stroke-width:0.8;\" x=\"39.65\" xlink:href=\"#mf3ce7f8b0e\" y=\"147.079807\"/>\r\n      </g>\r\n     </g>\r\n     <g id=\"text_11\">\r\n      <!-- 600 -->\r\n      <g transform=\"translate(13.5625 150.879026)scale(0.1 -0.1)\">\r\n       <defs>\r\n        <path d=\"M 2113 2584 \r\nQ 1688 2584 1439 2293 \r\nQ 1191 2003 1191 1497 \r\nQ 1191 994 1439 701 \r\nQ 1688 409 2113 409 \r\nQ 2538 409 2786 701 \r\nQ 3034 994 3034 1497 \r\nQ 3034 2003 2786 2293 \r\nQ 2538 2584 2113 2584 \r\nz\r\nM 3366 4563 \r\nL 3366 3988 \r\nQ 3128 4100 2886 4159 \r\nQ 2644 4219 2406 4219 \r\nQ 1781 4219 1451 3797 \r\nQ 1122 3375 1075 2522 \r\nQ 1259 2794 1537 2939 \r\nQ 1816 3084 2150 3084 \r\nQ 2853 3084 3261 2657 \r\nQ 3669 2231 3669 1497 \r\nQ 3669 778 3244 343 \r\nQ 2819 -91 2113 -91 \r\nQ 1303 -91 875 529 \r\nQ 447 1150 447 2328 \r\nQ 447 3434 972 4092 \r\nQ 1497 4750 2381 4750 \r\nQ 2619 4750 2861 4703 \r\nQ 3103 4656 3366 4563 \r\nz\r\n\" id=\"DejaVuSans-36\" transform=\"scale(0.015625)\"/>\r\n       </defs>\r\n       <use xlink:href=\"#DejaVuSans-36\"/>\r\n       <use x=\"63.623047\" xlink:href=\"#DejaVuSans-30\"/>\r\n       <use x=\"127.246094\" xlink:href=\"#DejaVuSans-30\"/>\r\n      </g>\r\n     </g>\r\n    </g>\r\n    <g id=\"ytick_5\">\r\n     <g id=\"line2d_12\">\r\n      <g>\r\n       <use style=\"stroke:#000000;stroke-width:0.8;\" x=\"39.65\" xlink:href=\"#mf3ce7f8b0e\" y=\"121.22641\"/>\r\n      </g>\r\n     </g>\r\n     <g id=\"text_12\">\r\n      <!-- 800 -->\r\n      <g transform=\"translate(13.5625 125.025629)scale(0.1 -0.1)\">\r\n       <defs>\r\n        <path d=\"M 2034 2216 \r\nQ 1584 2216 1326 1975 \r\nQ 1069 1734 1069 1313 \r\nQ 1069 891 1326 650 \r\nQ 1584 409 2034 409 \r\nQ 2484 409 2743 651 \r\nQ 3003 894 3003 1313 \r\nQ 3003 1734 2745 1975 \r\nQ 2488 2216 2034 2216 \r\nz\r\nM 1403 2484 \r\nQ 997 2584 770 2862 \r\nQ 544 3141 544 3541 \r\nQ 544 4100 942 4425 \r\nQ 1341 4750 2034 4750 \r\nQ 2731 4750 3128 4425 \r\nQ 3525 4100 3525 3541 \r\nQ 3525 3141 3298 2862 \r\nQ 3072 2584 2669 2484 \r\nQ 3125 2378 3379 2068 \r\nQ 3634 1759 3634 1313 \r\nQ 3634 634 3220 271 \r\nQ 2806 -91 2034 -91 \r\nQ 1263 -91 848 271 \r\nQ 434 634 434 1313 \r\nQ 434 1759 690 2068 \r\nQ 947 2378 1403 2484 \r\nz\r\nM 1172 3481 \r\nQ 1172 3119 1398 2916 \r\nQ 1625 2713 2034 2713 \r\nQ 2441 2713 2670 2916 \r\nQ 2900 3119 2900 3481 \r\nQ 2900 3844 2670 4047 \r\nQ 2441 4250 2034 4250 \r\nQ 1625 4250 1398 4047 \r\nQ 1172 3844 1172 3481 \r\nz\r\n\" id=\"DejaVuSans-38\" transform=\"scale(0.015625)\"/>\r\n       </defs>\r\n       <use xlink:href=\"#DejaVuSans-38\"/>\r\n       <use x=\"63.623047\" xlink:href=\"#DejaVuSans-30\"/>\r\n       <use x=\"127.246094\" xlink:href=\"#DejaVuSans-30\"/>\r\n      </g>\r\n     </g>\r\n    </g>\r\n    <g id=\"ytick_6\">\r\n     <g id=\"line2d_13\">\r\n      <g>\r\n       <use style=\"stroke:#000000;stroke-width:0.8;\" x=\"39.65\" xlink:href=\"#mf3ce7f8b0e\" y=\"95.373012\"/>\r\n      </g>\r\n     </g>\r\n     <g id=\"text_13\">\r\n      <!-- 1000 -->\r\n      <g transform=\"translate(7.2 99.172231)scale(0.1 -0.1)\">\r\n       <defs>\r\n        <path d=\"M 794 531 \r\nL 1825 531 \r\nL 1825 4091 \r\nL 703 3866 \r\nL 703 4441 \r\nL 1819 4666 \r\nL 2450 4666 \r\nL 2450 531 \r\nL 3481 531 \r\nL 3481 0 \r\nL 794 0 \r\nL 794 531 \r\nz\r\n\" id=\"DejaVuSans-31\" transform=\"scale(0.015625)\"/>\r\n       </defs>\r\n       <use xlink:href=\"#DejaVuSans-31\"/>\r\n       <use x=\"63.623047\" xlink:href=\"#DejaVuSans-30\"/>\r\n       <use x=\"127.246094\" xlink:href=\"#DejaVuSans-30\"/>\r\n       <use x=\"190.869141\" xlink:href=\"#DejaVuSans-30\"/>\r\n      </g>\r\n     </g>\r\n    </g>\r\n    <g id=\"ytick_7\">\r\n     <g id=\"line2d_14\">\r\n      <g>\r\n       <use style=\"stroke:#000000;stroke-width:0.8;\" x=\"39.65\" xlink:href=\"#mf3ce7f8b0e\" y=\"69.519615\"/>\r\n      </g>\r\n     </g>\r\n     <g id=\"text_14\">\r\n      <!-- 1200 -->\r\n      <g transform=\"translate(7.2 73.318834)scale(0.1 -0.1)\">\r\n       <use xlink:href=\"#DejaVuSans-31\"/>\r\n       <use x=\"63.623047\" xlink:href=\"#DejaVuSans-32\"/>\r\n       <use x=\"127.246094\" xlink:href=\"#DejaVuSans-30\"/>\r\n       <use x=\"190.869141\" xlink:href=\"#DejaVuSans-30\"/>\r\n      </g>\r\n     </g>\r\n    </g>\r\n    <g id=\"ytick_8\">\r\n     <g id=\"line2d_15\">\r\n      <g>\r\n       <use style=\"stroke:#000000;stroke-width:0.8;\" x=\"39.65\" xlink:href=\"#mf3ce7f8b0e\" y=\"43.666217\"/>\r\n      </g>\r\n     </g>\r\n     <g id=\"text_15\">\r\n      <!-- 1400 -->\r\n      <g transform=\"translate(7.2 47.465436)scale(0.1 -0.1)\">\r\n       <use xlink:href=\"#DejaVuSans-31\"/>\r\n       <use x=\"63.623047\" xlink:href=\"#DejaVuSans-34\"/>\r\n       <use x=\"127.246094\" xlink:href=\"#DejaVuSans-30\"/>\r\n       <use x=\"190.869141\" xlink:href=\"#DejaVuSans-30\"/>\r\n      </g>\r\n     </g>\r\n    </g>\r\n    <g id=\"ytick_9\">\r\n     <g id=\"line2d_16\">\r\n      <g>\r\n       <use style=\"stroke:#000000;stroke-width:0.8;\" x=\"39.65\" xlink:href=\"#mf3ce7f8b0e\" y=\"17.81282\"/>\r\n      </g>\r\n     </g>\r\n     <g id=\"text_16\">\r\n      <!-- 1600 -->\r\n      <g transform=\"translate(7.2 21.612038)scale(0.1 -0.1)\">\r\n       <use xlink:href=\"#DejaVuSans-31\"/>\r\n       <use x=\"63.623047\" xlink:href=\"#DejaVuSans-36\"/>\r\n       <use x=\"127.246094\" xlink:href=\"#DejaVuSans-30\"/>\r\n       <use x=\"190.869141\" xlink:href=\"#DejaVuSans-30\"/>\r\n      </g>\r\n     </g>\r\n    </g>\r\n   </g>\r\n   <g id=\"patch_13\">\r\n    <path d=\"M 39.65 224.64 \r\nL 39.65 7.2 \r\n\" style=\"fill:none;stroke:#000000;stroke-linecap:square;stroke-linejoin:miter;stroke-width:0.8;\"/>\r\n   </g>\r\n   <g id=\"patch_14\">\r\n    <path d=\"M 374.45 224.64 \r\nL 374.45 7.2 \r\n\" style=\"fill:none;stroke:#000000;stroke-linecap:square;stroke-linejoin:miter;stroke-width:0.8;\"/>\r\n   </g>\r\n   <g id=\"patch_15\">\r\n    <path d=\"M 39.65 224.64 \r\nL 374.45 224.64 \r\n\" style=\"fill:none;stroke:#000000;stroke-linecap:square;stroke-linejoin:miter;stroke-width:0.8;\"/>\r\n   </g>\r\n   <g id=\"patch_16\">\r\n    <path d=\"M 39.65 7.2 \r\nL 374.45 7.2 \r\n\" style=\"fill:none;stroke:#000000;stroke-linecap:square;stroke-linejoin:miter;stroke-width:0.8;\"/>\r\n   </g>\r\n  </g>\r\n </g>\r\n <defs>\r\n  <clipPath id=\"p6a23dc536d\">\r\n   <rect height=\"217.44\" width=\"334.8\" x=\"39.65\" y=\"7.2\"/>\r\n  </clipPath>\r\n </defs>\r\n</svg>\r\n",
      "text/plain": [
       "<Figure size 432x288 with 1 Axes>"
      ]
     },
     "metadata": {
      "needs_background": "light"
     },
     "output_type": "display_data"
    }
   ],
   "source": [
    "plt.hist(new_test.iloc[0,3:]);"
   ]
  },
  {
   "cell_type": "code",
   "execution_count": 470,
   "metadata": {},
   "outputs": [],
   "source": [
    "y_pred_test=svr_reg.predict(test_final_df)"
   ]
  },
  {
   "cell_type": "code",
   "execution_count": 471,
   "metadata": {},
   "outputs": [
    {
     "data": {
      "text/plain": [
       "(array([ 1.,  2.,  3., 13., 30., 55., 50., 28.,  8.,  9.]),\n",
       " array([ 84.32176697,  88.23334536,  92.14492375,  96.05650214,\n",
       "         99.96808053, 103.87965892, 107.79123731, 111.7028157 ,\n",
       "        115.61439409, 119.52597248, 123.43755087]),\n",
       " <BarContainer object of 10 artists>)"
      ]
     },
     "execution_count": 471,
     "metadata": {},
     "output_type": "execute_result"
    },
    {
     "data": {
      "image/png": "[encoded data removed]",
      "text/plain": [
       "<Figure size 432x288 with 1 Axes>"
      ]
     },
     "metadata": {
      "needs_background": "light"
     },
     "output_type": "display_data"
    }
   ],
   "source": [
    "plt.hist(y_pred_test)"
   ]
  },
  {
   "cell_type": "code",
   "execution_count": 472,
   "metadata": {},
   "outputs": [
    {
     "data": {
      "text/plain": [
       "123.43755086660097"
      ]
     },
     "execution_count": 472,
     "metadata": {},
     "output_type": "execute_result"
    }
   ],
   "source": [
    "y_pred_test.max()"
   ]
  },
  {
   "cell_type": "code",
   "execution_count": 473,
   "metadata": {},
   "outputs": [
    {
     "data": {
      "text/plain": [
       "array([105.0933772 , 107.32378816, 115.49033842, 106.95351601,\n",
       "       108.68601748, 108.66183987,  93.91939329, 111.62311321,\n",
       "       112.79841041, 108.28122656, 104.58357781, 106.50563636,\n",
       "       108.78377609, 115.3393615 , 105.97739503, 110.81183132,\n",
       "       112.9811967 , 108.15070234, 107.52130063, 111.89803486,\n",
       "       112.06182492, 115.20955042, 121.82369062, 113.56303614,\n",
       "        96.91116447, 112.66924749, 113.33237292, 118.68601406,\n",
       "       108.03940067, 108.05462311, 107.27461557, 113.94775108,\n",
       "       104.02702798, 119.81327851, 119.5847305 , 123.43755087,\n",
       "       103.62726141,  98.25139742, 109.1607853 , 101.40010123,\n",
       "       112.45120901,  99.17614486, 114.60405262, 107.75087159,\n",
       "       102.7108368 , 107.1777445 , 117.4771024 , 108.13420664,\n",
       "       108.2008809 , 105.58219666,  84.32176697, 105.54043401,\n",
       "       105.19953487, 110.18738189,  91.51478929, 110.47556482,\n",
       "       111.69723799, 107.64180191, 106.32480255, 107.3195824 ,\n",
       "       107.14951527, 105.50285284, 111.07959196, 112.43430583,\n",
       "       106.32095457, 108.59114143, 106.03240642, 109.32092463,\n",
       "       102.08730236,  99.16560543, 104.68999716, 107.49734773,\n",
       "       104.20770807, 116.61888303, 107.910239  , 111.48058053,\n",
       "       105.55415293, 108.12322678,  98.69208819, 103.57861996,\n",
       "       108.11634077, 104.89562309,  90.67146975, 110.15806562,\n",
       "       100.45321331, 104.78680974,  94.92958347, 103.16414694,\n",
       "       107.86690562,  96.64963352, 100.18845176,  97.40074443,\n",
       "        98.34818556, 105.87346543, 113.22231753, 121.6923068 ,\n",
       "       123.00201863, 102.47686011, 112.05746301, 120.8159152 ,\n",
       "       108.95513044, 112.68550612, 104.30411521, 102.03215898,\n",
       "       109.79776849, 118.45856742, 109.58309366, 105.29399733,\n",
       "       107.47769892, 107.51529213, 103.00906643, 106.09793002,\n",
       "       105.39340463, 117.44157303, 121.30652089, 114.66385228,\n",
       "       116.79059857, 110.81245178, 103.294334  , 106.71172072,\n",
       "       101.00743241, 102.87866702, 106.51455499, 110.57385856,\n",
       "       106.13875955, 119.02325577, 105.41896547, 102.43738056,\n",
       "       104.25070737, 108.22305272, 108.06033197, 104.33574118,\n",
       "       109.67259897, 108.43143675, 106.88664148, 112.40844646,\n",
       "       111.72902444, 104.22982922, 110.19192074, 108.52091496,\n",
       "       108.55155791, 113.94213329, 109.51608062, 109.85648051,\n",
       "       111.794587  , 102.33943744, 101.67044929, 109.60844986,\n",
       "       113.07443784, 117.54847238,  97.58922107, 108.38207872,\n",
       "        98.14864174, 109.7833841 , 113.88528347, 114.03133796,\n",
       "       103.5817959 , 103.34744749, 103.83096395, 111.19639708,\n",
       "       102.58384114, 105.89805067, 104.53279417, 112.56684842,\n",
       "       102.20611647, 105.11191353, 103.21433138, 105.90160217,\n",
       "        99.29595994, 109.70185351, 108.90618416, 107.39505635,\n",
       "       103.15171155, 102.04509484,  95.25731468, 102.15912772,\n",
       "       101.23063256, 105.69070906, 105.5558045 , 107.5444471 ,\n",
       "       111.23624724, 105.34839902, 104.61773267, 101.63684593,\n",
       "       109.81919792,  98.59378357, 104.13381479, 103.47981761,\n",
       "       110.67400234, 104.8133345 ,  98.6263478 , 108.19118711,\n",
       "       121.52532596, 113.2177584 , 115.17638855, 100.53857757,\n",
       "       106.55200818, 110.86477723, 110.70154284])"
      ]
     },
     "execution_count": 473,
     "metadata": {},
     "output_type": "execute_result"
    }
   ],
   "source": [
    "y_pred_test"
   ]
  },
  {
   "cell_type": "code",
   "execution_count": 469,
   "metadata": {},
   "outputs": [
    {
     "ename": "ValueError",
     "evalue": "Data must be 1-dimensional",
     "output_type": "error",
     "traceback": [
      "\u001b[1;31m---------------------------------------------------------------------------\u001b[0m",
      "\u001b[1;31mValueError\u001b[0m                                Traceback (most recent call last)",
      "\u001b[1;32m<ipython-input-469-373716f47f40>\u001b[0m in \u001b[0;36m<module>\u001b[1;34m\u001b[0m\n\u001b[1;32m----> 1\u001b[1;33m \u001b[0mdf_leaderboard\u001b[0m\u001b[1;33m=\u001b[0m\u001b[0mpd\u001b[0m\u001b[1;33m.\u001b[0m\u001b[0mDataFrame\u001b[0m\u001b[1;33m(\u001b[0m\u001b[1;33m{\u001b[0m\u001b[1;34m'id'\u001b[0m\u001b[1;33m:\u001b[0m\u001b[0mtest_df\u001b[0m\u001b[1;33m[\u001b[0m\u001b[1;34m'id'\u001b[0m\u001b[1;33m]\u001b[0m\u001b[1;33m,\u001b[0m\u001b[1;34m'target'\u001b[0m\u001b[1;33m:\u001b[0m\u001b[0my_pred_test\u001b[0m\u001b[1;33m}\u001b[0m\u001b[1;33m)\u001b[0m\u001b[1;33m\u001b[0m\u001b[1;33m\u001b[0m\u001b[0m\n\u001b[0m",
      "\u001b[1;32m~\\AppData\\Local\\Programs\\Python\\Python39\\lib\\site-packages\\pandas\\core\\frame.py\u001b[0m in \u001b[0;36m__init__\u001b[1;34m(self, data, index, columns, dtype, copy)\u001b[0m\n\u001b[0;32m    527\u001b[0m \u001b[1;33m\u001b[0m\u001b[0m\n\u001b[0;32m    528\u001b[0m         \u001b[1;32melif\u001b[0m \u001b[0misinstance\u001b[0m\u001b[1;33m(\u001b[0m\u001b[0mdata\u001b[0m\u001b[1;33m,\u001b[0m \u001b[0mdict\u001b[0m\u001b[1;33m)\u001b[0m\u001b[1;33m:\u001b[0m\u001b[1;33m\u001b[0m\u001b[1;33m\u001b[0m\u001b[0m\n\u001b[1;32m--> 529\u001b[1;33m             \u001b[0mmgr\u001b[0m \u001b[1;33m=\u001b[0m \u001b[0minit_dict\u001b[0m\u001b[1;33m(\u001b[0m\u001b[0mdata\u001b[0m\u001b[1;33m,\u001b[0m \u001b[0mindex\u001b[0m\u001b[1;33m,\u001b[0m \u001b[0mcolumns\u001b[0m\u001b[1;33m,\u001b[0m \u001b[0mdtype\u001b[0m\u001b[1;33m=\u001b[0m\u001b[0mdtype\u001b[0m\u001b[1;33m)\u001b[0m\u001b[1;33m\u001b[0m\u001b[1;33m\u001b[0m\u001b[0m\n\u001b[0m\u001b[0;32m    530\u001b[0m         \u001b[1;32melif\u001b[0m \u001b[0misinstance\u001b[0m\u001b[1;33m(\u001b[0m\u001b[0mdata\u001b[0m\u001b[1;33m,\u001b[0m \u001b[0mma\u001b[0m\u001b[1;33m.\u001b[0m\u001b[0mMaskedArray\u001b[0m\u001b[1;33m)\u001b[0m\u001b[1;33m:\u001b[0m\u001b[1;33m\u001b[0m\u001b[1;33m\u001b[0m\u001b[0m\n\u001b[0;32m    531\u001b[0m             \u001b[1;32mimport\u001b[0m \u001b[0mnumpy\u001b[0m\u001b[1;33m.\u001b[0m\u001b[0mma\u001b[0m\u001b[1;33m.\u001b[0m\u001b[0mmrecords\u001b[0m \u001b[1;32mas\u001b[0m \u001b[0mmrecords\u001b[0m\u001b[1;33m\u001b[0m\u001b[1;33m\u001b[0m\u001b[0m\n",
      "\u001b[1;32m~\\AppData\\Local\\Programs\\Python\\Python39\\lib\\site-packages\\pandas\\core\\internals\\construction.py\u001b[0m in \u001b[0;36minit_dict\u001b[1;34m(data, index, columns, dtype)\u001b[0m\n\u001b[0;32m    285\u001b[0m             \u001b[0marr\u001b[0m \u001b[1;32mif\u001b[0m \u001b[1;32mnot\u001b[0m \u001b[0mis_datetime64tz_dtype\u001b[0m\u001b[1;33m(\u001b[0m\u001b[0marr\u001b[0m\u001b[1;33m)\u001b[0m \u001b[1;32melse\u001b[0m \u001b[0marr\u001b[0m\u001b[1;33m.\u001b[0m\u001b[0mcopy\u001b[0m\u001b[1;33m(\u001b[0m\u001b[1;33m)\u001b[0m \u001b[1;32mfor\u001b[0m \u001b[0marr\u001b[0m \u001b[1;32min\u001b[0m \u001b[0marrays\u001b[0m\u001b[1;33m\u001b[0m\u001b[1;33m\u001b[0m\u001b[0m\n\u001b[0;32m    286\u001b[0m         ]\n\u001b[1;32m--> 287\u001b[1;33m     \u001b[1;32mreturn\u001b[0m \u001b[0marrays_to_mgr\u001b[0m\u001b[1;33m(\u001b[0m\u001b[0marrays\u001b[0m\u001b[1;33m,\u001b[0m \u001b[0mdata_names\u001b[0m\u001b[1;33m,\u001b[0m \u001b[0mindex\u001b[0m\u001b[1;33m,\u001b[0m \u001b[0mcolumns\u001b[0m\u001b[1;33m,\u001b[0m \u001b[0mdtype\u001b[0m\u001b[1;33m=\u001b[0m\u001b[0mdtype\u001b[0m\u001b[1;33m)\u001b[0m\u001b[1;33m\u001b[0m\u001b[1;33m\u001b[0m\u001b[0m\n\u001b[0m\u001b[0;32m    288\u001b[0m \u001b[1;33m\u001b[0m\u001b[0m\n\u001b[0;32m    289\u001b[0m \u001b[1;33m\u001b[0m\u001b[0m\n",
      "\u001b[1;32m~\\AppData\\Local\\Programs\\Python\\Python39\\lib\\site-packages\\pandas\\core\\internals\\construction.py\u001b[0m in \u001b[0;36marrays_to_mgr\u001b[1;34m(arrays, arr_names, index, columns, dtype, verify_integrity)\u001b[0m\n\u001b[0;32m     83\u001b[0m \u001b[1;33m\u001b[0m\u001b[0m\n\u001b[0;32m     84\u001b[0m         \u001b[1;31m# don't force copy because getting jammed in an ndarray anyway\u001b[0m\u001b[1;33m\u001b[0m\u001b[1;33m\u001b[0m\u001b[1;33m\u001b[0m\u001b[0m\n\u001b[1;32m---> 85\u001b[1;33m         \u001b[0marrays\u001b[0m \u001b[1;33m=\u001b[0m \u001b[0m_homogenize\u001b[0m\u001b[1;33m(\u001b[0m\u001b[0marrays\u001b[0m\u001b[1;33m,\u001b[0m \u001b[0mindex\u001b[0m\u001b[1;33m,\u001b[0m \u001b[0mdtype\u001b[0m\u001b[1;33m)\u001b[0m\u001b[1;33m\u001b[0m\u001b[1;33m\u001b[0m\u001b[0m\n\u001b[0m\u001b[0;32m     86\u001b[0m \u001b[1;33m\u001b[0m\u001b[0m\n\u001b[0;32m     87\u001b[0m         \u001b[0mcolumns\u001b[0m \u001b[1;33m=\u001b[0m \u001b[0mensure_index\u001b[0m\u001b[1;33m(\u001b[0m\u001b[0mcolumns\u001b[0m\u001b[1;33m)\u001b[0m\u001b[1;33m\u001b[0m\u001b[1;33m\u001b[0m\u001b[0m\n",
      "\u001b[1;32m~\\AppData\\Local\\Programs\\Python\\Python39\\lib\\site-packages\\pandas\\core\\internals\\construction.py\u001b[0m in \u001b[0;36m_homogenize\u001b[1;34m(data, index, dtype)\u001b[0m\n\u001b[0;32m    353\u001b[0m                     \u001b[0mval\u001b[0m \u001b[1;33m=\u001b[0m \u001b[0mdict\u001b[0m\u001b[1;33m(\u001b[0m\u001b[0mval\u001b[0m\u001b[1;33m)\u001b[0m\u001b[1;33m\u001b[0m\u001b[1;33m\u001b[0m\u001b[0m\n\u001b[0;32m    354\u001b[0m                 \u001b[0mval\u001b[0m \u001b[1;33m=\u001b[0m \u001b[0mlib\u001b[0m\u001b[1;33m.\u001b[0m\u001b[0mfast_multiget\u001b[0m\u001b[1;33m(\u001b[0m\u001b[0mval\u001b[0m\u001b[1;33m,\u001b[0m \u001b[0moindex\u001b[0m\u001b[1;33m.\u001b[0m\u001b[0m_values\u001b[0m\u001b[1;33m,\u001b[0m \u001b[0mdefault\u001b[0m\u001b[1;33m=\u001b[0m\u001b[0mnp\u001b[0m\u001b[1;33m.\u001b[0m\u001b[0mnan\u001b[0m\u001b[1;33m)\u001b[0m\u001b[1;33m\u001b[0m\u001b[1;33m\u001b[0m\u001b[0m\n\u001b[1;32m--> 355\u001b[1;33m             val = sanitize_array(\n\u001b[0m\u001b[0;32m    356\u001b[0m                 \u001b[0mval\u001b[0m\u001b[1;33m,\u001b[0m \u001b[0mindex\u001b[0m\u001b[1;33m,\u001b[0m \u001b[0mdtype\u001b[0m\u001b[1;33m=\u001b[0m\u001b[0mdtype\u001b[0m\u001b[1;33m,\u001b[0m \u001b[0mcopy\u001b[0m\u001b[1;33m=\u001b[0m\u001b[1;32mFalse\u001b[0m\u001b[1;33m,\u001b[0m \u001b[0mraise_cast_failure\u001b[0m\u001b[1;33m=\u001b[0m\u001b[1;32mFalse\u001b[0m\u001b[1;33m\u001b[0m\u001b[1;33m\u001b[0m\u001b[0m\n\u001b[0;32m    357\u001b[0m             )\n",
      "\u001b[1;32m~\\AppData\\Local\\Programs\\Python\\Python39\\lib\\site-packages\\pandas\\core\\construction.py\u001b[0m in \u001b[0;36msanitize_array\u001b[1;34m(data, index, dtype, copy, raise_cast_failure)\u001b[0m\n\u001b[0;32m    527\u001b[0m     \u001b[1;32melif\u001b[0m \u001b[0msubarr\u001b[0m\u001b[1;33m.\u001b[0m\u001b[0mndim\u001b[0m \u001b[1;33m>\u001b[0m \u001b[1;36m1\u001b[0m\u001b[1;33m:\u001b[0m\u001b[1;33m\u001b[0m\u001b[1;33m\u001b[0m\u001b[0m\n\u001b[0;32m    528\u001b[0m         \u001b[1;32mif\u001b[0m \u001b[0misinstance\u001b[0m\u001b[1;33m(\u001b[0m\u001b[0mdata\u001b[0m\u001b[1;33m,\u001b[0m \u001b[0mnp\u001b[0m\u001b[1;33m.\u001b[0m\u001b[0mndarray\u001b[0m\u001b[1;33m)\u001b[0m\u001b[1;33m:\u001b[0m\u001b[1;33m\u001b[0m\u001b[1;33m\u001b[0m\u001b[0m\n\u001b[1;32m--> 529\u001b[1;33m             \u001b[1;32mraise\u001b[0m \u001b[0mValueError\u001b[0m\u001b[1;33m(\u001b[0m\u001b[1;34m\"Data must be 1-dimensional\"\u001b[0m\u001b[1;33m)\u001b[0m\u001b[1;33m\u001b[0m\u001b[1;33m\u001b[0m\u001b[0m\n\u001b[0m\u001b[0;32m    530\u001b[0m         \u001b[1;32melse\u001b[0m\u001b[1;33m:\u001b[0m\u001b[1;33m\u001b[0m\u001b[1;33m\u001b[0m\u001b[0m\n\u001b[0;32m    531\u001b[0m             \u001b[0msubarr\u001b[0m \u001b[1;33m=\u001b[0m \u001b[0mcom\u001b[0m\u001b[1;33m.\u001b[0m\u001b[0masarray_tuplesafe\u001b[0m\u001b[1;33m(\u001b[0m\u001b[0mdata\u001b[0m\u001b[1;33m,\u001b[0m \u001b[0mdtype\u001b[0m\u001b[1;33m=\u001b[0m\u001b[0mdtype\u001b[0m\u001b[1;33m)\u001b[0m\u001b[1;33m\u001b[0m\u001b[1;33m\u001b[0m\u001b[0m\n",
      "\u001b[1;31mValueError\u001b[0m: Data must be 1-dimensional"
     ]
    }
   ],
   "source": [
    "df_leaderboard=pd.DataFrame({'id':test_df['id'],'target':y_pred_test})"
   ]
  },
  {
   "cell_type": "code",
   "execution_count": 436,
   "metadata": {},
   "outputs": [
    {
     "data": {
      "text/html": [
       "<div>\n",
       "<style scoped>\n",
       "    .dataframe tbody tr th:only-of-type {\n",
       "        vertical-align: middle;\n",
       "    }\n",
       "\n",
       "    .dataframe tbody tr th {\n",
       "        vertical-align: top;\n",
       "    }\n",
       "\n",
       "    .dataframe thead th {\n",
       "        text-align: right;\n",
       "    }\n",
       "</style>\n",
       "<table border=\"1\" class=\"dataframe\">\n",
       "  <thead>\n",
       "    <tr style=\"text-align: right;\">\n",
       "      <th></th>\n",
       "      <th>id</th>\n",
       "      <th>target</th>\n",
       "    </tr>\n",
       "  </thead>\n",
       "  <tbody>\n",
       "    <tr>\n",
       "      <th>0</th>\n",
       "      <td>17</td>\n",
       "      <td>105.093377</td>\n",
       "    </tr>\n",
       "    <tr>\n",
       "      <th>1</th>\n",
       "      <td>19</td>\n",
       "      <td>107.323788</td>\n",
       "    </tr>\n",
       "    <tr>\n",
       "      <th>2</th>\n",
       "      <td>25</td>\n",
       "      <td>115.490338</td>\n",
       "    </tr>\n",
       "    <tr>\n",
       "      <th>3</th>\n",
       "      <td>32</td>\n",
       "      <td>106.953516</td>\n",
       "    </tr>\n",
       "    <tr>\n",
       "      <th>4</th>\n",
       "      <td>33</td>\n",
       "      <td>108.686017</td>\n",
       "    </tr>\n",
       "    <tr>\n",
       "      <th>...</th>\n",
       "      <td>...</td>\n",
       "      <td>...</td>\n",
       "    </tr>\n",
       "    <tr>\n",
       "      <th>194</th>\n",
       "      <td>777</td>\n",
       "      <td>115.176389</td>\n",
       "    </tr>\n",
       "    <tr>\n",
       "      <th>195</th>\n",
       "      <td>783</td>\n",
       "      <td>100.538578</td>\n",
       "    </tr>\n",
       "    <tr>\n",
       "      <th>196</th>\n",
       "      <td>784</td>\n",
       "      <td>106.552008</td>\n",
       "    </tr>\n",
       "    <tr>\n",
       "      <th>197</th>\n",
       "      <td>792</td>\n",
       "      <td>110.864777</td>\n",
       "    </tr>\n",
       "    <tr>\n",
       "      <th>198</th>\n",
       "      <td>796</td>\n",
       "      <td>110.701543</td>\n",
       "    </tr>\n",
       "  </tbody>\n",
       "</table>\n",
       "<p>199 rows × 2 columns</p>\n",
       "</div>"
      ],
      "text/plain": [
       "      id      target\n",
       "0     17  105.093377\n",
       "1     19  107.323788\n",
       "2     25  115.490338\n",
       "3     32  106.953516\n",
       "4     33  108.686017\n",
       "..   ...         ...\n",
       "194  777  115.176389\n",
       "195  783  100.538578\n",
       "196  784  106.552008\n",
       "197  792  110.864777\n",
       "198  796  110.701543\n",
       "\n",
       "[199 rows x 2 columns]"
      ]
     },
     "execution_count": 436,
     "metadata": {},
     "output_type": "execute_result"
    }
   ],
   "source": [
    "df_leaderboard"
   ]
  },
  {
   "cell_type": "code",
   "execution_count": 44,
   "metadata": {},
   "outputs": [
    {
     "data": {
      "text/html": [
       "<div>\n",
       "<style scoped>\n",
       "    .dataframe tbody tr th:only-of-type {\n",
       "        vertical-align: middle;\n",
       "    }\n",
       "\n",
       "    .dataframe tbody tr th {\n",
       "        vertical-align: top;\n",
       "    }\n",
       "\n",
       "    .dataframe thead th {\n",
       "        text-align: right;\n",
       "    }\n",
       "</style>\n",
       "<table border=\"1\" class=\"dataframe\">\n",
       "  <thead>\n",
       "    <tr style=\"text-align: right;\">\n",
       "      <th></th>\n",
       "      <th>id</th>\n",
       "      <th>target</th>\n",
       "    </tr>\n",
       "  </thead>\n",
       "  <tbody>\n",
       "    <tr>\n",
       "      <th>0</th>\n",
       "      <td>17</td>\n",
       "      <td>110.158718</td>\n",
       "    </tr>\n",
       "    <tr>\n",
       "      <th>1</th>\n",
       "      <td>19</td>\n",
       "      <td>107.920292</td>\n",
       "    </tr>\n",
       "    <tr>\n",
       "      <th>2</th>\n",
       "      <td>25</td>\n",
       "      <td>108.159483</td>\n",
       "    </tr>\n",
       "    <tr>\n",
       "      <th>3</th>\n",
       "      <td>32</td>\n",
       "      <td>104.923576</td>\n",
       "    </tr>\n",
       "    <tr>\n",
       "      <th>4</th>\n",
       "      <td>33</td>\n",
       "      <td>106.752830</td>\n",
       "    </tr>\n",
       "    <tr>\n",
       "      <th>...</th>\n",
       "      <td>...</td>\n",
       "      <td>...</td>\n",
       "    </tr>\n",
       "    <tr>\n",
       "      <th>194</th>\n",
       "      <td>777</td>\n",
       "      <td>113.772811</td>\n",
       "    </tr>\n",
       "    <tr>\n",
       "      <th>195</th>\n",
       "      <td>783</td>\n",
       "      <td>112.309465</td>\n",
       "    </tr>\n",
       "    <tr>\n",
       "      <th>196</th>\n",
       "      <td>784</td>\n",
       "      <td>113.409241</td>\n",
       "    </tr>\n",
       "    <tr>\n",
       "      <th>197</th>\n",
       "      <td>792</td>\n",
       "      <td>114.279185</td>\n",
       "    </tr>\n",
       "    <tr>\n",
       "      <th>198</th>\n",
       "      <td>796</td>\n",
       "      <td>108.703676</td>\n",
       "    </tr>\n",
       "  </tbody>\n",
       "</table>\n",
       "<p>199 rows × 2 columns</p>\n",
       "</div>"
      ],
      "text/plain": [
       "      id      target\n",
       "0     17  110.158718\n",
       "1     19  107.920292\n",
       "2     25  108.159483\n",
       "3     32  104.923576\n",
       "4     33  106.752830\n",
       "..   ...         ...\n",
       "194  777  113.772811\n",
       "195  783  112.309465\n",
       "196  784  113.409241\n",
       "197  792  114.279185\n",
       "198  796  108.703676\n",
       "\n",
       "[199 rows x 2 columns]"
      ]
     },
     "execution_count": 44,
     "metadata": {},
     "output_type": "execute_result"
    }
   ],
   "source": [
    "df_leaderboard"
   ]
  },
  {
   "cell_type": "code",
   "execution_count": 437,
   "metadata": {},
   "outputs": [],
   "source": [
    "df_leaderboard.to_csv('G14_24_super_crazy_preprocessing_model_quarta_prova',index=False)"
   ]
  },
  {
   "cell_type": "code",
   "execution_count": null,
   "metadata": {},
   "outputs": [],
   "source": []
  }
 ],
 "metadata": {
  "interpreter": {
   "hash": "1166cef94fc0fcb59fdf1f3664e32c4e91f49a9d01a5d46c1aacacdd3a178a73"
  },
  "kernelspec": {
   "display_name": "Python 3.9.4 64-bit",
   "name": "python3"
  },
  "language_info": {
   "codemirror_mode": {
    "name": "ipython",
    "version": 3
   },
   "file_extension": ".py",
   "mimetype": "text/x-python",
   "name": "python",
   "nbconvert_exporter": "python",
   "pygments_lexer": "ipython3",
   "version": "3.9.4"
  }
 },
 "nbformat": 4,
 "nbformat_minor": 4
}