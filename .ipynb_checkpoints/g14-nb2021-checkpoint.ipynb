{
 "cells": [
  {
   "cell_type": "code",
   "execution_count": 1,
   "metadata": {
    "_cell_guid": "b1076dfc-b9ad-4769-8c92-a6c4dae69d19",
    "_uuid": "8f2839f25d086af736a60e9eeb907d3b93b6e0e5",
    "execution": {
     "iopub.execute_input": "2021-06-28T06:33:21.887869Z",
     "iopub.status.busy": "2021-06-28T06:33:21.887480Z",
     "iopub.status.idle": "2021-06-28T06:33:21.901206Z",
     "shell.execute_reply": "2021-06-28T06:33:21.899845Z",
     "shell.execute_reply.started": "2021-06-28T06:33:21.887790Z"
    }
   },
   "outputs": [
    {
     "name": "stdout",
     "output_type": "stream",
     "text": [
      "/kaggle/input/statistical-learning-sapienza-spring-2021/train.csv\n",
      "/kaggle/input/statistical-learning-sapienza-spring-2021/test.csv\n"
     ]
    }
   ],
   "source": [
    "# This Python 3 environment comes with many helpful analytics libraries installed\n",
    "# It is defined by the kaggle/python Docker image: https://github.com/kaggle/docker-python\n",
    "# For example, here's several helpful packages to load\n",
    "\n",
    "import numpy as np # linear algebra\n",
    "import pandas as pd # data processing, CSV file I/O (e.g. pd.read_csv)\n",
    "import matplotlib.pyplot as plt\n",
    "import os\n",
    "for dirname, _, filenames in os.walk('/kaggle/input'):\n",
    "    for filename in filenames:\n",
    "        print(os.path.join(dirname, filename))\n"
   ]
  },
  {
   "cell_type": "code",
   "execution_count": 3,
   "metadata": {
    "execution": {
     "iopub.execute_input": "2021-06-28T06:34:43.500484Z",
     "iopub.status.busy": "2021-06-28T06:34:43.500105Z",
     "iopub.status.idle": "2021-06-28T06:34:48.838859Z",
     "shell.execute_reply": "2021-06-28T06:34:48.837849Z",
     "shell.execute_reply.started": "2021-06-28T06:34:43.500450Z"
    }
   },
   "outputs": [],
   "source": [
    "train_df=pd.read_csv('train.csv')"
   ]
  },
  {
   "cell_type": "code",
   "execution_count": 4,
   "metadata": {
    "execution": {
     "iopub.execute_input": "2021-06-28T06:34:48.840627Z",
     "iopub.status.busy": "2021-06-28T06:34:48.840322Z",
     "iopub.status.idle": "2021-06-28T06:34:48.902233Z",
     "shell.execute_reply": "2021-06-28T06:34:48.901345Z",
     "shell.execute_reply.started": "2021-06-28T06:34:48.840599Z"
    }
   },
   "outputs": [
    {
     "data": {
      "text/html": [
       "<div>\n",
       "<style scoped>\n",
       "    .dataframe tbody tr th:only-of-type {\n",
       "        vertical-align: middle;\n",
       "    }\n",
       "\n",
       "    .dataframe tbody tr th {\n",
       "        vertical-align: top;\n",
       "    }\n",
       "\n",
       "    .dataframe thead th {\n",
       "        text-align: right;\n",
       "    }\n",
       "</style>\n",
       "<table border=\"1\" class=\"dataframe\">\n",
       "  <thead>\n",
       "    <tr style=\"text-align: right;\">\n",
       "      <th></th>\n",
       "      <th>id</th>\n",
       "      <th>y</th>\n",
       "      <th>var1</th>\n",
       "      <th>var2</th>\n",
       "      <th>var3</th>\n",
       "      <th>t1_2001</th>\n",
       "      <th>t2_2001</th>\n",
       "      <th>t3_2001</th>\n",
       "      <th>t4_2001</th>\n",
       "      <th>t5_2001</th>\n",
       "      <th>...</th>\n",
       "      <th>t106_9170</th>\n",
       "      <th>t107_9170</th>\n",
       "      <th>t108_9170</th>\n",
       "      <th>t109_9170</th>\n",
       "      <th>t110_9170</th>\n",
       "      <th>t111_9170</th>\n",
       "      <th>t112_9170</th>\n",
       "      <th>t113_9170</th>\n",
       "      <th>t114_9170</th>\n",
       "      <th>t115_9170</th>\n",
       "    </tr>\n",
       "  </thead>\n",
       "  <tbody>\n",
       "    <tr>\n",
       "      <th>0</th>\n",
       "      <td>1</td>\n",
       "      <td>113.0</td>\n",
       "      <td>19</td>\n",
       "      <td>A</td>\n",
       "      <td>A</td>\n",
       "      <td>-0.140642</td>\n",
       "      <td>-0.388162</td>\n",
       "      <td>-0.574181</td>\n",
       "      <td>-0.583770</td>\n",
       "      <td>-0.376220</td>\n",
       "      <td>...</td>\n",
       "      <td>0.584130</td>\n",
       "      <td>-0.100278</td>\n",
       "      <td>-0.846640</td>\n",
       "      <td>-1.461938</td>\n",
       "      <td>-1.801008</td>\n",
       "      <td>-1.804553</td>\n",
       "      <td>-1.500023</td>\n",
       "      <td>-0.980571</td>\n",
       "      <td>-0.377526</td>\n",
       "      <td>0.168243</td>\n",
       "    </tr>\n",
       "    <tr>\n",
       "      <th>1</th>\n",
       "      <td>2</td>\n",
       "      <td>119.0</td>\n",
       "      <td>14</td>\n",
       "      <td>C</td>\n",
       "      <td>A</td>\n",
       "      <td>0.023754</td>\n",
       "      <td>-0.105455</td>\n",
       "      <td>-0.245025</td>\n",
       "      <td>-0.310670</td>\n",
       "      <td>-0.249384</td>\n",
       "      <td>...</td>\n",
       "      <td>-3.024336</td>\n",
       "      <td>-2.480266</td>\n",
       "      <td>-1.118005</td>\n",
       "      <td>0.181451</td>\n",
       "      <td>0.726820</td>\n",
       "      <td>0.401501</td>\n",
       "      <td>-0.356744</td>\n",
       "      <td>-0.913405</td>\n",
       "      <td>-0.854943</td>\n",
       "      <td>-0.193468</td>\n",
       "    </tr>\n",
       "    <tr>\n",
       "      <th>2</th>\n",
       "      <td>3</td>\n",
       "      <td>109.0</td>\n",
       "      <td>13</td>\n",
       "      <td>A</td>\n",
       "      <td>A</td>\n",
       "      <td>0.180818</td>\n",
       "      <td>0.135004</td>\n",
       "      <td>0.001879</td>\n",
       "      <td>-0.134548</td>\n",
       "      <td>-0.185928</td>\n",
       "      <td>...</td>\n",
       "      <td>-0.156851</td>\n",
       "      <td>-0.262902</td>\n",
       "      <td>-0.668436</td>\n",
       "      <td>-1.172372</td>\n",
       "      <td>-1.387328</td>\n",
       "      <td>-1.016077</td>\n",
       "      <td>-0.103130</td>\n",
       "      <td>0.935900</td>\n",
       "      <td>1.550512</td>\n",
       "      <td>1.405350</td>\n",
       "    </tr>\n",
       "    <tr>\n",
       "      <th>3</th>\n",
       "      <td>4</td>\n",
       "      <td>110.0</td>\n",
       "      <td>18</td>\n",
       "      <td>A</td>\n",
       "      <td>A</td>\n",
       "      <td>-0.234780</td>\n",
       "      <td>-0.094543</td>\n",
       "      <td>0.193084</td>\n",
       "      <td>0.508519</td>\n",
       "      <td>0.668783</td>\n",
       "      <td>...</td>\n",
       "      <td>-1.358540</td>\n",
       "      <td>-0.028478</td>\n",
       "      <td>0.535346</td>\n",
       "      <td>-0.116384</td>\n",
       "      <td>-1.542395</td>\n",
       "      <td>-2.486781</td>\n",
       "      <td>-1.631185</td>\n",
       "      <td>1.481241</td>\n",
       "      <td>6.015514</td>\n",
       "      <td>10.233163</td>\n",
       "    </tr>\n",
       "    <tr>\n",
       "      <th>4</th>\n",
       "      <td>5</td>\n",
       "      <td>123.0</td>\n",
       "      <td>32</td>\n",
       "      <td>A</td>\n",
       "      <td>A</td>\n",
       "      <td>-0.130934</td>\n",
       "      <td>-0.360313</td>\n",
       "      <td>-0.547045</td>\n",
       "      <td>-0.603495</td>\n",
       "      <td>-0.508025</td>\n",
       "      <td>...</td>\n",
       "      <td>-0.825535</td>\n",
       "      <td>-0.392556</td>\n",
       "      <td>0.156361</td>\n",
       "      <td>0.567142</td>\n",
       "      <td>0.756362</td>\n",
       "      <td>0.809336</td>\n",
       "      <td>0.844580</td>\n",
       "      <td>0.876423</td>\n",
       "      <td>0.801686</td>\n",
       "      <td>0.524566</td>\n",
       "    </tr>\n",
       "    <tr>\n",
       "      <th>...</th>\n",
       "      <td>...</td>\n",
       "      <td>...</td>\n",
       "      <td>...</td>\n",
       "      <td>...</td>\n",
       "      <td>...</td>\n",
       "      <td>...</td>\n",
       "      <td>...</td>\n",
       "      <td>...</td>\n",
       "      <td>...</td>\n",
       "      <td>...</td>\n",
       "      <td>...</td>\n",
       "      <td>...</td>\n",
       "      <td>...</td>\n",
       "      <td>...</td>\n",
       "      <td>...</td>\n",
       "      <td>...</td>\n",
       "      <td>...</td>\n",
       "      <td>...</td>\n",
       "      <td>...</td>\n",
       "      <td>...</td>\n",
       "      <td>...</td>\n",
       "    </tr>\n",
       "    <tr>\n",
       "      <th>595</th>\n",
       "      <td>794</td>\n",
       "      <td>110.0</td>\n",
       "      <td>41</td>\n",
       "      <td>A</td>\n",
       "      <td>A</td>\n",
       "      <td>0.059091</td>\n",
       "      <td>0.102927</td>\n",
       "      <td>0.167974</td>\n",
       "      <td>0.235793</td>\n",
       "      <td>0.242588</td>\n",
       "      <td>...</td>\n",
       "      <td>-0.057536</td>\n",
       "      <td>-0.750600</td>\n",
       "      <td>-1.422304</td>\n",
       "      <td>-1.807741</td>\n",
       "      <td>-1.349442</td>\n",
       "      <td>0.350016</td>\n",
       "      <td>2.341956</td>\n",
       "      <td>2.732083</td>\n",
       "      <td>0.976598</td>\n",
       "      <td>-1.039106</td>\n",
       "    </tr>\n",
       "    <tr>\n",
       "      <th>596</th>\n",
       "      <td>795</td>\n",
       "      <td>120.0</td>\n",
       "      <td>64</td>\n",
       "      <td>A</td>\n",
       "      <td>A</td>\n",
       "      <td>-0.009643</td>\n",
       "      <td>-0.052258</td>\n",
       "      <td>0.011368</td>\n",
       "      <td>0.121682</td>\n",
       "      <td>0.143449</td>\n",
       "      <td>...</td>\n",
       "      <td>-0.811138</td>\n",
       "      <td>-0.834139</td>\n",
       "      <td>-0.658424</td>\n",
       "      <td>-0.346113</td>\n",
       "      <td>-0.197853</td>\n",
       "      <td>-0.308410</td>\n",
       "      <td>-0.359883</td>\n",
       "      <td>-0.070181</td>\n",
       "      <td>0.296186</td>\n",
       "      <td>0.199696</td>\n",
       "    </tr>\n",
       "    <tr>\n",
       "      <th>597</th>\n",
       "      <td>797</td>\n",
       "      <td>96.0</td>\n",
       "      <td>27</td>\n",
       "      <td>A</td>\n",
       "      <td>A</td>\n",
       "      <td>-0.019310</td>\n",
       "      <td>0.082953</td>\n",
       "      <td>0.222301</td>\n",
       "      <td>0.374440</td>\n",
       "      <td>0.447602</td>\n",
       "      <td>...</td>\n",
       "      <td>1.337280</td>\n",
       "      <td>1.089598</td>\n",
       "      <td>1.323202</td>\n",
       "      <td>1.535013</td>\n",
       "      <td>1.084823</td>\n",
       "      <td>0.206892</td>\n",
       "      <td>-0.139006</td>\n",
       "      <td>0.299608</td>\n",
       "      <td>0.321211</td>\n",
       "      <td>-1.356280</td>\n",
       "    </tr>\n",
       "    <tr>\n",
       "      <th>598</th>\n",
       "      <td>798</td>\n",
       "      <td>118.0</td>\n",
       "      <td>29</td>\n",
       "      <td>C</td>\n",
       "      <td>A</td>\n",
       "      <td>0.554973</td>\n",
       "      <td>0.227389</td>\n",
       "      <td>-0.422503</td>\n",
       "      <td>-0.088061</td>\n",
       "      <td>0.210051</td>\n",
       "      <td>...</td>\n",
       "      <td>1.632523</td>\n",
       "      <td>2.674116</td>\n",
       "      <td>1.483660</td>\n",
       "      <td>1.520353</td>\n",
       "      <td>-0.672479</td>\n",
       "      <td>-3.975402</td>\n",
       "      <td>-2.972622</td>\n",
       "      <td>0.292423</td>\n",
       "      <td>1.244024</td>\n",
       "      <td>1.499407</td>\n",
       "    </tr>\n",
       "    <tr>\n",
       "      <th>599</th>\n",
       "      <td>799</td>\n",
       "      <td>110.0</td>\n",
       "      <td>26</td>\n",
       "      <td>A</td>\n",
       "      <td>A</td>\n",
       "      <td>0.799110</td>\n",
       "      <td>0.739779</td>\n",
       "      <td>-0.333097</td>\n",
       "      <td>-0.820939</td>\n",
       "      <td>-0.256649</td>\n",
       "      <td>...</td>\n",
       "      <td>1.815641</td>\n",
       "      <td>1.323425</td>\n",
       "      <td>1.508198</td>\n",
       "      <td>3.151934</td>\n",
       "      <td>1.279334</td>\n",
       "      <td>-2.705830</td>\n",
       "      <td>-2.262674</td>\n",
       "      <td>0.684452</td>\n",
       "      <td>0.508844</td>\n",
       "      <td>-0.569821</td>\n",
       "    </tr>\n",
       "  </tbody>\n",
       "</table>\n",
       "<p>600 rows × 13345 columns</p>\n",
       "</div>"
      ],
      "text/plain": [
       "      id      y  var1 var2 var3   t1_2001   t2_2001   t3_2001   t4_2001  \\\n",
       "0      1  113.0    19    A    A -0.140642 -0.388162 -0.574181 -0.583770   \n",
       "1      2  119.0    14    C    A  0.023754 -0.105455 -0.245025 -0.310670   \n",
       "2      3  109.0    13    A    A  0.180818  0.135004  0.001879 -0.134548   \n",
       "3      4  110.0    18    A    A -0.234780 -0.094543  0.193084  0.508519   \n",
       "4      5  123.0    32    A    A -0.130934 -0.360313 -0.547045 -0.603495   \n",
       "..   ...    ...   ...  ...  ...       ...       ...       ...       ...   \n",
       "595  794  110.0    41    A    A  0.059091  0.102927  0.167974  0.235793   \n",
       "596  795  120.0    64    A    A -0.009643 -0.052258  0.011368  0.121682   \n",
       "597  797   96.0    27    A    A -0.019310  0.082953  0.222301  0.374440   \n",
       "598  798  118.0    29    C    A  0.554973  0.227389 -0.422503 -0.088061   \n",
       "599  799  110.0    26    A    A  0.799110  0.739779 -0.333097 -0.820939   \n",
       "\n",
       "      t5_2001  ...  t106_9170  t107_9170  t108_9170  t109_9170  t110_9170  \\\n",
       "0   -0.376220  ...   0.584130  -0.100278  -0.846640  -1.461938  -1.801008   \n",
       "1   -0.249384  ...  -3.024336  -2.480266  -1.118005   0.181451   0.726820   \n",
       "2   -0.185928  ...  -0.156851  -0.262902  -0.668436  -1.172372  -1.387328   \n",
       "3    0.668783  ...  -1.358540  -0.028478   0.535346  -0.116384  -1.542395   \n",
       "4   -0.508025  ...  -0.825535  -0.392556   0.156361   0.567142   0.756362   \n",
       "..        ...  ...        ...        ...        ...        ...        ...   \n",
       "595  0.242588  ...  -0.057536  -0.750600  -1.422304  -1.807741  -1.349442   \n",
       "596  0.143449  ...  -0.811138  -0.834139  -0.658424  -0.346113  -0.197853   \n",
       "597  0.447602  ...   1.337280   1.089598   1.323202   1.535013   1.084823   \n",
       "598  0.210051  ...   1.632523   2.674116   1.483660   1.520353  -0.672479   \n",
       "599 -0.256649  ...   1.815641   1.323425   1.508198   3.151934   1.279334   \n",
       "\n",
       "     t111_9170  t112_9170  t113_9170  t114_9170  t115_9170  \n",
       "0    -1.804553  -1.500023  -0.980571  -0.377526   0.168243  \n",
       "1     0.401501  -0.356744  -0.913405  -0.854943  -0.193468  \n",
       "2    -1.016077  -0.103130   0.935900   1.550512   1.405350  \n",
       "3    -2.486781  -1.631185   1.481241   6.015514  10.233163  \n",
       "4     0.809336   0.844580   0.876423   0.801686   0.524566  \n",
       "..         ...        ...        ...        ...        ...  \n",
       "595   0.350016   2.341956   2.732083   0.976598  -1.039106  \n",
       "596  -0.308410  -0.359883  -0.070181   0.296186   0.199696  \n",
       "597   0.206892  -0.139006   0.299608   0.321211  -1.356280  \n",
       "598  -3.975402  -2.972622   0.292423   1.244024   1.499407  \n",
       "599  -2.705830  -2.262674   0.684452   0.508844  -0.569821  \n",
       "\n",
       "[600 rows x 13345 columns]"
      ]
     },
     "execution_count": 4,
     "metadata": {},
     "output_type": "execute_result"
    }
   ],
   "source": [
    "train_df"
   ]
  },
  {
   "cell_type": "code",
   "execution_count": null,
   "metadata": {
    "execution": {
     "iopub.execute_input": "2021-06-28T06:21:10.120687Z",
     "iopub.status.busy": "2021-06-28T06:21:10.120353Z",
     "iopub.status.idle": "2021-06-28T06:21:10.154972Z",
     "shell.execute_reply": "2021-06-28T06:21:10.154058Z",
     "shell.execute_reply.started": "2021-06-28T06:21:10.120657Z"
    }
   },
   "outputs": [],
   "source": [
    "train_df.head()"
   ]
  },
  {
   "cell_type": "code",
   "execution_count": null,
   "metadata": {
    "execution": {
     "iopub.execute_input": "2021-06-28T06:22:25.958419Z",
     "iopub.status.busy": "2021-06-28T06:22:25.958064Z",
     "iopub.status.idle": "2021-06-28T06:22:25.963448Z",
     "shell.execute_reply": "2021-06-28T06:22:25.962771Z",
     "shell.execute_reply.started": "2021-06-28T06:22:25.958391Z"
    }
   },
   "outputs": [],
   "source": [
    "train_df.shape"
   ]
  },
  {
   "cell_type": "code",
   "execution_count": null,
   "metadata": {
    "execution": {
     "iopub.execute_input": "2021-06-28T06:26:10.170989Z",
     "iopub.status.busy": "2021-06-28T06:26:10.170666Z",
     "iopub.status.idle": "2021-06-28T06:26:10.187242Z",
     "shell.execute_reply": "2021-06-28T06:26:10.186169Z",
     "shell.execute_reply.started": "2021-06-28T06:26:10.170961Z"
    }
   },
   "outputs": [],
   "source": [
    "train_df.iloc[1,5:120]"
   ]
  },
  {
   "cell_type": "code",
   "execution_count": 6,
   "metadata": {
    "execution": {
     "iopub.execute_input": "2021-06-28T06:38:58.958763Z",
     "iopub.status.busy": "2021-06-28T06:38:58.958392Z",
     "iopub.status.idle": "2021-06-28T06:38:59.026589Z",
     "shell.execute_reply": "2021-06-28T06:38:59.025708Z",
     "shell.execute_reply.started": "2021-06-28T06:38:58.958730Z"
    }
   },
   "outputs": [
    {
     "data": {
      "text/plain": [
       "array([[-0.140642  , -0.38816199, -0.57418102, ..., -0.98057097,\n",
       "        -0.37752599,  0.16824301],\n",
       "       [ 0.023754  , -0.105455  , -0.24502499, ..., -0.913405  ,\n",
       "        -0.85494298, -0.193468  ],\n",
       "       [ 0.18081801,  0.135004  ,  0.001879  , ...,  0.93589997,\n",
       "         1.55051196,  1.40534997],\n",
       "       ...,\n",
       "       [-0.01931   ,  0.082953  ,  0.22230101, ...,  0.29960799,\n",
       "         0.32121101, -1.35627997],\n",
       "       [ 0.55497301,  0.22738899, -0.42250299, ...,  0.29242301,\n",
       "         1.24402404,  1.49940705],\n",
       "       [ 0.79911   ,  0.739779  , -0.33309701, ...,  0.684452  ,\n",
       "         0.50884402, -0.569821  ]])"
      ]
     },
     "execution_count": 6,
     "metadata": {},
     "output_type": "execute_result"
    }
   ],
   "source": [
    "m = train_df.iloc[:,5:].values.copy()\n",
    "m"
   ]
  },
  {
   "cell_type": "code",
   "execution_count": 7,
   "metadata": {
    "execution": {
     "iopub.execute_input": "2021-06-28T06:39:13.989756Z",
     "iopub.status.busy": "2021-06-28T06:39:13.989285Z",
     "iopub.status.idle": "2021-06-28T06:39:13.995813Z",
     "shell.execute_reply": "2021-06-28T06:39:13.994676Z",
     "shell.execute_reply.started": "2021-06-28T06:39:13.989711Z"
    }
   },
   "outputs": [
    {
     "data": {
      "text/plain": [
       "(600, 13340)"
      ]
     },
     "execution_count": 7,
     "metadata": {},
     "output_type": "execute_result"
    }
   ],
   "source": [
    "m.shape"
   ]
  },
  {
   "cell_type": "code",
   "execution_count": 10,
   "metadata": {
    "execution": {
     "iopub.execute_input": "2021-06-28T06:40:22.893116Z",
     "iopub.status.busy": "2021-06-28T06:40:22.892763Z",
     "iopub.status.idle": "2021-06-28T06:40:22.898565Z",
     "shell.execute_reply": "2021-06-28T06:40:22.897455Z",
     "shell.execute_reply.started": "2021-06-28T06:40:22.893085Z"
    }
   },
   "outputs": [],
   "source": [
    "c = np.array(train_df.columns)[5:]"
   ]
  },
  {
   "cell_type": "code",
   "execution_count": 13,
   "metadata": {
    "execution": {
     "iopub.execute_input": "2021-06-28T06:40:45.700501Z",
     "iopub.status.busy": "2021-06-28T06:40:45.699861Z",
     "iopub.status.idle": "2021-06-28T06:40:45.705543Z",
     "shell.execute_reply": "2021-06-28T06:40:45.704890Z",
     "shell.execute_reply.started": "2021-06-28T06:40:45.700465Z"
    }
   },
   "outputs": [
    {
     "data": {
      "text/plain": [
       "array([['t1_2001', 't2_2001', 't3_2001', ..., 't113_2001', 't114_2001',\n",
       "        't115_2001'],\n",
       "       ['t1_2002', 't2_2002', 't3_2002', ..., 't113_2002', 't114_2002',\n",
       "        't115_2002'],\n",
       "       ['t1_2101', 't2_2101', 't3_2101', ..., 't113_2101', 't114_2101',\n",
       "        't115_2101'],\n",
       "       ...,\n",
       "       ['t1_9150', 't2_9150', 't3_9150', ..., 't113_9150', 't114_9150',\n",
       "        't115_9150'],\n",
       "       ['t1_9160', 't2_9160', 't3_9160', ..., 't113_9160', 't114_9160',\n",
       "        't115_9160'],\n",
       "       ['t1_9170', 't2_9170', 't3_9170', ..., 't113_9170', 't114_9170',\n",
       "        't115_9170']], dtype=object)"
      ]
     },
     "execution_count": 13,
     "metadata": {},
     "output_type": "execute_result"
    }
   ],
   "source": [
    "c.reshape(116, 115)"
   ]
  },
  {
   "cell_type": "code",
   "execution_count": 16,
   "metadata": {
    "execution": {
     "iopub.execute_input": "2021-06-28T06:44:19.032161Z",
     "iopub.status.busy": "2021-06-28T06:44:19.031484Z",
     "iopub.status.idle": "2021-06-28T06:44:19.038063Z",
     "shell.execute_reply": "2021-06-28T06:44:19.037066Z",
     "shell.execute_reply.started": "2021-06-28T06:44:19.032124Z"
    }
   },
   "outputs": [],
   "source": [
    "brain_0 = m.reshape((600, 116, 115))[0]\n",
    "corr_0 = np.corrcoef(brain_0)"
   ]
  },
  {
   "cell_type": "code",
   "execution_count": 17,
   "metadata": {
    "execution": {
     "iopub.execute_input": "2021-06-28T06:44:24.509549Z",
     "iopub.status.busy": "2021-06-28T06:44:24.509053Z",
     "iopub.status.idle": "2021-06-28T06:44:24.725763Z",
     "shell.execute_reply": "2021-06-28T06:44:24.724521Z",
     "shell.execute_reply.started": "2021-06-28T06:44:24.509510Z"
    }
   },
   "outputs": [
    {
     "data": {
      "text/plain": [
       "<matplotlib.image.AxesImage at 0x7f25fce01ad0>"
      ]
     },
     "execution_count": 17,
     "metadata": {},
     "output_type": "execute_result"
    },
    {
     "data": {
      "image/png": "[encoded data removed]",
      "text/plain": [
       "<Figure size 432x288 with 1 Axes>"
      ]
     },
     "metadata": {
      "needs_background": "light"
     },
     "output_type": "display_data"
    }
   ],
   "source": [
    "plt.imshow(corr_0)"
   ]
  },
  {
   "cell_type": "code",
   "execution_count": 1,
   "metadata": {
    "execution": {
     "iopub.execute_input": "2021-06-28T06:47:15.962647Z",
     "iopub.status.busy": "2021-06-28T06:47:15.962280Z",
     "iopub.status.idle": "2021-06-28T06:47:15.971431Z",
     "shell.execute_reply": "2021-06-28T06:47:15.970351Z",
     "shell.execute_reply.started": "2021-06-28T06:47:15.962616Z"
    }
   },
   "outputs": [
    {
     "ename": "NameError",
     "evalue": "name 'np' is not defined",
     "output_type": "error",
     "traceback": [
      "\u001b[0;31m---------------------------------------------------------------------------\u001b[0m",
      "\u001b[0;31mNameError\u001b[0m                                 Traceback (most recent call last)",
      "\u001b[0;32m<ipython-input-1-56fee7e6182a>\u001b[0m in \u001b[0;36m<module>\u001b[0;34m\u001b[0m\n\u001b[0;32m----> 1\u001b[0;31m \u001b[0mnp\u001b[0m\u001b[0;34m.\u001b[0m\u001b[0mtriu\u001b[0m\u001b[0;34m(\u001b[0m\u001b[0mcorr_0\u001b[0m\u001b[0;34m,\u001b[0m \u001b[0;36m1\u001b[0m\u001b[0;34m)\u001b[0m\u001b[0;34m.\u001b[0m\u001b[0mflatten\u001b[0m\u001b[0;34m(\u001b[0m\u001b[0;34m)\u001b[0m\u001b[0;34m\u001b[0m\u001b[0;34m\u001b[0m\u001b[0m\n\u001b[0m",
      "\u001b[0;31mNameError\u001b[0m: name 'np' is not defined"
     ]
    }
   ],
   "source": [
    "np.triu(corr_0, 1).flatten()"
   ]
  },
  {
   "cell_type": "code",
   "execution_count": null,
   "metadata": {},
   "outputs": [],
   "source": []
  },
  {
   "cell_type": "code",
   "execution_count": 20,
   "metadata": {
    "execution": {
     "iopub.execute_input": "2021-06-28T06:47:00.946866Z",
     "iopub.status.busy": "2021-06-28T06:47:00.946183Z",
     "iopub.status.idle": "2021-06-28T06:47:00.952580Z",
     "shell.execute_reply": "2021-06-28T06:47:00.951473Z",
     "shell.execute_reply.started": "2021-06-28T06:47:00.946827Z"
    }
   },
   "outputs": [
    {
     "data": {
      "text/plain": [
       "array([[ 1.00000000e+00,  3.20407809e-01, -1.56420778e-01, ...,\n",
       "         2.21418887e-01,  1.10240596e-02, -8.30356439e-02],\n",
       "       [ 3.20407809e-01,  1.00000000e+00, -4.21838268e-01, ...,\n",
       "         3.38036901e-01,  1.27579106e-01, -5.06771375e-02],\n",
       "       [-1.56420778e-01, -4.21838268e-01,  1.00000000e+00, ...,\n",
       "         8.55581757e-04,  7.17112846e-03,  9.00611625e-02],\n",
       "       ...,\n",
       "       [ 2.21418887e-01,  3.38036901e-01,  8.55581757e-04, ...,\n",
       "         1.00000000e+00,  2.82784305e-01, -5.57269229e-02],\n",
       "       [ 1.10240596e-02,  1.27579106e-01,  7.17112846e-03, ...,\n",
       "         2.82784305e-01,  1.00000000e+00,  1.44371308e-01],\n",
       "       [-8.30356439e-02, -5.06771375e-02,  9.00611625e-02, ...,\n",
       "        -5.57269229e-02,  1.44371308e-01,  1.00000000e+00]])"
      ]
     },
     "execution_count": 20,
     "metadata": {},
     "output_type": "execute_result"
    }
   ],
   "source": [
    "corr_0"
   ]
  },
  {
   "cell_type": "code",
   "execution_count": null,
   "metadata": {},
   "outputs": [],
   "source": []
  }
 ],
 "metadata": {
  "kernelspec": {
   "display_name": "Python 3",
   "language": "python",
   "name": "python3"
  },
  "language_info": {
   "codemirror_mode": {
    "name": "ipython",
    "version": 3
   },
   "file_extension": ".py",
   "mimetype": "text/x-python",
   "name": "python",
   "nbconvert_exporter": "python",
   "pygments_lexer": "ipython3",
   "version": "3.8.5"
  }
 },
 "nbformat": 4,
 "nbformat_minor": 4
}
